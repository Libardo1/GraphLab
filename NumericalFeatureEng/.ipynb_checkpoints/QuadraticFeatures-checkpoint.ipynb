{
 "cells": [
  {
   "cell_type": "markdown",
   "metadata": {},
   "source": [
    "# Quadratic Features"
   ]
  },
  {
   "cell_type": "code",
   "execution_count": 2,
   "metadata": {
    "collapsed": false
   },
   "outputs": [],
   "source": [
    "import graphlab as gl"
   ]
  },
  {
   "cell_type": "code",
   "execution_count": 4,
   "metadata": {
    "collapsed": false
   },
   "outputs": [
    {
     "name": "stderr",
     "output_type": "stream",
     "text": [
      "[INFO] This non-commercial license of GraphLab Create is assigned to marvin.bertin@gmail.comand will expire on September 15, 2016. For commercial licensing options, visit https://dato.com/buy/.\n",
      "\n",
      "[INFO] Start server at: ipc:///tmp/graphlab_server-5010 - Server binary: /Users/marvinbertin/anaconda/envs/dato-env/lib/python2.7/site-packages/graphlab/unity_server - Server log: /tmp/graphlab_server_1442373363.log\n",
      "[INFO] GraphLab Server Version: 1.5.2\n"
     ]
    },
    {
     "data": {
      "text/html": [
       "<div style=\"max-height:1000px;max-width:1500px;overflow:auto;\"><table frame=\"box\" rules=\"cols\">\n",
       "    <tr>\n",
       "        <th style=\"padding-left: 1em; padding-right: 1em; text-align: center\">a</th>\n",
       "        <th style=\"padding-left: 1em; padding-right: 1em; text-align: center\">b</th>\n",
       "        <th style=\"padding-left: 1em; padding-right: 1em; text-align: center\">c</th>\n",
       "    </tr>\n",
       "    <tr>\n",
       "        <td style=\"padding-left: 1em; padding-right: 1em; text-align: center; vertical-align: top\">1</td>\n",
       "        <td style=\"padding-left: 1em; padding-right: 1em; text-align: center; vertical-align: top\">2</td>\n",
       "        <td style=\"padding-left: 1em; padding-right: 1em; text-align: center; vertical-align: top\">9</td>\n",
       "    </tr>\n",
       "    <tr>\n",
       "        <td style=\"padding-left: 1em; padding-right: 1em; text-align: center; vertical-align: top\">2</td>\n",
       "        <td style=\"padding-left: 1em; padding-right: 1em; text-align: center; vertical-align: top\">3</td>\n",
       "        <td style=\"padding-left: 1em; padding-right: 1em; text-align: center; vertical-align: top\">10</td>\n",
       "    </tr>\n",
       "    <tr>\n",
       "        <td style=\"padding-left: 1em; padding-right: 1em; text-align: center; vertical-align: top\">3</td>\n",
       "        <td style=\"padding-left: 1em; padding-right: 1em; text-align: center; vertical-align: top\">4</td>\n",
       "        <td style=\"padding-left: 1em; padding-right: 1em; text-align: center; vertical-align: top\">11</td>\n",
       "    </tr>\n",
       "</table>\n",
       "[3 rows x 3 columns]<br/>\n",
       "</div>"
      ],
      "text/plain": [
       "Columns:\n",
       "\ta\tint\n",
       "\tb\tint\n",
       "\tc\tint\n",
       "\n",
       "Rows: 3\n",
       "\n",
       "Data:\n",
       "+---+---+----+\n",
       "| a | b | c  |\n",
       "+---+---+----+\n",
       "| 1 | 2 | 9  |\n",
       "| 2 | 3 | 10 |\n",
       "| 3 | 4 | 11 |\n",
       "+---+---+----+\n",
       "[3 rows x 3 columns]"
      ]
     },
     "execution_count": 4,
     "metadata": {},
     "output_type": "execute_result"
    }
   ],
   "source": [
    "sf = gl.SFrame({'a': [1,2,3], 'b' : [2,3,4], 'c': [9,10,11]})\n",
    "sf"
   ]
  },
  {
   "cell_type": "code",
   "execution_count": 16,
   "metadata": {
    "collapsed": false
   },
   "outputs": [],
   "source": [
    "quadratic = gl.feature_engineering.create(sf, gl.toolkits.feature_engineering._quadratic_features.QuadraticFeatures())"
   ]
  },
  {
   "cell_type": "code",
   "execution_count": 17,
   "metadata": {
    "collapsed": false
   },
   "outputs": [
    {
     "data": {
      "text/plain": [
       "Class                         : QuadraticFeatures\n",
       "\n",
       "Model fields\n",
       "------------\n",
       "Features                      : None\n",
       "Excluded features             : None\n",
       "Output column name            : quadratic_features"
      ]
     },
     "execution_count": 17,
     "metadata": {},
     "output_type": "execute_result"
    }
   ],
   "source": [
    "quadratic"
   ]
  },
  {
   "cell_type": "code",
   "execution_count": 11,
   "metadata": {
    "collapsed": false
   },
   "outputs": [],
   "source": [
    "quadratic_sf = quadratic.transform(sf)"
   ]
  },
  {
   "cell_type": "code",
   "execution_count": 12,
   "metadata": {
    "collapsed": true
   },
   "outputs": [],
   "source": [
    "quadratic.save('save-path')"
   ]
  },
  {
   "cell_type": "code",
   "execution_count": 13,
   "metadata": {
    "collapsed": false
   },
   "outputs": [
    {
     "data": {
      "text/html": [
       "<div style=\"max-height:1000px;max-width:1500px;overflow:auto;\"><table frame=\"box\" rules=\"cols\">\n",
       "    <tr>\n",
       "        <th style=\"padding-left: 1em; padding-right: 1em; text-align: center\">a</th>\n",
       "        <th style=\"padding-left: 1em; padding-right: 1em; text-align: center\">b</th>\n",
       "        <th style=\"padding-left: 1em; padding-right: 1em; text-align: center\">c</th>\n",
       "        <th style=\"padding-left: 1em; padding-right: 1em; text-align: center\">quadratic_features</th>\n",
       "    </tr>\n",
       "    <tr>\n",
       "        <td style=\"padding-left: 1em; padding-right: 1em; text-align: center; vertical-align: top\">1</td>\n",
       "        <td style=\"padding-left: 1em; padding-right: 1em; text-align: center; vertical-align: top\">2</td>\n",
       "        <td style=\"padding-left: 1em; padding-right: 1em; text-align: center; vertical-align: top\">9</td>\n",
       "        <td style=\"padding-left: 1em; padding-right: 1em; text-align: center; vertical-align: top\">{'a, c': 9, 'a, b': 2,<br>'a, a': 1, 'c, c': 81, ...</td>\n",
       "    </tr>\n",
       "    <tr>\n",
       "        <td style=\"padding-left: 1em; padding-right: 1em; text-align: center; vertical-align: top\">2</td>\n",
       "        <td style=\"padding-left: 1em; padding-right: 1em; text-align: center; vertical-align: top\">3</td>\n",
       "        <td style=\"padding-left: 1em; padding-right: 1em; text-align: center; vertical-align: top\">10</td>\n",
       "        <td style=\"padding-left: 1em; padding-right: 1em; text-align: center; vertical-align: top\">{'a, c': 20, 'a, b': 6,<br>'a, a': 4, 'c, c': 100, ...</td>\n",
       "    </tr>\n",
       "    <tr>\n",
       "        <td style=\"padding-left: 1em; padding-right: 1em; text-align: center; vertical-align: top\">3</td>\n",
       "        <td style=\"padding-left: 1em; padding-right: 1em; text-align: center; vertical-align: top\">4</td>\n",
       "        <td style=\"padding-left: 1em; padding-right: 1em; text-align: center; vertical-align: top\">11</td>\n",
       "        <td style=\"padding-left: 1em; padding-right: 1em; text-align: center; vertical-align: top\">{'a, c': 33, 'a, b': 12,<br>'a, a': 9, 'c, c': 121, ...</td>\n",
       "    </tr>\n",
       "</table>\n",
       "[3 rows x 4 columns]<br/>\n",
       "</div>"
      ],
      "text/plain": [
       "Columns:\n",
       "\ta\tint\n",
       "\tb\tint\n",
       "\tc\tint\n",
       "\tquadratic_features\tdict\n",
       "\n",
       "Rows: 3\n",
       "\n",
       "Data:\n",
       "+---+---+----+-------------------------------+\n",
       "| a | b | c  |       quadratic_features      |\n",
       "+---+---+----+-------------------------------+\n",
       "| 1 | 2 | 9  | {'a, c': 9, 'a, b': 2, 'a,... |\n",
       "| 2 | 3 | 10 | {'a, c': 20, 'a, b': 6, 'a... |\n",
       "| 3 | 4 | 11 | {'a, c': 33, 'a, b': 12, '... |\n",
       "+---+---+----+-------------------------------+\n",
       "[3 rows x 4 columns]"
      ]
     },
     "execution_count": 13,
     "metadata": {},
     "output_type": "execute_result"
    }
   ],
   "source": [
    "quadratic_sf"
   ]
  },
  {
   "cell_type": "code",
   "execution_count": 18,
   "metadata": {
    "collapsed": true
   },
   "outputs": [],
   "source": [
    "quadratic = gl.feature_engineering.create(sf, gl.toolkits.feature_engineering._quadratic_features.QuadraticFeatures(features=['a']))"
   ]
  },
  {
   "cell_type": "code",
   "execution_count": 19,
   "metadata": {
    "collapsed": false
   },
   "outputs": [
    {
     "data": {
      "text/plain": [
       "Class                         : QuadraticFeatures\n",
       "\n",
       "Model fields\n",
       "------------\n",
       "Features                      : ['a']\n",
       "Excluded features             : None\n",
       "Output column name            : quadratic_features"
      ]
     },
     "execution_count": 19,
     "metadata": {},
     "output_type": "execute_result"
    }
   ],
   "source": [
    "quadratic"
   ]
  },
  {
   "cell_type": "code",
   "execution_count": 20,
   "metadata": {
    "collapsed": false
   },
   "outputs": [
    {
     "data": {
      "text/html": [
       "<div style=\"max-height:1000px;max-width:1500px;overflow:auto;\"><table frame=\"box\" rules=\"cols\">\n",
       "    <tr>\n",
       "        <th style=\"padding-left: 1em; padding-right: 1em; text-align: center\">a</th>\n",
       "        <th style=\"padding-left: 1em; padding-right: 1em; text-align: center\">b</th>\n",
       "        <th style=\"padding-left: 1em; padding-right: 1em; text-align: center\">c</th>\n",
       "        <th style=\"padding-left: 1em; padding-right: 1em; text-align: center\">quadratic_features</th>\n",
       "    </tr>\n",
       "    <tr>\n",
       "        <td style=\"padding-left: 1em; padding-right: 1em; text-align: center; vertical-align: top\">1</td>\n",
       "        <td style=\"padding-left: 1em; padding-right: 1em; text-align: center; vertical-align: top\">2</td>\n",
       "        <td style=\"padding-left: 1em; padding-right: 1em; text-align: center; vertical-align: top\">9</td>\n",
       "        <td style=\"padding-left: 1em; padding-right: 1em; text-align: center; vertical-align: top\">{'a, a': 1}</td>\n",
       "    </tr>\n",
       "    <tr>\n",
       "        <td style=\"padding-left: 1em; padding-right: 1em; text-align: center; vertical-align: top\">2</td>\n",
       "        <td style=\"padding-left: 1em; padding-right: 1em; text-align: center; vertical-align: top\">3</td>\n",
       "        <td style=\"padding-left: 1em; padding-right: 1em; text-align: center; vertical-align: top\">10</td>\n",
       "        <td style=\"padding-left: 1em; padding-right: 1em; text-align: center; vertical-align: top\">{'a, a': 4}</td>\n",
       "    </tr>\n",
       "    <tr>\n",
       "        <td style=\"padding-left: 1em; padding-right: 1em; text-align: center; vertical-align: top\">3</td>\n",
       "        <td style=\"padding-left: 1em; padding-right: 1em; text-align: center; vertical-align: top\">4</td>\n",
       "        <td style=\"padding-left: 1em; padding-right: 1em; text-align: center; vertical-align: top\">11</td>\n",
       "        <td style=\"padding-left: 1em; padding-right: 1em; text-align: center; vertical-align: top\">{'a, a': 9}</td>\n",
       "    </tr>\n",
       "</table>\n",
       "[3 rows x 4 columns]<br/>\n",
       "</div>"
      ],
      "text/plain": [
       "Columns:\n",
       "\ta\tint\n",
       "\tb\tint\n",
       "\tc\tint\n",
       "\tquadratic_features\tdict\n",
       "\n",
       "Rows: 3\n",
       "\n",
       "Data:\n",
       "+---+---+----+--------------------+\n",
       "| a | b | c  | quadratic_features |\n",
       "+---+---+----+--------------------+\n",
       "| 1 | 2 | 9  |    {'a, a': 1}     |\n",
       "| 2 | 3 | 10 |    {'a, a': 4}     |\n",
       "| 3 | 4 | 11 |    {'a, a': 9}     |\n",
       "+---+---+----+--------------------+\n",
       "[3 rows x 4 columns]"
      ]
     },
     "execution_count": 20,
     "metadata": {},
     "output_type": "execute_result"
    }
   ],
   "source": [
    "quadratic.transform(sf)"
   ]
  },
  {
   "cell_type": "code",
   "execution_count": 22,
   "metadata": {
    "collapsed": false
   },
   "outputs": [],
   "source": [
    "sf = gl.SFrame({'a' : [1,2,3], 'b' : [2,3,4]})"
   ]
  },
  {
   "cell_type": "code",
   "execution_count": 23,
   "metadata": {
    "collapsed": true
   },
   "outputs": [],
   "source": [
    "quadratic = gl.feature_engineering.QuadraticFeatures()\n",
    "fit_quadratic = quadratic.fit(sf)"
   ]
  },
  {
   "cell_type": "code",
   "execution_count": 24,
   "metadata": {
    "collapsed": true
   },
   "outputs": [],
   "source": [
    "quadratic_sf = fit_quadratic.transform(sf)"
   ]
  },
  {
   "cell_type": "code",
   "execution_count": 25,
   "metadata": {
    "collapsed": false
   },
   "outputs": [
    {
     "data": {
      "text/html": [
       "<div style=\"max-height:1000px;max-width:1500px;overflow:auto;\"><table frame=\"box\" rules=\"cols\">\n",
       "    <tr>\n",
       "        <th style=\"padding-left: 1em; padding-right: 1em; text-align: center\">a</th>\n",
       "        <th style=\"padding-left: 1em; padding-right: 1em; text-align: center\">b</th>\n",
       "        <th style=\"padding-left: 1em; padding-right: 1em; text-align: center\">quadratic_features</th>\n",
       "    </tr>\n",
       "    <tr>\n",
       "        <td style=\"padding-left: 1em; padding-right: 1em; text-align: center; vertical-align: top\">1</td>\n",
       "        <td style=\"padding-left: 1em; padding-right: 1em; text-align: center; vertical-align: top\">2</td>\n",
       "        <td style=\"padding-left: 1em; padding-right: 1em; text-align: center; vertical-align: top\">{'a, b': 2, 'a, a': 1,<br>'b, b': 4} ...</td>\n",
       "    </tr>\n",
       "    <tr>\n",
       "        <td style=\"padding-left: 1em; padding-right: 1em; text-align: center; vertical-align: top\">2</td>\n",
       "        <td style=\"padding-left: 1em; padding-right: 1em; text-align: center; vertical-align: top\">3</td>\n",
       "        <td style=\"padding-left: 1em; padding-right: 1em; text-align: center; vertical-align: top\">{'a, b': 6, 'a, a': 4,<br>'b, b': 9} ...</td>\n",
       "    </tr>\n",
       "    <tr>\n",
       "        <td style=\"padding-left: 1em; padding-right: 1em; text-align: center; vertical-align: top\">3</td>\n",
       "        <td style=\"padding-left: 1em; padding-right: 1em; text-align: center; vertical-align: top\">4</td>\n",
       "        <td style=\"padding-left: 1em; padding-right: 1em; text-align: center; vertical-align: top\">{'a, b': 12, 'a, a': 9,<br>'b, b': 16} ...</td>\n",
       "    </tr>\n",
       "</table>\n",
       "[3 rows x 3 columns]<br/>\n",
       "</div>"
      ],
      "text/plain": [
       "Columns:\n",
       "\ta\tint\n",
       "\tb\tint\n",
       "\tquadratic_features\tdict\n",
       "\n",
       "Rows: 3\n",
       "\n",
       "Data:\n",
       "+---+---+-------------------------------+\n",
       "| a | b |       quadratic_features      |\n",
       "+---+---+-------------------------------+\n",
       "| 1 | 2 | {'a, b': 2, 'a, a': 1, 'b,... |\n",
       "| 2 | 3 | {'a, b': 6, 'a, a': 4, 'b,... |\n",
       "| 3 | 4 | {'a, b': 12, 'a, a': 9, 'b... |\n",
       "+---+---+-------------------------------+\n",
       "[3 rows x 3 columns]"
      ]
     },
     "execution_count": 25,
     "metadata": {},
     "output_type": "execute_result"
    }
   ],
   "source": [
    "quadratic_sf"
   ]
  },
  {
   "cell_type": "code",
   "execution_count": 27,
   "metadata": {
    "collapsed": false
   },
   "outputs": [
    {
     "data": {
      "text/html": [
       "<div style=\"max-height:1000px;max-width:1500px;overflow:auto;\"><table frame=\"box\" rules=\"cols\">\n",
       "    <tr>\n",
       "        <th style=\"padding-left: 1em; padding-right: 1em; text-align: center\">a</th>\n",
       "        <th style=\"padding-left: 1em; padding-right: 1em; text-align: center\">b</th>\n",
       "    </tr>\n",
       "    <tr>\n",
       "        <td style=\"padding-left: 1em; padding-right: 1em; text-align: center; vertical-align: top\">[1.0, 2.0, 3.0]</td>\n",
       "        <td style=\"padding-left: 1em; padding-right: 1em; text-align: center; vertical-align: top\">[2.0, 3.0, 4.0]</td>\n",
       "    </tr>\n",
       "    <tr>\n",
       "        <td style=\"padding-left: 1em; padding-right: 1em; text-align: center; vertical-align: top\">[1.0, 2.0, 3.0]</td>\n",
       "        <td style=\"padding-left: 1em; padding-right: 1em; text-align: center; vertical-align: top\">[2.0, 3.0, 4.0]</td>\n",
       "    </tr>\n",
       "    <tr>\n",
       "        <td style=\"padding-left: 1em; padding-right: 1em; text-align: center; vertical-align: top\">[1.0, 2.0, 3.0]</td>\n",
       "        <td style=\"padding-left: 1em; padding-right: 1em; text-align: center; vertical-align: top\">[2.0, 3.0, 4.0]</td>\n",
       "    </tr>\n",
       "</table>\n",
       "[3 rows x 2 columns]<br/>\n",
       "</div>"
      ],
      "text/plain": [
       "Columns:\n",
       "\ta\tarray\n",
       "\tb\tarray\n",
       "\n",
       "Rows: 3\n",
       "\n",
       "Data:\n",
       "+-----------------+-----------------+\n",
       "|        a        |        b        |\n",
       "+-----------------+-----------------+\n",
       "| [1.0, 2.0, 3.0] | [2.0, 3.0, 4.0] |\n",
       "| [1.0, 2.0, 3.0] | [2.0, 3.0, 4.0] |\n",
       "| [1.0, 2.0, 3.0] | [2.0, 3.0, 4.0] |\n",
       "+-----------------+-----------------+\n",
       "[3 rows x 2 columns]"
      ]
     },
     "execution_count": 27,
     "metadata": {},
     "output_type": "execute_result"
    }
   ],
   "source": [
    "l1 = [1,2,3]\n",
    "l2 = [2,3,4]\n",
    "sf = gl.SFrame({'a' : [l1,l1,l1], 'b' : [l2,l2,l2]})\n",
    "sf"
   ]
  },
  {
   "cell_type": "code",
   "execution_count": 28,
   "metadata": {
    "collapsed": false
   },
   "outputs": [
    {
     "data": {
      "text/html": [
       "<div style=\"max-height:1000px;max-width:1500px;overflow:auto;\"><table frame=\"box\" rules=\"cols\">\n",
       "    <tr>\n",
       "        <th style=\"padding-left: 1em; padding-right: 1em; text-align: center\">a</th>\n",
       "        <th style=\"padding-left: 1em; padding-right: 1em; text-align: center\">b</th>\n",
       "        <th style=\"padding-left: 1em; padding-right: 1em; text-align: center\">quadratic_features</th>\n",
       "    </tr>\n",
       "    <tr>\n",
       "        <td style=\"padding-left: 1em; padding-right: 1em; text-align: center; vertical-align: top\">[1.0, 2.0, 3.0]</td>\n",
       "        <td style=\"padding-left: 1em; padding-right: 1em; text-align: center; vertical-align: top\">[2.0, 3.0, 4.0]</td>\n",
       "        <td style=\"padding-left: 1em; padding-right: 1em; text-align: center; vertical-align: top\">{'b:0, b:0': 4.0, 'b:0,<br>b:1': 6.0, 'b:0, b:2': ...</td>\n",
       "    </tr>\n",
       "    <tr>\n",
       "        <td style=\"padding-left: 1em; padding-right: 1em; text-align: center; vertical-align: top\">[1.0, 2.0, 3.0]</td>\n",
       "        <td style=\"padding-left: 1em; padding-right: 1em; text-align: center; vertical-align: top\">[2.0, 3.0, 4.0]</td>\n",
       "        <td style=\"padding-left: 1em; padding-right: 1em; text-align: center; vertical-align: top\">{'b:0, b:0': 4.0, 'b:0,<br>b:1': 6.0, 'b:0, b:2': ...</td>\n",
       "    </tr>\n",
       "    <tr>\n",
       "        <td style=\"padding-left: 1em; padding-right: 1em; text-align: center; vertical-align: top\">[1.0, 2.0, 3.0]</td>\n",
       "        <td style=\"padding-left: 1em; padding-right: 1em; text-align: center; vertical-align: top\">[2.0, 3.0, 4.0]</td>\n",
       "        <td style=\"padding-left: 1em; padding-right: 1em; text-align: center; vertical-align: top\">{'b:0, b:0': 4.0, 'b:0,<br>b:1': 6.0, 'b:0, b:2': ...</td>\n",
       "    </tr>\n",
       "</table>\n",
       "[3 rows x 3 columns]<br/>\n",
       "</div>"
      ],
      "text/plain": [
       "Columns:\n",
       "\ta\tarray\n",
       "\tb\tarray\n",
       "\tquadratic_features\tdict\n",
       "\n",
       "Rows: 3\n",
       "\n",
       "Data:\n",
       "+-----------------+-----------------+-------------------------------+\n",
       "|        a        |        b        |       quadratic_features      |\n",
       "+-----------------+-----------------+-------------------------------+\n",
       "| [1.0, 2.0, 3.0] | [2.0, 3.0, 4.0] | {'b:0, b:0': 4.0, 'b:0, b:... |\n",
       "| [1.0, 2.0, 3.0] | [2.0, 3.0, 4.0] | {'b:0, b:0': 4.0, 'b:0, b:... |\n",
       "| [1.0, 2.0, 3.0] | [2.0, 3.0, 4.0] | {'b:0, b:0': 4.0, 'b:0, b:... |\n",
       "+-----------------+-----------------+-------------------------------+\n",
       "[3 rows x 3 columns]"
      ]
     },
     "execution_count": 28,
     "metadata": {},
     "output_type": "execute_result"
    }
   ],
   "source": [
    "quadratic = gl.feature_engineering.QuadraticFeatures()\n",
    "fit_quadratic = quadratic.fit(sf)\n",
    "fit_quadratic.transform(sf)"
   ]
  },
  {
   "cell_type": "code",
   "execution_count": 29,
   "metadata": {
    "collapsed": false
   },
   "outputs": [
    {
     "data": {
      "text/html": [
       "<div style=\"max-height:1000px;max-width:1500px;overflow:auto;\"><table frame=\"box\" rules=\"cols\">\n",
       "    <tr>\n",
       "        <th style=\"padding-left: 1em; padding-right: 1em; text-align: center\">a</th>\n",
       "        <th style=\"padding-left: 1em; padding-right: 1em; text-align: center\">b</th>\n",
       "    </tr>\n",
       "    <tr>\n",
       "        <td style=\"padding-left: 1em; padding-right: 1em; text-align: center; vertical-align: top\">{'a': 1, 'c': 3, 'b': 2}</td>\n",
       "        <td style=\"padding-left: 1em; padding-right: 1em; text-align: center; vertical-align: top\">{'e': 5, 'd': 4, 'f': 6}</td>\n",
       "    </tr>\n",
       "    <tr>\n",
       "        <td style=\"padding-left: 1em; padding-right: 1em; text-align: center; vertical-align: top\">{'a': 1, 'c': 3, 'b': 2}</td>\n",
       "        <td style=\"padding-left: 1em; padding-right: 1em; text-align: center; vertical-align: top\">{'e': 5, 'd': 4, 'f': 6}</td>\n",
       "    </tr>\n",
       "    <tr>\n",
       "        <td style=\"padding-left: 1em; padding-right: 1em; text-align: center; vertical-align: top\">{'a': 1, 'c': 3, 'b': 2}</td>\n",
       "        <td style=\"padding-left: 1em; padding-right: 1em; text-align: center; vertical-align: top\">{'e': 5, 'd': 4, 'f': 6}</td>\n",
       "    </tr>\n",
       "</table>\n",
       "[3 rows x 2 columns]<br/>\n",
       "</div>"
      ],
      "text/plain": [
       "Columns:\n",
       "\ta\tdict\n",
       "\tb\tdict\n",
       "\n",
       "Rows: 3\n",
       "\n",
       "Data:\n",
       "+--------------------------+--------------------------+\n",
       "|            a             |            b             |\n",
       "+--------------------------+--------------------------+\n",
       "| {'a': 1, 'c': 3, 'b': 2} | {'e': 5, 'd': 4, 'f': 6} |\n",
       "| {'a': 1, 'c': 3, 'b': 2} | {'e': 5, 'd': 4, 'f': 6} |\n",
       "| {'a': 1, 'c': 3, 'b': 2} | {'e': 5, 'd': 4, 'f': 6} |\n",
       "+--------------------------+--------------------------+\n",
       "[3 rows x 2 columns]"
      ]
     },
     "execution_count": 29,
     "metadata": {},
     "output_type": "execute_result"
    }
   ],
   "source": [
    "dict1 = {'a' : 1 , 'b' : 2 , 'c' : 3}\n",
    "dict2 = {'d' : 4 , 'e' : 5 , 'f' : 6}\n",
    "sf = gl.SFrame({'a' : [dict1, dict1, dict1], 'b' : [dict2, dict2, dict2]})\n",
    "sf"
   ]
  },
  {
   "cell_type": "code",
   "execution_count": 33,
   "metadata": {
    "collapsed": false
   },
   "outputs": [
    {
     "data": {
      "text/plain": [
       "{'a:a, a:a': 1,\n",
       " 'a:a, a:b': 2,\n",
       " 'a:a, a:c': 3,\n",
       " 'a:a, b:d': 4,\n",
       " 'a:a, b:e': 5,\n",
       " 'a:a, b:f': 6,\n",
       " 'a:b, a:a': 2,\n",
       " 'a:b, a:b': 4,\n",
       " 'a:b, a:c': 6,\n",
       " 'a:b, b:d': 8,\n",
       " 'a:b, b:e': 10,\n",
       " 'a:b, b:f': 12,\n",
       " 'a:c, a:a': 3,\n",
       " 'a:c, a:b': 6,\n",
       " 'a:c, a:c': 9,\n",
       " 'a:c, b:d': 12,\n",
       " 'a:c, b:e': 15,\n",
       " 'a:c, b:f': 18,\n",
       " 'b:d, b:d': 16,\n",
       " 'b:d, b:e': 20,\n",
       " 'b:d, b:f': 24,\n",
       " 'b:e, b:d': 20,\n",
       " 'b:e, b:e': 25,\n",
       " 'b:e, b:f': 30,\n",
       " 'b:f, b:d': 24,\n",
       " 'b:f, b:e': 30,\n",
       " 'b:f, b:f': 36}"
      ]
     },
     "execution_count": 33,
     "metadata": {},
     "output_type": "execute_result"
    }
   ],
   "source": [
    "quadratic = gl.feature_engineering.QuadraticFeatures()\n",
    "fit_quadratic = quadratic.fit(sf)\n",
    "fit_quadratic.transform(sf)['quadratic_features'][1]"
   ]
  },
  {
   "cell_type": "code",
   "execution_count": null,
   "metadata": {
    "collapsed": true
   },
   "outputs": [],
   "source": [
    "dict1 = {'a' : 1 , 'b' : 2 , 'c' : 3}\n",
    "dict2 = {'d' : 4 , 'e' : 5 , 'f' : 6}\n",
    "sf = gl.SFrame({'a' : [dict1, dict1, dict1], 'b' : [dict2, dict2, dict2]})\n",
    "sf"
   ]
  }
 ],
 "metadata": {
  "kernelspec": {
   "display_name": "Python 2",
   "language": "python",
   "name": "python2"
  },
  "language_info": {
   "codemirror_mode": {
    "name": "ipython",
    "version": 2
   },
   "file_extension": ".py",
   "mimetype": "text/x-python",
   "name": "python",
   "nbconvert_exporter": "python",
   "pygments_lexer": "ipython2",
   "version": "2.7.10"
  }
 },
 "nbformat": 4,
 "nbformat_minor": 0
}
