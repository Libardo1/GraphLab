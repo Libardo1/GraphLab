{
 "cells": [
  {
   "cell_type": "markdown",
   "metadata": {},
   "source": [
    "# Categorical Imputer"
   ]
  },
  {
   "cell_type": "code",
   "execution_count": 1,
   "metadata": {
    "collapsed": true
   },
   "outputs": [],
   "source": [
    "import graphlab as gl"
   ]
  },
  {
   "cell_type": "code",
   "execution_count": 7,
   "metadata": {
    "collapsed": false
   },
   "outputs": [
    {
     "data": {
      "text/html": [
       "<div style=\"max-height:1000px;max-width:1500px;overflow:auto;\"><table frame=\"box\" rules=\"cols\">\n",
       "    <tr>\n",
       "        <th style=\"padding-left: 1em; padding-right: 1em; text-align: center\">a</th>\n",
       "        <th style=\"padding-left: 1em; padding-right: 1em; text-align: center\">b</th>\n",
       "        <th style=\"padding-left: 1em; padding-right: 1em; text-align: center\">c</th>\n",
       "    </tr>\n",
       "    <tr>\n",
       "        <td style=\"padding-left: 1em; padding-right: 1em; text-align: center; vertical-align: top\">1</td>\n",
       "        <td style=\"padding-left: 1em; padding-right: 1em; text-align: center; vertical-align: top\">0</td>\n",
       "        <td style=\"padding-left: 1em; padding-right: 1em; text-align: center; vertical-align: top\">a</td>\n",
       "    </tr>\n",
       "    <tr>\n",
       "        <td style=\"padding-left: 1em; padding-right: 1em; text-align: center; vertical-align: top\">0</td>\n",
       "        <td style=\"padding-left: 1em; padding-right: 1em; text-align: center; vertical-align: top\">1</td>\n",
       "        <td style=\"padding-left: 1em; padding-right: 1em; text-align: center; vertical-align: top\">b</td>\n",
       "    </tr>\n",
       "    <tr>\n",
       "        <td style=\"padding-left: 1em; padding-right: 1em; text-align: center; vertical-align: top\">1</td>\n",
       "        <td style=\"padding-left: 1em; padding-right: 1em; text-align: center; vertical-align: top\">0</td>\n",
       "        <td style=\"padding-left: 1em; padding-right: 1em; text-align: center; vertical-align: top\">None</td>\n",
       "    </tr>\n",
       "</table>\n",
       "[3 rows x 3 columns]<br/>\n",
       "</div>"
      ],
      "text/plain": [
       "Columns:\n",
       "\ta\tint\n",
       "\tb\tint\n",
       "\tc\tstr\n",
       "\n",
       "Rows: 3\n",
       "\n",
       "Data:\n",
       "+---+---+------+\n",
       "| a | b |  c   |\n",
       "+---+---+------+\n",
       "| 1 | 0 |  a   |\n",
       "| 0 | 1 |  b   |\n",
       "| 1 | 0 | None |\n",
       "+---+---+------+\n",
       "[3 rows x 3 columns]"
      ]
     },
     "execution_count": 7,
     "metadata": {},
     "output_type": "execute_result"
    }
   ],
   "source": [
    "sf = gl.SFrame({'a': [1,0,1], 'b' : [0,1,0], 'c' : [\"a\", \"b\", None]})\n",
    "sf"
   ]
  },
  {
   "cell_type": "code",
   "execution_count": 8,
   "metadata": {
    "collapsed": false,
    "scrolled": true
   },
   "outputs": [
    {
     "name": "stdout",
     "output_type": "stream",
     "text": [
      "PROGRESS: Initializing data.\n",
      "PROGRESS: Choosing initial cluster centers with Kmeans++.\n",
      "PROGRESS: +---------------+-----------+\n",
      "PROGRESS: | Center number | Row index |\n",
      "PROGRESS: +---------------+-----------+\n",
      "PROGRESS: | 0             | 1         |\n",
      "PROGRESS: | 1             | 2         |\n",
      "PROGRESS: +---------------+-----------+\n",
      "PROGRESS: Starting kmeans model training.\n",
      "PROGRESS: +-----------+\n",
      "PROGRESS: | Iteration |\n",
      "PROGRESS: +-----------+\n",
      "PROGRESS: | 0         |\n",
      "PROGRESS: | 1         |\n",
      "PROGRESS: | 2         |\n",
      "PROGRESS: | 3         |\n",
      "PROGRESS: | 4         |\n",
      "PROGRESS: | 5         |\n",
      "PROGRESS: | 6         |\n",
      "PROGRESS: | 7         |\n",
      "PROGRESS: | 8         |\n",
      "PROGRESS: | 9         |\n",
      "PROGRESS: +-----------+\n",
      "PROGRESS: Initializing data.\n",
      "PROGRESS: Initializing user-provided cluster centers.\n"
     ]
    },
    {
     "data": {
      "text/html": [
       "<div style=\"max-height:1000px;max-width:1500px;overflow:auto;\"><table frame=\"box\" rules=\"cols\">\n",
       "    <tr>\n",
       "        <th style=\"padding-left: 1em; padding-right: 1em; text-align: center\">a</th>\n",
       "        <th style=\"padding-left: 1em; padding-right: 1em; text-align: center\">b</th>\n",
       "        <th style=\"padding-left: 1em; padding-right: 1em; text-align: center\">c</th>\n",
       "        <th style=\"padding-left: 1em; padding-right: 1em; text-align: center\">predicted_feature_c</th>\n",
       "        <th style=\"padding-left: 1em; padding-right: 1em; text-align: center\">feature_probability_c</th>\n",
       "    </tr>\n",
       "    <tr>\n",
       "        <td style=\"padding-left: 1em; padding-right: 1em; text-align: center; vertical-align: top\">1</td>\n",
       "        <td style=\"padding-left: 1em; padding-right: 1em; text-align: center; vertical-align: top\">0</td>\n",
       "        <td style=\"padding-left: 1em; padding-right: 1em; text-align: center; vertical-align: top\">a</td>\n",
       "        <td style=\"padding-left: 1em; padding-right: 1em; text-align: center; vertical-align: top\">a</td>\n",
       "        <td style=\"padding-left: 1em; padding-right: 1em; text-align: center; vertical-align: top\">1.0</td>\n",
       "    </tr>\n",
       "    <tr>\n",
       "        <td style=\"padding-left: 1em; padding-right: 1em; text-align: center; vertical-align: top\">0</td>\n",
       "        <td style=\"padding-left: 1em; padding-right: 1em; text-align: center; vertical-align: top\">1</td>\n",
       "        <td style=\"padding-left: 1em; padding-right: 1em; text-align: center; vertical-align: top\">b</td>\n",
       "        <td style=\"padding-left: 1em; padding-right: 1em; text-align: center; vertical-align: top\">b</td>\n",
       "        <td style=\"padding-left: 1em; padding-right: 1em; text-align: center; vertical-align: top\">1.0</td>\n",
       "    </tr>\n",
       "    <tr>\n",
       "        <td style=\"padding-left: 1em; padding-right: 1em; text-align: center; vertical-align: top\">1</td>\n",
       "        <td style=\"padding-left: 1em; padding-right: 1em; text-align: center; vertical-align: top\">0</td>\n",
       "        <td style=\"padding-left: 1em; padding-right: 1em; text-align: center; vertical-align: top\">None</td>\n",
       "        <td style=\"padding-left: 1em; padding-right: 1em; text-align: center; vertical-align: top\">a</td>\n",
       "        <td style=\"padding-left: 1em; padding-right: 1em; text-align: center; vertical-align: top\">1.0</td>\n",
       "    </tr>\n",
       "</table>\n",
       "[3 rows x 5 columns]<br/>\n",
       "</div>"
      ],
      "text/plain": [
       "Columns:\n",
       "\ta\tint\n",
       "\tb\tint\n",
       "\tc\tstr\n",
       "\tpredicted_feature_c\tstr\n",
       "\tfeature_probability_c\tfloat\n",
       "\n",
       "Rows: 3\n",
       "\n",
       "Data:\n",
       "+---+---+------+---------------------+-----------------------+\n",
       "| a | b |  c   | predicted_feature_c | feature_probability_c |\n",
       "+---+---+------+---------------------+-----------------------+\n",
       "| 1 | 0 |  a   |          a          |          1.0          |\n",
       "| 0 | 1 |  b   |          b          |          1.0          |\n",
       "| 1 | 0 | None |          a          |          1.0          |\n",
       "+---+---+------+---------------------+-----------------------+\n",
       "[3 rows x 5 columns]"
      ]
     },
     "execution_count": 8,
     "metadata": {},
     "output_type": "execute_result"
    }
   ],
   "source": [
    "imputer1 = gl.feature_engineering.CategoricalImputer(feature='c')\n",
    "imputer1.fit_transform(sf)"
   ]
  },
  {
   "cell_type": "code",
   "execution_count": 3,
   "metadata": {
    "collapsed": false,
    "scrolled": true
   },
   "outputs": [
    {
     "data": {
      "text/html": [
       "<div style=\"max-height:1000px;max-width:1500px;overflow:auto;\"><table frame=\"box\" rules=\"cols\">\n",
       "    <tr>\n",
       "        <th style=\"padding-left: 1em; padding-right: 1em; text-align: center\">a</th>\n",
       "        <th style=\"padding-left: 1em; padding-right: 1em; text-align: center\">b</th>\n",
       "        <th style=\"padding-left: 1em; padding-right: 1em; text-align: center\">c</th>\n",
       "    </tr>\n",
       "    <tr>\n",
       "        <td style=\"padding-left: 1em; padding-right: 1em; text-align: center; vertical-align: top\">1</td>\n",
       "        <td style=\"padding-left: 1em; padding-right: 1em; text-align: center; vertical-align: top\">0</td>\n",
       "        <td style=\"padding-left: 1em; padding-right: 1em; text-align: center; vertical-align: top\">a</td>\n",
       "    </tr>\n",
       "    <tr>\n",
       "        <td style=\"padding-left: 1em; padding-right: 1em; text-align: center; vertical-align: top\">0</td>\n",
       "        <td style=\"padding-left: 1em; padding-right: 1em; text-align: center; vertical-align: top\">1</td>\n",
       "        <td style=\"padding-left: 1em; padding-right: 1em; text-align: center; vertical-align: top\">b</td>\n",
       "    </tr>\n",
       "    <tr>\n",
       "        <td style=\"padding-left: 1em; padding-right: 1em; text-align: center; vertical-align: top\">1</td>\n",
       "        <td style=\"padding-left: 1em; padding-right: 1em; text-align: center; vertical-align: top\">1</td>\n",
       "        <td style=\"padding-left: 1em; padding-right: 1em; text-align: center; vertical-align: top\">c</td>\n",
       "    </tr>\n",
       "</table>\n",
       "[3 rows x 3 columns]<br/>\n",
       "</div>"
      ],
      "text/plain": [
       "Columns:\n",
       "\ta\tint\n",
       "\tb\tint\n",
       "\tc\tstr\n",
       "\n",
       "Rows: 3\n",
       "\n",
       "Data:\n",
       "+---+---+---+\n",
       "| a | b | c |\n",
       "+---+---+---+\n",
       "| 1 | 0 | a |\n",
       "| 0 | 1 | b |\n",
       "| 1 | 1 | c |\n",
       "+---+---+---+\n",
       "[3 rows x 3 columns]"
      ]
     },
     "execution_count": 3,
     "metadata": {},
     "output_type": "execute_result"
    }
   ],
   "source": [
    "sf = gl.SFrame({'a': [1,0,1], 'b' : [0,1,1], 'c' : [\"a\", \"b\", \"c\"]})\n",
    "sf"
   ]
  },
  {
   "cell_type": "code",
   "execution_count": 4,
   "metadata": {
    "collapsed": false,
    "scrolled": true
   },
   "outputs": [
    {
     "name": "stdout",
     "output_type": "stream",
     "text": [
      "PROGRESS: Initializing data.\n",
      "PROGRESS: Choosing initial cluster centers with Kmeans++.\n",
      "PROGRESS: +---------------+-----------+\n",
      "PROGRESS: | Center number | Row index |\n",
      "PROGRESS: +---------------+-----------+\n",
      "PROGRESS: | 0             | 0         |\n",
      "PROGRESS: | 1             | 1         |\n",
      "PROGRESS: +---------------+-----------+\n",
      "PROGRESS: Starting kmeans model training.\n",
      "PROGRESS: +-----------+\n",
      "PROGRESS: | Iteration |\n",
      "PROGRESS: +-----------+\n",
      "PROGRESS: | 0         |\n",
      "PROGRESS: | 1         |\n",
      "PROGRESS: | 2         |\n",
      "PROGRESS: | 3         |\n",
      "PROGRESS: | 4         |\n",
      "PROGRESS: | 5         |\n",
      "PROGRESS: | 6         |\n",
      "PROGRESS: | 7         |\n",
      "PROGRESS: | 8         |\n",
      "PROGRESS: | 9         |\n",
      "PROGRESS: +-----------+\n"
     ]
    },
    {
     "data": {
      "text/plain": [
       "Class                         : CategoricalImputer\n",
       "\n",
       "Model fields\n",
       "------------\n",
       "reference_features            : ['a', 'b']\n",
       "Column to impute              : c"
      ]
     },
     "execution_count": 4,
     "metadata": {},
     "output_type": "execute_result"
    }
   ],
   "source": [
    "imputer = gl.feature_engineering.CategoricalImputer(feature='c')\n",
    "imputer.fit(sf)"
   ]
  },
  {
   "cell_type": "code",
   "execution_count": 5,
   "metadata": {
    "collapsed": false
   },
   "outputs": [
    {
     "data": {
      "text/html": [
       "<div style=\"max-height:1000px;max-width:1500px;overflow:auto;\"><table frame=\"box\" rules=\"cols\">\n",
       "    <tr>\n",
       "        <th style=\"padding-left: 1em; padding-right: 1em; text-align: center\">a</th>\n",
       "        <th style=\"padding-left: 1em; padding-right: 1em; text-align: center\">b</th>\n",
       "        <th style=\"padding-left: 1em; padding-right: 1em; text-align: center\">c</th>\n",
       "    </tr>\n",
       "    <tr>\n",
       "        <td style=\"padding-left: 1em; padding-right: 1em; text-align: center; vertical-align: top\">1</td>\n",
       "        <td style=\"padding-left: 1em; padding-right: 1em; text-align: center; vertical-align: top\">0</td>\n",
       "        <td style=\"padding-left: 1em; padding-right: 1em; text-align: center; vertical-align: top\">None</td>\n",
       "    </tr>\n",
       "    <tr>\n",
       "        <td style=\"padding-left: 1em; padding-right: 1em; text-align: center; vertical-align: top\">0</td>\n",
       "        <td style=\"padding-left: 1em; padding-right: 1em; text-align: center; vertical-align: top\">1</td>\n",
       "        <td style=\"padding-left: 1em; padding-right: 1em; text-align: center; vertical-align: top\">None</td>\n",
       "    </tr>\n",
       "    <tr>\n",
       "        <td style=\"padding-left: 1em; padding-right: 1em; text-align: center; vertical-align: top\">1</td>\n",
       "        <td style=\"padding-left: 1em; padding-right: 1em; text-align: center; vertical-align: top\">1</td>\n",
       "        <td style=\"padding-left: 1em; padding-right: 1em; text-align: center; vertical-align: top\">None</td>\n",
       "    </tr>\n",
       "    <tr>\n",
       "        <td style=\"padding-left: 1em; padding-right: 1em; text-align: center; vertical-align: top\">0</td>\n",
       "        <td style=\"padding-left: 1em; padding-right: 1em; text-align: center; vertical-align: top\">0</td>\n",
       "        <td style=\"padding-left: 1em; padding-right: 1em; text-align: center; vertical-align: top\">None</td>\n",
       "    </tr>\n",
       "</table>\n",
       "[4 rows x 3 columns]<br/>\n",
       "</div>"
      ],
      "text/plain": [
       "Columns:\n",
       "\ta\tint\n",
       "\tb\tint\n",
       "\tc\tfloat\n",
       "\n",
       "Rows: 4\n",
       "\n",
       "Data:\n",
       "+---+---+------+\n",
       "| a | b |  c   |\n",
       "+---+---+------+\n",
       "| 1 | 0 | None |\n",
       "| 0 | 1 | None |\n",
       "| 1 | 1 | None |\n",
       "| 0 | 0 | None |\n",
       "+---+---+------+\n",
       "[4 rows x 3 columns]"
      ]
     },
     "execution_count": 5,
     "metadata": {},
     "output_type": "execute_result"
    }
   ],
   "source": [
    "sf2 = gl.SFrame({'a': [1,0,1,0], 'b' : [0,1,1,0], 'c' : [None, None, None, None]})\n",
    "sf2"
   ]
  },
  {
   "cell_type": "code",
   "execution_count": 6,
   "metadata": {
    "collapsed": false
   },
   "outputs": [
    {
     "name": "stdout",
     "output_type": "stream",
     "text": [
      "PROGRESS: Initializing data.\n",
      "PROGRESS: Initializing user-provided cluster centers.\n"
     ]
    },
    {
     "data": {
      "text/html": [
       "<div style=\"max-height:1000px;max-width:1500px;overflow:auto;\"><table frame=\"box\" rules=\"cols\">\n",
       "    <tr>\n",
       "        <th style=\"padding-left: 1em; padding-right: 1em; text-align: center\">a</th>\n",
       "        <th style=\"padding-left: 1em; padding-right: 1em; text-align: center\">b</th>\n",
       "        <th style=\"padding-left: 1em; padding-right: 1em; text-align: center\">c</th>\n",
       "        <th style=\"padding-left: 1em; padding-right: 1em; text-align: center\">predicted_feature_c</th>\n",
       "        <th style=\"padding-left: 1em; padding-right: 1em; text-align: center\">feature_probability_c</th>\n",
       "    </tr>\n",
       "    <tr>\n",
       "        <td style=\"padding-left: 1em; padding-right: 1em; text-align: center; vertical-align: top\">1</td>\n",
       "        <td style=\"padding-left: 1em; padding-right: 1em; text-align: center; vertical-align: top\">0</td>\n",
       "        <td style=\"padding-left: 1em; padding-right: 1em; text-align: center; vertical-align: top\">None</td>\n",
       "        <td style=\"padding-left: 1em; padding-right: 1em; text-align: center; vertical-align: top\">c</td>\n",
       "        <td style=\"padding-left: 1em; padding-right: 1em; text-align: center; vertical-align: top\">0.5</td>\n",
       "    </tr>\n",
       "    <tr>\n",
       "        <td style=\"padding-left: 1em; padding-right: 1em; text-align: center; vertical-align: top\">0</td>\n",
       "        <td style=\"padding-left: 1em; padding-right: 1em; text-align: center; vertical-align: top\">1</td>\n",
       "        <td style=\"padding-left: 1em; padding-right: 1em; text-align: center; vertical-align: top\">None</td>\n",
       "        <td style=\"padding-left: 1em; padding-right: 1em; text-align: center; vertical-align: top\">b</td>\n",
       "        <td style=\"padding-left: 1em; padding-right: 1em; text-align: center; vertical-align: top\">1.0</td>\n",
       "    </tr>\n",
       "    <tr>\n",
       "        <td style=\"padding-left: 1em; padding-right: 1em; text-align: center; vertical-align: top\">1</td>\n",
       "        <td style=\"padding-left: 1em; padding-right: 1em; text-align: center; vertical-align: top\">1</td>\n",
       "        <td style=\"padding-left: 1em; padding-right: 1em; text-align: center; vertical-align: top\">None</td>\n",
       "        <td style=\"padding-left: 1em; padding-right: 1em; text-align: center; vertical-align: top\">c</td>\n",
       "        <td style=\"padding-left: 1em; padding-right: 1em; text-align: center; vertical-align: top\">0.5</td>\n",
       "    </tr>\n",
       "    <tr>\n",
       "        <td style=\"padding-left: 1em; padding-right: 1em; text-align: center; vertical-align: top\">0</td>\n",
       "        <td style=\"padding-left: 1em; padding-right: 1em; text-align: center; vertical-align: top\">0</td>\n",
       "        <td style=\"padding-left: 1em; padding-right: 1em; text-align: center; vertical-align: top\">None</td>\n",
       "        <td style=\"padding-left: 1em; padding-right: 1em; text-align: center; vertical-align: top\">c</td>\n",
       "        <td style=\"padding-left: 1em; padding-right: 1em; text-align: center; vertical-align: top\">0.5</td>\n",
       "    </tr>\n",
       "</table>\n",
       "[4 rows x 5 columns]<br/>\n",
       "</div>"
      ],
      "text/plain": [
       "Columns:\n",
       "\ta\tint\n",
       "\tb\tint\n",
       "\tc\tfloat\n",
       "\tpredicted_feature_c\tstr\n",
       "\tfeature_probability_c\tfloat\n",
       "\n",
       "Rows: 4\n",
       "\n",
       "Data:\n",
       "+---+---+------+---------------------+-----------------------+\n",
       "| a | b |  c   | predicted_feature_c | feature_probability_c |\n",
       "+---+---+------+---------------------+-----------------------+\n",
       "| 1 | 0 | None |          c          |          0.5          |\n",
       "| 0 | 1 | None |          b          |          1.0          |\n",
       "| 1 | 1 | None |          c          |          0.5          |\n",
       "| 0 | 0 | None |          c          |          0.5          |\n",
       "+---+---+------+---------------------+-----------------------+\n",
       "[4 rows x 5 columns]"
      ]
     },
     "execution_count": 6,
     "metadata": {},
     "output_type": "execute_result"
    }
   ],
   "source": [
    "imputer.transform(sf2)"
   ]
  },
  {
   "cell_type": "code",
   "execution_count": null,
   "metadata": {
    "collapsed": true
   },
   "outputs": [],
   "source": []
  }
 ],
 "metadata": {
  "kernelspec": {
   "display_name": "Python 2",
   "language": "python",
   "name": "python2"
  },
  "language_info": {
   "codemirror_mode": {
    "name": "ipython",
    "version": 2
   },
   "file_extension": ".py",
   "mimetype": "text/x-python",
   "name": "python",
   "nbconvert_exporter": "python",
   "pygments_lexer": "ipython2",
   "version": "2.7.10"
  }
 },
 "nbformat": 4,
 "nbformat_minor": 0
}
