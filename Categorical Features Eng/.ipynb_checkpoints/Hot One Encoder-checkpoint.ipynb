{
 "cells": [
  {
   "cell_type": "markdown",
   "metadata": {},
   "source": [
    "# Hot One Encoder"
   ]
  },
  {
   "cell_type": "code",
   "execution_count": 1,
   "metadata": {
    "collapsed": true
   },
   "outputs": [],
   "source": [
    "import graphlab as gl"
   ]
  },
  {
   "cell_type": "code",
   "execution_count": 3,
   "metadata": {
    "collapsed": false
   },
   "outputs": [
    {
     "data": {
      "text/html": [
       "<div style=\"max-height:1000px;max-width:1500px;overflow:auto;\"><table frame=\"box\" rules=\"cols\">\n",
       "    <tr>\n",
       "        <th style=\"padding-left: 1em; padding-right: 1em; text-align: center\">a</th>\n",
       "        <th style=\"padding-left: 1em; padding-right: 1em; text-align: center\">b</th>\n",
       "    </tr>\n",
       "    <tr>\n",
       "        <td style=\"padding-left: 1em; padding-right: 1em; text-align: center; vertical-align: top\">1</td>\n",
       "        <td style=\"padding-left: 1em; padding-right: 1em; text-align: center; vertical-align: top\">2</td>\n",
       "    </tr>\n",
       "    <tr>\n",
       "        <td style=\"padding-left: 1em; padding-right: 1em; text-align: center; vertical-align: top\">2</td>\n",
       "        <td style=\"padding-left: 1em; padding-right: 1em; text-align: center; vertical-align: top\">3</td>\n",
       "    </tr>\n",
       "    <tr>\n",
       "        <td style=\"padding-left: 1em; padding-right: 1em; text-align: center; vertical-align: top\">3</td>\n",
       "        <td style=\"padding-left: 1em; padding-right: 1em; text-align: center; vertical-align: top\">4</td>\n",
       "    </tr>\n",
       "    <tr>\n",
       "        <td style=\"padding-left: 1em; padding-right: 1em; text-align: center; vertical-align: top\">2</td>\n",
       "        <td style=\"padding-left: 1em; padding-right: 1em; text-align: center; vertical-align: top\">2</td>\n",
       "    </tr>\n",
       "    <tr>\n",
       "        <td style=\"padding-left: 1em; padding-right: 1em; text-align: center; vertical-align: top\">3</td>\n",
       "        <td style=\"padding-left: 1em; padding-right: 1em; text-align: center; vertical-align: top\">3</td>\n",
       "    </tr>\n",
       "</table>\n",
       "[5 rows x 2 columns]<br/>\n",
       "</div>"
      ],
      "text/plain": [
       "Columns:\n",
       "\ta\tint\n",
       "\tb\tint\n",
       "\n",
       "Rows: 5\n",
       "\n",
       "Data:\n",
       "+---+---+\n",
       "| a | b |\n",
       "+---+---+\n",
       "| 1 | 2 |\n",
       "| 2 | 3 |\n",
       "| 3 | 4 |\n",
       "| 2 | 2 |\n",
       "| 3 | 3 |\n",
       "+---+---+\n",
       "[5 rows x 2 columns]"
      ]
     },
     "execution_count": 3,
     "metadata": {},
     "output_type": "execute_result"
    }
   ],
   "source": [
    "sf = gl.SFrame({'a' : [1,2,3,2,3], 'b' : [2,3,4,2,3]})\n",
    "sf"
   ]
  },
  {
   "cell_type": "code",
   "execution_count": 6,
   "metadata": {
    "collapsed": false
   },
   "outputs": [
    {
     "data": {
      "text/plain": [
       "Class                         : OneHotEncoder\n",
       "\n",
       "Model fields\n",
       "------------\n",
       "Features                      : ['a', 'b']\n",
       "Excluded features             : None\n",
       "Output column name            : encoded_features\n",
       "Max categories per column     : 2147483647"
      ]
     },
     "execution_count": 6,
     "metadata": {},
     "output_type": "execute_result"
    }
   ],
   "source": [
    "encoder = gl.feature_engineering.OneHotEncoder()\n",
    "fit_encoder = encoder.fit(sf)\n",
    "fit_encoder"
   ]
  },
  {
   "cell_type": "code",
   "execution_count": 7,
   "metadata": {
    "collapsed": false
   },
   "outputs": [
    {
     "data": {
      "text/html": [
       "<div style=\"max-height:1000px;max-width:1500px;overflow:auto;\"><table frame=\"box\" rules=\"cols\">\n",
       "    <tr>\n",
       "        <th style=\"padding-left: 1em; padding-right: 1em; text-align: center\">encoded_features</th>\n",
       "    </tr>\n",
       "    <tr>\n",
       "        <td style=\"padding-left: 1em; padding-right: 1em; text-align: center; vertical-align: top\">{0: 1, 3: 1}</td>\n",
       "    </tr>\n",
       "    <tr>\n",
       "        <td style=\"padding-left: 1em; padding-right: 1em; text-align: center; vertical-align: top\">{1: 1, 4: 1}</td>\n",
       "    </tr>\n",
       "    <tr>\n",
       "        <td style=\"padding-left: 1em; padding-right: 1em; text-align: center; vertical-align: top\">{2: 1, 5: 1}</td>\n",
       "    </tr>\n",
       "    <tr>\n",
       "        <td style=\"padding-left: 1em; padding-right: 1em; text-align: center; vertical-align: top\">{1: 1, 3: 1}</td>\n",
       "    </tr>\n",
       "    <tr>\n",
       "        <td style=\"padding-left: 1em; padding-right: 1em; text-align: center; vertical-align: top\">{2: 1, 4: 1}</td>\n",
       "    </tr>\n",
       "</table>\n",
       "[5 rows x 1 columns]<br/>\n",
       "</div>"
      ],
      "text/plain": [
       "Columns:\n",
       "\tencoded_features\tdict\n",
       "\n",
       "Rows: 5\n",
       "\n",
       "Data:\n",
       "+------------------+\n",
       "| encoded_features |\n",
       "+------------------+\n",
       "|   {0: 1, 3: 1}   |\n",
       "|   {1: 1, 4: 1}   |\n",
       "|   {2: 1, 5: 1}   |\n",
       "|   {1: 1, 3: 1}   |\n",
       "|   {2: 1, 4: 1}   |\n",
       "+------------------+\n",
       "[5 rows x 1 columns]"
      ]
     },
     "execution_count": 7,
     "metadata": {},
     "output_type": "execute_result"
    }
   ],
   "source": [
    "fit_encoder.transform(sf)"
   ]
  },
  {
   "cell_type": "code",
   "execution_count": 8,
   "metadata": {
    "collapsed": false
   },
   "outputs": [
    {
     "data": {
      "text/html": [
       "<div style=\"max-height:1000px;max-width:1500px;overflow:auto;\"><table frame=\"box\" rules=\"cols\">\n",
       "    <tr>\n",
       "        <th style=\"padding-left: 1em; padding-right: 1em; text-align: center\">categories</th>\n",
       "    </tr>\n",
       "    <tr>\n",
       "        <td style=\"padding-left: 1em; padding-right: 1em; text-align: center; vertical-align: top\">[cat, mammal]</td>\n",
       "    </tr>\n",
       "    <tr>\n",
       "        <td style=\"padding-left: 1em; padding-right: 1em; text-align: center; vertical-align: top\">[dog, mammal]</td>\n",
       "    </tr>\n",
       "    <tr>\n",
       "        <td style=\"padding-left: 1em; padding-right: 1em; text-align: center; vertical-align: top\">[human, mammal]</td>\n",
       "    </tr>\n",
       "    <tr>\n",
       "        <td style=\"padding-left: 1em; padding-right: 1em; text-align: center; vertical-align: top\">[seahawk, bird]</td>\n",
       "    </tr>\n",
       "    <tr>\n",
       "        <td style=\"padding-left: 1em; padding-right: 1em; text-align: center; vertical-align: top\">[wasp, insect]</td>\n",
       "    </tr>\n",
       "</table>\n",
       "[5 rows x 1 columns]<br/>\n",
       "</div>"
      ],
      "text/plain": [
       "Columns:\n",
       "\tcategories\tlist\n",
       "\n",
       "Rows: 5\n",
       "\n",
       "Data:\n",
       "+-----------------+\n",
       "|    categories   |\n",
       "+-----------------+\n",
       "|  [cat, mammal]  |\n",
       "|  [dog, mammal]  |\n",
       "| [human, mammal] |\n",
       "| [seahawk, bird] |\n",
       "|  [wasp, insect] |\n",
       "+-----------------+\n",
       "[5 rows x 1 columns]"
      ]
     },
     "execution_count": 8,
     "metadata": {},
     "output_type": "execute_result"
    }
   ],
   "source": [
    "sf = gl.SFrame({'categories': [['cat', 'mammal'],\n",
    "                                         ['dog', 'mammal'],\n",
    "                                         ['human', 'mammal'],\n",
    "                                         ['seahawk', 'bird'],\n",
    "                                         ['wasp', 'insect']]})\n",
    "\n",
    "sf"
   ]
  },
  {
   "cell_type": "code",
   "execution_count": 9,
   "metadata": {
    "collapsed": false
   },
   "outputs": [
    {
     "data": {
      "text/html": [
       "<div style=\"max-height:1000px;max-width:1500px;overflow:auto;\"><table frame=\"box\" rules=\"cols\">\n",
       "    <tr>\n",
       "        <th style=\"padding-left: 1em; padding-right: 1em; text-align: center\">encoded_features</th>\n",
       "    </tr>\n",
       "    <tr>\n",
       "        <td style=\"padding-left: 1em; padding-right: 1em; text-align: center; vertical-align: top\">{0: 1, 1: 1}</td>\n",
       "    </tr>\n",
       "    <tr>\n",
       "        <td style=\"padding-left: 1em; padding-right: 1em; text-align: center; vertical-align: top\">{0: 1, 2: 1}</td>\n",
       "    </tr>\n",
       "    <tr>\n",
       "        <td style=\"padding-left: 1em; padding-right: 1em; text-align: center; vertical-align: top\">{0: 1, 3: 1}</td>\n",
       "    </tr>\n",
       "    <tr>\n",
       "        <td style=\"padding-left: 1em; padding-right: 1em; text-align: center; vertical-align: top\">{4: 1, 6: 1}</td>\n",
       "    </tr>\n",
       "    <tr>\n",
       "        <td style=\"padding-left: 1em; padding-right: 1em; text-align: center; vertical-align: top\">{5: 1, 7: 1}</td>\n",
       "    </tr>\n",
       "</table>\n",
       "[5 rows x 1 columns]<br/>\n",
       "</div>"
      ],
      "text/plain": [
       "Columns:\n",
       "\tencoded_features\tdict\n",
       "\n",
       "Rows: 5\n",
       "\n",
       "Data:\n",
       "+------------------+\n",
       "| encoded_features |\n",
       "+------------------+\n",
       "|   {0: 1, 1: 1}   |\n",
       "|   {0: 1, 2: 1}   |\n",
       "|   {0: 1, 3: 1}   |\n",
       "|   {4: 1, 6: 1}   |\n",
       "|   {5: 1, 7: 1}   |\n",
       "+------------------+\n",
       "[5 rows x 1 columns]"
      ]
     },
     "execution_count": 9,
     "metadata": {},
     "output_type": "execute_result"
    }
   ],
   "source": [
    "encoder = gl.feature_engineering.OneHotEncoder()\n",
    "encoder.fit_transform(sf)"
   ]
  },
  {
   "cell_type": "code",
   "execution_count": 11,
   "metadata": {
    "collapsed": false
   },
   "outputs": [
    {
     "data": {
      "text/html": [
       "<div style=\"max-height:1000px;max-width:1500px;overflow:auto;\"><table frame=\"box\" rules=\"cols\">\n",
       "    <tr>\n",
       "        <th style=\"padding-left: 1em; padding-right: 1em; text-align: center\">attributes</th>\n",
       "    </tr>\n",
       "    <tr>\n",
       "        <td style=\"padding-left: 1em; padding-right: 1em; text-align: center; vertical-align: top\">{'age': 'senior',<br>'weight': 'thin', ...</td>\n",
       "    </tr>\n",
       "    <tr>\n",
       "        <td style=\"padding-left: 1em; padding-right: 1em; text-align: center; vertical-align: top\">{'age': 'child',<br>'weight': 'thin', ...</td>\n",
       "    </tr>\n",
       "    <tr>\n",
       "        <td style=\"padding-left: 1em; padding-right: 1em; text-align: center; vertical-align: top\">{'age': 'adult',<br>'weight': 'fat', ...</td>\n",
       "    </tr>\n",
       "    <tr>\n",
       "        <td style=\"padding-left: 1em; padding-right: 1em; text-align: center; vertical-align: top\">{'age': 'child',<br>'weight': 'thin', ...</td>\n",
       "    </tr>\n",
       "    <tr>\n",
       "        <td style=\"padding-left: 1em; padding-right: 1em; text-align: center; vertical-align: top\">{'age': 'child',<br>'weight': 'fat', ...</td>\n",
       "    </tr>\n",
       "</table>\n",
       "[5 rows x 1 columns]<br/>\n",
       "</div>"
      ],
      "text/plain": [
       "Columns:\n",
       "\tattributes\tdict\n",
       "\n",
       "Rows: 5\n",
       "\n",
       "Data:\n",
       "+-------------------------------+\n",
       "|           attributes          |\n",
       "+-------------------------------+\n",
       "| {'age': 'senior', 'weight'... |\n",
       "| {'age': 'child', 'weight':... |\n",
       "| {'age': 'adult', 'weight':... |\n",
       "| {'age': 'child', 'weight':... |\n",
       "| {'age': 'child', 'weight':... |\n",
       "+-------------------------------+\n",
       "[5 rows x 1 columns]"
      ]
     },
     "execution_count": 11,
     "metadata": {},
     "output_type": "execute_result"
    }
   ],
   "source": [
    "sf = gl.SFrame({'attributes':\n",
    "                [{'height':'tall', 'age': 'senior', 'weight': 'thin'},\n",
    "                 {'height':'short', 'age': 'child', 'weight': 'thin'},\n",
    "                 {'height':'giant', 'age': 'adult', 'weight': 'fat'},\n",
    "                 {'height':'short', 'age': 'child', 'weight': 'thin'},\n",
    "                 {'height':'tall', 'age': 'child', 'weight': 'fat'}]})\n",
    "sf"
   ]
  },
  {
   "cell_type": "code",
   "execution_count": 12,
   "metadata": {
    "collapsed": false
   },
   "outputs": [
    {
     "data": {
      "text/html": [
       "<div style=\"max-height:1000px;max-width:1500px;overflow:auto;\"><table frame=\"box\" rules=\"cols\">\n",
       "    <tr>\n",
       "        <th style=\"padding-left: 1em; padding-right: 1em; text-align: center\">encoded_features</th>\n",
       "    </tr>\n",
       "    <tr>\n",
       "        <td style=\"padding-left: 1em; padding-right: 1em; text-align: center; vertical-align: top\">{0: 1, 1: 1, 2: 1}</td>\n",
       "    </tr>\n",
       "    <tr>\n",
       "        <td style=\"padding-left: 1em; padding-right: 1em; text-align: center; vertical-align: top\">{2: 1, 3: 1, 4: 1}</td>\n",
       "    </tr>\n",
       "    <tr>\n",
       "        <td style=\"padding-left: 1em; padding-right: 1em; text-align: center; vertical-align: top\">{5: 1, 6: 1, 7: 1}</td>\n",
       "    </tr>\n",
       "    <tr>\n",
       "        <td style=\"padding-left: 1em; padding-right: 1em; text-align: center; vertical-align: top\">{2: 1, 3: 1, 4: 1}</td>\n",
       "    </tr>\n",
       "    <tr>\n",
       "        <td style=\"padding-left: 1em; padding-right: 1em; text-align: center; vertical-align: top\">{0: 1, 3: 1, 6: 1}</td>\n",
       "    </tr>\n",
       "</table>\n",
       "[5 rows x 1 columns]<br/>\n",
       "</div>"
      ],
      "text/plain": [
       "Columns:\n",
       "\tencoded_features\tdict\n",
       "\n",
       "Rows: 5\n",
       "\n",
       "Data:\n",
       "+--------------------+\n",
       "|  encoded_features  |\n",
       "+--------------------+\n",
       "| {0: 1, 1: 1, 2: 1} |\n",
       "| {2: 1, 3: 1, 4: 1} |\n",
       "| {5: 1, 6: 1, 7: 1} |\n",
       "| {2: 1, 3: 1, 4: 1} |\n",
       "| {0: 1, 3: 1, 6: 1} |\n",
       "+--------------------+\n",
       "[5 rows x 1 columns]"
      ]
     },
     "execution_count": 12,
     "metadata": {},
     "output_type": "execute_result"
    }
   ],
   "source": [
    "encoder = gl.feature_engineering.OneHotEncoder()\n",
    "encoder.fit_transform(sf)"
   ]
  },
  {
   "cell_type": "code",
   "execution_count": null,
   "metadata": {
    "collapsed": true
   },
   "outputs": [],
   "source": []
  }
 ],
 "metadata": {
  "kernelspec": {
   "display_name": "Python 2",
   "language": "python",
   "name": "python2"
  },
  "language_info": {
   "codemirror_mode": {
    "name": "ipython",
    "version": 2
   },
   "file_extension": ".py",
   "mimetype": "text/x-python",
   "name": "python",
   "nbconvert_exporter": "python",
   "pygments_lexer": "ipython2",
   "version": "2.7.10"
  }
 },
 "nbformat": 4,
 "nbformat_minor": 0
}
