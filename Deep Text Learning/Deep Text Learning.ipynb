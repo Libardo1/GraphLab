{
 "cells": [
  {
   "cell_type": "markdown",
   "metadata": {},
   "source": [
    "# Deep Text Learning"
   ]
  },
  {
   "cell_type": "markdown",
   "metadata": {},
   "source": [
    "### With Machine Learning techniques in deep learning, classification, and regression, this notebook will demonstrate how to predict a blogger's gender and age with high accuracy based on his or her blog posts"
   ]
  },
  {
   "cell_type": "code",
   "execution_count": 1,
   "metadata": {
    "collapsed": false
   },
   "outputs": [
    {
     "name": "stderr",
     "output_type": "stream",
     "text": [
      "[INFO] This non-commercial license of GraphLab Create is assigned to marvin.bertin@gmail.comand will expire on September 15, 2016. For commercial licensing options, visit https://dato.com/buy/.\n",
      "\n",
      "[INFO] Start server at: ipc:///tmp/graphlab_server-747 - Server binary: /Users/marvinbertin/.graphlab/anaconda/lib/python2.7/site-packages/graphlab/unity_server - Server log: /tmp/graphlab_server_1444494833.log\n",
      "[INFO] GraphLab Server Version: 1.6.1\n"
     ]
    }
   ],
   "source": [
    "import os\n",
    "import graphlab as gl\n",
    "from bs4 import  BeautifulSoup"
   ]
  },
  {
   "cell_type": "markdown",
   "metadata": {},
   "source": [
    "## Preparing Dataset"
   ]
  },
  {
   "cell_type": "code",
   "execution_count": 15,
   "metadata": {
    "collapsed": false
   },
   "outputs": [
    {
     "name": "stderr",
     "output_type": "stream",
     "text": [
      "/Users/marvinbertin/.graphlab/anaconda/lib/python2.7/site-packages/bs4/__init__.py:182: UserWarning: \".\" looks like a filename, not markup. You should probably open this file and pass the filehandle into Beautiful Soup.\n",
      "  '\"%s\" looks like a filename, not markup. You should probably open this file and pass the filehandle into Beautiful Soup.' % markup)\n",
      "/Users/marvinbertin/.graphlab/anaconda/lib/python2.7/site-packages/bs4/__init__.py:189: UserWarning: \"http://www.kingsofchaos.com/recruit.php?uniqid=jm8bja2z\" looks like a URL. Beautiful Soup is not an HTTP client. You should probably use an HTTP client to get the document behind the URL, and feed that document to Beautiful Soup.\n",
      "  '\"%s\" looks like a URL. Beautiful Soup is not an HTTP client. You should probably use an HTTP client to get the document behind the URL, and feed that document to Beautiful Soup.' % markup)\n",
      "/Users/marvinbertin/.graphlab/anaconda/lib/python2.7/site-packages/bs4/__init__.py:189: UserWarning: \"http://www.emode.com/tests/uiq/\" looks like a URL. Beautiful Soup is not an HTTP client. You should probably use an HTTP client to get the document behind the URL, and feed that document to Beautiful Soup.\n",
      "  '\"%s\" looks like a URL. Beautiful Soup is not an HTTP client. You should probably use an HTTP client to get the document behind the URL, and feed that document to Beautiful Soup.' % markup)\n",
      "/Users/marvinbertin/.graphlab/anaconda/lib/python2.7/site-packages/bs4/__init__.py:189: UserWarning: \"http://dear_oprah.blogspot.com/\" looks like a URL. Beautiful Soup is not an HTTP client. You should probably use an HTTP client to get the document behind the URL, and feed that document to Beautiful Soup.\n",
      "  '\"%s\" looks like a URL. Beautiful Soup is not an HTTP client. You should probably use an HTTP client to get the document behind the URL, and feed that document to Beautiful Soup.' % markup)\n",
      "/Users/marvinbertin/.graphlab/anaconda/lib/python2.7/site-packages/bs4/__init__.py:189: UserWarning: \"http://www.blogsforbush.com/mt/mt-tb.cgi/733\" looks like a URL. Beautiful Soup is not an HTTP client. You should probably use an HTTP client to get the document behind the URL, and feed that document to Beautiful Soup.\n",
      "  '\"%s\" looks like a URL. Beautiful Soup is not an HTTP client. You should probably use an HTTP client to get the document behind the URL, and feed that document to Beautiful Soup.' % markup)\n",
      "/Users/marvinbertin/.graphlab/anaconda/lib/python2.7/site-packages/bs4/__init__.py:189: UserWarning: \"http://www.xsorbit4.com/users/salemasylum/index.cgi\" looks like a URL. Beautiful Soup is not an HTTP client. You should probably use an HTTP client to get the document behind the URL, and feed that document to Beautiful Soup.\n",
      "  '\"%s\" looks like a URL. Beautiful Soup is not an HTTP client. You should probably use an HTTP client to get the document behind the URL, and feed that document to Beautiful Soup.' % markup)\n",
      "/Users/marvinbertin/.graphlab/anaconda/lib/python2.7/site-packages/bs4/__init__.py:189: UserWarning: \"http://www.albinoblacksheep.com/text/victories.html\" looks like a URL. Beautiful Soup is not an HTTP client. You should probably use an HTTP client to get the document behind the URL, and feed that document to Beautiful Soup.\n",
      "  '\"%s\" looks like a URL. Beautiful Soup is not an HTTP client. You should probably use an HTTP client to get the document behind the URL, and feed that document to Beautiful Soup.' % markup)\n",
      "/Users/marvinbertin/.graphlab/anaconda/lib/python2.7/site-packages/bs4/__init__.py:189: UserWarning: \"http://www.metroautographs.com/upcomingevents.html\" looks like a URL. Beautiful Soup is not an HTTP client. You should probably use an HTTP client to get the document behind the URL, and feed that document to Beautiful Soup.\n",
      "  '\"%s\" looks like a URL. Beautiful Soup is not an HTTP client. You should probably use an HTTP client to get the document behind the URL, and feed that document to Beautiful Soup.' % markup)\n",
      "/Users/marvinbertin/.graphlab/anaconda/lib/python2.7/site-packages/bs4/__init__.py:189: UserWarning: \"http://www.space.net.au/~thomas/quickbrowse.html\" looks like a URL. Beautiful Soup is not an HTTP client. You should probably use an HTTP client to get the document behind the URL, and feed that document to Beautiful Soup.\n",
      "  '\"%s\" looks like a URL. Beautiful Soup is not an HTTP client. You should probably use an HTTP client to get the document behind the URL, and feed that document to Beautiful Soup.' % markup)\n",
      "/Users/marvinbertin/.graphlab/anaconda/lib/python2.7/site-packages/bs4/__init__.py:189: UserWarning: \"http://musicmaster.homelinux.net/cgi-bin/cgiproxy/nph-proxy.pl\" looks like a URL. Beautiful Soup is not an HTTP client. You should probably use an HTTP client to get the document behind the URL, and feed that document to Beautiful Soup.\n",
      "  '\"%s\" looks like a URL. Beautiful Soup is not an HTTP client. You should probably use an HTTP client to get the document behind the URL, and feed that document to Beautiful Soup.' % markup)\n",
      "/Users/marvinbertin/.graphlab/anaconda/lib/python2.7/site-packages/bs4/__init__.py:189: UserWarning: \"http://www.sjsharks.com/sharks/interactive/play_of_the_game/images/sharks_highlights_042404_3.jpg\" looks like a URL. Beautiful Soup is not an HTTP client. You should probably use an HTTP client to get the document behind the URL, and feed that document to Beautiful Soup.\n",
      "  '\"%s\" looks like a URL. Beautiful Soup is not an HTTP client. You should probably use an HTTP client to get the document behind the URL, and feed that document to Beautiful Soup.' % markup)\n",
      "/Users/marvinbertin/.graphlab/anaconda/lib/python2.7/site-packages/bs4/__init__.py:189: UserWarning: \"http://www.go-gaia.com/index.php?referral=bootlog@hotmail.com\" looks like a URL. Beautiful Soup is not an HTTP client. You should probably use an HTTP client to get the document behind the URL, and feed that document to Beautiful Soup.\n",
      "  '\"%s\" looks like a URL. Beautiful Soup is not an HTTP client. You should probably use an HTTP client to get the document behind the URL, and feed that document to Beautiful Soup.' % markup)\n",
      "/Users/marvinbertin/.graphlab/anaconda/lib/python2.7/site-packages/bs4/__init__.py:189: UserWarning: \"http://www.johnkerry.com/videos/\" looks like a URL. Beautiful Soup is not an HTTP client. You should probably use an HTTP client to get the document behind the URL, and feed that document to Beautiful Soup.\n",
      "  '\"%s\" looks like a URL. Beautiful Soup is not an HTTP client. You should probably use an HTTP client to get the document behind the URL, and feed that document to Beautiful Soup.' % markup)\n",
      "/Users/marvinbertin/.graphlab/anaconda/lib/python2.7/site-packages/bs4/__init__.py:189: UserWarning: \"http://www.playgroundlaw.com/\" looks like a URL. Beautiful Soup is not an HTTP client. You should probably use an HTTP client to get the document behind the URL, and feed that document to Beautiful Soup.\n",
      "  '\"%s\" looks like a URL. Beautiful Soup is not an HTTP client. You should probably use an HTTP client to get the document behind the URL, and feed that document to Beautiful Soup.' % markup)\n",
      "/Users/marvinbertin/.graphlab/anaconda/lib/python2.7/site-packages/bs4/__init__.py:189: UserWarning: \"http://www.yousendit.com/\" looks like a URL. Beautiful Soup is not an HTTP client. You should probably use an HTTP client to get the document behind the URL, and feed that document to Beautiful Soup.\n",
      "  '\"%s\" looks like a URL. Beautiful Soup is not an HTTP client. You should probably use an HTTP client to get the document behind the URL, and feed that document to Beautiful Soup.' % markup)\n",
      "/Users/marvinbertin/.graphlab/anaconda/lib/python2.7/site-packages/bs4/__init__.py:189: UserWarning: \"http://www.ripewickedplum.com/3am.htm\" looks like a URL. Beautiful Soup is not an HTTP client. You should probably use an HTTP client to get the document behind the URL, and feed that document to Beautiful Soup.\n",
      "  '\"%s\" looks like a URL. Beautiful Soup is not an HTTP client. You should probably use an HTTP client to get the document behind the URL, and feed that document to Beautiful Soup.' % markup)\n",
      "/Users/marvinbertin/.graphlab/anaconda/lib/python2.7/site-packages/bs4/__init__.py:189: UserWarning: \"http://www.picturetrail.com/jamesquinn\" looks like a URL. Beautiful Soup is not an HTTP client. You should probably use an HTTP client to get the document behind the URL, and feed that document to Beautiful Soup.\n",
      "  '\"%s\" looks like a URL. Beautiful Soup is not an HTTP client. You should probably use an HTTP client to get the document behind the URL, and feed that document to Beautiful Soup.' % markup)\n",
      "/Users/marvinbertin/.graphlab/anaconda/lib/python2.7/site-packages/bs4/__init__.py:189: UserWarning: \"http://www.hi5.com/i?l=QKTQ83YQ\" looks like a URL. Beautiful Soup is not an HTTP client. You should probably use an HTTP client to get the document behind the URL, and feed that document to Beautiful Soup.\n",
      "  '\"%s\" looks like a URL. Beautiful Soup is not an HTTP client. You should probably use an HTTP client to get the document behind the URL, and feed that document to Beautiful Soup.' % markup)\n",
      "/Users/marvinbertin/.graphlab/anaconda/lib/python2.7/site-packages/bs4/__init__.py:189: UserWarning: \"http://local.msn.com/special/weekends/february.asp\" looks like a URL. Beautiful Soup is not an HTTP client. You should probably use an HTTP client to get the document behind the URL, and feed that document to Beautiful Soup.\n",
      "  '\"%s\" looks like a URL. Beautiful Soup is not an HTTP client. You should probably use an HTTP client to get the document behind the URL, and feed that document to Beautiful Soup.' % markup)\n",
      "/Users/marvinbertin/.graphlab/anaconda/lib/python2.7/site-packages/bs4/__init__.py:189: UserWarning: \"http://www.homestarrunner.com/processing.html\" looks like a URL. Beautiful Soup is not an HTTP client. You should probably use an HTTP client to get the document behind the URL, and feed that document to Beautiful Soup.\n",
      "  '\"%s\" looks like a URL. Beautiful Soup is not an HTTP client. You should probably use an HTTP client to get the document behind the URL, and feed that document to Beautiful Soup.' % markup)\n",
      "/Users/marvinbertin/.graphlab/anaconda/lib/python2.7/site-packages/bs4/__init__.py:189: UserWarning: \"http://www.lacitybeat.com/article.php?id=415&IssueNum=24\" looks like a URL. Beautiful Soup is not an HTTP client. You should probably use an HTTP client to get the document behind the URL, and feed that document to Beautiful Soup.\n",
      "  '\"%s\" looks like a URL. Beautiful Soup is not an HTTP client. You should probably use an HTTP client to get the document behind the URL, and feed that document to Beautiful Soup.' % markup)\n",
      "/Users/marvinbertin/.graphlab/anaconda/lib/python2.7/site-packages/bs4/__init__.py:189: UserWarning: \"http://www.weather.com/weather/local/99506?lswe=99506&lwsa=WeatherLocalUndeclared\" looks like a URL. Beautiful Soup is not an HTTP client. You should probably use an HTTP client to get the document behind the URL, and feed that document to Beautiful Soup.\n",
      "  '\"%s\" looks like a URL. Beautiful Soup is not an HTTP client. You should probably use an HTTP client to get the document behind the URL, and feed that document to Beautiful Soup.' % markup)\n",
      "/Users/marvinbertin/.graphlab/anaconda/lib/python2.7/site-packages/bs4/__init__.py:189: UserWarning: \"http://www.pibmug.com/files/sand_sicaf2003.wmv\" looks like a URL. Beautiful Soup is not an HTTP client. You should probably use an HTTP client to get the document behind the URL, and feed that document to Beautiful Soup.\n",
      "  '\"%s\" looks like a URL. Beautiful Soup is not an HTTP client. You should probably use an HTTP client to get the document behind the URL, and feed that document to Beautiful Soup.' % markup)\n",
      "/Users/marvinbertin/.graphlab/anaconda/lib/python2.7/site-packages/bs4/__init__.py:189: UserWarning: \"http://www.wrc.com/Features.aspx?PO_ID=3245&lang=en_GB\" looks like a URL. Beautiful Soup is not an HTTP client. You should probably use an HTTP client to get the document behind the URL, and feed that document to Beautiful Soup.\n",
      "  '\"%s\" looks like a URL. Beautiful Soup is not an HTTP client. You should probably use an HTTP client to get the document behind the URL, and feed that document to Beautiful Soup.' % markup)\n",
      "/Users/marvinbertin/.graphlab/anaconda/lib/python2.7/site-packages/bs4/__init__.py:189: UserWarning: \"http://slashdot.org/articles/04/07/06/0418230.shtml?tid=137&tid=193&tid=215\" looks like a URL. Beautiful Soup is not an HTTP client. You should probably use an HTTP client to get the document behind the URL, and feed that document to Beautiful Soup.\n",
      "  '\"%s\" looks like a URL. Beautiful Soup is not an HTTP client. You should probably use an HTTP client to get the document behind the URL, and feed that document to Beautiful Soup.' % markup)\n",
      "/Users/marvinbertin/.graphlab/anaconda/lib/python2.7/site-packages/bs4/__init__.py:189: UserWarning: \"http://story.news.yahoo.com/news?tmpl=story&ncid=1756&e=1&u=/040410/483/sto80104101336\" looks like a URL. Beautiful Soup is not an HTTP client. You should probably use an HTTP client to get the document behind the URL, and feed that document to Beautiful Soup.\n",
      "  '\"%s\" looks like a URL. Beautiful Soup is not an HTTP client. You should probably use an HTTP client to get the document behind the URL, and feed that document to Beautiful Soup.' % markup)\n",
      "/Users/marvinbertin/.graphlab/anaconda/lib/python2.7/site-packages/bs4/__init__.py:189: UserWarning: \"http://www.snopes.com/politics/soapbox/stjohns.asp\" looks like a URL. Beautiful Soup is not an HTTP client. You should probably use an HTTP client to get the document behind the URL, and feed that document to Beautiful Soup.\n",
      "  '\"%s\" looks like a URL. Beautiful Soup is not an HTTP client. You should probably use an HTTP client to get the document behind the URL, and feed that document to Beautiful Soup.' % markup)\n",
      "/Users/marvinbertin/.graphlab/anaconda/lib/python2.7/site-packages/bs4/__init__.py:189: UserWarning: \"http://www.badastronomy.com/\" looks like a URL. Beautiful Soup is not an HTTP client. You should probably use an HTTP client to get the document behind the URL, and feed that document to Beautiful Soup.\n",
      "  '\"%s\" looks like a URL. Beautiful Soup is not an HTTP client. You should probably use an HTTP client to get the document behind the URL, and feed that document to Beautiful Soup.' % markup)\n",
      "/Users/marvinbertin/.graphlab/anaconda/lib/python2.7/site-packages/bs4/__init__.py:189: UserWarning: \"http://www.crossville-chronicle.com/Chronicle/Opinion/alan060204.html\" looks like a URL. Beautiful Soup is not an HTTP client. You should probably use an HTTP client to get the document behind the URL, and feed that document to Beautiful Soup.\n",
      "  '\"%s\" looks like a URL. Beautiful Soup is not an HTTP client. You should probably use an HTTP client to get the document behind the URL, and feed that document to Beautiful Soup.' % markup)\n",
      "/Users/marvinbertin/.graphlab/anaconda/lib/python2.7/site-packages/bs4/__init__.py:189: UserWarning: \"http://www.15seconds.com/issue/030422.htm\" looks like a URL. Beautiful Soup is not an HTTP client. You should probably use an HTTP client to get the document behind the URL, and feed that document to Beautiful Soup.\n",
      "  '\"%s\" looks like a URL. Beautiful Soup is not an HTTP client. You should probably use an HTTP client to get the document behind the URL, and feed that document to Beautiful Soup.' % markup)\n",
      "/Users/marvinbertin/.graphlab/anaconda/lib/python2.7/site-packages/bs4/__init__.py:189: UserWarning: \"http://msdn.microsoft.com/library/default.asp?url=/library/en-us/cscon/html/vclrfcomparisonbetweenccsharp.asp\" looks like a URL. Beautiful Soup is not an HTTP client. You should probably use an HTTP client to get the document behind the URL, and feed that document to Beautiful Soup.\n",
      "  '\"%s\" looks like a URL. Beautiful Soup is not an HTTP client. You should probably use an HTTP client to get the document behind the URL, and feed that document to Beautiful Soup.' % markup)\n",
      "/Users/marvinbertin/.graphlab/anaconda/lib/python2.7/site-packages/bs4/__init__.py:189: UserWarning: \"http://www.ebookcn.net/download/downloadaddison.htm\" looks like a URL. Beautiful Soup is not an HTTP client. You should probably use an HTTP client to get the document behind the URL, and feed that document to Beautiful Soup.\n",
      "  '\"%s\" looks like a URL. Beautiful Soup is not an HTTP client. You should probably use an HTTP client to get the document behind the URL, and feed that document to Beautiful Soup.' % markup)\n",
      "/Users/marvinbertin/.graphlab/anaconda/lib/python2.7/site-packages/bs4/__init__.py:189: UserWarning: \"http://members.boardhost.com/Tigress/index.html?1085603553\" looks like a URL. Beautiful Soup is not an HTTP client. You should probably use an HTTP client to get the document behind the URL, and feed that document to Beautiful Soup.\n",
      "  '\"%s\" looks like a URL. Beautiful Soup is not an HTTP client. You should probably use an HTTP client to get the document behind the URL, and feed that document to Beautiful Soup.' % markup)\n",
      "/Users/marvinbertin/.graphlab/anaconda/lib/python2.7/site-packages/bs4/__init__.py:189: UserWarning: \"http://www.ananova.com/news/story/sm_957945.html?menu=news.quirkies.sexlife\" looks like a URL. Beautiful Soup is not an HTTP client. You should probably use an HTTP client to get the document behind the URL, and feed that document to Beautiful Soup.\n",
      "  '\"%s\" looks like a URL. Beautiful Soup is not an HTTP client. You should probably use an HTTP client to get the document behind the URL, and feed that document to Beautiful Soup.' % markup)\n",
      "/Users/marvinbertin/.graphlab/anaconda/lib/python2.7/site-packages/bs4/__init__.py:189: UserWarning: \"http://www.urbandictionary.com/define.php?term=pwned\" looks like a URL. Beautiful Soup is not an HTTP client. You should probably use an HTTP client to get the document behind the URL, and feed that document to Beautiful Soup.\n",
      "  '\"%s\" looks like a URL. Beautiful Soup is not an HTTP client. You should probably use an HTTP client to get the document behind the URL, and feed that document to Beautiful Soup.' % markup)\n",
      "/Users/marvinbertin/.graphlab/anaconda/lib/python2.7/site-packages/bs4/__init__.py:189: UserWarning: \"http://www.onr.navy.mil/focus/ocean/water/salinity1.htm\" looks like a URL. Beautiful Soup is not an HTTP client. You should probably use an HTTP client to get the document behind the URL, and feed that document to Beautiful Soup.\n",
      "  '\"%s\" looks like a URL. Beautiful Soup is not an HTTP client. You should probably use an HTTP client to get the document behind the URL, and feed that document to Beautiful Soup.' % markup)\n",
      "/Users/marvinbertin/.graphlab/anaconda/lib/python2.7/site-packages/bs4/__init__.py:189: UserWarning: \"http://216.10.26.55/\" looks like a URL. Beautiful Soup is not an HTTP client. You should probably use an HTTP client to get the document behind the URL, and feed that document to Beautiful Soup.\n",
      "  '\"%s\" looks like a URL. Beautiful Soup is not an HTTP client. You should probably use an HTTP client to get the document behind the URL, and feed that document to Beautiful Soup.' % markup)\n",
      "/Users/marvinbertin/.graphlab/anaconda/lib/python2.7/site-packages/bs4/__init__.py:189: UserWarning: \"http://labs.google.com/personalized/\" looks like a URL. Beautiful Soup is not an HTTP client. You should probably use an HTTP client to get the document behind the URL, and feed that document to Beautiful Soup.\n",
      "  '\"%s\" looks like a URL. Beautiful Soup is not an HTTP client. You should probably use an HTTP client to get the document behind the URL, and feed that document to Beautiful Soup.' % markup)\n",
      "/Users/marvinbertin/.graphlab/anaconda/lib/python2.7/site-packages/bs4/__init__.py:189: UserWarning: \"http://www.heikos-schlagerland.de/AndyWolff/Andy-Wolff-EinweissesKleid.jpg\" looks like a URL. Beautiful Soup is not an HTTP client. You should probably use an HTTP client to get the document behind the URL, and feed that document to Beautiful Soup.\n",
      "  '\"%s\" looks like a URL. Beautiful Soup is not an HTTP client. You should probably use an HTTP client to get the document behind the URL, and feed that document to Beautiful Soup.' % markup)\n",
      "/Users/marvinbertin/.graphlab/anaconda/lib/python2.7/site-packages/bs4/__init__.py:189: UserWarning: \"http://www.csl.sri.com/users/mwfong/Sidewalk_Flats/\" looks like a URL. Beautiful Soup is not an HTTP client. You should probably use an HTTP client to get the document behind the URL, and feed that document to Beautiful Soup.\n",
      "  '\"%s\" looks like a URL. Beautiful Soup is not an HTTP client. You should probably use an HTTP client to get the document behind the URL, and feed that document to Beautiful Soup.' % markup)\n",
      "/Users/marvinbertin/.graphlab/anaconda/lib/python2.7/site-packages/bs4/__init__.py:189: UserWarning: \"http://www.doesyourappthinkinink.com\" looks like a URL. Beautiful Soup is not an HTTP client. You should probably use an HTTP client to get the document behind the URL, and feed that document to Beautiful Soup.\n",
      "  '\"%s\" looks like a URL. Beautiful Soup is not an HTTP client. You should probably use an HTTP client to get the document behind the URL, and feed that document to Beautiful Soup.' % markup)\n",
      "/Users/marvinbertin/.graphlab/anaconda/lib/python2.7/site-packages/bs4/__init__.py:189: UserWarning: \"http://www.geocities.com/Athens/Acropolis/6537/index.htm\" looks like a URL. Beautiful Soup is not an HTTP client. You should probably use an HTTP client to get the document behind the URL, and feed that document to Beautiful Soup.\n",
      "  '\"%s\" looks like a URL. Beautiful Soup is not an HTTP client. You should probably use an HTTP client to get the document behind the URL, and feed that document to Beautiful Soup.' % markup)\n",
      "/Users/marvinbertin/.graphlab/anaconda/lib/python2.7/site-packages/bs4/__init__.py:189: UserWarning: \"http://www.zompist.com/amercult.html\" looks like a URL. Beautiful Soup is not an HTTP client. You should probably use an HTTP client to get the document behind the URL, and feed that document to Beautiful Soup.\n",
      "  '\"%s\" looks like a URL. Beautiful Soup is not an HTTP client. You should probably use an HTTP client to get the document behind the URL, and feed that document to Beautiful Soup.' % markup)\n",
      "/Users/marvinbertin/.graphlab/anaconda/lib/python2.7/site-packages/bs4/__init__.py:189: UserWarning: \"http://www.zappa.com\" looks like a URL. Beautiful Soup is not an HTTP client. You should probably use an HTTP client to get the document behind the URL, and feed that document to Beautiful Soup.\n",
      "  '\"%s\" looks like a URL. Beautiful Soup is not an HTTP client. You should probably use an HTTP client to get the document behind the URL, and feed that document to Beautiful Soup.' % markup)\n",
      "/Users/marvinbertin/.graphlab/anaconda/lib/python2.7/site-packages/bs4/__init__.py:189: UserWarning: \"http://www.asciitable.com/\" looks like a URL. Beautiful Soup is not an HTTP client. You should probably use an HTTP client to get the document behind the URL, and feed that document to Beautiful Soup.\n",
      "  '\"%s\" looks like a URL. Beautiful Soup is not an HTTP client. You should probably use an HTTP client to get the document behind the URL, and feed that document to Beautiful Soup.' % markup)\n",
      "/Users/marvinbertin/.graphlab/anaconda/lib/python2.7/site-packages/bs4/__init__.py:189: UserWarning: \"http://www.sysinternals.com/\" looks like a URL. Beautiful Soup is not an HTTP client. You should probably use an HTTP client to get the document behind the URL, and feed that document to Beautiful Soup.\n",
      "  '\"%s\" looks like a URL. Beautiful Soup is not an HTTP client. You should probably use an HTTP client to get the document behind the URL, and feed that document to Beautiful Soup.' % markup)\n",
      "/Users/marvinbertin/.graphlab/anaconda/lib/python2.7/site-packages/bs4/__init__.py:189: UserWarning: \"http://regexlib.com/\" looks like a URL. Beautiful Soup is not an HTTP client. You should probably use an HTTP client to get the document behind the URL, and feed that document to Beautiful Soup.\n",
      "  '\"%s\" looks like a URL. Beautiful Soup is not an HTTP client. You should probably use an HTTP client to get the document behind the URL, and feed that document to Beautiful Soup.' % markup)\n",
      "/Users/marvinbertin/.graphlab/anaconda/lib/python2.7/site-packages/bs4/__init__.py:189: UserWarning: \"http://msdn.microsoft.com/library/default.asp?url=/library/en-us/dnaspp/html/aspnet-commondatagridmistakes.asp\" looks like a URL. Beautiful Soup is not an HTTP client. You should probably use an HTTP client to get the document behind the URL, and feed that document to Beautiful Soup.\n",
      "  '\"%s\" looks like a URL. Beautiful Soup is not an HTTP client. You should probably use an HTTP client to get the document behind the URL, and feed that document to Beautiful Soup.' % markup)\n",
      "/Users/marvinbertin/.graphlab/anaconda/lib/python2.7/site-packages/bs4/__init__.py:189: UserWarning: \"http://concentrationofwealth.blogspot.com/\" looks like a URL. Beautiful Soup is not an HTTP client. You should probably use an HTTP client to get the document behind the URL, and feed that document to Beautiful Soup.\n",
      "  '\"%s\" looks like a URL. Beautiful Soup is not an HTTP client. You should probably use an HTTP client to get the document behind the URL, and feed that document to Beautiful Soup.' % markup)\n",
      "/Users/marvinbertin/.graphlab/anaconda/lib/python2.7/site-packages/bs4/__init__.py:189: UserWarning: \"http://www.geocities.com/tizuu/\" looks like a URL. Beautiful Soup is not an HTTP client. You should probably use an HTTP client to get the document behind the URL, and feed that document to Beautiful Soup.\n",
      "  '\"%s\" looks like a URL. Beautiful Soup is not an HTTP client. You should probably use an HTTP client to get the document behind the URL, and feed that document to Beautiful Soup.' % markup)\n",
      "/Users/marvinbertin/.graphlab/anaconda/lib/python2.7/site-packages/bs4/__init__.py:189: UserWarning: \"http://www.ultrashieldofne.com\" looks like a URL. Beautiful Soup is not an HTTP client. You should probably use an HTTP client to get the document behind the URL, and feed that document to Beautiful Soup.\n",
      "  '\"%s\" looks like a URL. Beautiful Soup is not an HTTP client. You should probably use an HTTP client to get the document behind the URL, and feed that document to Beautiful Soup.' % markup)\n",
      "/Users/marvinbertin/.graphlab/anaconda/lib/python2.7/site-packages/bs4/__init__.py:189: UserWarning: \"http://parody.organique.com/contents.html\" looks like a URL. Beautiful Soup is not an HTTP client. You should probably use an HTTP client to get the document behind the URL, and feed that document to Beautiful Soup.\n",
      "  '\"%s\" looks like a URL. Beautiful Soup is not an HTTP client. You should probably use an HTTP client to get the document behind the URL, and feed that document to Beautiful Soup.' % markup)\n",
      "/Users/marvinbertin/.graphlab/anaconda/lib/python2.7/site-packages/bs4/__init__.py:189: UserWarning: \"http://www.axisoflogic.com/artman/publish/article_8675.shtml\" looks like a URL. Beautiful Soup is not an HTTP client. You should probably use an HTTP client to get the document behind the URL, and feed that document to Beautiful Soup.\n",
      "  '\"%s\" looks like a URL. Beautiful Soup is not an HTTP client. You should probably use an HTTP client to get the document behind the URL, and feed that document to Beautiful Soup.' % markup)\n",
      "/Users/marvinbertin/.graphlab/anaconda/lib/python2.7/site-packages/bs4/__init__.py:189: UserWarning: \"http://www.paulzarouii.com/crap/Mastercard.html\" looks like a URL. Beautiful Soup is not an HTTP client. You should probably use an HTTP client to get the document behind the URL, and feed that document to Beautiful Soup.\n",
      "  '\"%s\" looks like a URL. Beautiful Soup is not an HTTP client. You should probably use an HTTP client to get the document behind the URL, and feed that document to Beautiful Soup.' % markup)\n",
      "/Users/marvinbertin/.graphlab/anaconda/lib/python2.7/site-packages/bs4/__init__.py:189: UserWarning: \"http://www.shrek2.com/\" looks like a URL. Beautiful Soup is not an HTTP client. You should probably use an HTTP client to get the document behind the URL, and feed that document to Beautiful Soup.\n",
      "  '\"%s\" looks like a URL. Beautiful Soup is not an HTTP client. You should probably use an HTTP client to get the document behind the URL, and feed that document to Beautiful Soup.' % markup)\n",
      "/Users/marvinbertin/.graphlab/anaconda/lib/python2.7/site-packages/bs4/__init__.py:189: UserWarning: \"http://www.ebaumsworld.com/tontie.html\" looks like a URL. Beautiful Soup is not an HTTP client. You should probably use an HTTP client to get the document behind the URL, and feed that document to Beautiful Soup.\n",
      "  '\"%s\" looks like a URL. Beautiful Soup is not an HTTP client. You should probably use an HTTP client to get the document behind the URL, and feed that document to Beautiful Soup.' % markup)\n",
      "/Users/marvinbertin/.graphlab/anaconda/lib/python2.7/site-packages/bs4/__init__.py:189: UserWarning: \"http://www.liquidgeneration.com/quiz/images/jeangrey.jpg\" looks like a URL. Beautiful Soup is not an HTTP client. You should probably use an HTTP client to get the document behind the URL, and feed that document to Beautiful Soup.\n",
      "  '\"%s\" looks like a URL. Beautiful Soup is not an HTTP client. You should probably use an HTTP client to get the document behind the URL, and feed that document to Beautiful Soup.' % markup)\n",
      "/Users/marvinbertin/.graphlab/anaconda/lib/python2.7/site-packages/bs4/__init__.py:182: UserWarning: \"..\" looks like a filename, not markup. You should probably open this file and pass the filehandle into Beautiful Soup.\n",
      "  '\"%s\" looks like a filename, not markup. You should probably open this file and pass the filehandle into Beautiful Soup.' % markup)\n",
      "/Users/marvinbertin/.graphlab/anaconda/lib/python2.7/site-packages/bs4/__init__.py:189: UserWarning: \"http://homokaasu.org/rasterbator/\" looks like a URL. Beautiful Soup is not an HTTP client. You should probably use an HTTP client to get the document behind the URL, and feed that document to Beautiful Soup.\n",
      "  '\"%s\" looks like a URL. Beautiful Soup is not an HTTP client. You should probably use an HTTP client to get the document behind the URL, and feed that document to Beautiful Soup.' % markup)\n",
      "/Users/marvinbertin/.graphlab/anaconda/lib/python2.7/site-packages/bs4/__init__.py:189: UserWarning: \"http://www.epa.gov/OGWDW/\" looks like a URL. Beautiful Soup is not an HTTP client. You should probably use an HTTP client to get the document behind the URL, and feed that document to Beautiful Soup.\n",
      "  '\"%s\" looks like a URL. Beautiful Soup is not an HTTP client. You should probably use an HTTP client to get the document behind the URL, and feed that document to Beautiful Soup.' % markup)\n",
      "/Users/marvinbertin/.graphlab/anaconda/lib/python2.7/site-packages/bs4/__init__.py:189: UserWarning: \"http://frog102.system-7.net\" looks like a URL. Beautiful Soup is not an HTTP client. You should probably use an HTTP client to get the document behind the URL, and feed that document to Beautiful Soup.\n",
      "  '\"%s\" looks like a URL. Beautiful Soup is not an HTTP client. You should probably use an HTTP client to get the document behind the URL, and feed that document to Beautiful Soup.' % markup)\n",
      "/Users/marvinbertin/.graphlab/anaconda/lib/python2.7/site-packages/bs4/__init__.py:189: UserWarning: \"http://share.shutterfly.com/osi.jsp?i=EeCOHDhq5aNXBw\" looks like a URL. Beautiful Soup is not an HTTP client. You should probably use an HTTP client to get the document behind the URL, and feed that document to Beautiful Soup.\n",
      "  '\"%s\" looks like a URL. Beautiful Soup is not an HTTP client. You should probably use an HTTP client to get the document behind the URL, and feed that document to Beautiful Soup.' % markup)\n",
      "/Users/marvinbertin/.graphlab/anaconda/lib/python2.7/site-packages/bs4/__init__.py:189: UserWarning: \"http://msdn.microsoft.com/msdnmag/issues/04/08/GridView/default.aspx\" looks like a URL. Beautiful Soup is not an HTTP client. You should probably use an HTTP client to get the document behind the URL, and feed that document to Beautiful Soup.\n",
      "  '\"%s\" looks like a URL. Beautiful Soup is not an HTTP client. You should probably use an HTTP client to get the document behind the URL, and feed that document to Beautiful Soup.' % markup)\n",
      "/Users/marvinbertin/.graphlab/anaconda/lib/python2.7/site-packages/bs4/__init__.py:189: UserWarning: \"http://profile.myspace.com/users/5523745\" looks like a URL. Beautiful Soup is not an HTTP client. You should probably use an HTTP client to get the document behind the URL, and feed that document to Beautiful Soup.\n",
      "  '\"%s\" looks like a URL. Beautiful Soup is not an HTTP client. You should probably use an HTTP client to get the document behind the URL, and feed that document to Beautiful Soup.' % markup)\n",
      "/Users/marvinbertin/.graphlab/anaconda/lib/python2.7/site-packages/bs4/__init__.py:189: UserWarning: \"http://hk.geocities.com/alan_cyf/sky9/doc-cn.html\" looks like a URL. Beautiful Soup is not an HTTP client. You should probably use an HTTP client to get the document behind the URL, and feed that document to Beautiful Soup.\n",
      "  '\"%s\" looks like a URL. Beautiful Soup is not an HTTP client. You should probably use an HTTP client to get the document behind the URL, and feed that document to Beautiful Soup.' % markup)\n",
      "/Users/marvinbertin/.graphlab/anaconda/lib/python2.7/site-packages/bs4/__init__.py:189: UserWarning: \"http://www.myplay.com.tw/users/e7/ec/rackyrose/dv/9144/9144.wmv\" looks like a URL. Beautiful Soup is not an HTTP client. You should probably use an HTTP client to get the document behind the URL, and feed that document to Beautiful Soup.\n",
      "  '\"%s\" looks like a URL. Beautiful Soup is not an HTTP client. You should probably use an HTTP client to get the document behind the URL, and feed that document to Beautiful Soup.' % markup)\n",
      "/Users/marvinbertin/.graphlab/anaconda/lib/python2.7/site-packages/bs4/__init__.py:189: UserWarning: \"http://wtv.joyie.com/pepsi/Pepsi_Thematic%20TVC%2060sec%20Part%201.wmv\" looks like a URL. Beautiful Soup is not an HTTP client. You should probably use an HTTP client to get the document behind the URL, and feed that document to Beautiful Soup.\n",
      "  '\"%s\" looks like a URL. Beautiful Soup is not an HTTP client. You should probably use an HTTP client to get the document behind the URL, and feed that document to Beautiful Soup.' % markup)\n",
      "/Users/marvinbertin/.graphlab/anaconda/lib/python2.7/site-packages/bs4/__init__.py:189: UserWarning: \"http://atomfilms.shockwave.com/af/content/animusic_pipe_dream\" looks like a URL. Beautiful Soup is not an HTTP client. You should probably use an HTTP client to get the document behind the URL, and feed that document to Beautiful Soup.\n",
      "  '\"%s\" looks like a URL. Beautiful Soup is not an HTTP client. You should probably use an HTTP client to get the document behind the URL, and feed that document to Beautiful Soup.' % markup)\n",
      "/Users/marvinbertin/.graphlab/anaconda/lib/python2.7/site-packages/bs4/__init__.py:189: UserWarning: \"http://home.graffiti.net/kevinkoosk/pix/new.html\" looks like a URL. Beautiful Soup is not an HTTP client. You should probably use an HTTP client to get the document behind the URL, and feed that document to Beautiful Soup.\n",
      "  '\"%s\" looks like a URL. Beautiful Soup is not an HTTP client. You should probably use an HTTP client to get the document behind the URL, and feed that document to Beautiful Soup.' % markup)\n",
      "/Users/marvinbertin/.graphlab/anaconda/lib/python2.7/site-packages/bs4/__init__.py:189: UserWarning: \"http://marylou.byu.edu\" looks like a URL. Beautiful Soup is not an HTTP client. You should probably use an HTTP client to get the document behind the URL, and feed that document to Beautiful Soup.\n",
      "  '\"%s\" looks like a URL. Beautiful Soup is not an HTTP client. You should probably use an HTTP client to get the document behind the URL, and feed that document to Beautiful Soup.' % markup)\n",
      "/Users/marvinbertin/.graphlab/anaconda/lib/python2.7/site-packages/bs4/__init__.py:189: UserWarning: \"http://www.wagenschenke.ch/\" looks like a URL. Beautiful Soup is not an HTTP client. You should probably use an HTTP client to get the document behind the URL, and feed that document to Beautiful Soup.\n",
      "  '\"%s\" looks like a URL. Beautiful Soup is not an HTTP client. You should probably use an HTTP client to get the document behind the URL, and feed that document to Beautiful Soup.' % markup)\n",
      "/Users/marvinbertin/.graphlab/anaconda/lib/python2.7/site-packages/bs4/__init__.py:189: UserWarning: \"http://www.realultimatepower.net/\" looks like a URL. Beautiful Soup is not an HTTP client. You should probably use an HTTP client to get the document behind the URL, and feed that document to Beautiful Soup.\n",
      "  '\"%s\" looks like a URL. Beautiful Soup is not an HTTP client. You should probably use an HTTP client to get the document behind the URL, and feed that document to Beautiful Soup.' % markup)\n",
      "/Users/marvinbertin/.graphlab/anaconda/lib/python2.7/site-packages/bs4/__init__.py:189: UserWarning: \"http://www.gamesindustry.biz/content_page.php?section_name=pub&aid=3918\" looks like a URL. Beautiful Soup is not an HTTP client. You should probably use an HTTP client to get the document behind the URL, and feed that document to Beautiful Soup.\n",
      "  '\"%s\" looks like a URL. Beautiful Soup is not an HTTP client. You should probably use an HTTP client to get the document behind the URL, and feed that document to Beautiful Soup.' % markup)\n",
      "/Users/marvinbertin/.graphlab/anaconda/lib/python2.7/site-packages/bs4/__init__.py:189: UserWarning: \"http://www.theonion.com/news/index.php?issue=4032&n=1\" looks like a URL. Beautiful Soup is not an HTTP client. You should probably use an HTTP client to get the document behind the URL, and feed that document to Beautiful Soup.\n",
      "  '\"%s\" looks like a URL. Beautiful Soup is not an HTTP client. You should probably use an HTTP client to get the document behind the URL, and feed that document to Beautiful Soup.' % markup)\n",
      "/Users/marvinbertin/.graphlab/anaconda/lib/python2.7/site-packages/bs4/__init__.py:189: UserWarning: \"http://badgas.co.uk/lynndie/\" looks like a URL. Beautiful Soup is not an HTTP client. You should probably use an HTTP client to get the document behind the URL, and feed that document to Beautiful Soup.\n",
      "  '\"%s\" looks like a URL. Beautiful Soup is not an HTTP client. You should probably use an HTTP client to get the document behind the URL, and feed that document to Beautiful Soup.' % markup)\n",
      "/Users/marvinbertin/.graphlab/anaconda/lib/python2.7/site-packages/bs4/__init__.py:189: UserWarning: \"http://developer.netscape.com/docs/manuals/security/sslin/contents.htm\" looks like a URL. Beautiful Soup is not an HTTP client. You should probably use an HTTP client to get the document behind the URL, and feed that document to Beautiful Soup.\n",
      "  '\"%s\" looks like a URL. Beautiful Soup is not an HTTP client. You should probably use an HTTP client to get the document behind the URL, and feed that document to Beautiful Soup.' % markup)\n",
      "/Users/marvinbertin/.graphlab/anaconda/lib/python2.7/site-packages/bs4/__init__.py:189: UserWarning: \"http://www.blunttruthgame.com/takesurvey.cfm?uid=9090801\" looks like a URL. Beautiful Soup is not an HTTP client. You should probably use an HTTP client to get the document behind the URL, and feed that document to Beautiful Soup.\n",
      "  '\"%s\" looks like a URL. Beautiful Soup is not an HTTP client. You should probably use an HTTP client to get the document behind the URL, and feed that document to Beautiful Soup.' % markup)\n",
      "/Users/marvinbertin/.graphlab/anaconda/lib/python2.7/site-packages/bs4/__init__.py:189: UserWarning: \"http://www.illwillpress.com/fatkins.html\" looks like a URL. Beautiful Soup is not an HTTP client. You should probably use an HTTP client to get the document behind the URL, and feed that document to Beautiful Soup.\n",
      "  '\"%s\" looks like a URL. Beautiful Soup is not an HTTP client. You should probably use an HTTP client to get the document behind the URL, and feed that document to Beautiful Soup.' % markup)\n",
      "/Users/marvinbertin/.graphlab/anaconda/lib/python2.7/site-packages/bs4/__init__.py:189: UserWarning: \"http://www.fhcrc.org/visitor/research/info/cervical.html\" looks like a URL. Beautiful Soup is not an HTTP client. You should probably use an HTTP client to get the document behind the URL, and feed that document to Beautiful Soup.\n",
      "  '\"%s\" looks like a URL. Beautiful Soup is not an HTTP client. You should probably use an HTTP client to get the document behind the URL, and feed that document to Beautiful Soup.' % markup)\n",
      "/Users/marvinbertin/.graphlab/anaconda/lib/python2.7/site-packages/bs4/__init__.py:189: UserWarning: \"http://curezone.com/foods/laetrile.html\" looks like a URL. Beautiful Soup is not an HTTP client. You should probably use an HTTP client to get the document behind the URL, and feed that document to Beautiful Soup.\n",
      "  '\"%s\" looks like a URL. Beautiful Soup is not an HTTP client. You should probably use an HTTP client to get the document behind the URL, and feed that document to Beautiful Soup.' % markup)\n",
      "/Users/marvinbertin/.graphlab/anaconda/lib/python2.7/site-packages/bs4/__init__.py:189: UserWarning: \"http://www.gop.com/kerryoke/\" looks like a URL. Beautiful Soup is not an HTTP client. You should probably use an HTTP client to get the document behind the URL, and feed that document to Beautiful Soup.\n",
      "  '\"%s\" looks like a URL. Beautiful Soup is not an HTTP client. You should probably use an HTTP client to get the document behind the URL, and feed that document to Beautiful Soup.' % markup)\n",
      "/Users/marvinbertin/.graphlab/anaconda/lib/python2.7/site-packages/bs4/__init__.py:189: UserWarning: \"http://www.lds.org/newsroom/showrelease/0,15503,3881-1-19733,00.html\" looks like a URL. Beautiful Soup is not an HTTP client. You should probably use an HTTP client to get the document behind the URL, and feed that document to Beautiful Soup.\n",
      "  '\"%s\" looks like a URL. Beautiful Soup is not an HTTP client. You should probably use an HTTP client to get the document behind the URL, and feed that document to Beautiful Soup.' % markup)\n",
      "/Users/marvinbertin/.graphlab/anaconda/lib/python2.7/site-packages/bs4/__init__.py:189: UserWarning: \"http://www.lxlxllx.blogspot.com/\" looks like a URL. Beautiful Soup is not an HTTP client. You should probably use an HTTP client to get the document behind the URL, and feed that document to Beautiful Soup.\n",
      "  '\"%s\" looks like a URL. Beautiful Soup is not an HTTP client. You should probably use an HTTP client to get the document behind the URL, and feed that document to Beautiful Soup.' % markup)\n",
      "/Users/marvinbertin/.graphlab/anaconda/lib/python2.7/site-packages/bs4/__init__.py:189: UserWarning: \"http://thebasementband.proboards34.com/index.cgi\" looks like a URL. Beautiful Soup is not an HTTP client. You should probably use an HTTP client to get the document behind the URL, and feed that document to Beautiful Soup.\n",
      "  '\"%s\" looks like a URL. Beautiful Soup is not an HTTP client. You should probably use an HTTP client to get the document behind the URL, and feed that document to Beautiful Soup.' % markup)\n",
      "/Users/marvinbertin/.graphlab/anaconda/lib/python2.7/site-packages/bs4/__init__.py:189: UserWarning: \"http://www.theonion.com/news/index.php?issue=4026&n=2\" looks like a URL. Beautiful Soup is not an HTTP client. You should probably use an HTTP client to get the document behind the URL, and feed that document to Beautiful Soup.\n",
      "  '\"%s\" looks like a URL. Beautiful Soup is not an HTTP client. You should probably use an HTTP client to get the document behind the URL, and feed that document to Beautiful Soup.' % markup)\n",
      "/Users/marvinbertin/.graphlab/anaconda/lib/python2.7/site-packages/bs4/__init__.py:189: UserWarning: \"http://www.hi5.com/i?l=P364ARH3\" looks like a URL. Beautiful Soup is not an HTTP client. You should probably use an HTTP client to get the document behind the URL, and feed that document to Beautiful Soup.\n",
      "  '\"%s\" looks like a URL. Beautiful Soup is not an HTTP client. You should probably use an HTTP client to get the document behind the URL, and feed that document to Beautiful Soup.' % markup)\n",
      "/Users/marvinbertin/.graphlab/anaconda/lib/python2.7/site-packages/bs4/__init__.py:189: UserWarning: \"http://richardz.wang9476.fotopic.net/c228331.html\" looks like a URL. Beautiful Soup is not an HTTP client. You should probably use an HTTP client to get the document behind the URL, and feed that document to Beautiful Soup.\n",
      "  '\"%s\" looks like a URL. Beautiful Soup is not an HTTP client. You should probably use an HTTP client to get the document behind the URL, and feed that document to Beautiful Soup.' % markup)\n",
      "/Users/marvinbertin/.graphlab/anaconda/lib/python2.7/site-packages/bs4/__init__.py:189: UserWarning: \"http://connect.tickle.com/test.html?id=BAgVbBEqIqt_QavZ&\" looks like a URL. Beautiful Soup is not an HTTP client. You should probably use an HTTP client to get the document behind the URL, and feed that document to Beautiful Soup.\n",
      "  '\"%s\" looks like a URL. Beautiful Soup is not an HTTP client. You should probably use an HTTP client to get the document behind the URL, and feed that document to Beautiful Soup.' % markup)\n",
      "/Users/marvinbertin/.graphlab/anaconda/lib/python2.7/site-packages/bs4/__init__.py:189: UserWarning: \"http://www.getsomesoft.com/Utilities/Security/13540-SafeBit.html\" looks like a URL. Beautiful Soup is not an HTTP client. You should probably use an HTTP client to get the document behind the URL, and feed that document to Beautiful Soup.\n",
      "  '\"%s\" looks like a URL. Beautiful Soup is not an HTTP client. You should probably use an HTTP client to get the document behind the URL, and feed that document to Beautiful Soup.' % markup)\n",
      "/Users/marvinbertin/.graphlab/anaconda/lib/python2.7/site-packages/bs4/__init__.py:189: UserWarning: \"http://www.gillettevenus.com/win/?src=12&id=2033419\" looks like a URL. Beautiful Soup is not an HTTP client. You should probably use an HTTP client to get the document behind the URL, and feed that document to Beautiful Soup.\n",
      "  '\"%s\" looks like a URL. Beautiful Soup is not an HTTP client. You should probably use an HTTP client to get the document behind the URL, and feed that document to Beautiful Soup.' % markup)\n",
      "/Users/marvinbertin/.graphlab/anaconda/lib/python2.7/site-packages/bs4/__init__.py:189: UserWarning: \"http://www.livejournal.com/users/emu_lee/\" looks like a URL. Beautiful Soup is not an HTTP client. You should probably use an HTTP client to get the document behind the URL, and feed that document to Beautiful Soup.\n",
      "  '\"%s\" looks like a URL. Beautiful Soup is not an HTTP client. You should probably use an HTTP client to get the document behind the URL, and feed that document to Beautiful Soup.' % markup)\n",
      "/Users/marvinbertin/.graphlab/anaconda/lib/python2.7/site-packages/bs4/__init__.py:189: UserWarning: \"http://www.ebaumsworld.com/divine.html\" looks like a URL. Beautiful Soup is not an HTTP client. You should probably use an HTTP client to get the document behind the URL, and feed that document to Beautiful Soup.\n",
      "  '\"%s\" looks like a URL. Beautiful Soup is not an HTTP client. You should probably use an HTTP client to get the document behind the URL, and feed that document to Beautiful Soup.' % markup)\n",
      "/Users/marvinbertin/.graphlab/anaconda/lib/python2.7/site-packages/bs4/__init__.py:189: UserWarning: \"http://www.PhiladelphiaFreedom.blogspot.com\" looks like a URL. Beautiful Soup is not an HTTP client. You should probably use an HTTP client to get the document behind the URL, and feed that document to Beautiful Soup.\n",
      "  '\"%s\" looks like a URL. Beautiful Soup is not an HTTP client. You should probably use an HTTP client to get the document behind the URL, and feed that document to Beautiful Soup.' % markup)\n",
      "/Users/marvinbertin/.graphlab/anaconda/lib/python2.7/site-packages/bs4/__init__.py:189: UserWarning: \"http://www.msnbc.msn.com/id/5469808/?GT1=4244\" looks like a URL. Beautiful Soup is not an HTTP client. You should probably use an HTTP client to get the document behind the URL, and feed that document to Beautiful Soup.\n",
      "  '\"%s\" looks like a URL. Beautiful Soup is not an HTTP client. You should probably use an HTTP client to get the document behind the URL, and feed that document to Beautiful Soup.' % markup)\n",
      "/Users/marvinbertin/.graphlab/anaconda/lib/python2.7/site-packages/bs4/__init__.py:189: UserWarning: \"http://myweb.hinet.net/home9/night7318/kusoscom/kusos.com.642.bk.wmv\" looks like a URL. Beautiful Soup is not an HTTP client. You should probably use an HTTP client to get the document behind the URL, and feed that document to Beautiful Soup.\n",
      "  '\"%s\" looks like a URL. Beautiful Soup is not an HTTP client. You should probably use an HTTP client to get the document behind the URL, and feed that document to Beautiful Soup.' % markup)\n",
      "/Users/marvinbertin/.graphlab/anaconda/lib/python2.7/site-packages/bs4/__init__.py:189: UserWarning: \"http://www.bravenet.com/webtools/\" looks like a URL. Beautiful Soup is not an HTTP client. You should probably use an HTTP client to get the document behind the URL, and feed that document to Beautiful Soup.\n",
      "  '\"%s\" looks like a URL. Beautiful Soup is not an HTTP client. You should probably use an HTTP client to get the document behind the URL, and feed that document to Beautiful Soup.' % markup)\n",
      "/Users/marvinbertin/.graphlab/anaconda/lib/python2.7/site-packages/bs4/__init__.py:189: UserWarning: \"http://ed2k.2x4u.de/index.html\" looks like a URL. Beautiful Soup is not an HTTP client. You should probably use an HTTP client to get the document behind the URL, and feed that document to Beautiful Soup.\n",
      "  '\"%s\" looks like a URL. Beautiful Soup is not an HTTP client. You should probably use an HTTP client to get the document behind the URL, and feed that document to Beautiful Soup.' % markup)\n",
      "/Users/marvinbertin/.graphlab/anaconda/lib/python2.7/site-packages/bs4/__init__.py:189: UserWarning: \"http://sohkwped513.blogspot.com/\" looks like a URL. Beautiful Soup is not an HTTP client. You should probably use an HTTP client to get the document behind the URL, and feed that document to Beautiful Soup.\n",
      "  '\"%s\" looks like a URL. Beautiful Soup is not an HTTP client. You should probably use an HTTP client to get the document behind the URL, and feed that document to Beautiful Soup.' % markup)\n",
      "/Users/marvinbertin/.graphlab/anaconda/lib/python2.7/site-packages/bs4/__init__.py:189: UserWarning: \"http://www.strindbergandhelium.com/\" looks like a URL. Beautiful Soup is not an HTTP client. You should probably use an HTTP client to get the document behind the URL, and feed that document to Beautiful Soup.\n",
      "  '\"%s\" looks like a URL. Beautiful Soup is not an HTTP client. You should probably use an HTTP client to get the document behind the URL, and feed that document to Beautiful Soup.' % markup)\n",
      "/Users/marvinbertin/.graphlab/anaconda/lib/python2.7/site-packages/bs4/__init__.py:189: UserWarning: \"http://www.ritsumei.ac.jp/~akitaoka/rotsnake.gif\" looks like a URL. Beautiful Soup is not an HTTP client. You should probably use an HTTP client to get the document behind the URL, and feed that document to Beautiful Soup.\n",
      "  '\"%s\" looks like a URL. Beautiful Soup is not an HTTP client. You should probably use an HTTP client to get the document behind the URL, and feed that document to Beautiful Soup.' % markup)\n",
      "/Users/marvinbertin/.graphlab/anaconda/lib/python2.7/site-packages/bs4/__init__.py:189: UserWarning: \"http://home.planet.nl/~medja000/Valeria_Birthday_Party/\" looks like a URL. Beautiful Soup is not an HTTP client. You should probably use an HTTP client to get the document behind the URL, and feed that document to Beautiful Soup.\n",
      "  '\"%s\" looks like a URL. Beautiful Soup is not an HTTP client. You should probably use an HTTP client to get the document behind the URL, and feed that document to Beautiful Soup.' % markup)\n",
      "/Users/marvinbertin/.graphlab/anaconda/lib/python2.7/site-packages/bs4/__init__.py:189: UserWarning: \"http://www.grafik-welt.de/images/Gast015/TheDestinyOfIndividual.jpg\" looks like a URL. Beautiful Soup is not an HTTP client. You should probably use an HTTP client to get the document behind the URL, and feed that document to Beautiful Soup.\n",
      "  '\"%s\" looks like a URL. Beautiful Soup is not an HTTP client. You should probably use an HTTP client to get the document behind the URL, and feed that document to Beautiful Soup.' % markup)\n",
      "/Users/marvinbertin/.graphlab/anaconda/lib/python2.7/site-packages/bs4/__init__.py:189: UserWarning: \"http://www.freedomofinfo.org/\" looks like a URL. Beautiful Soup is not an HTTP client. You should probably use an HTTP client to get the document behind the URL, and feed that document to Beautiful Soup.\n",
      "  '\"%s\" looks like a URL. Beautiful Soup is not an HTTP client. You should probably use an HTTP client to get the document behind the URL, and feed that document to Beautiful Soup.' % markup)\n",
      "/Users/marvinbertin/.graphlab/anaconda/lib/python2.7/site-packages/bs4/__init__.py:189: UserWarning: \"http://home.fuse.net/ufo/\" looks like a URL. Beautiful Soup is not an HTTP client. You should probably use an HTTP client to get the document behind the URL, and feed that document to Beautiful Soup.\n",
      "  '\"%s\" looks like a URL. Beautiful Soup is not an HTTP client. You should probably use an HTTP client to get the document behind the URL, and feed that document to Beautiful Soup.' % markup)\n",
      "/Users/marvinbertin/.graphlab/anaconda/lib/python2.7/site-packages/bs4/__init__.py:189: UserWarning: \"http://www.simplyvintage.com/\" looks like a URL. Beautiful Soup is not an HTTP client. You should probably use an HTTP client to get the document behind the URL, and feed that document to Beautiful Soup.\n",
      "  '\"%s\" looks like a URL. Beautiful Soup is not an HTTP client. You should probably use an HTTP client to get the document behind the URL, and feed that document to Beautiful Soup.' % markup)\n",
      "/Users/marvinbertin/.graphlab/anaconda/lib/python2.7/site-packages/bs4/__init__.py:189: UserWarning: \"http://cgi.ebay.com/ebaymotors/ws/eBayISAPI.dll?ViewItem&item=2460384517&category=39416#ebayphotohosting\" looks like a URL. Beautiful Soup is not an HTTP client. You should probably use an HTTP client to get the document behind the URL, and feed that document to Beautiful Soup.\n",
      "  '\"%s\" looks like a URL. Beautiful Soup is not an HTTP client. You should probably use an HTTP client to get the document behind the URL, and feed that document to Beautiful Soup.' % markup)\n",
      "/Users/marvinbertin/.graphlab/anaconda/lib/python2.7/site-packages/bs4/__init__.py:189: UserWarning: \"http://blackviper.com\" looks like a URL. Beautiful Soup is not an HTTP client. You should probably use an HTTP client to get the document behind the URL, and feed that document to Beautiful Soup.\n",
      "  '\"%s\" looks like a URL. Beautiful Soup is not an HTTP client. You should probably use an HTTP client to get the document behind the URL, and feed that document to Beautiful Soup.' % markup)\n",
      "/Users/marvinbertin/.graphlab/anaconda/lib/python2.7/site-packages/bs4/__init__.py:189: UserWarning: \"http://www.firstusa.com/cgi-bin/webcgi/webserve.cgi?partner_dir_name=starbucks_ch01&page=cont&mkid=6AVW\" looks like a URL. Beautiful Soup is not an HTTP client. You should probably use an HTTP client to get the document behind the URL, and feed that document to Beautiful Soup.\n",
      "  '\"%s\" looks like a URL. Beautiful Soup is not an HTTP client. You should probably use an HTTP client to get the document behind the URL, and feed that document to Beautiful Soup.' % markup)\n",
      "/Users/marvinbertin/.graphlab/anaconda/lib/python2.7/site-packages/bs4/__init__.py:189: UserWarning: \"http://www.nitrousoxidechargers.com/\" looks like a URL. Beautiful Soup is not an HTTP client. You should probably use an HTTP client to get the document behind the URL, and feed that document to Beautiful Soup.\n",
      "  '\"%s\" looks like a URL. Beautiful Soup is not an HTTP client. You should probably use an HTTP client to get the document behind the URL, and feed that document to Beautiful Soup.' % markup)\n",
      "/Users/marvinbertin/.graphlab/anaconda/lib/python2.7/site-packages/bs4/__init__.py:189: UserWarning: \"http://www.thisislondon.co.uk/news/articles/11493605?source=Evening%20Standard\" looks like a URL. Beautiful Soup is not an HTTP client. You should probably use an HTTP client to get the document behind the URL, and feed that document to Beautiful Soup.\n",
      "  '\"%s\" looks like a URL. Beautiful Soup is not an HTTP client. You should probably use an HTTP client to get the document behind the URL, and feed that document to Beautiful Soup.' % markup)\n"
     ]
    },
    {
     "name": "stdout",
     "output_type": "stream",
     "text": [
      "Successfully parsed 19320 blogs\n"
     ]
    },
    {
     "name": "stderr",
     "output_type": "stream",
     "text": [
      "/Users/marvinbertin/.graphlab/anaconda/lib/python2.7/site-packages/bs4/__init__.py:189: UserWarning: \"http://quizilla.com/users/Saturnia/quizzes/What%20Kind%20of%20Virgin%20Are%20You%3F\" looks like a URL. Beautiful Soup is not an HTTP client. You should probably use an HTTP client to get the document behind the URL, and feed that document to Beautiful Soup.\n",
      "  '\"%s\" looks like a URL. Beautiful Soup is not an HTTP client. You should probably use an HTTP client to get the document behind the URL, and feed that document to Beautiful Soup.' % markup)\n"
     ]
    }
   ],
   "source": [
    "BASE_DIR = \"/Users/marvinbertin/graphlab_data\" # NOTE: Update BASE_DIR to your own directory path\n",
    "class BlogData2SFrameParser(object):\n",
    "    #Some constants\n",
    "    ID = \"id\"\n",
    "    GENDER = \"gender\"\n",
    "    AGE = \"age\"\n",
    "    SIGN = \"sign\"\n",
    "    POSTS = \"posts\"\n",
    "    DATES = \"dates\"\n",
    "    INDUSTRY = \"industry\"\n",
    "\n",
    "    def __init__(self, xml_files_dir, sframe_outpath):\n",
    "        \"\"\"\n",
    "        Parse all the blog posts XML files in the xml_files_dir and insert them into an SFrame object,\n",
    "        which is later saved to `sframe_outpath`\n",
    "        :param xml_files_dir: the directory which contains XML files of the The Blog Authorship Corpus\n",
    "        :param sframe_outpath: the out path to save the SFrame.\n",
    "        \"\"\"\n",
    "        self._bloggers_data = []\n",
    "\n",
    "\n",
    "        for p in os.listdir(xml_files_dir):\n",
    "            if p.endswith(\".xml\"):\n",
    "                #We parse each XML file and convert it to a dict\n",
    "                self._bloggers_data.append(self.parse_blog_xml_to_dict(\"%s%s%s\" % (xml_files_dir, os.path.sep, p)))\n",
    "        print \"Successfully parsed %s blogs\" % len(self._bloggers_data)\n",
    "\n",
    "        # self._bloggers_data is a list of dict which we can easily load to a SFrame object. However, the dict object\n",
    "        # are loaded into a single column named X1. To create separate column for each dict key we use the unpack function.        \n",
    "        self._sf = gl.SFrame(self._bloggers_data).unpack('X1')\n",
    "\n",
    "        #Now we can use the rename function in order to remove the X1. prefix from the column names and save the SFrame for later use\n",
    "        self._sf.rename({c:c.replace(\"X1.\", \"\") for c in self._sf.column_names()} )        \n",
    "        self._sf.save(sframe_outpath)\n",
    "\n",
    "\n",
    "    def parse_blog_xml_to_dict(self, path):\n",
    "        \"\"\"\n",
    "        Parse the blog post in the input XML file and return dict with the  blogger's personal information and posts\n",
    "        :param path: the path of the xml file\n",
    "        :return: dict with the blogger's personal details and posts\n",
    "        :rtype: dict\n",
    "        \"\"\"\n",
    "        blogger_dict = {}\n",
    "        #Extract the blogger personal details from the file name\n",
    "        blog_id,gender,age,industry, sign = path.split(os.path.sep)[-1].split(\".xml\")[0].split(\".\")\n",
    "        blogger_dict[self.ID] = blog_id\n",
    "        blogger_dict[self.GENDER] = gender\n",
    "        blogger_dict[self.AGE] = int(age)\n",
    "        blogger_dict[self.INDUSTRY] = industry\n",
    "        blogger_dict[self.SIGN] = sign\n",
    "        blogger_dict[self.POSTS] = []\n",
    "        blogger_dict[self.DATES] = []\n",
    "\n",
    "        #The XML files are not well formatted, so we need to do some hacks.\n",
    "        s = file(path,\"r\").read().replace(\"&nbsp;\", \" \")\n",
    "\n",
    "        # First, strip the <Blog> and </Blog> tags at the beginning and end of the document\n",
    "        s = s.replace(\"<Blog>\", \"\").replace(\"</Blog>\", \"\").strip()\n",
    "\n",
    "        # Now, split the document into individual blog posts by the <date> tag\n",
    "        for e in s.split(\"<date>\")[1:]:\n",
    "            # Separate the date stamp from the rest of the post\n",
    "            date_and_post = e.split(\"</date>\")\n",
    "            blogger_dict[self.DATES].append(date_and_post[0].strip())\n",
    "            post = date_and_post[1].replace(\"<post>\",\"\").replace(\"</post>\",\"\").strip()\n",
    "            post = BeautifulSoup(post).get_text()\n",
    "            blogger_dict[self.POSTS].append(post)\n",
    "\n",
    "\n",
    "        if len(blogger_dict[self.DATES]) != len(blogger_dict[self.POSTS]):\n",
    "            raise Exception(\"Warning: Mismatch between the number of posts and the number of dates in file %s\" % path)\n",
    "\n",
    "        return blogger_dict\n",
    "    @property\n",
    "    def sframe(self):\n",
    "        return self._sf\n",
    "\n",
    "sframe_save_path = \"%s/blogs.sframe\" % BASE_DIR\n",
    "b = BlogData2SFrameParser(\"%s/blogs\" % BASE_DIR, sframe_save_path)\n",
    "sf = b.sframe"
   ]
  },
  {
   "cell_type": "code",
   "execution_count": 16,
   "metadata": {
    "collapsed": false
   },
   "outputs": [],
   "source": [
    "os.mkdir(\"%s/txt\" % BASE_DIR)\n",
    "sf.apply(lambda r: file(\"%s/txt/%s.txt\" % (BASE_DIR, r[\"id\"]),\"w\").write(\"\\n\".join(r['posts']))).__materialize__()"
   ]
  },
  {
   "cell_type": "code",
   "execution_count": 17,
   "metadata": {
    "collapsed": false,
    "scrolled": true
   },
   "outputs": [
    {
     "data": {
      "application/javascript": [
       "$(\"head\").append($(\"<link/>\").attr({\n",
       "  rel:  \"stylesheet\",\n",
       "  type: \"text/css\",\n",
       "  href: \"//cdnjs.cloudflare.com/ajax/libs/font-awesome/4.1.0/css/font-awesome.min.css\"\n",
       "}));\n",
       "$(\"head\").append($(\"<link/>\").attr({\n",
       "  rel:  \"stylesheet\",\n",
       "  type: \"text/css\",\n",
       "  href: \"//dato.com/files/canvas/1.6.1/css/canvas.css\"\n",
       "}));\n",
       "\n",
       "            (function(){\n",
       "\n",
       "                var e = null;\n",
       "                if (typeof element == 'undefined') {\n",
       "                    var scripts = document.getElementsByTagName('script');\n",
       "                    var thisScriptTag = scripts[scripts.length-1];\n",
       "                    var parentDiv = thisScriptTag.parentNode;\n",
       "                    e = document.createElement('div');\n",
       "                    parentDiv.appendChild(e);\n",
       "                } else {\n",
       "                    e = element[0];\n",
       "                }\n",
       "\n",
       "                if (typeof requirejs !== 'undefined') {\n",
       "                    // disable load timeout; ipython_app.js is large and can take a while to load.\n",
       "                    requirejs.config({waitSeconds: 0});\n",
       "                }\n",
       "\n",
       "                require(['//dato.com/files/canvas/1.6.1/js/ipython_app.js'], function(IPythonApp){\n",
       "                    var app = new IPythonApp();\n",
       "                    app.attachView('sframe','Summary', {\"ipython\": true, \"sketch\": {\"dates\": {\"complete\": true, \"numeric\": false, \"num_unique\": 2615, \"num_undefined\": 0, \"progress\": 1.0, \"frequent_items\": {\"21,maart,2004\": {\"frequency\": 3, \"value\": \"21,maart,2004\"}, \"17,July,2004\": {\"frequency\": 4003, \"value\": \"17,July,2004\"}, \"17,July,2000\": {\"frequency\": 4, \"value\": \"17,July,2000\"}, \"17,July,2001\": {\"frequency\": 14, \"value\": \"17,July,2001\"}, \"17,July,2002\": {\"frequency\": 70, \"value\": \"17,July,2002\"}, \"17,July,2003\": {\"frequency\": 277, \"value\": \"17,July,2003\"}, \"05,febrero,2004\": {\"frequency\": 1, \"value\": \"05,febrero,2004\"}, \"18,May,2004\": {\"frequency\": 2708, \"value\": \"18,May,2004\"}, \"23,August,2004\": {\"frequency\": 790, \"value\": \"23,August,2004\"}, \"23,August,2006\": {\"frequency\": 6, \"value\": \"23,August,2006\"}, \"23,August,2000\": {\"frequency\": 3, \"value\": \"23,August,2000\"}, \"23,August,2001\": {\"frequency\": 18, \"value\": \"23,August,2001\"}, \"23,August,2002\": {\"frequency\": 65, \"value\": \"23,August,2002\"}, \"23,August,2003\": {\"frequency\": 260, \"value\": \"23,August,2003\"}, \"02,noviembre,2003\": {\"frequency\": 5, \"value\": \"02,noviembre,2003\"}, \"08,November,2004\": {\"frequency\": 1, \"value\": \"08,November,2004\"}, \"04,abril,2004\": {\"frequency\": 3, \"value\": \"04,abril,2004\"}, \"19,juillet,2004\": {\"frequency\": 105, \"value\": \"19,juillet,2004\"}, \"20,January,2002\": {\"frequency\": 17, \"value\": \"20,January,2002\"}, \"06,juni,2004\": {\"frequency\": 1, \"value\": \"06,juni,2004\"}, \"04,February,2004\": {\"frequency\": 699, \"value\": \"04,February,2004\"}, \"26,May,2001\": {\"frequency\": 13, \"value\": \"26,May,2001\"}, \"26,May,2002\": {\"frequency\": 33, \"value\": \"26,May,2002\"}, \"26,May,2003\": {\"frequency\": 207, \"value\": \"26,May,2003\"}, \"26,May,2004\": {\"frequency\": 3180, \"value\": \"26,May,2004\"}, \"04,February,2001\": {\"frequency\": 6, \"value\": \"04,February,2001\"}, \"04,February,2002\": {\"frequency\": 31, \"value\": \"04,February,2002\"}, \"04,February,2003\": {\"frequency\": 189, \"value\": \"04,February,2003\"}, \"28,Mai,2004\": {\"frequency\": 2, \"value\": \"28,Mai,2004\"}, \"10,augustus,2004\": {\"frequency\": 1, \"value\": \"10,augustus,2004\"}, \"20,July,2004\": {\"frequency\": 5153, \"value\": \"20,July,2004\"}, \"20,July,2005\": {\"frequency\": 1, \"value\": \"20,July,2005\"}, \"20,July,2002\": {\"frequency\": 45, \"value\": \"20,July,2002\"}, \"20,July,2003\": {\"frequency\": 249, \"value\": \"20,July,2003\"}, \"20,July,2000\": {\"frequency\": 5, \"value\": \"20,July,2000\"}, \"20,July,2001\": {\"frequency\": 21, \"value\": \"20,July,2001\"}, \"21,septembre,2003\": {\"frequency\": 1, \"value\": \"21,septembre,2003\"}, \"20,October,2003\": {\"frequency\": 476, \"value\": \"20,October,2003\"}, \"20,October,2002\": {\"frequency\": 76, \"value\": \"20,October,2002\"}, \"20,October,2001\": {\"frequency\": 33, \"value\": \"20,October,2001\"}, \"20,October,2000\": {\"frequency\": 1, \"value\": \"20,October,2000\"}, \"24,August,2003\": {\"frequency\": 291, \"value\": \"24,August,2003\"}, \"24,August,2002\": {\"frequency\": 44, \"value\": \"24,August,2002\"}, \"24,August,2001\": {\"frequency\": 26, \"value\": \"24,August,2001\"}, \"24,August,2000\": {\"frequency\": 4, \"value\": \"24,August,2000\"}, \"21,febrero,2003\": {\"frequency\": 3, \"value\": \"21,febrero,2003\"}, \"27,April,2004\": {\"frequency\": 1074, \"value\": \"27,April,2004\"}, \"27,April,2001\": {\"frequency\": 9, \"value\": \"27,April,2001\"}, \"27,April,2002\": {\"frequency\": 34, \"value\": \"27,April,2002\"}, \"27,April,2003\": {\"frequency\": 239, \"value\": \"27,April,2003\"}, \"29,July,2003\": {\"frequency\": 312, \"value\": \"29,July,2003\"}, \"29,July,2002\": {\"frequency\": 88, \"value\": \"29,July,2002\"}, \"29,July,2001\": {\"frequency\": 10, \"value\": \"29,July,2001\"}, \"29,July,2004\": {\"frequency\": 5093, \"value\": \"29,July,2004\"}, \"17,octobre,2003\": {\"frequency\": 2, \"value\": \"17,octobre,2003\"}, \"23,febrero,2003\": {\"frequency\": 2, \"value\": \"23,febrero,2003\"}, \"07,mayo,2004\": {\"frequency\": 4, \"value\": \"07,mayo,2004\"}, \"23,febrero,2004\": {\"frequency\": 6, \"value\": \"23,febrero,2004\"}, \"26,January,2003\": {\"frequency\": 144, \"value\": \"26,January,2003\"}, \"26,January,2002\": {\"frequency\": 14, \"value\": \"26,January,2002\"}, \"26,January,2001\": {\"frequency\": 12, \"value\": \"26,January,2001\"}, \"26,January,2004\": {\"frequency\": 739, \"value\": \"26,January,2004\"}, \"04,November,2004\": {\"frequency\": 1, \"value\": \"04,November,2004\"}, \"04,November,2001\": {\"frequency\": 16, \"value\": \"04,November,2001\"}, \"04,November,2002\": {\"frequency\": 119, \"value\": \"04,November,2002\"}, \"04,November,2003\": {\"frequency\": 463, \"value\": \"04,November,2003\"}, \"10,octobre,2003\": {\"frequency\": 1, \"value\": \"10,octobre,2003\"}, \"19,March,2004\": {\"frequency\": 601, \"value\": \"19,March,2004\"}, \"19,March,2002\": {\"frequency\": 22, \"value\": \"19,March,2002\"}, \"07,diciembre,2003\": {\"frequency\": 5, \"value\": \"07,diciembre,2003\"}, \"19,March,2000\": {\"frequency\": 1, \"value\": \"19,March,2000\"}, \"19,March,2001\": {\"frequency\": 9, \"value\": \"19,March,2001\"}, \"11,October,2004\": {\"frequency\": 2, \"value\": \"11,October,2004\"}, \"05,July,2000\": {\"frequency\": 2, \"value\": \"05,July,2000\"}, \"11,October,2003\": {\"frequency\": 255, \"value\": \"11,October,2003\"}, \"16,July,2004\": {\"frequency\": 4301, \"value\": \"16,July,2004\"}, \"12,Janeiro,2003\": {\"frequency\": 7, \"value\": \"12,Janeiro,2003\"}, \"02,September,2000\": {\"frequency\": 1, \"value\": \"02,September,2000\"}, \"11,junio,2004\": {\"frequency\": 3, \"value\": \"11,junio,2004\"}, \"11,October,2000\": {\"frequency\": 10, \"value\": \"11,October,2000\"}, \"10,June,2004\": {\"frequency\": 4727, \"value\": \"10,June,2004\"}, \"03,December,2004\": {\"frequency\": 2, \"value\": \"03,December,2004\"}, \"10,June,2001\": {\"frequency\": 29, \"value\": \"10,June,2001\"}, \"03,December,2003\": {\"frequency\": 530, \"value\": \"03,December,2003\"}, \"10,June,2003\": {\"frequency\": 268, \"value\": \"10,June,2003\"}, \"03,December,2001\": {\"frequency\": 27, \"value\": \"03,December,2001\"}, \"30,octubre,2003\": {\"frequency\": 1, \"value\": \"30,octubre,2003\"}, \"09,avril,2004\": {\"frequency\": 1, \"value\": \"09,avril,2004\"}, \"20,November,2004\": {\"frequency\": 1, \"value\": \"20,November,2004\"}, \"20,November,2002\": {\"frequency\": 99, \"value\": \"20,November,2002\"}, \"20,November,2003\": {\"frequency\": 451, \"value\": \"20,November,2003\"}, \"20,November,2000\": {\"frequency\": 3, \"value\": \"20,November,2000\"}, \"20,November,2001\": {\"frequency\": 18, \"value\": \"20,November,2001\"}, \"10,August,2002\": {\"frequency\": 43, \"value\": \"10,August,2002\"}, \"10,August,2003\": {\"frequency\": 223, \"value\": \"10,August,2003\"}, \"10,August,2000\": {\"frequency\": 4, \"value\": \"10,August,2000\"}, \"10,August,2001\": {\"frequency\": 13, \"value\": \"10,August,2001\"}, \"10,August,2004\": {\"frequency\": 7448, \"value\": \"10,August,2004\"}, \"10,August,2005\": {\"frequency\": 1, \"value\": \"10,August,2005\"}, \"14,Julho,2002\": {\"frequency\": 4, \"value\": \"14,Julho,2002\"}, \"18,November,2003\": {\"frequency\": 520, \"value\": \"18,November,2003\"}, \"18,November,2002\": {\"frequency\": 157, \"value\": \"18,November,2002\"}, \"18,November,2001\": {\"frequency\": 14, \"value\": \"18,November,2001\"}, \"18,November,2000\": {\"frequency\": 1, \"value\": \"18,November,2000\"}, \"14,julio,2003\": {\"frequency\": 1, \"value\": \"14,julio,2003\"}, \"18,November,2004\": {\"frequency\": 1, \"value\": \"18,November,2004\"}, \"18,Julho,2004\": {\"frequency\": 3, \"value\": \"18,Julho,2004\"}, \"13,mayo,2003\": {\"frequency\": 2, \"value\": \"13,mayo,2003\"}, \"13,mayo,2004\": {\"frequency\": 5, \"value\": \"13,mayo,2004\"}, \"12,augustus,2004\": {\"frequency\": 3, \"value\": \"12,augustus,2004\"}, \"07,Dezember,2003\": {\"frequency\": 1, \"value\": \"07,Dezember,2003\"}, \"13,mai,2004\": {\"frequency\": 6, \"value\": \"13,mai,2004\"}, \"29,maart,2004\": {\"frequency\": 1, \"value\": \"29,maart,2004\"}, \"02,July,2002\": {\"frequency\": 69, \"value\": \"02,July,2002\"}, \"21,July,2002\": {\"frequency\": 47, \"value\": \"21,July,2002\"}, \"27,July,2004\": {\"frequency\": 5328, \"value\": \"27,July,2004\"}, \"27,July,2001\": {\"frequency\": 21, \"value\": \"27,July,2001\"}, \"27,July,2003\": {\"frequency\": 326, \"value\": \"27,July,2003\"}, \"27,July,2002\": {\"frequency\": 42, \"value\": \"27,July,2002\"}, \"03,Novembro,2002\": {\"frequency\": 12, \"value\": \"03,Novembro,2002\"}, \"14,juin,2004\": {\"frequency\": 5, \"value\": \"14,juin,2004\"}, \"14,July,2003\": {\"frequency\": 273, \"value\": \"14,July,2003\"}, \"07,July,2003\": {\"frequency\": 318, \"value\": \"07,July,2003\"}, \"07,July,2002\": {\"frequency\": 48, \"value\": \"07,July,2002\"}, \"07,July,2001\": {\"frequency\": 14, \"value\": \"07,July,2001\"}, \"07,July,2000\": {\"frequency\": 3, \"value\": \"07,July,2000\"}, \"07,julio,2003\": {\"frequency\": 2, \"value\": \"07,julio,2003\"}, \"07,July,2004\": {\"frequency\": 4425, \"value\": \"07,July,2004\"}, \"26,Februar,2004\": {\"frequency\": 1, \"value\": \"26,Februar,2004\"}, \"04,juli,2004\": {\"frequency\": 2, \"value\": \"04,juli,2004\"}, \"23,Fevereiro,2003\": {\"frequency\": 22, \"value\": \"23,Fevereiro,2003\"}, \"14,July,2002\": {\"frequency\": 52, \"value\": \"14,July,2002\"}, \"21,March,2003\": {\"frequency\": 172, \"value\": \"21,March,2003\"}, \"08,juli,2004\": {\"frequency\": 2, \"value\": \"08,juli,2004\"}, \"07,juli,2004\": {\"frequency\": 9, \"value\": \"07,juli,2004\"}, \"15,febrero,2004\": {\"frequency\": 1, \"value\": \"15,febrero,2004\"}, \"04,janvier,2004\": {\"frequency\": 2, \"value\": \"04,janvier,2004\"}, \"14,octobre,2003\": {\"frequency\": 1, \"value\": \"14,octobre,2003\"}, \"19,novembre,2003\": {\"frequency\": 2, \"value\": \"19,novembre,2003\"}, \"20,mai,2004\": {\"frequency\": 2, \"value\": \"20,mai,2004\"}, \"25,avril,2004\": {\"frequency\": 4, \"value\": \"25,avril,2004\"}, \"01,December,2004\": {\"frequency\": 1, \"value\": \"01,December,2004\"}, \"21,May,2001\": {\"frequency\": 14, \"value\": \"21,May,2001\"}, \"01,December,2000\": {\"frequency\": 1, \"value\": \"01,December,2000\"}, \"01,December,2001\": {\"frequency\": 39, \"value\": \"01,December,2001\"}, \"01,December,2002\": {\"frequency\": 137, \"value\": \"01,December,2002\"}, \"01,December,2003\": {\"frequency\": 682, \"value\": \"01,December,2003\"}, \"05,august,2004\": {\"frequency\": 1, \"value\": \"05,august,2004\"}, \"09,October,2004\": {\"frequency\": 1, \"value\": \"09,October,2004\"}, \"09,October,2002\": {\"frequency\": 125, \"value\": \"09,October,2002\"}, \"09,October,2003\": {\"frequency\": 431, \"value\": \"09,October,2003\"}, \"09,October,2000\": {\"frequency\": 6, \"value\": \"09,October,2000\"}, \"09,October,2001\": {\"frequency\": 19, \"value\": \"09,October,2001\"}, \"14,agosto,2003\": {\"frequency\": 1, \"value\": \"14,agosto,2003\"}, \"17,April,2003\": {\"frequency\": 153, \"value\": \"17,April,2003\"}, \"17,April,2002\": {\"frequency\": 44, \"value\": \"17,April,2002\"}, \"17,April,2001\": {\"frequency\": 25, \"value\": \"17,April,2001\"}, \"22,February,2000\": {\"frequency\": 1, \"value\": \"22,February,2000\"}, \"22,February,2001\": {\"frequency\": 7, \"value\": \"22,February,2001\"}, \"22,February,2002\": {\"frequency\": 31, \"value\": \"22,February,2002\"}, \"22,February,2003\": {\"frequency\": 125, \"value\": \"22,February,2003\"}, \"31,luglio,2004\": {\"frequency\": 1, \"value\": \"31,luglio,2004\"}, \"30,Junho,2002\": {\"frequency\": 7, \"value\": \"30,Junho,2002\"}, \"16,juillet,2004\": {\"frequency\": 6, \"value\": \"16,juillet,2004\"}, \"26,June,2002\": {\"frequency\": 66, \"value\": \"26,June,2002\"}, \"26,June,2003\": {\"frequency\": 278, \"value\": \"26,June,2003\"}, \"26,June,2000\": {\"frequency\": 4, \"value\": \"26,June,2000\"}, \"26,June,2001\": {\"frequency\": 14, \"value\": \"26,June,2001\"}, \"29,March,2001\": {\"frequency\": 1, \"value\": \"29,March,2001\"}, \"29,March,2000\": {\"frequency\": 3, \"value\": \"29,March,2000\"}, \"26,June,2004\": {\"frequency\": 2751, \"value\": \"26,June,2004\"}, \"29,March,2002\": {\"frequency\": 24, \"value\": \"29,March,2002\"}, \"07,March,2001\": {\"frequency\": 12, \"value\": \"07,March,2001\"}, \"23,September,2002\": {\"frequency\": 107, \"value\": \"23,September,2002\"}, \"07,March,2000\": {\"frequency\": 1, \"value\": \"07,March,2000\"}, \"18,avril,2004\": {\"frequency\": 1, \"value\": \"18,avril,2004\"}, \"11,March,2004\": {\"frequency\": 715, \"value\": \"11,March,2004\"}, \"11,March,2002\": {\"frequency\": 38, \"value\": \"11,March,2002\"}, \"11,March,2003\": {\"frequency\": 214, \"value\": \"11,March,2003\"}, \"11,March,2000\": {\"frequency\": 1, \"value\": \"11,March,2000\"}, \"11,March,2001\": {\"frequency\": 5, \"value\": \"11,March,2001\"}, \"30,October,2001\": {\"frequency\": 34, \"value\": \"30,October,2001\"}, \"17,June,2004\": {\"frequency\": 3981, \"value\": \"17,June,2004\"}, \"17,June,2002\": {\"frequency\": 50, \"value\": \"17,June,2002\"}, \"17,June,2003\": {\"frequency\": 258, \"value\": \"17,June,2003\"}, \"15,juin,2004\": {\"frequency\": 5, \"value\": \"15,juin,2004\"}, \"01,diciembre,2003\": {\"frequency\": 3, \"value\": \"01,diciembre,2003\"}, \"02,October,2004\": {\"frequency\": 1, \"value\": \"02,October,2004\"}, \"02,October,2003\": {\"frequency\": 415, \"value\": \"02,October,2003\"}, \"02,October,2002\": {\"frequency\": 104, \"value\": \"02,October,2002\"}, \"02,October,2001\": {\"frequency\": 24, \"value\": \"02,October,2001\"}, \"02,October,2000\": {\"frequency\": 6, \"value\": \"02,October,2000\"}, \"25,March,2001\": {\"frequency\": 10, \"value\": \"25,March,2001\"}, \"25,March,2000\": {\"frequency\": 1, \"value\": \"25,March,2000\"}, \"25,March,2003\": {\"frequency\": 200, \"value\": \"25,March,2003\"}, \"25,March,2002\": {\"frequency\": 33, \"value\": \"25,March,2002\"}, \"08,juin,2004\": {\"frequency\": 11, \"value\": \"08,juin,2004\"}, \"25,March,2004\": {\"frequency\": 833, \"value\": \"25,March,2004\"}, \"22,janvier,2004\": {\"frequency\": 5, \"value\": \"22,janvier,2004\"}, \"10,juillet,2004\": {\"frequency\": 9, \"value\": \"10,juillet,2004\"}, \"05,juillet,2004\": {\"frequency\": 4, \"value\": \"05,juillet,2004\"}, \"05,enero,2004\": {\"frequency\": 4, \"value\": \"05,enero,2004\"}, \"06,abril,2003\": {\"frequency\": 1, \"value\": \"06,abril,2003\"}, \"11,Februar,2004\": {\"frequency\": 5, \"value\": \"11,Februar,2004\"}, \"10,august,2004\": {\"frequency\": 1, \"value\": \"10,august,2004\"}, \"06,abril,2004\": {\"frequency\": 8, \"value\": \"06,abril,2004\"}, \"19,December,2003\": {\"frequency\": 424, \"value\": \"19,December,2003\"}, \"19,December,2002\": {\"frequency\": 83, \"value\": \"19,December,2002\"}, \"19,May,2004\": {\"frequency\": 3361, \"value\": \"19,May,2004\"}, \"19,December,2000\": {\"frequency\": 9, \"value\": \"19,December,2000\"}, \"19,May,2002\": {\"frequency\": 23, \"value\": \"19,May,2002\"}, \"19,May,2003\": {\"frequency\": 298, \"value\": \"19,May,2003\"}, \"22,November,2002\": {\"frequency\": 82, \"value\": \"22,November,2002\"}, \"19,May,2001\": {\"frequency\": 15, \"value\": \"19,May,2001\"}, \"02,January,2004\": {\"frequency\": 433, \"value\": \"02,January,2004\"}, \"02,January,2001\": {\"frequency\": 4, \"value\": \"02,January,2001\"}, \"02,January,2003\": {\"frequency\": 102, \"value\": \"02,January,2003\"}, \"02,January,2002\": {\"frequency\": 36, \"value\": \"02,January,2002\"}, \"26,junio,2003\": {\"frequency\": 3, \"value\": \"26,junio,2003\"}, \"18,Februar,2004\": {\"frequency\": 2, \"value\": \"18,Februar,2004\"}, \"01,February,2004\": {\"frequency\": 643, \"value\": \"01,February,2004\"}, \"05,marzo,2004\": {\"frequency\": 2, \"value\": \"05,marzo,2004\"}, \"01,February,2001\": {\"frequency\": 5, \"value\": \"01,February,2001\"}, \"01,February,2000\": {\"frequency\": 1, \"value\": \"01,February,2000\"}, \"01,February,2003\": {\"frequency\": 182, \"value\": \"01,February,2003\"}, \"01,February,2002\": {\"frequency\": 34, \"value\": \"01,February,2002\"}, \"14,juillet,2004\": {\"frequency\": 5, \"value\": \"14,juillet,2004\"}, \"07,Julho,2002\": {\"frequency\": 8, \"value\": \"07,Julho,2002\"}, \"11,august,2004\": {\"frequency\": 1, \"value\": \"11,august,2004\"}, \"29,mei,2004\": {\"frequency\": 4, \"value\": \"29,mei,2004\"}, \"25,December,2004\": {\"frequency\": 1, \"value\": \"25,December,2004\"}, \"25,December,2002\": {\"frequency\": 69, \"value\": \"25,December,2002\"}, \"25,December,2003\": {\"frequency\": 327, \"value\": \"25,December,2003\"}, \"25,December,2000\": {\"frequency\": 1, \"value\": \"25,December,2000\"}, \"25,December,2001\": {\"frequency\": 16, \"value\": \"25,December,2001\"}, \"09,April,2004\": {\"frequency\": 710, \"value\": \"09,April,2004\"}, \"09,April,2001\": {\"frequency\": 9, \"value\": \"09,April,2001\"}, \"09,April,2002\": {\"frequency\": 40, \"value\": \"09,April,2002\"}, \"09,April,2003\": {\"frequency\": 223, \"value\": \"09,April,2003\"}, \"28,November,2000\": {\"frequency\": 5, \"value\": \"28,November,2000\"}, \"28,Julho,2002\": {\"frequency\": 4, \"value\": \"28,Julho,2002\"}, \"17,marzo,2003\": {\"frequency\": 3, \"value\": \"17,marzo,2003\"}, \"25,July,2005\": {\"frequency\": 1, \"value\": \"25,July,2005\"}, \"25,July,2004\": {\"frequency\": 4532, \"value\": \"25,July,2004\"}, \"25,July,2003\": {\"frequency\": 242, \"value\": \"25,July,2003\"}, \"25,July,2002\": {\"frequency\": 81, \"value\": \"25,July,2002\"}, \"25,July,2001\": {\"frequency\": 24, \"value\": \"25,July,2001\"}, \"25,July,2000\": {\"frequency\": 6, \"value\": \"25,July,2000\"}, \"22,April,2003\": {\"frequency\": 249, \"value\": \"22,April,2003\"}, \"22,April,2002\": {\"frequency\": 45, \"value\": \"22,April,2002\"}, \"22,April,2001\": {\"frequency\": 13, \"value\": \"22,April,2001\"}, \"30,November,2002\": {\"frequency\": 46, \"value\": \"30,November,2002\"}, \"24,October,2003\": {\"frequency\": 339, \"value\": \"24,October,2003\"}, \"09,December,2001\": {\"frequency\": 18, \"value\": \"09,December,2001\"}, \"24,October,2001\": {\"frequency\": 35, \"value\": \"24,October,2001\"}, \"19,avril,2004\": {\"frequency\": 4, \"value\": \"19,avril,2004\"}, \"06,Januar,2004\": {\"frequency\": 2, \"value\": \"06,Januar,2004\"}, \"24,junio,2004\": {\"frequency\": 25, \"value\": \"24,junio,2004\"}, \"14,juni,2004\": {\"frequency\": 1, \"value\": \"14,juni,2004\"}, \"20,September,2000\": {\"frequency\": 6, \"value\": \"20,September,2000\"}, \"24,junio,2003\": {\"frequency\": 2, \"value\": \"24,junio,2003\"}, \"06,June,2004\": {\"frequency\": 3310, \"value\": \"06,June,2004\"}, \"24,janvier,2004\": {\"frequency\": 2, \"value\": \"24,janvier,2004\"}, \"28,April,2003\": {\"frequency\": 268, \"value\": \"28,April,2003\"}, \"28,April,2002\": {\"frequency\": 33, \"value\": \"28,April,2002\"}, \"06,June,2000\": {\"frequency\": 1, \"value\": \"06,June,2000\"}, \"06,June,2001\": {\"frequency\": 18, \"value\": \"06,June,2001\"}, \"06,June,2002\": {\"frequency\": 39, \"value\": \"06,June,2002\"}, \"06,June,2003\": {\"frequency\": 219, \"value\": \"06,June,2003\"}, \"24,August,2004\": {\"frequency\": 319, \"value\": \"24,August,2004\"}, \"24,January,2004\": {\"frequency\": 472, \"value\": \"24,January,2004\"}, \"24,January,2001\": {\"frequency\": 5, \"value\": \"24,January,2001\"}, \"24,January,2000\": {\"frequency\": 2, \"value\": \"24,January,2000\"}, \"24,January,2003\": {\"frequency\": 159, \"value\": \"24,January,2003\"}, \"24,January,2002\": {\"frequency\": 25, \"value\": \"24,January,2002\"}, \"27,junio,2004\": {\"frequency\": 3, \"value\": \"27,junio,2004\"}, \"18,January,2004\": {\"frequency\": 496, \"value\": \"18,January,2004\"}, \"18,January,2002\": {\"frequency\": 14, \"value\": \"18,January,2002\"}, \"18,January,2003\": {\"frequency\": 127, \"value\": \"18,January,2003\"}, \"27,junio,2003\": {\"frequency\": 1, \"value\": \"27,junio,2003\"}, \"18,January,2001\": {\"frequency\": 6, \"value\": \"18,January,2001\"}, \"23,May,2003\": {\"frequency\": 183, \"value\": \"23,May,2003\"}, \"23,May,2002\": {\"frequency\": 49, \"value\": \"23,May,2002\"}, \"23,May,2001\": {\"frequency\": 16, \"value\": \"23,May,2001\"}, \"23,May,2000\": {\"frequency\": 2, \"value\": \"23,May,2000\"}, \"14,mars,2004\": {\"frequency\": 3, \"value\": \"14,mars,2004\"}, \"23,May,2004\": {\"frequency\": 2593, \"value\": \"23,May,2004\"}, \"11,juni,2004\": {\"frequency\": 1, \"value\": \"11,juni,2004\"}, \"17,septembre,2003\": {\"frequency\": 2, \"value\": \"17,septembre,2003\"}, \"01,May,2001\": {\"frequency\": 21, \"value\": \"01,May,2001\"}, \"05,September,2000\": {\"frequency\": 4, \"value\": \"05,September,2000\"}, \"05,Mai,2004\": {\"frequency\": 2, \"value\": \"05,Mai,2004\"}, \"18,August,1999\": {\"frequency\": 1, \"value\": \"18,August,1999\"}, \"18,February,2000\": {\"frequency\": 1, \"value\": \"18,February,2000\"}, \"02,April,2004\": {\"frequency\": 810, \"value\": \"02,April,2004\"}, \"02,April,2001\": {\"frequency\": 28, \"value\": \"02,April,2001\"}, \"02,April,2000\": {\"frequency\": 5, \"value\": \"02,April,2000\"}, \"02,April,2003\": {\"frequency\": 216, \"value\": \"02,April,2003\"}, \"02,April,2002\": {\"frequency\": 48, \"value\": \"02,April,2002\"}, \"08,August,1999\": {\"frequency\": 1, \"value\": \"08,August,1999\"}, \"12,February,2004\": {\"frequency\": 709, \"value\": \"12,February,2004\"}, \"18,enero,2004\": {\"frequency\": 1, \"value\": \"18,enero,2004\"}, \"12,February,2001\": {\"frequency\": 7, \"value\": \"12,February,2001\"}, \"12,February,2003\": {\"frequency\": 200, \"value\": \"12,February,2003\"}, \"12,February,2002\": {\"frequency\": 27, \"value\": \"12,February,2002\"}, \"22,junio,2004\": {\"frequency\": 10, \"value\": \"22,junio,2004\"}, \"26,December,1999\": {\"frequency\": 1, \"value\": \"26,December,1999\"}, \"25,juin,2004\": {\"frequency\": 7, \"value\": \"25,juin,2004\"}, \"14,desember,2002\": {\"frequency\": 1, \"value\": \"14,desember,2002\"}, \"23,juin,2004\": {\"frequency\": 11, \"value\": \"23,juin,2004\"}, \"27,December,2004\": {\"frequency\": 1, \"value\": \"27,December,2004\"}, \"05,April,2001\": {\"frequency\": 12, \"value\": \"05,April,2001\"}, \"05,April,2002\": {\"frequency\": 30, \"value\": \"05,April,2002\"}, \"05,April,2003\": {\"frequency\": 118, \"value\": \"05,April,2003\"}, \"05,April,2004\": {\"frequency\": 984, \"value\": \"05,April,2004\"}, \"27,December,2001\": {\"frequency\": 16, \"value\": \"27,December,2001\"}, \"27,December,2002\": {\"frequency\": 99, \"value\": \"27,December,2002\"}, \"27,December,2003\": {\"frequency\": 256, \"value\": \"27,December,2003\"}, \"04,agosto,2003\": {\"frequency\": 2, \"value\": \"04,agosto,2003\"}, \"08,julio,2004\": {\"frequency\": 3, \"value\": \"08,julio,2004\"}, \"02,marzo,2004\": {\"frequency\": 10, \"value\": \"02,marzo,2004\"}, \"27,June,2004\": {\"frequency\": 3403, \"value\": \"27,June,2004\"}, \"27,June,2003\": {\"frequency\": 236, \"value\": \"27,June,2003\"}, \"27,June,2002\": {\"frequency\": 44, \"value\": \"27,June,2002\"}, \"27,June,2001\": {\"frequency\": 19, \"value\": \"27,June,2001\"}, \"27,June,2000\": {\"frequency\": 1, \"value\": \"27,June,2000\"}, \"04,luglio,2004\": {\"frequency\": 1, \"value\": \"04,luglio,2004\"}, \"15,avril,2004\": {\"frequency\": 3, \"value\": \"15,avril,2004\"}, \"22,febrero,2004\": {\"frequency\": 5, \"value\": \"22,febrero,2004\"}, \"26,lipanj,2004\": {\"frequency\": 1, \"value\": \"26,lipanj,2004\"}, \"15,novembre,2003\": {\"frequency\": 2, \"value\": \"15,novembre,2003\"}, \"27,juin,2004\": {\"frequency\": 12, \"value\": \"27,juin,2004\"}, \"22,March,2000\": {\"frequency\": 3, \"value\": \"22,March,2000\"}, \"22,March,2001\": {\"frequency\": 10, \"value\": \"22,March,2001\"}, \"22,March,2002\": {\"frequency\": 46, \"value\": \"22,March,2002\"}, \"22,March,2003\": {\"frequency\": 128, \"value\": \"22,March,2003\"}, \"22,March,2004\": {\"frequency\": 815, \"value\": \"22,March,2004\"}, \"02,Juni,2004\": {\"frequency\": 6, \"value\": \"02,Juni,2004\"}, \"05,augusti,2004\": {\"frequency\": 1, \"value\": \"05,augusti,2004\"}, \"16,January,2001\": {\"frequency\": 4, \"value\": \"16,January,2001\"}, \"03,October,2002\": {\"frequency\": 77, \"value\": \"03,October,2002\"}, \"30,January,2004\": {\"frequency\": 502, \"value\": \"30,January,2004\"}, \"08,April,2004\": {\"frequency\": 755, \"value\": \"08,April,2004\"}, \"11,August,2003\": {\"frequency\": 342, \"value\": \"11,August,2003\"}, \"11,August,2002\": {\"frequency\": 59, \"value\": \"11,August,2002\"}, \"11,August,2001\": {\"frequency\": 15, \"value\": \"11,August,2001\"}, \"30,January,2003\": {\"frequency\": 204, \"value\": \"30,January,2003\"}, \"10,February,2003\": {\"frequency\": 194, \"value\": \"10,February,2003\"}, \"16,January,2004\": {\"frequency\": 528, \"value\": \"16,January,2004\"}, \"10,February,2001\": {\"frequency\": 3, \"value\": \"10,February,2001\"}, \"10,February,2004\": {\"frequency\": 731, \"value\": \"10,February,2004\"}, \"27,Outubro,2002\": {\"frequency\": 6, \"value\": \"27,Outubro,2002\"}, \"08,April,2001\": {\"frequency\": 3, \"value\": \"08,April,2001\"}, \"12,diciembre,2003\": {\"frequency\": 1, \"value\": \"12,diciembre,2003\"}, \"27,February,2004\": {\"frequency\": 575, \"value\": \"27,February,2004\"}, \"27,February,2001\": {\"frequency\": 4, \"value\": \"27,February,2001\"}, \"27,February,2003\": {\"frequency\": 187, \"value\": \"27,February,2003\"}, \"27,February,2002\": {\"frequency\": 29, \"value\": \"27,February,2002\"}, \"16,December,2004\": {\"frequency\": 1, \"value\": \"16,December,2004\"}, \"12,mars,2004\": {\"frequency\": 5, \"value\": \"12,mars,2004\"}, \"26,giugno,2004\": {\"frequency\": 1, \"value\": \"26,giugno,2004\"}, \"13,September,2000\": {\"frequency\": 6, \"value\": \"13,September,2000\"}, \"13,September,2001\": {\"frequency\": 25, \"value\": \"13,September,2001\"}, \"13,September,2002\": {\"frequency\": 141, \"value\": \"13,September,2002\"}, \"13,September,2003\": {\"frequency\": 231, \"value\": \"13,September,2003\"}, \"14,July,1999\": {\"frequency\": 1, \"value\": \"14,July,1999\"}, \"02,Juli,2004\": {\"frequency\": 2, \"value\": \"02,Juli,2004\"}, \"08,septiembre,2003\": {\"frequency\": 1, \"value\": \"08,septiembre,2003\"}, \"26,juillet,2004\": {\"frequency\": 6, \"value\": \"26,juillet,2004\"}, \"06,september,2003\": {\"frequency\": 5, \"value\": \"06,september,2003\"}, \"02,Novembro,2003\": {\"frequency\": 22, \"value\": \"02,Novembro,2003\"}, \"03,noviembre,2003\": {\"frequency\": 4, \"value\": \"03,noviembre,2003\"}, \"01,April,2004\": {\"frequency\": 1036, \"value\": \"01,April,2004\"}, \"01,April,2000\": {\"frequency\": 2, \"value\": \"01,April,2000\"}, \"12,enero,2004\": {\"frequency\": 6, \"value\": \"12,enero,2004\"}, \"01,April,2002\": {\"frequency\": 30, \"value\": \"01,April,2002\"}, \"01,April,2003\": {\"frequency\": 264, \"value\": \"01,April,2003\"}, \"11,julio,2004\": {\"frequency\": 5, \"value\": \"11,julio,2004\"}, \"25,Juli,2004\": {\"frequency\": 2, \"value\": \"25,Juli,2004\"}, \"12,December,2000\": {\"frequency\": 4, \"value\": \"12,December,2000\"}, \"22,Dezembro,2002\": {\"frequency\": 6, \"value\": \"22,Dezembro,2002\"}, \"21,september,2003\": {\"frequency\": 2, \"value\": \"21,september,2003\"}, \"16,May,2003\": {\"frequency\": 244, \"value\": \"16,May,2003\"}, \"16,December,1999\": {\"frequency\": 1, \"value\": \"16,December,1999\"}, \"29,September,2001\": {\"frequency\": 11, \"value\": \"29,September,2001\"}, \"29,September,2000\": {\"frequency\": 5, \"value\": \"29,September,2000\"}, \"29,September,2003\": {\"frequency\": 369, \"value\": \"29,September,2003\"}, \"04,April,2002\": {\"frequency\": 58, \"value\": \"04,April,2002\"}, \"29,juin,2004\": {\"frequency\": 15, \"value\": \"29,juin,2004\"}, \"27,abril,2004\": {\"frequency\": 6, \"value\": \"27,abril,2004\"}, \"26,February,2001\": {\"frequency\": 4, \"value\": \"26,February,2001\"}, \"26,February,2002\": {\"frequency\": 37, \"value\": \"26,February,2002\"}, \"26,February,2003\": {\"frequency\": 184, \"value\": \"26,February,2003\"}, \"09,noviembre,2003\": {\"frequency\": 3, \"value\": \"09,noviembre,2003\"}, \"01,Agosto,2004\": {\"frequency\": 102, \"value\": \"01,Agosto,2004\"}, \"05,July,2004\": {\"frequency\": 3864, \"value\": \"05,July,2004\"}, \"06,Februar,2004\": {\"frequency\": 2, \"value\": \"06,Februar,2004\"}, \"12,December,2002\": {\"frequency\": 93, \"value\": \"12,December,2002\"}, \"14,Januar,2004\": {\"frequency\": 2, \"value\": \"14,Januar,2004\"}, \"29,avril,2004\": {\"frequency\": 1, \"value\": \"29,avril,2004\"}, \"01,septiembre,2003\": {\"frequency\": 2, \"value\": \"01,septiembre,2003\"}, \"18,juin,2004\": {\"frequency\": 13, \"value\": \"18,juin,2004\"}, \"19,March,2003\": {\"frequency\": 208, \"value\": \"19,March,2003\"}, \"11,December,2003\": {\"frequency\": 492, \"value\": \"11,December,2003\"}, \"11,December,2002\": {\"frequency\": 123, \"value\": \"11,December,2002\"}, \"11,December,2001\": {\"frequency\": 34, \"value\": \"11,December,2001\"}, \"04,septiembre,2003\": {\"frequency\": 2, \"value\": \"04,septiembre,2003\"}, \"11,December,2004\": {\"frequency\": 1, \"value\": \"11,December,2004\"}, \"17,julio,2003\": {\"frequency\": 1, \"value\": \"17,julio,2003\"}, \"14,May,2001\": {\"frequency\": 20, \"value\": \"14,May,2001\"}, \"14,May,2003\": {\"frequency\": 289, \"value\": \"14,May,2003\"}, \"14,May,2002\": {\"frequency\": 44, \"value\": \"14,May,2002\"}, \"14,May,2004\": {\"frequency\": 2034, \"value\": \"14,May,2004\"}, \"30,juni,2004\": {\"frequency\": 1, \"value\": \"30,juni,2004\"}, \"30,March,2004\": {\"frequency\": 850, \"value\": \"30,March,2004\"}, \"30,March,2003\": {\"frequency\": 162, \"value\": \"30,March,2003\"}, \"30,March,2002\": {\"frequency\": 26, \"value\": \"30,March,2002\"}, \"30,March,2001\": {\"frequency\": 6, \"value\": \"30,March,2001\"}, \"30,March,2000\": {\"frequency\": 3, \"value\": \"30,March,2000\"}, \"11,July,2002\": {\"frequency\": 115, \"value\": \"11,July,2002\"}, \"11,July,2003\": {\"frequency\": 211, \"value\": \"11,July,2003\"}, \"11,July,2000\": {\"frequency\": 1, \"value\": \"11,July,2000\"}, \"11,July,2001\": {\"frequency\": 16, \"value\": \"11,July,2001\"}, \"01,May,2003\": {\"frequency\": 225, \"value\": \"01,May,2003\"}, \"01,May,2002\": {\"frequency\": 63, \"value\": \"01,May,2002\"}, \"11,July,2004\": {\"frequency\": 3870, \"value\": \"11,July,2004\"}, \"01,May,2000\": {\"frequency\": 1, \"value\": \"01,May,2000\"}, \"12,mei,2004\": {\"frequency\": 1, \"value\": \"12,mei,2004\"}, \"29,August,2000\": {\"frequency\": 3, \"value\": \"29,August,2000\"}, \"01,janvier,2004\": {\"frequency\": 69, \"value\": \"01,janvier,2004\"}, \"27,August,2000\": {\"frequency\": 1, \"value\": \"27,August,2000\"}, \"27,August,2001\": {\"frequency\": 26, \"value\": \"27,August,2001\"}, \"27,August,2002\": {\"frequency\": 77, \"value\": \"27,August,2002\"}, \"27,August,2003\": {\"frequency\": 340, \"value\": \"27,August,2003\"}, \"01,September,2003\": {\"frequency\": 329, \"value\": \"01,September,2003\"}, \"01,September,2002\": {\"frequency\": 58, \"value\": \"01,September,2002\"}, \"01,September,2001\": {\"frequency\": 13, \"value\": \"01,September,2001\"}, \"17,October,2002\": {\"frequency\": 107, \"value\": \"17,October,2002\"}, \"20,Februar,2004\": {\"frequency\": 3, \"value\": \"20,Februar,2004\"}, \"17,October,2004\": {\"frequency\": 1, \"value\": \"17,October,2004\"}, \"01,September,2004\": {\"frequency\": 3, \"value\": \"01,September,2004\"}, \"20,Juli,2004\": {\"frequency\": 4, \"value\": \"20,Juli,2004\"}, \"29,May,2001\": {\"frequency\": 33, \"value\": \"29,May,2001\"}, \"29,May,2000\": {\"frequency\": 4, \"value\": \"29,May,2000\"}, \"29,May,2003\": {\"frequency\": 257, \"value\": \"29,May,2003\"}, \"29,May,2002\": {\"frequency\": 59, \"value\": \"29,May,2002\"}, \"29,May,2004\": {\"frequency\": 2045, \"value\": \"29,May,2004\"}, \"28,June,2004\": {\"frequency\": 5346, \"value\": \"28,June,2004\"}, \"16,September,2000\": {\"frequency\": 2, \"value\": \"16,September,2000\"}, \"28,June,2000\": {\"frequency\": 1, \"value\": \"28,June,2000\"}, \"28,June,2001\": {\"frequency\": 24, \"value\": \"28,June,2001\"}, \"28,June,2002\": {\"frequency\": 45, \"value\": \"28,June,2002\"}, \"28,June,2003\": {\"frequency\": 216, \"value\": \"28,June,2003\"}, \"21,February,1999\": {\"frequency\": 1, \"value\": \"21,February,1999\"}, \"30,mayo,2003\": {\"frequency\": 2, \"value\": \"30,mayo,2003\"}, \"30,mayo,2004\": {\"frequency\": 2, \"value\": \"30,mayo,2004\"}, \"25,mayo,2003\": {\"frequency\": 1, \"value\": \"25,mayo,2003\"}, \"25,mayo,2004\": {\"frequency\": 13, \"value\": \"25,mayo,2004\"}, \"08,Februar,2004\": {\"frequency\": 3, \"value\": \"08,Februar,2004\"}, \"02,juli,2004\": {\"frequency\": 43, \"value\": \"02,juli,2004\"}, \"23,Maio,2004\": {\"frequency\": 247, \"value\": \"23,Maio,2004\"}, \"03,avril,2004\": {\"frequency\": 1, \"value\": \"03,avril,2004\"}, \"07,noviembre,2003\": {\"frequency\": 2, \"value\": \"07,noviembre,2003\"}, \"25,June,1999\": {\"frequency\": 1, \"value\": \"25,June,1999\"}, \"15,mars,2003\": {\"frequency\": 2, \"value\": \"15,mars,2003\"}, \"16,diciembre,2003\": {\"frequency\": 7, \"value\": \"16,diciembre,2003\"}, \"15,mars,2004\": {\"frequency\": 3, \"value\": \"15,mars,2004\"}, \"06,juillet,2004\": {\"frequency\": 27, \"value\": \"06,juillet,2004\"}, \"29,juni,2004\": {\"frequency\": 1, \"value\": \"29,juni,2004\"}, \"23,Januar,2004\": {\"frequency\": 1, \"value\": \"23,Januar,2004\"}, \"14,November,2004\": {\"frequency\": 1, \"value\": \"14,November,2004\"}, \"14,November,2003\": {\"frequency\": 444, \"value\": \"14,November,2003\"}, \"14,November,2002\": {\"frequency\": 94, \"value\": \"14,November,2002\"}, \"14,November,2001\": {\"frequency\": 28, \"value\": \"14,November,2001\"}, \"14,November,2000\": {\"frequency\": 6, \"value\": \"14,November,2000\"}, \"11,agosto,2003\": {\"frequency\": 4, \"value\": \"11,agosto,2003\"}, \"08,November,2000\": {\"frequency\": 8, \"value\": \"08,November,2000\"}, \"08,November,2001\": {\"frequency\": 18, \"value\": \"08,November,2001\"}, \"08,November,2002\": {\"frequency\": 108, \"value\": \"08,November,2002\"}, \"08,November,2003\": {\"frequency\": 282, \"value\": \"08,November,2003\"}, \"18,May,2001\": {\"frequency\": 18, \"value\": \"18,May,2001\"}, \"18,May,2000\": {\"frequency\": 1, \"value\": \"18,May,2000\"}, \"18,May,2003\": {\"frequency\": 243, \"value\": \"18,May,2003\"}, \"18,May,2002\": {\"frequency\": 31, \"value\": \"18,May,2002\"}, \"19,April,2004\": {\"frequency\": 1091, \"value\": \"19,April,2004\"}, \"19,April,2001\": {\"frequency\": 11, \"value\": \"19,April,2001\"}, \"03,December,2000\": {\"frequency\": 1, \"value\": \"03,December,2000\"}, \"19,April,2003\": {\"frequency\": 133, \"value\": \"19,April,2003\"}, \"19,April,2002\": {\"frequency\": 25, \"value\": \"19,April,2002\"}, \"11,Janeiro,2004\": {\"frequency\": 4, \"value\": \"11,Janeiro,2004\"}, \"10,May,2004\": {\"frequency\": 1861, \"value\": \"10,May,2004\"}, \"10,May,2001\": {\"frequency\": 18, \"value\": \"10,May,2001\"}, \"10,May,2003\": {\"frequency\": 137, \"value\": \"10,May,2003\"}, \"10,May,2002\": {\"frequency\": 47, \"value\": \"10,May,2002\"}, \"07,June,2001\": {\"frequency\": 24, \"value\": \"07,June,2001\"}, \"07,June,2000\": {\"frequency\": 4, \"value\": \"07,June,2000\"}, \"07,June,2003\": {\"frequency\": 106, \"value\": \"07,June,2003\"}, \"07,June,2002\": {\"frequency\": 32, \"value\": \"07,June,2002\"}, \"24,Novembro,2002\": {\"frequency\": 8, \"value\": \"24,Novembro,2002\"}, \"07,June,2004\": {\"frequency\": 6413, \"value\": \"07,June,2004\"}, \"03,March,2001\": {\"frequency\": 4, \"value\": \"03,March,2001\"}, \"12,January,2004\": {\"frequency\": 578, \"value\": \"12,January,2004\"}, \"03,March,2003\": {\"frequency\": 185, \"value\": \"03,March,2003\"}, \"03,March,2002\": {\"frequency\": 23, \"value\": \"03,March,2002\"}, \"03,March,2004\": {\"frequency\": 741, \"value\": \"03,March,2004\"}, \"30,juin,2004\": {\"frequency\": 5, \"value\": \"30,juin,2004\"}, \"27,julio,2004\": {\"frequency\": 5, \"value\": \"27,julio,2004\"}, \"27,julio,2003\": {\"frequency\": 2, \"value\": \"27,julio,2003\"}, \"07,octubre,2003\": {\"frequency\": 4, \"value\": \"07,octubre,2003\"}, \"12,January,2001\": {\"frequency\": 1, \"value\": \"12,January,2001\"}, \"12,January,2002\": {\"frequency\": 9, \"value\": \"12,January,2002\"}, \"05,mars,2004\": {\"frequency\": 3, \"value\": \"05,mars,2004\"}, \"13,March,2003\": {\"frequency\": 176, \"value\": \"13,March,2003\"}, \"20,juillet,2004\": {\"frequency\": 10, \"value\": \"20,juillet,2004\"}, \"12,April,2004\": {\"frequency\": 929, \"value\": \"12,April,2004\"}, \"12,April,2001\": {\"frequency\": 8, \"value\": \"12,April,2001\"}, \"12,April,2002\": {\"frequency\": 32, \"value\": \"12,April,2002\"}, \"12,April,2003\": {\"frequency\": 140, \"value\": \"12,April,2003\"}, \"18,February,2003\": {\"frequency\": 199, \"value\": \"18,February,2003\"}, \"18,February,2002\": {\"frequency\": 25, \"value\": \"18,February,2002\"}, \"18,February,2001\": {\"frequency\": 6, \"value\": \"18,February,2001\"}, \"27,mai,2004\": {\"frequency\": 11, \"value\": \"27,mai,2004\"}, \"15,janvier,2004\": {\"frequency\": 1, \"value\": \"15,janvier,2004\"}, \"25,Juni,2004\": {\"frequency\": 3, \"value\": \"25,Juni,2004\"}, \"18,February,2004\": {\"frequency\": 794, \"value\": \"18,February,2004\"}, \"01,febrero,2004\": {\"frequency\": 4, \"value\": \"01,febrero,2004\"}, \"20,novembre,2003\": {\"frequency\": 4, \"value\": \"20,novembre,2003\"}, \"06,May,2002\": {\"frequency\": 39, \"value\": \"06,May,2002\"}, \"06,May,2003\": {\"frequency\": 276, \"value\": \"06,May,2003\"}, \"16,January,2002\": {\"frequency\": 25, \"value\": \"16,January,2002\"}, \"16,January,2003\": {\"frequency\": 190, \"value\": \"16,January,2003\"}, \"08,April,2003\": {\"frequency\": 218, \"value\": \"08,April,2003\"}, \"22,Juni,2004\": {\"frequency\": 5, \"value\": \"22,Juni,2004\"}, \"06,May,2004\": {\"frequency\": 1055, \"value\": \"06,May,2004\"}, \"26,November,2001\": {\"frequency\": 12, \"value\": \"26,November,2001\"}, \"26,November,2002\": {\"frequency\": 97, \"value\": \"26,November,2002\"}, \"26,November,2003\": {\"frequency\": 407, \"value\": \"26,November,2003\"}, \"26,November,2004\": {\"frequency\": 1, \"value\": \"26,November,2004\"}, \"04,April,2003\": {\"frequency\": 176, \"value\": \"04,April,2003\"}, \"19,mayo,2003\": {\"frequency\": 1, \"value\": \"19,mayo,2003\"}, \"04,April,2001\": {\"frequency\": 12, \"value\": \"04,April,2001\"}, \"04,April,2004\": {\"frequency\": 750, \"value\": \"04,April,2004\"}, \"06,desember,2003\": {\"frequency\": 28, \"value\": \"06,desember,2003\"}, \"02,junio,2003\": {\"frequency\": 1, \"value\": \"02,junio,2003\"}, \"25,Mai,2004\": {\"frequency\": 2, \"value\": \"25,Mai,2004\"}, \"26,juin,2004\": {\"frequency\": 2, \"value\": \"26,juin,2004\"}, \"25,juni,2004\": {\"frequency\": 4, \"value\": \"25,juni,2004\"}, \"25,Maio,2003\": {\"frequency\": 2, \"value\": \"25,Maio,2003\"}, \"09,Juni,2004\": {\"frequency\": 2, \"value\": \"09,Juni,2004\"}, \"03,janvier,2004\": {\"frequency\": 2, \"value\": \"03,janvier,2004\"}, \"16,Jaanuar,2004\": {\"frequency\": 1, \"value\": \"16,Jaanuar,2004\"}, \"01,junio,2004\": {\"frequency\": 17, \"value\": \"01,junio,2004\"}, \"04,July,2004\": {\"frequency\": 4573, \"value\": \"04,July,2004\"}, \"04,July,2001\": {\"frequency\": 14, \"value\": \"04,July,2001\"}, \"04,July,2002\": {\"frequency\": 54, \"value\": \"04,July,2002\"}, \"04,July,2003\": {\"frequency\": 210, \"value\": \"04,July,2003\"}, \"17,janvier,2004\": {\"frequency\": 4, \"value\": \"17,janvier,2004\"}, \"06,April,2000\": {\"frequency\": 2, \"value\": \"06,April,2000\"}, \"27,febrero,2004\": {\"frequency\": 2, \"value\": \"27,febrero,2004\"}, \"27,febrero,2003\": {\"frequency\": 4, \"value\": \"27,febrero,2003\"}, \"10,juin,2004\": {\"frequency\": 7, \"value\": \"10,juin,2004\"}, \"16,March,2003\": {\"frequency\": 169, \"value\": \"16,March,2003\"}, \"16,March,2002\": {\"frequency\": 19, \"value\": \"16,March,2002\"}, \"16,March,2001\": {\"frequency\": 8, \"value\": \"16,March,2001\"}, \"16,March,2000\": {\"frequency\": 1, \"value\": \"16,March,2000\"}, \"16,March,2004\": {\"frequency\": 753, \"value\": \"16,March,2004\"}, \"13,April,2004\": {\"frequency\": 963, \"value\": \"13,April,2004\"}, \"13,April,2003\": {\"frequency\": 196, \"value\": \"13,April,2003\"}, \"26,Janeiro,2003\": {\"frequency\": 4, \"value\": \"26,Janeiro,2003\"}, \"13,April,2001\": {\"frequency\": 8, \"value\": \"13,April,2001\"}, \"04,Abril,2004\": {\"frequency\": 6, \"value\": \"04,Abril,2004\"}, \"25,April,2002\": {\"frequency\": 49, \"value\": \"25,April,2002\"}, \"25,April,2003\": {\"frequency\": 188, \"value\": \"25,April,2003\"}, \"25,April,2001\": {\"frequency\": 13, \"value\": \"25,April,2001\"}, \"25,April,2004\": {\"frequency\": 806, \"value\": \"25,April,2004\"}, \"29,October,2004\": {\"frequency\": 1, \"value\": \"29,October,2004\"}, \"29,October,2000\": {\"frequency\": 6, \"value\": \"29,October,2000\"}, \"29,October,2001\": {\"frequency\": 32, \"value\": \"29,October,2001\"}, \"29,October,2002\": {\"frequency\": 110, \"value\": \"29,October,2002\"}, \"13,April,2002\": {\"frequency\": 19, \"value\": \"13,April,2002\"}, \"24,juni,2004\": {\"frequency\": 4, \"value\": \"24,juni,2004\"}, \"18,marzo,2003\": {\"frequency\": 1, \"value\": \"18,marzo,2003\"}, \"26,avril,2004\": {\"frequency\": 1, \"value\": \"26,avril,2004\"}, \"04,junio,2004\": {\"frequency\": 10, \"value\": \"04,junio,2004\"}, \"12,Februar,2004\": {\"frequency\": 3, \"value\": \"12,Februar,2004\"}, \"14,October,2000\": {\"frequency\": 1, \"value\": \"14,October,2000\"}, \"03,May,2004\": {\"frequency\": 1195, \"value\": \"03,May,2004\"}, \"03,May,2001\": {\"frequency\": 12, \"value\": \"03,May,2001\"}, \"03,May,2000\": {\"frequency\": 1, \"value\": \"03,May,2000\"}, \"03,May,2003\": {\"frequency\": 168, \"value\": \"03,May,2003\"}, \"03,May,2002\": {\"frequency\": 41, \"value\": \"03,May,2002\"}, \"10,April,2002\": {\"frequency\": 77, \"value\": \"10,April,2002\"}, \"10,April,2003\": {\"frequency\": 183, \"value\": \"10,April,2003\"}, \"10,April,2001\": {\"frequency\": 12, \"value\": \"10,April,2001\"}, \"10,April,2004\": {\"frequency\": 626, \"value\": \"10,April,2004\"}, \"25,janvier,2004\": {\"frequency\": 5, \"value\": \"25,janvier,2004\"}, \"03,December,2002\": {\"frequency\": 111, \"value\": \"03,December,2002\"}, \"29,abril,2004\": {\"frequency\": 3, \"value\": \"29,abril,2004\"}, \"15,Juni,2004\": {\"frequency\": 2, \"value\": \"15,Juni,2004\"}, \"29,abril,2003\": {\"frequency\": 6, \"value\": \"29,abril,2003\"}, \"26,Juni,2004\": {\"frequency\": 3, \"value\": \"26,Juni,2004\"}, \"17,juni,2004\": {\"frequency\": 10, \"value\": \"17,juni,2004\"}, \"07,janvier,2004\": {\"frequency\": 16, \"value\": \"07,janvier,2004\"}, \"04,March,2001\": {\"frequency\": 2, \"value\": \"04,March,2001\"}, \"04,March,2002\": {\"frequency\": 33, \"value\": \"04,March,2002\"}, \"04,March,2003\": {\"frequency\": 218, \"value\": \"04,March,2003\"}, \"04,March,2004\": {\"frequency\": 786, \"value\": \"04,March,2004\"}, \"11,June,2000\": {\"frequency\": 1, \"value\": \"11,June,2000\"}, \"11,June,2001\": {\"frequency\": 18, \"value\": \"11,June,2001\"}, \"08,febrero,2004\": {\"frequency\": 6, \"value\": \"08,febrero,2004\"}, \"11,June,2003\": {\"frequency\": 255, \"value\": \"11,June,2003\"}, \"11,June,2004\": {\"frequency\": 3213, \"value\": \"11,June,2004\"}, \"17,juin,2004\": {\"frequency\": 14, \"value\": \"17,juin,2004\"}, \"04,august,2004\": {\"frequency\": 1, \"value\": \"04,august,2004\"}, \"29,marzo,2004\": {\"frequency\": 3, \"value\": \"29,marzo,2004\"}, \"08,agosto,2004\": {\"frequency\": 1, \"value\": \"08,agosto,2004\"}, \"08,agosto,2003\": {\"frequency\": 3, \"value\": \"08,agosto,2003\"}, \"18,agosto,2003\": {\"frequency\": 3, \"value\": \"18,agosto,2003\"}, \"29,October,2003\": {\"frequency\": 425, \"value\": \"29,October,2003\"}, \"29,Juni,2004\": {\"frequency\": 4, \"value\": \"29,Juni,2004\"}, \"16,junio,2003\": {\"frequency\": 2, \"value\": \"16,junio,2003\"}, \"23,April,2003\": {\"frequency\": 263, \"value\": \"23,April,2003\"}, \"21,janvier,2004\": {\"frequency\": 2, \"value\": \"21,janvier,2004\"}, \"17,Juni,2004\": {\"frequency\": 2, \"value\": \"17,Juni,2004\"}, \"14,Mai,2004\": {\"frequency\": 6, \"value\": \"14,Mai,2004\"}, \"18,marzo,2004\": {\"frequency\": 2, \"value\": \"18,marzo,2004\"}, \"02,novembre,2003\": {\"frequency\": 25, \"value\": \"02,novembre,2003\"}, \"30,noviembre,2003\": {\"frequency\": 2, \"value\": \"30,noviembre,2003\"}, \"07,November,2004\": {\"frequency\": 1, \"value\": \"07,November,2004\"}, \"07,November,2003\": {\"frequency\": 369, \"value\": \"07,November,2003\"}, \"07,November,2002\": {\"frequency\": 105, \"value\": \"07,November,2002\"}, \"07,November,2001\": {\"frequency\": 30, \"value\": \"07,November,2001\"}, \"07,November,2000\": {\"frequency\": 2, \"value\": \"07,November,2000\"}, \"19,September,2000\": {\"frequency\": 7, \"value\": \"19,September,2000\"}, \"06,February,2002\": {\"frequency\": 46, \"value\": \"06,February,2002\"}, \"06,February,2003\": {\"frequency\": 199, \"value\": \"06,February,2003\"}, \"06,February,2001\": {\"frequency\": 6, \"value\": \"06,February,2001\"}, \"06,February,2004\": {\"frequency\": 550, \"value\": \"06,February,2004\"}, \"22,Agosto,2004\": {\"frequency\": 5, \"value\": \"22,Agosto,2004\"}, \"11,January,1999\": {\"frequency\": 1, \"value\": \"11,January,1999\"}, \"27,mars,2004\": {\"frequency\": 5, \"value\": \"27,mars,2004\"}, \"27,mars,2003\": {\"frequency\": 2, \"value\": \"27,mars,2003\"}, \"06,May,2001\": {\"frequency\": 17, \"value\": \"06,May,2001\"}, \"22,novembre,2003\": {\"frequency\": 2, \"value\": \"22,novembre,2003\"}, \"17,mei,2004\": {\"frequency\": 6, \"value\": \"17,mei,2004\"}, \"02,December,2003\": {\"frequency\": 565, \"value\": \"02,December,2003\"}, \"02,December,2002\": {\"frequency\": 114, \"value\": \"02,December,2002\"}, \"02,December,2001\": {\"frequency\": 10, \"value\": \"02,December,2001\"}, \"02,December,2004\": {\"frequency\": 1, \"value\": \"02,December,2004\"}, \"29,Dezember,2003\": {\"frequency\": 2, \"value\": \"29,Dezember,2003\"}, \"19,mai,2004\": {\"frequency\": 3, \"value\": \"19,mai,2004\"}, \"21,junio,2004\": {\"frequency\": 145, \"value\": \"21,junio,2004\"}, \"03,October,1999\": {\"frequency\": 1, \"value\": \"03,October,1999\"}, \"25,August,2002\": {\"frequency\": 57, \"value\": \"25,August,2002\"}, \"25,August,2003\": {\"frequency\": 378, \"value\": \"25,August,2003\"}, \"25,August,2000\": {\"frequency\": 3, \"value\": \"25,August,2000\"}, \"25,August,2001\": {\"frequency\": 26, \"value\": \"25,August,2001\"}, \"23,April,2001\": {\"frequency\": 19, \"value\": \"23,April,2001\"}, \"25,August,2004\": {\"frequency\": 25, \"value\": \"25,August,2004\"}, \"17,August,2001\": {\"frequency\": 12, \"value\": \"17,August,2001\"}, \"17,August,2000\": {\"frequency\": 5, \"value\": \"17,August,2000\"}, \"24,juin,2004\": {\"frequency\": 13, \"value\": \"24,juin,2004\"}, \"17,August,2002\": {\"frequency\": 40, \"value\": \"17,August,2002\"}, \"17,August,2005\": {\"frequency\": 1, \"value\": \"17,August,2005\"}, \"17,August,2004\": {\"frequency\": 2283, \"value\": \"17,August,2004\"}, \"17,August,2006\": {\"frequency\": 1, \"value\": \"17,August,2006\"}, \"07,December,2002\": {\"frequency\": 69, \"value\": \"07,December,2002\"}, \"07,December,2003\": {\"frequency\": 373, \"value\": \"07,December,2003\"}, \"07,December,2000\": {\"frequency\": 10, \"value\": \"07,December,2000\"}, \"07,December,2001\": {\"frequency\": 21, \"value\": \"07,December,2001\"}, \"07,December,2004\": {\"frequency\": 1, \"value\": \"07,December,2004\"}, \"08,April,2002\": {\"frequency\": 34, \"value\": \"08,April,2002\"}, \"21,Februar,2004\": {\"frequency\": 1, \"value\": \"21,Februar,2004\"}, \"22,Mai,2004\": {\"frequency\": 2, \"value\": \"22,Mai,2004\"}, \"12,September,2004\": {\"frequency\": 1, \"value\": \"12,September,2004\"}, \"20,Abril,2003\": {\"frequency\": 16, \"value\": \"20,Abril,2003\"}, \"27,Mai,2004\": {\"frequency\": 2, \"value\": \"27,Mai,2004\"}, \"01,agosto,2003\": {\"frequency\": 4, \"value\": \"01,agosto,2003\"}, \"01,agosto,2004\": {\"frequency\": 176, \"value\": \"01,agosto,2004\"}, \"07,septiembre,2003\": {\"frequency\": 1, \"value\": \"07,septiembre,2003\"}, \"18,julio,2003\": {\"frequency\": 1, \"value\": \"18,julio,2003\"}, \"19,enero,2004\": {\"frequency\": 3, \"value\": \"19,enero,2004\"}, \"18,julio,2004\": {\"frequency\": 26, \"value\": \"18,julio,2004\"}, \"26,April,2004\": {\"frequency\": 1134, \"value\": \"26,April,2004\"}, \"26,April,2003\": {\"frequency\": 225, \"value\": \"26,April,2003\"}, \"26,April,2002\": {\"frequency\": 40, \"value\": \"26,April,2002\"}, \"26,April,2001\": {\"frequency\": 13, \"value\": \"26,April,2001\"}, \"18,March,2003\": {\"frequency\": 218, \"value\": \"18,March,2003\"}, \"06,avril,2004\": {\"frequency\": 1, \"value\": \"06,avril,2004\"}, \"23,June,2002\": {\"frequency\": 46, \"value\": \"23,June,2002\"}, \"18,juni,2004\": {\"frequency\": 10, \"value\": \"18,juni,2004\"}, \"04,June,2004\": {\"frequency\": 3679, \"value\": \"04,June,2004\"}, \"23,June,2000\": {\"frequency\": 2, \"value\": \"23,June,2000\"}, \"04,June,2002\": {\"frequency\": 62, \"value\": \"04,June,2002\"}, \"04,June,2003\": {\"frequency\": 208, \"value\": \"04,June,2003\"}, \"25,October,1999\": {\"frequency\": 1, \"value\": \"25,October,1999\"}, \"04,June,2001\": {\"frequency\": 39, \"value\": \"04,June,2001\"}, \"19,November,2002\": {\"frequency\": 114, \"value\": \"19,November,2002\"}, \"19,November,2003\": {\"frequency\": 551, \"value\": \"19,November,2003\"}, \"19,November,2000\": {\"frequency\": 2, \"value\": \"19,November,2000\"}, \"19,November,2001\": {\"frequency\": 16, \"value\": \"19,November,2001\"}, \"19,November,2004\": {\"frequency\": 3, \"value\": \"19,November,2004\"}, \"12,Januar,2004\": {\"frequency\": 3, \"value\": \"12,Januar,2004\"}, \"29,enero,2004\": {\"frequency\": 1, \"value\": \"29,enero,2004\"}, \"13,December,2001\": {\"frequency\": 21, \"value\": \"13,December,2001\"}, \"13,December,2000\": {\"frequency\": 15, \"value\": \"13,December,2000\"}, \"13,December,2003\": {\"frequency\": 385, \"value\": \"13,December,2003\"}, \"13,December,2002\": {\"frequency\": 88, \"value\": \"13,December,2002\"}, \"13,December,2004\": {\"frequency\": 6, \"value\": \"13,December,2004\"}, \"16,Maio,2004\": {\"frequency\": 237, \"value\": \"16,Maio,2004\"}, \"02,mayo,2004\": {\"frequency\": 4, \"value\": \"02,mayo,2004\"}, \"21,ianuarie,2004\": {\"frequency\": 2, \"value\": \"21,ianuarie,2004\"}, \"01,augustus,2004\": {\"frequency\": 1, \"value\": \"01,augustus,2004\"}, \"09,juni,2004\": {\"frequency\": 14, \"value\": \"09,juni,2004\"}, \"11,February,2003\": {\"frequency\": 173, \"value\": \"11,February,2003\"}, \"22,mars,2004\": {\"frequency\": 6, \"value\": \"22,mars,2004\"}, \"29,julio,2004\": {\"frequency\": 8, \"value\": \"29,julio,2004\"}, \"07,agosto,2003\": {\"frequency\": 4, \"value\": \"07,agosto,2003\"}, \"07,agosto,2004\": {\"frequency\": 9, \"value\": \"07,agosto,2004\"}, \"29,julio,2003\": {\"frequency\": 4, \"value\": \"29,julio,2003\"}, \"11,November,2002\": {\"frequency\": 126, \"value\": \"11,November,2002\"}, \"11,November,2003\": {\"frequency\": 522, \"value\": \"11,November,2003\"}, \"11,November,2001\": {\"frequency\": 17, \"value\": \"11,November,2001\"}, \"11,November,2004\": {\"frequency\": 1, \"value\": \"11,November,2004\"}, \"09,augustus,2004\": {\"frequency\": 1, \"value\": \"09,augustus,2004\"}, \"30,Juni,2004\": {\"frequency\": 3, \"value\": \"30,Juni,2004\"}, \"06,August,2003\": {\"frequency\": 321, \"value\": \"06,August,2003\"}, \"06,August,2002\": {\"frequency\": 89, \"value\": \"06,August,2002\"}, \"06,August,2001\": {\"frequency\": 15, \"value\": \"06,August,2001\"}, \"06,August,2000\": {\"frequency\": 5, \"value\": \"06,August,2000\"}, \"11,avril,2004\": {\"frequency\": 2, \"value\": \"11,avril,2004\"}, \"09,August,2000\": {\"frequency\": 5, \"value\": \"09,August,2000\"}, \"09,August,2001\": {\"frequency\": 13, \"value\": \"09,August,2001\"}, \"11,February,2004\": {\"frequency\": 669, \"value\": \"11,February,2004\"}, \"09,August,2003\": {\"frequency\": 187, \"value\": \"09,August,2003\"}, \"28,December,2003\": {\"frequency\": 349, \"value\": \"28,December,2003\"}, \"09,August,2005\": {\"frequency\": 1, \"value\": \"09,August,2005\"}, \"09,August,2006\": {\"frequency\": 8, \"value\": \"09,August,2006\"}, \"28,December,2000\": {\"frequency\": 1, \"value\": \"28,December,2000\"}, \"01,November,2001\": {\"frequency\": 41, \"value\": \"01,November,2001\"}, \"01,November,2000\": {\"frequency\": 6, \"value\": \"01,November,2000\"}, \"01,November,2003\": {\"frequency\": 435, \"value\": \"01,November,2003\"}, \"01,November,2002\": {\"frequency\": 119, \"value\": \"01,November,2002\"}, \"01,November,2004\": {\"frequency\": 1, \"value\": \"01,November,2004\"}, \"26,abril,2004\": {\"frequency\": 1, \"value\": \"26,abril,2004\"}, \"20,June,2004\": {\"frequency\": 4276, \"value\": \"20,June,2004\"}, \"27,Julho,2003\": {\"frequency\": 1, \"value\": \"27,Julho,2003\"}, \"16,febrero,2003\": {\"frequency\": 2, \"value\": \"16,febrero,2003\"}, \"16,febrero,2004\": {\"frequency\": 3, \"value\": \"16,febrero,2004\"}, \"01,September,2000\": {\"frequency\": 2, \"value\": \"01,September,2000\"}, \"31,July,2001\": {\"frequency\": 11, \"value\": \"31,July,2001\"}, \"31,July,2002\": {\"frequency\": 39, \"value\": \"31,July,2002\"}, \"31,July,2003\": {\"frequency\": 184, \"value\": \"31,July,2003\"}, \"31,July,2004\": {\"frequency\": 2385, \"value\": \"31,July,2004\"}, \"31,July,2006\": {\"frequency\": 1, \"value\": \"31,July,2006\"}, \"04,avril,2004\": {\"frequency\": 5, \"value\": \"04,avril,2004\"}, \"26,enero,2004\": {\"frequency\": 2, \"value\": \"26,enero,2004\"}, \"20,June,2003\": {\"frequency\": 212, \"value\": \"20,June,2003\"}, \"30,September,1999\": {\"frequency\": 3, \"value\": \"30,September,1999\"}, \"10,janvier,2004\": {\"frequency\": 3, \"value\": \"10,janvier,2004\"}, \"31,Mai,2004\": {\"frequency\": 2, \"value\": \"31,Mai,2004\"}, \"21,November,2004\": {\"frequency\": 1, \"value\": \"21,November,2004\"}, \"21,November,2003\": {\"frequency\": 435, \"value\": \"21,November,2003\"}, \"21,November,2002\": {\"frequency\": 123, \"value\": \"21,November,2002\"}, \"21,November,2001\": {\"frequency\": 22, \"value\": \"21,November,2001\"}, \"21,November,2000\": {\"frequency\": 6, \"value\": \"21,November,2000\"}, \"09,septiembre,2003\": {\"frequency\": 1, \"value\": \"09,septiembre,2003\"}, \"20,February,2002\": {\"frequency\": 36, \"value\": \"20,February,2002\"}, \"20,February,2003\": {\"frequency\": 225, \"value\": \"20,February,2003\"}, \"20,February,2001\": {\"frequency\": 7, \"value\": \"20,February,2001\"}, \"20,February,2004\": {\"frequency\": 611, \"value\": \"20,February,2004\"}, \"03,June,2004\": {\"frequency\": 5570, \"value\": \"03,June,2004\"}, \"02,Aprill,2004\": {\"frequency\": 6, \"value\": \"02,Aprill,2004\"}, \"01,julio,2004\": {\"frequency\": 9, \"value\": \"01,julio,2004\"}, \"01,julio,2003\": {\"frequency\": 2, \"value\": \"01,julio,2003\"}, \"03,June,2000\": {\"frequency\": 5, \"value\": \"03,June,2000\"}, \"03,June,2003\": {\"frequency\": 259, \"value\": \"03,June,2003\"}, \"03,June,2002\": {\"frequency\": 71, \"value\": \"03,June,2002\"}, \"03,January,2004\": {\"frequency\": 397, \"value\": \"03,January,2004\"}, \"03,January,2002\": {\"frequency\": 22, \"value\": \"03,January,2002\"}, \"30,May,1999\": {\"frequency\": 2, \"value\": \"30,May,1999\"}, \"03,January,2001\": {\"frequency\": 11, \"value\": \"03,January,2001\"}, \"06,July,2000\": {\"frequency\": 2, \"value\": \"06,July,2000\"}, \"24,December,2003\": {\"frequency\": 337, \"value\": \"24,December,2003\"}, \"24,December,2002\": {\"frequency\": 86, \"value\": \"24,December,2002\"}, \"06,mayo,2004\": {\"frequency\": 7, \"value\": \"06,mayo,2004\"}, \"06,mayo,2003\": {\"frequency\": 3, \"value\": \"06,mayo,2003\"}, \"24,December,2004\": {\"frequency\": 1, \"value\": \"24,December,2004\"}, \"24,June,2000\": {\"frequency\": 2, \"value\": \"24,June,2000\"}, \"04,diciembre,2003\": {\"frequency\": 2, \"value\": \"04,diciembre,2003\"}, \"27,September,2003\": {\"frequency\": 223, \"value\": \"27,September,2003\"}, \"27,September,2002\": {\"frequency\": 82, \"value\": \"27,September,2002\"}, \"27,September,2001\": {\"frequency\": 22, \"value\": \"27,September,2001\"}, \"27,September,2000\": {\"frequency\": 9, \"value\": \"27,September,2000\"}, \"21,December,2002\": {\"frequency\": 74, \"value\": \"21,December,2002\"}, \"21,December,2003\": {\"frequency\": 360, \"value\": \"21,December,2003\"}, \"21,December,2000\": {\"frequency\": 7, \"value\": \"21,December,2000\"}, \"21,December,2001\": {\"frequency\": 15, \"value\": \"21,December,2001\"}, \"21,December,2004\": {\"frequency\": 1, \"value\": \"21,December,2004\"}, \"27,mei,2004\": {\"frequency\": 6, \"value\": \"27,mei,2004\"}, \"04,juin,2004\": {\"frequency\": 16, \"value\": \"04,juin,2004\"}, \"02,august,2004\": {\"frequency\": 2, \"value\": \"02,august,2004\"}, \"10,mai,2004\": {\"frequency\": 5, \"value\": \"10,mai,2004\"}, \"04,Juni,2004\": {\"frequency\": 1, \"value\": \"04,Juni,2004\"}, \"04,juillet,2004\": {\"frequency\": 80, \"value\": \"04,juillet,2004\"}, \"09,febrero,2004\": {\"frequency\": 1, \"value\": \"09,febrero,2004\"}, \"28,Juli,2004\": {\"frequency\": 17, \"value\": \"28,Juli,2004\"}, \"09,febrero,2003\": {\"frequency\": 1, \"value\": \"09,febrero,2003\"}, \"05,Juni,2004\": {\"frequency\": 2, \"value\": \"05,Juni,2004\"}, \"25,January,2004\": {\"frequency\": 551, \"value\": \"25,January,2004\"}, \"25,January,2002\": {\"frequency\": 25, \"value\": \"25,January,2002\"}, \"25,January,2003\": {\"frequency\": 104, \"value\": \"25,January,2003\"}, \"25,January,2001\": {\"frequency\": 5, \"value\": \"25,January,2001\"}, \"07,January,2002\": {\"frequency\": 24, \"value\": \"07,January,2002\"}, \"07,January,2003\": {\"frequency\": 138, \"value\": \"07,January,2003\"}, \"09,mayo,2003\": {\"frequency\": 2, \"value\": \"09,mayo,2003\"}, \"07,January,2001\": {\"frequency\": 3, \"value\": \"07,January,2001\"}, \"05,May,1999\": {\"frequency\": 1, \"value\": \"05,May,1999\"}, \"09,mayo,2004\": {\"frequency\": 1, \"value\": \"09,mayo,2004\"}, \"07,January,2004\": {\"frequency\": 512, \"value\": \"07,January,2004\"}, \"12,agosto,2003\": {\"frequency\": 2, \"value\": \"12,agosto,2003\"}, \"20,mei,2004\": {\"frequency\": 2, \"value\": \"20,mei,2004\"}, \"11,febrero,2003\": {\"frequency\": 2, \"value\": \"11,febrero,2003\"}, \"12,agosto,2004\": {\"frequency\": 42, \"value\": \"12,agosto,2004\"}, \"02,enero,2004\": {\"frequency\": 1, \"value\": \"02,enero,2004\"}, \"28,juillet,2004\": {\"frequency\": 7, \"value\": \"28,juillet,2004\"}, \"03,April,2002\": {\"frequency\": 27, \"value\": \"03,April,2002\"}, \"03,April,2003\": {\"frequency\": 224, \"value\": \"03,April,2003\"}, \"03,April,2000\": {\"frequency\": 3, \"value\": \"03,April,2000\"}, \"03,April,2001\": {\"frequency\": 9, \"value\": \"03,April,2001\"}, \"03,April,2004\": {\"frequency\": 608, \"value\": \"03,April,2004\"}, \"09,juillet,2004\": {\"frequency\": 11, \"value\": \"09,juillet,2004\"}, \"07,mars,2004\": {\"frequency\": 10, \"value\": \"07,mars,2004\"}, \"24,toukokuu,2004\": {\"frequency\": 1, \"value\": \"24,toukokuu,2004\"}, \"04,August,2001\": {\"frequency\": 11, \"value\": \"04,August,2001\"}, \"04,August,2000\": {\"frequency\": 2, \"value\": \"04,August,2000\"}, \"04,August,2003\": {\"frequency\": 294, \"value\": \"04,August,2003\"}, \"04,August,2002\": {\"frequency\": 37, \"value\": \"04,August,2002\"}, \"06,Juni,2004\": {\"frequency\": 5, \"value\": \"06,Juni,2004\"}, \"04,August,2004\": {\"frequency\": 8661, \"value\": \"04,August,2004\"}, \"21,Januar,2004\": {\"frequency\": 6, \"value\": \"21,Januar,2004\"}, \"28,marzo,2004\": {\"frequency\": 2, \"value\": \"28,marzo,2004\"}, \"27,November,2001\": {\"frequency\": 14, \"value\": \"27,November,2001\"}, \"27,November,2000\": {\"frequency\": 10, \"value\": \"27,November,2000\"}, \"27,November,2003\": {\"frequency\": 402, \"value\": \"27,November,2003\"}, \"27,November,2002\": {\"frequency\": 103, \"value\": \"27,November,2002\"}, \"27,November,2004\": {\"frequency\": 1, \"value\": \"27,November,2004\"}, \"17,January,2004\": {\"frequency\": 362, \"value\": \"17,January,2004\"}, \"17,January,2003\": {\"frequency\": 154, \"value\": \"17,January,2003\"}, \"17,January,2002\": {\"frequency\": 23, \"value\": \"17,January,2002\"}, \"17,January,2001\": {\"frequency\": 8, \"value\": \"17,January,2001\"}, \"21,January,2002\": {\"frequency\": 13, \"value\": \"21,January,2002\"}, \"21,January,2003\": {\"frequency\": 201, \"value\": \"21,January,2003\"}, \"21,January,2001\": {\"frequency\": 2, \"value\": \"21,January,2001\"}, \"21,January,2004\": {\"frequency\": 660, \"value\": \"21,January,2004\"}, \"05,May,2003\": {\"frequency\": 222, \"value\": \"05,May,2003\"}, \"14,marzo,2004\": {\"frequency\": 1, \"value\": \"14,marzo,2004\"}, \"05,May,2001\": {\"frequency\": 5, \"value\": \"05,May,2001\"}, \"14,marzo,2003\": {\"frequency\": 3, \"value\": \"14,marzo,2003\"}, \"05,May,2004\": {\"frequency\": 1266, \"value\": \"05,May,2004\"}, \"08,December,2001\": {\"frequency\": 12, \"value\": \"08,December,2001\"}, \"08,December,2000\": {\"frequency\": 4, \"value\": \"08,December,2000\"}, \"08,December,2003\": {\"frequency\": 520, \"value\": \"08,December,2003\"}, \"08,December,2002\": {\"frequency\": 85, \"value\": \"08,December,2002\"}, \"13,July,2004\": {\"frequency\": 4874, \"value\": \"13,July,2004\"}, \"08,December,2004\": {\"frequency\": 1, \"value\": \"08,December,2004\"}, \"13,mars,2004\": {\"frequency\": 29, \"value\": \"13,mars,2004\"}, \"26,Januar,2004\": {\"frequency\": 3, \"value\": \"26,Januar,2004\"}, \"12,marzo,2004\": {\"frequency\": 2, \"value\": \"12,marzo,2004\"}, \"10,febrero,2004\": {\"frequency\": 2, \"value\": \"10,febrero,2004\"}, \"10,febrero,2003\": {\"frequency\": 1, \"value\": \"10,febrero,2003\"}, \"29,January,2002\": {\"frequency\": 34, \"value\": \"29,January,2002\"}, \"29,January,2003\": {\"frequency\": 192, \"value\": \"29,January,2003\"}, \"29,January,2000\": {\"frequency\": 1, \"value\": \"29,January,2000\"}, \"29,January,2001\": {\"frequency\": 7, \"value\": \"29,January,2001\"}, \"29,January,2004\": {\"frequency\": 702, \"value\": \"29,January,2004\"}, \"26,August,2004\": {\"frequency\": 2, \"value\": \"26,August,2004\"}, \"08,Juni,2004\": {\"frequency\": 3, \"value\": \"08,Juni,2004\"}, \"26,August,2001\": {\"frequency\": 18, \"value\": \"26,August,2001\"}, \"16,abril,2004\": {\"frequency\": 4, \"value\": \"16,abril,2004\"}, \"26,August,2003\": {\"frequency\": 380, \"value\": \"26,August,2003\"}, \"26,August,2002\": {\"frequency\": 81, \"value\": \"26,August,2002\"}, \"12,July,2004\": {\"frequency\": 4816, \"value\": \"12,July,2004\"}, \"12,July,2001\": {\"frequency\": 22, \"value\": \"12,July,2001\"}, \"12,July,2000\": {\"frequency\": 1, \"value\": \"12,July,2000\"}, \"12,July,2003\": {\"frequency\": 265, \"value\": \"12,July,2003\"}, \"12,July,2002\": {\"frequency\": 38, \"value\": \"12,July,2002\"}, \"31,May,2001\": {\"frequency\": 10, \"value\": \"31,May,2001\"}, \"31,May,2002\": {\"frequency\": 21, \"value\": \"31,May,2002\"}, \"31,May,2003\": {\"frequency\": 104, \"value\": \"31,May,2003\"}, \"21,April,2002\": {\"frequency\": 24, \"value\": \"21,April,2002\"}, \"21,April,2003\": {\"frequency\": 269, \"value\": \"21,April,2003\"}, \"21,April,2001\": {\"frequency\": 12, \"value\": \"21,April,2001\"}, \"05,August,2004\": {\"frequency\": 9297, \"value\": \"05,August,2004\"}, \"12,September,2002\": {\"frequency\": 73, \"value\": \"12,September,2002\"}, \"12,September,2001\": {\"frequency\": 23, \"value\": \"12,September,2001\"}, \"12,September,2000\": {\"frequency\": 9, \"value\": \"12,September,2000\"}, \"05,August,2001\": {\"frequency\": 20, \"value\": \"05,August,2001\"}, \"05,August,2002\": {\"frequency\": 62, \"value\": \"05,August,2002\"}, \"05,August,2003\": {\"frequency\": 289, \"value\": \"05,August,2003\"}, \"25,enero,2004\": {\"frequency\": 2, \"value\": \"25,enero,2004\"}, \"22,February,2004\": {\"frequency\": 586, \"value\": \"22,February,2004\"}, \"27,maj,2004\": {\"frequency\": 1, \"value\": \"27,maj,2004\"}, \"29,June,1999\": {\"frequency\": 1, \"value\": \"29,June,1999\"}, \"02,May,1999\": {\"frequency\": 4, \"value\": \"02,May,1999\"}, \"07,Juni,2004\": {\"frequency\": 4, \"value\": \"07,Juni,2004\"}, \"16,mai,2004\": {\"frequency\": 2, \"value\": \"16,mai,2004\"}, \"04,December,2004\": {\"frequency\": 1, \"value\": \"04,December,2004\"}, \"04,December,2001\": {\"frequency\": 23, \"value\": \"04,December,2001\"}, \"04,December,2000\": {\"frequency\": 11, \"value\": \"04,December,2000\"}, \"04,December,2003\": {\"frequency\": 533, \"value\": \"04,December,2003\"}, \"04,December,2002\": {\"frequency\": 127, \"value\": \"04,December,2002\"}, \"11,June,2002\": {\"frequency\": 52, \"value\": \"11,June,2002\"}, \"12,juin,2004\": {\"frequency\": 9, \"value\": \"12,juin,2004\"}, \"17,April,2004\": {\"frequency\": 623, \"value\": \"17,April,2004\"}, \"21,July,2003\": {\"frequency\": 312, \"value\": \"21,July,2003\"}, \"02,July,2003\": {\"frequency\": 294, \"value\": \"02,July,2003\"}, \"21,July,2001\": {\"frequency\": 14, \"value\": \"21,July,2001\"}, \"02,July,2001\": {\"frequency\": 23, \"value\": \"02,July,2001\"}, \"02,July,2004\": {\"frequency\": 7669, \"value\": \"02,July,2004\"}, \"21,July,2004\": {\"frequency\": 5823, \"value\": \"21,July,2004\"}, \"02,septiembre,2003\": {\"frequency\": 3, \"value\": \"02,septiembre,2003\"}, \"23,December,1999\": {\"frequency\": 1, \"value\": \"23,December,1999\"}, \"02,August,2004\": {\"frequency\": 16545, \"value\": \"02,August,2004\"}, \"02,August,2003\": {\"frequency\": 180, \"value\": \"02,August,2003\"}, \"02,August,2002\": {\"frequency\": 57, \"value\": \"02,August,2002\"}, \"02,August,2001\": {\"frequency\": 13, \"value\": \"02,August,2001\"}, \"02,August,2000\": {\"frequency\": 1, \"value\": \"02,August,2000\"}, \"22,juli,2004\": {\"frequency\": 2, \"value\": \"22,juli,2004\"}, \"23,toukokuu,2004\": {\"frequency\": 1, \"value\": \"23,toukokuu,2004\"}, \"16,July,2003\": {\"frequency\": 288, \"value\": \"16,July,2003\"}, \"13,giugno,2004\": {\"frequency\": 3, \"value\": \"13,giugno,2004\"}, \"09,Juli,2004\": {\"frequency\": 2, \"value\": \"09,Juli,2004\"}, \"01,juillet,2004\": {\"frequency\": 65, \"value\": \"01,juillet,2004\"}, \"07,junio,2004\": {\"frequency\": 3, \"value\": \"07,junio,2004\"}, \"06,juin,2004\": {\"frequency\": 18, \"value\": \"06,juin,2004\"}, \"29,March,2004\": {\"frequency\": 956, \"value\": \"29,March,2004\"}, \"28,octubre,2003\": {\"frequency\": 3, \"value\": \"28,octubre,2003\"}, \"08,March,1999\": {\"frequency\": 1, \"value\": \"08,March,1999\"}, \"24,November,2000\": {\"frequency\": 1, \"value\": \"24,November,2000\"}, \"26,March,2004\": {\"frequency\": 712, \"value\": \"26,March,2004\"}, \"26,March,2000\": {\"frequency\": 11, \"value\": \"26,March,2000\"}, \"26,March,2001\": {\"frequency\": 9, \"value\": \"26,March,2001\"}, \"26,March,2002\": {\"frequency\": 22, \"value\": \"26,March,2002\"}, \"26,March,2003\": {\"frequency\": 193, \"value\": \"26,March,2003\"}, \"29,March,2003\": {\"frequency\": 102, \"value\": \"29,March,2003\"}, \"15,diciembre,2003\": {\"frequency\": 3, \"value\": \"15,diciembre,2003\"}, \"16,September,2003\": {\"frequency\": 379, \"value\": \"16,September,2003\"}, \"16,September,2002\": {\"frequency\": 89, \"value\": \"16,September,2002\"}, \"16,September,2001\": {\"frequency\": 29, \"value\": \"16,September,2001\"}, \"23,mai,2004\": {\"frequency\": 2, \"value\": \"23,mai,2004\"}, \"06,Mai,2004\": {\"frequency\": 2, \"value\": \"06,Mai,2004\"}, \"07,September,2001\": {\"frequency\": 13, \"value\": \"07,September,2001\"}, \"07,September,2000\": {\"frequency\": 7, \"value\": \"07,September,2000\"}, \"07,September,2003\": {\"frequency\": 313, \"value\": \"07,September,2003\"}, \"07,September,2002\": {\"frequency\": 47, \"value\": \"07,September,2002\"}, \"13,March,2004\": {\"frequency\": 518, \"value\": \"13,March,2004\"}, \"12,febrero,2004\": {\"frequency\": 1, \"value\": \"12,febrero,2004\"}, \"13,March,2001\": {\"frequency\": 18, \"value\": \"13,March,2001\"}, \"13,March,2002\": {\"frequency\": 31, \"value\": \"13,March,2002\"}, \"12,January,2003\": {\"frequency\": 158, \"value\": \"12,January,2003\"}, \"22,Junho,2003\": {\"frequency\": 13, \"value\": \"22,Junho,2003\"}, \"22,lipanj,2004\": {\"frequency\": 1, \"value\": \"22,lipanj,2004\"}, \"27,juillet,2004\": {\"frequency\": 2, \"value\": \"27,juillet,2004\"}, \"02,May,2004\": {\"frequency\": 891, \"value\": \"02,May,2004\"}, \"14,October,2004\": {\"frequency\": 1, \"value\": \"14,October,2004\"}, \"04,Juuni,2004\": {\"frequency\": 4, \"value\": \"04,Juuni,2004\"}, \"08,Mai,2004\": {\"frequency\": 1, \"value\": \"08,Mai,2004\"}, \"14,October,2001\": {\"frequency\": 27, \"value\": \"14,October,2001\"}, \"14,October,2002\": {\"frequency\": 100, \"value\": \"14,October,2002\"}, \"14,October,2003\": {\"frequency\": 489, \"value\": \"14,October,2003\"}, \"14,abril,2003\": {\"frequency\": 3, \"value\": \"14,abril,2003\"}, \"14,Dezember,2003\": {\"frequency\": 1, \"value\": \"14,Dezember,2003\"}, \"02,Februar,2004\": {\"frequency\": 14, \"value\": \"02,Februar,2004\"}, \"17,March,2001\": {\"frequency\": 1, \"value\": \"17,March,2001\"}, \"17,March,2002\": {\"frequency\": 22, \"value\": \"17,March,2002\"}, \"17,March,2003\": {\"frequency\": 217, \"value\": \"17,March,2003\"}, \"17,March,2004\": {\"frequency\": 810, \"value\": \"17,March,2004\"}, \"03,February,2001\": {\"frequency\": 6, \"value\": \"03,February,2001\"}, \"28,mayo,2004\": {\"frequency\": 7, \"value\": \"28,mayo,2004\"}, \"28,mai,2004\": {\"frequency\": 10, \"value\": \"28,mai,2004\"}, \"12,august,2004\": {\"frequency\": 1, \"value\": \"12,august,2004\"}, \"15,agosto,2004\": {\"frequency\": 24, \"value\": \"15,agosto,2004\"}, \"16,June,2004\": {\"frequency\": 3913, \"value\": \"16,June,2004\"}, \"19,Januar,2004\": {\"frequency\": 1, \"value\": \"19,Januar,2004\"}, \"05,avril,2004\": {\"frequency\": 1, \"value\": \"05,avril,2004\"}, \"12,mai,2004\": {\"frequency\": 4, \"value\": \"12,mai,2004\"}, \"01,Juni,2004\": {\"frequency\": 8, \"value\": \"01,Juni,2004\"}, \"23,March,2003\": {\"frequency\": 214, \"value\": \"23,March,2003\"}, \"23,March,2002\": {\"frequency\": 31, \"value\": \"23,March,2002\"}, \"23,March,2001\": {\"frequency\": 6, \"value\": \"23,March,2001\"}, \"23,March,2000\": {\"frequency\": 4, \"value\": \"23,March,2000\"}, \"20,June,2000\": {\"frequency\": 8, \"value\": \"20,June,2000\"}, \"20,June,2001\": {\"frequency\": 17, \"value\": \"20,June,2001\"}, \"20,June,2002\": {\"frequency\": 55, \"value\": \"20,June,2002\"}, \"23,March,2004\": {\"frequency\": 781, \"value\": \"23,March,2004\"}, \"27,marzo,2003\": {\"frequency\": 1, \"value\": \"27,marzo,2003\"}, \"17,June,2001\": {\"frequency\": 17, \"value\": \"17,June,2001\"}, \"25,Januar,2004\": {\"frequency\": 1, \"value\": \"25,Januar,2004\"}, \"26,juni,2004\": {\"frequency\": 2, \"value\": \"26,juni,2004\"}, \"23,juli,2004\": {\"frequency\": 4, \"value\": \"23,juli,2004\"}, \"01,October,2003\": {\"frequency\": 444, \"value\": \"01,October,2003\"}, \"22,December,2004\": {\"frequency\": 1, \"value\": \"22,December,2004\"}, \"22,December,2001\": {\"frequency\": 19, \"value\": \"22,December,2001\"}, \"22,December,2000\": {\"frequency\": 3, \"value\": \"22,December,2000\"}, \"22,December,2003\": {\"frequency\": 473, \"value\": \"22,December,2003\"}, \"22,December,2002\": {\"frequency\": 95, \"value\": \"22,December,2002\"}, \"14,September,2001\": {\"frequency\": 13, \"value\": \"14,September,2001\"}, \"14,September,2000\": {\"frequency\": 3, \"value\": \"14,September,2000\"}, \"14,September,2003\": {\"frequency\": 298, \"value\": \"14,September,2003\"}, \"14,September,2002\": {\"frequency\": 68, \"value\": \"14,September,2002\"}, \"14,mayo,2004\": {\"frequency\": 2, \"value\": \"14,mayo,2004\"}, \"24,Februar,2004\": {\"frequency\": 1, \"value\": \"24,Februar,2004\"}, \"10,marzo,2003\": {\"frequency\": 5, \"value\": \"10,marzo,2003\"}, \"03,juillet,2004\": {\"frequency\": 31, \"value\": \"03,juillet,2004\"}, \"10,mars,2004\": {\"frequency\": 4, \"value\": \"10,mars,2004\"}, \"10,Mai,2004\": {\"frequency\": 2, \"value\": \"10,Mai,2004\"}, \"11,diciembre,2003\": {\"frequency\": 1, \"value\": \"11,diciembre,2003\"}, \"20,junio,2003\": {\"frequency\": 1, \"value\": \"20,junio,2003\"}, \"20,junio,2004\": {\"frequency\": 3, \"value\": \"20,junio,2004\"}, \"09,January,2004\": {\"frequency\": 440, \"value\": \"09,January,2004\"}, \"09,January,2001\": {\"frequency\": 8, \"value\": \"09,January,2001\"}, \"09,January,2002\": {\"frequency\": 28, \"value\": \"09,January,2002\"}, \"09,January,2003\": {\"frequency\": 122, \"value\": \"09,January,2003\"}, \"01,Februar,2004\": {\"frequency\": 15, \"value\": \"01,Februar,2004\"}, \"19,marzo,2004\": {\"frequency\": 1, \"value\": \"19,marzo,2004\"}, \"12,June,2004\": {\"frequency\": 2402, \"value\": \"12,June,2004\"}, \"12,June,2003\": {\"frequency\": 259, \"value\": \"12,June,2003\"}, \"12,June,2002\": {\"frequency\": 55, \"value\": \"12,June,2002\"}, \"12,June,2001\": {\"frequency\": 14, \"value\": \"12,June,2001\"}, \"08,July,2000\": {\"frequency\": 1, \"value\": \"08,July,2000\"}, \"08,July,2001\": {\"frequency\": 15, \"value\": \"08,July,2001\"}, \"08,July,2002\": {\"frequency\": 63, \"value\": \"08,July,2002\"}, \"08,July,2003\": {\"frequency\": 336, \"value\": \"08,July,2003\"}, \"08,July,2004\": {\"frequency\": 5706, \"value\": \"08,July,2004\"}, \"14,December,2002\": {\"frequency\": 54, \"value\": \"14,December,2002\"}, \"14,December,2003\": {\"frequency\": 445, \"value\": \"14,December,2003\"}, \"14,December,2000\": {\"frequency\": 6, \"value\": \"14,December,2000\"}, \"14,December,2001\": {\"frequency\": 12, \"value\": \"14,December,2001\"}, \"14,December,2004\": {\"frequency\": 2, \"value\": \"14,December,2004\"}, \"30,April,2004\": {\"frequency\": 632, \"value\": \"30,April,2004\"}, \"05,Dezember,2003\": {\"frequency\": 2, \"value\": \"05,Dezember,2003\"}, \"30,April,2001\": {\"frequency\": 5, \"value\": \"30,April,2001\"}, \"30,April,2002\": {\"frequency\": 39, \"value\": \"30,April,2002\"}, \"30,April,2003\": {\"frequency\": 158, \"value\": \"30,April,2003\"}, \"01,Mai,2004\": {\"frequency\": 1, \"value\": \"01,Mai,2004\"}, \"25,Janeiro,2004\": {\"frequency\": 4, \"value\": \"25,Janeiro,2004\"}, \"21,Setembro,2003\": {\"frequency\": 25, \"value\": \"21,Setembro,2003\"}, \"13,June,2002\": {\"frequency\": 75, \"value\": \"13,June,2002\"}, \"18,maj,2004\": {\"frequency\": 13, \"value\": \"18,maj,2004\"}, \"08,junio,2003\": {\"frequency\": 1, \"value\": \"08,junio,2003\"}, \"17,September,2003\": {\"frequency\": 429, \"value\": \"17,September,2003\"}, \"26,Outubro,2003\": {\"frequency\": 2, \"value\": \"26,Outubro,2003\"}, \"08,August,2004\": {\"frequency\": 6348, \"value\": \"08,August,2004\"}, \"08,August,2001\": {\"frequency\": 12, \"value\": \"08,August,2001\"}, \"08,August,2000\": {\"frequency\": 1, \"value\": \"08,August,2000\"}, \"08,August,2003\": {\"frequency\": 264, \"value\": \"08,August,2003\"}, \"08,August,2002\": {\"frequency\": 63, \"value\": \"08,August,2002\"}, \"04,January,2004\": {\"frequency\": 550, \"value\": \"04,January,2004\"}, \"21,March,2001\": {\"frequency\": 8, \"value\": \"21,March,2001\"}, \"04,January,2002\": {\"frequency\": 25, \"value\": \"04,January,2002\"}, \"27,March,2004\": {\"frequency\": 633, \"value\": \"27,March,2004\"}, \"27,March,2003\": {\"frequency\": 231, \"value\": \"27,March,2003\"}, \"27,March,2002\": {\"frequency\": 27, \"value\": \"27,March,2002\"}, \"27,March,2001\": {\"frequency\": 8, \"value\": \"27,March,2001\"}, \"27,March,2000\": {\"frequency\": 11, \"value\": \"27,March,2000\"}, \"13,January,1999\": {\"frequency\": 1, \"value\": \"13,January,1999\"}, \"29,February,2000\": {\"frequency\": 1, \"value\": \"29,February,2000\"}, \"06,juli,2004\": {\"frequency\": 6, \"value\": \"06,juli,2004\"}, \"04,October,2001\": {\"frequency\": 26, \"value\": \"04,October,2001\"}, \"04,October,2000\": {\"frequency\": 6, \"value\": \"04,October,2000\"}, \"04,October,2003\": {\"frequency\": 315, \"value\": \"04,October,2003\"}, \"04,October,2002\": {\"frequency\": 54, \"value\": \"04,October,2002\"}, \"04,October,2004\": {\"frequency\": 1, \"value\": \"04,October,2004\"}, \"22,November,2004\": {\"frequency\": 1, \"value\": \"22,November,2004\"}, \"19,mars,2004\": {\"frequency\": 1, \"value\": \"19,mars,2004\"}, \"19,December,2001\": {\"frequency\": 17, \"value\": \"19,December,2001\"}, \"25,juillet,2004\": {\"frequency\": 9, \"value\": \"25,juillet,2004\"}, \"09,July,2004\": {\"frequency\": 4545, \"value\": \"09,July,2004\"}, \"25,juli,2004\": {\"frequency\": 1, \"value\": \"25,juli,2004\"}, \"09,July,2001\": {\"frequency\": 24, \"value\": \"09,July,2001\"}, \"09,July,2003\": {\"frequency\": 280, \"value\": \"09,July,2003\"}, \"09,July,2002\": {\"frequency\": 68, \"value\": \"09,July,2002\"}, \"02,September,1999\": {\"frequency\": 1, \"value\": \"02,September,1999\"}, \"22,November,2000\": {\"frequency\": 2, \"value\": \"22,November,2000\"}, \"29,Setembro,2002\": {\"frequency\": 6, \"value\": \"29,Setembro,2002\"}, \"22,November,2001\": {\"frequency\": 25, \"value\": \"22,November,2001\"}, \"16,iulie,2004\": {\"frequency\": 2, \"value\": \"16,iulie,2004\"}, \"30,juillet,2004\": {\"frequency\": 4, \"value\": \"30,juillet,2004\"}, \"22,November,2003\": {\"frequency\": 349, \"value\": \"22,November,2003\"}, \"10,March,2001\": {\"frequency\": 2, \"value\": \"10,March,2001\"}, \"08,May,2001\": {\"frequency\": 15, \"value\": \"08,May,2001\"}, \"30,mars,2004\": {\"frequency\": 3, \"value\": \"30,mars,2004\"}, \"01,mai,2004\": {\"frequency\": 3, \"value\": \"01,mai,2004\"}, \"08,May,2004\": {\"frequency\": 821, \"value\": \"08,May,2004\"}, \"10,March,2004\": {\"frequency\": 740, \"value\": \"10,March,2004\"}, \"24,Mai,2004\": {\"frequency\": 1, \"value\": \"24,Mai,2004\"}, \"18,abril,2004\": {\"frequency\": 1, \"value\": \"18,abril,2004\"}, \"02,June,2001\": {\"frequency\": 7, \"value\": \"02,June,2001\"}, \"02,June,2002\": {\"frequency\": 45, \"value\": \"02,June,2002\"}, \"02,June,2003\": {\"frequency\": 248, \"value\": \"02,June,2003\"}, \"02,June,2004\": {\"frequency\": 6563, \"value\": \"02,June,2004\"}, \"13,marzo,2003\": {\"frequency\": 2, \"value\": \"13,marzo,2003\"}, \"16,October,2002\": {\"frequency\": 115, \"value\": \"16,October,2002\"}, \"16,October,2003\": {\"frequency\": 445, \"value\": \"16,October,2003\"}, \"16,October,2000\": {\"frequency\": 14, \"value\": \"16,October,2000\"}, \"16,October,2001\": {\"frequency\": 45, \"value\": \"16,October,2001\"}, \"03,august,2004\": {\"frequency\": 6, \"value\": \"03,august,2004\"}, \"24,Juli,2004\": {\"frequency\": 3, \"value\": \"24,Juli,2004\"}, \"13,February,2000\": {\"frequency\": 1, \"value\": \"13,February,2000\"}, \"13,February,2001\": {\"frequency\": 4, \"value\": \"13,February,2001\"}, \"13,junio,2004\": {\"frequency\": 9, \"value\": \"13,junio,2004\"}, \"13,February,2003\": {\"frequency\": 226, \"value\": \"13,February,2003\"}, \"13,February,2004\": {\"frequency\": 619, \"value\": \"13,February,2004\"}, \"05,November,2000\": {\"frequency\": 4, \"value\": \"05,November,2000\"}, \"05,November,2003\": {\"frequency\": 406, \"value\": \"05,November,2003\"}, \"05,November,2002\": {\"frequency\": 123, \"value\": \"05,November,2002\"}, \"22,May,2004\": {\"frequency\": 2251, \"value\": \"22,May,2004\"}, \"29,junio,2004\": {\"frequency\": 9, \"value\": \"29,junio,2004\"}, \"22,May,2000\": {\"frequency\": 1, \"value\": \"22,May,2000\"}, \"22,May,2001\": {\"frequency\": 13, \"value\": \"22,May,2001\"}, \"22,May,2002\": {\"frequency\": 42, \"value\": \"22,May,2002\"}, \"22,May,2003\": {\"frequency\": 242, \"value\": \"22,May,2003\"}, \"05,desember,2002\": {\"frequency\": 9, \"value\": \"05,desember,2002\"}, \"19,julio,2004\": {\"frequency\": 11, \"value\": \"19,julio,2004\"}, \"22,October,2001\": {\"frequency\": 39, \"value\": \"22,October,2001\"}, \"22,October,2000\": {\"frequency\": 6, \"value\": \"22,October,2000\"}, \"22,October,2003\": {\"frequency\": 468, \"value\": \"22,October,2003\"}, \"22,October,2002\": {\"frequency\": 95, \"value\": \"22,October,2002\"}, \"22,October,2004\": {\"frequency\": 1, \"value\": \"22,October,2004\"}, \"16,November,2000\": {\"frequency\": 3, \"value\": \"16,November,2000\"}, \"08,Dezembro,2002\": {\"frequency\": 7, \"value\": \"08,Dezembro,2002\"}, \"15,November,2000\": {\"frequency\": 11, \"value\": \"15,November,2000\"}, \"15,November,2001\": {\"frequency\": 18, \"value\": \"15,November,2001\"}, \"02,mars,2004\": {\"frequency\": 1, \"value\": \"02,mars,2004\"}, \"14,febrero,2003\": {\"frequency\": 1, \"value\": \"14,febrero,2003\"}, \"28,julio,2003\": {\"frequency\": 1, \"value\": \"28,julio,2003\"}, \"11,Juuni,2004\": {\"frequency\": 3, \"value\": \"11,Juuni,2004\"}, \"20,August,1999\": {\"frequency\": 1, \"value\": \"20,August,1999\"}, \"28,janvier,2004\": {\"frequency\": 2, \"value\": \"28,janvier,2004\"}, \"08,January,2003\": {\"frequency\": 123, \"value\": \"08,January,2003\"}, \"08,January,2002\": {\"frequency\": 20, \"value\": \"08,January,2002\"}, \"08,January,2001\": {\"frequency\": 10, \"value\": \"08,January,2001\"}, \"22,diciembre,2003\": {\"frequency\": 4, \"value\": \"22,diciembre,2003\"}, \"02,julio,2004\": {\"frequency\": 32, \"value\": \"02,julio,2004\"}, \"08,January,2004\": {\"frequency\": 552, \"value\": \"08,January,2004\"}, \"09,September,2003\": {\"frequency\": 402, \"value\": \"09,September,2003\"}, \"09,September,2002\": {\"frequency\": 87, \"value\": \"09,September,2002\"}, \"09,September,2001\": {\"frequency\": 7, \"value\": \"09,September,2001\"}, \"09,September,2000\": {\"frequency\": 3, \"value\": \"09,September,2000\"}, \"30,August,2000\": {\"frequency\": 3, \"value\": \"30,August,2000\"}, \"30,August,2001\": {\"frequency\": 34, \"value\": \"30,August,2001\"}, \"30,August,2002\": {\"frequency\": 48, \"value\": \"30,August,2002\"}, \"30,August,2003\": {\"frequency\": 222, \"value\": \"30,August,2003\"}, \"30,August,2004\": {\"frequency\": 1, \"value\": \"30,August,2004\"}, \"09,Juuli,2004\": {\"frequency\": 5, \"value\": \"09,Juuli,2004\"}, \"17,Novembro,2002\": {\"frequency\": 4, \"value\": \"17,Novembro,2002\"}, \"10,abril,2003\": {\"frequency\": 2, \"value\": \"10,abril,2003\"}, \"25,september,2003\": {\"frequency\": 52, \"value\": \"25,september,2003\"}, \"15,mayo,2003\": {\"frequency\": 1, \"value\": \"15,mayo,2003\"}, \"09,March,2000\": {\"frequency\": 1, \"value\": \"09,March,2000\"}, \"01,desember,2002\": {\"frequency\": 36, \"value\": \"01,desember,2002\"}, \"28,abril,2003\": {\"frequency\": 2, \"value\": \"28,abril,2003\"}, \"07,April,2004\": {\"frequency\": 820, \"value\": \"07,April,2004\"}, \"07,April,2002\": {\"frequency\": 20, \"value\": \"07,April,2002\"}, \"07,April,2003\": {\"frequency\": 848, \"value\": \"07,April,2003\"}, \"05,mayo,2003\": {\"frequency\": 3, \"value\": \"05,mayo,2003\"}, \"07,April,2001\": {\"frequency\": 7, \"value\": \"07,April,2001\"}, \"16,July,1999\": {\"frequency\": 2, \"value\": \"16,July,1999\"}, \"31,March,2000\": {\"frequency\": 1, \"value\": \"31,March,2000\"}, \"11,August,1999\": {\"frequency\": 1, \"value\": \"11,August,1999\"}, \"16,Juni,2004\": {\"frequency\": 4, \"value\": \"16,Juni,2004\"}, \"19,juni,2004\": {\"frequency\": 1, \"value\": \"19,juni,2004\"}, \"29,April,2004\": {\"frequency\": 904, \"value\": \"29,April,2004\"}, \"29,April,2002\": {\"frequency\": 48, \"value\": \"29,April,2002\"}, \"29,April,2003\": {\"frequency\": 289, \"value\": \"29,April,2003\"}, \"31,March,2002\": {\"frequency\": 17, \"value\": \"31,March,2002\"}, \"31,marzo,2003\": {\"frequency\": 2, \"value\": \"31,marzo,2003\"}, \"05,septiembre,2003\": {\"frequency\": 1, \"value\": \"05,septiembre,2003\"}, \"29,febrero,2004\": {\"frequency\": 1, \"value\": \"29,febrero,2004\"}, \"28,March,2002\": {\"frequency\": 34, \"value\": \"28,March,2002\"}, \"28,March,2003\": {\"frequency\": 154, \"value\": \"28,March,2003\"}, \"28,March,2000\": {\"frequency\": 9, \"value\": \"28,March,2000\"}, \"28,March,2001\": {\"frequency\": 4, \"value\": \"28,March,2001\"}, \"31,March,2003\": {\"frequency\": 196, \"value\": \"31,March,2003\"}, \"28,March,2004\": {\"frequency\": 688, \"value\": \"28,March,2004\"}, \"06,September,2002\": {\"frequency\": 61, \"value\": \"06,September,2002\"}, \"06,September,2003\": {\"frequency\": 154, \"value\": \"06,September,2003\"}, \"06,September,2000\": {\"frequency\": 7, \"value\": \"06,September,2000\"}, \"06,September,2001\": {\"frequency\": 16, \"value\": \"06,September,2001\"}, \"23,Juli,2004\": {\"frequency\": 5, \"value\": \"23,Juli,2004\"}, \"24,March,2004\": {\"frequency\": 874, \"value\": \"24,March,2004\"}, \"24,March,2002\": {\"frequency\": 20, \"value\": \"24,March,2002\"}, \"24,March,2003\": {\"frequency\": 252, \"value\": \"24,March,2003\"}, \"24,March,2000\": {\"frequency\": 1, \"value\": \"24,March,2000\"}, \"24,March,2001\": {\"frequency\": 4, \"value\": \"24,March,2001\"}, \"17,mayo,2004\": {\"frequency\": 4, \"value\": \"17,mayo,2004\"}, \"05,September,2004\": {\"frequency\": 1, \"value\": \"05,September,2004\"}, \"29,August,2002\": {\"frequency\": 73, \"value\": \"29,August,2002\"}, \"29,August,2003\": {\"frequency\": 261, \"value\": \"29,August,2003\"}, \"05,September,2001\": {\"frequency\": 15, \"value\": \"05,September,2001\"}, \"29,August,2001\": {\"frequency\": 51, \"value\": \"29,August,2001\"}, \"29,septiembre,2003\": {\"frequency\": 1, \"value\": \"29,septiembre,2003\"}, \"13,august,2004\": {\"frequency\": 1, \"value\": \"13,august,2004\"}, \"01,July,2000\": {\"frequency\": 4, \"value\": \"01,July,2000\"}, \"18,junio,2004\": {\"frequency\": 3, \"value\": \"18,junio,2004\"}, \"29,November,2003\": {\"frequency\": 274, \"value\": \"29,November,2003\"}, \"27,May,2002\": {\"frequency\": 39, \"value\": \"27,May,2002\"}, \"26,mei,2004\": {\"frequency\": 1, \"value\": \"26,mei,2004\"}, \"28,Februar,2004\": {\"frequency\": 1, \"value\": \"28,Februar,2004\"}, \"29,November,2001\": {\"frequency\": 19, \"value\": \"29,November,2001\"}, \"29,Fevereiro,2004\": {\"frequency\": 21, \"value\": \"29,Fevereiro,2004\"}, \"17,August,2003\": {\"frequency\": 269, \"value\": \"17,August,2003\"}, \"18,mei,2004\": {\"frequency\": 3, \"value\": \"18,mei,2004\"}, \"21,June,2001\": {\"frequency\": 15, \"value\": \"21,June,2001\"}, \"21,June,2000\": {\"frequency\": 6, \"value\": \"21,June,2000\"}, \"21,June,2003\": {\"frequency\": 156, \"value\": \"21,June,2003\"}, \"21,June,2002\": {\"frequency\": 40, \"value\": \"21,June,2002\"}, \"26,julio,2004\": {\"frequency\": 10, \"value\": \"26,julio,2004\"}, \"21,June,2004\": {\"frequency\": 4291, \"value\": \"21,June,2004\"}, \"09,February,2004\": {\"frequency\": 750, \"value\": \"09,February,2004\"}, \"09,February,2001\": {\"frequency\": 5, \"value\": \"09,February,2001\"}, \"09,February,2000\": {\"frequency\": 1, \"value\": \"09,February,2000\"}, \"09,February,2003\": {\"frequency\": 148, \"value\": \"09,February,2003\"}, \"23,November,2002\": {\"frequency\": 65, \"value\": \"23,November,2002\"}, \"11,May,2004\": {\"frequency\": 2556, \"value\": \"11,May,2004\"}, \"11,May,2002\": {\"frequency\": 38, \"value\": \"11,May,2002\"}, \"11,May,2003\": {\"frequency\": 215, \"value\": \"11,May,2003\"}, \"11,May,2001\": {\"frequency\": 13, \"value\": \"11,May,2001\"}, \"12,August,2000\": {\"frequency\": 1, \"value\": \"12,August,2000\"}, \"12,August,2001\": {\"frequency\": 11, \"value\": \"12,August,2001\"}, \"12,August,2002\": {\"frequency\": 99, \"value\": \"12,August,2002\"}, \"12,August,2003\": {\"frequency\": 335, \"value\": \"12,August,2003\"}, \"12,August,2004\": {\"frequency\": 3805, \"value\": \"12,August,2004\"}, \"12,August,2005\": {\"frequency\": 1, \"value\": \"12,August,2005\"}, \"15,Januar,2004\": {\"frequency\": 3, \"value\": \"15,Januar,2004\"}, \"26,December,2001\": {\"frequency\": 8, \"value\": \"26,December,2001\"}, \"26,December,2000\": {\"frequency\": 7, \"value\": \"26,December,2000\"}, \"12,mayo,2003\": {\"frequency\": 3, \"value\": \"12,mayo,2003\"}, \"18,Juli,2004\": {\"frequency\": 1, \"value\": \"18,Juli,2004\"}, \"26,December,2004\": {\"frequency\": 1, \"value\": \"26,December,2004\"}, \"21,October,2002\": {\"frequency\": 123, \"value\": \"21,October,2002\"}, \"30,November,2001\": {\"frequency\": 9, \"value\": \"30,November,2001\"}, \"23,mars,2004\": {\"frequency\": 7, \"value\": \"23,mars,2004\"}, \"12,juni,2004\": {\"frequency\": 2, \"value\": \"12,juni,2004\"}, \"30,November,2003\": {\"frequency\": 340, \"value\": \"30,November,2003\"}, \"24,October,2004\": {\"frequency\": 2, \"value\": \"24,October,2004\"}, \"09,December,2000\": {\"frequency\": 2, \"value\": \"09,December,2000\"}, \"08,April,1999\": {\"frequency\": 1, \"value\": \"08,April,1999\"}, \"24,October,2002\": {\"frequency\": 99, \"value\": \"24,October,2002\"}, \"01,August,2000\": {\"frequency\": 6, \"value\": \"01,August,2000\"}, \"01,August,2001\": {\"frequency\": 32, \"value\": \"01,August,2001\"}, \"01,August,2002\": {\"frequency\": 83, \"value\": \"01,August,2002\"}, \"01,August,2003\": {\"frequency\": 313, \"value\": \"01,August,2003\"}, \"01,August,2004\": {\"frequency\": 13261, \"value\": \"01,August,2004\"}, \"09,December,2002\": {\"frequency\": 111, \"value\": \"09,December,2002\"}, \"16,septiembre,2003\": {\"frequency\": 5, \"value\": \"16,septiembre,2003\"}, \"19,September,2001\": {\"frequency\": 12, \"value\": \"19,September,2001\"}, \"17,mai,2004\": {\"frequency\": 2, \"value\": \"17,mai,2004\"}, \"21,juni,2004\": {\"frequency\": 2, \"value\": \"21,juni,2004\"}, \"09,December,2003\": {\"frequency\": 552, \"value\": \"09,December,2003\"}, \"13,juin,2004\": {\"frequency\": 9, \"value\": \"13,juin,2004\"}, \"24,Juni,2004\": {\"frequency\": 2, \"value\": \"24,Juni,2004\"}, \"30,July,2004\": {\"frequency\": 4264, \"value\": \"30,July,2004\"}, \"30,July,2001\": {\"frequency\": 18, \"value\": \"30,July,2001\"}, \"17,November,2001\": {\"frequency\": 14, \"value\": \"17,November,2001\"}, \"30,July,2003\": {\"frequency\": 306, \"value\": \"30,July,2003\"}, \"17,November,2003\": {\"frequency\": 501, \"value\": \"17,November,2003\"}, \"09,Aprill,2004\": {\"frequency\": 114, \"value\": \"09,Aprill,2004\"}, \"14,January,2002\": {\"frequency\": 24, \"value\": \"14,January,2002\"}, \"14,January,2003\": {\"frequency\": 165, \"value\": \"14,January,2003\"}, \"14,January,2000\": {\"frequency\": 1, \"value\": \"14,January,2000\"}, \"14,January,2001\": {\"frequency\": 7, \"value\": \"14,January,2001\"}, \"14,January,2004\": {\"frequency\": 535, \"value\": \"14,January,2004\"}, \"13,desember,2003\": {\"frequency\": 3, \"value\": \"13,desember,2003\"}, \"05,March,2003\": {\"frequency\": 193, \"value\": \"05,March,2003\"}, \"05,March,2002\": {\"frequency\": 25, \"value\": \"05,March,2002\"}, \"05,March,2001\": {\"frequency\": 8, \"value\": \"05,March,2001\"}, \"21,noviembre,2003\": {\"frequency\": 1, \"value\": \"21,noviembre,2003\"}, \"14,August,2002\": {\"frequency\": 78, \"value\": \"14,August,2002\"}, \"14,August,2003\": {\"frequency\": 303, \"value\": \"14,August,2003\"}, \"14,August,2000\": {\"frequency\": 1, \"value\": \"14,August,2000\"}, \"14,August,2001\": {\"frequency\": 21, \"value\": \"14,August,2001\"}, \"01,marzo,2004\": {\"frequency\": 7, \"value\": \"01,marzo,2004\"}, \"23,juillet,2004\": {\"frequency\": 3, \"value\": \"23,juillet,2004\"}, \"29,Juli,2004\": {\"frequency\": 3, \"value\": \"29,Juli,2004\"}, \"28,April,2001\": {\"frequency\": 7, \"value\": \"28,April,2001\"}, \"22,July,2004\": {\"frequency\": 5592, \"value\": \"22,July,2004\"}, \"24,May,2004\": {\"frequency\": 3361, \"value\": \"24,May,2004\"}, \"24,May,2002\": {\"frequency\": 39, \"value\": \"24,May,2002\"}, \"22,July,2001\": {\"frequency\": 22, \"value\": \"22,July,2001\"}, \"22,July,2002\": {\"frequency\": 90, \"value\": \"22,July,2002\"}, \"24,May,2001\": {\"frequency\": 18, \"value\": \"24,May,2001\"}, \"06,febrero,2004\": {\"frequency\": 1, \"value\": \"06,febrero,2004\"}, \"03,September,2001\": {\"frequency\": 8, \"value\": \"03,September,2001\"}, \"03,September,2003\": {\"frequency\": 366, \"value\": \"03,September,2003\"}, \"03,September,2002\": {\"frequency\": 102, \"value\": \"03,September,2002\"}, \"28,April,2004\": {\"frequency\": 887, \"value\": \"28,April,2004\"}, \"22,January,2004\": {\"frequency\": 676, \"value\": \"22,January,2004\"}, \"10,March,2000\": {\"frequency\": 3, \"value\": \"10,March,2000\"}, \"06,junio,2004\": {\"frequency\": 32, \"value\": \"06,junio,2004\"}, \"10,March,2003\": {\"frequency\": 199, \"value\": \"10,March,2003\"}, \"23,February,2004\": {\"frequency\": 893, \"value\": \"23,February,2004\"}, \"08,May,2003\": {\"frequency\": 248, \"value\": \"08,May,2003\"}, \"09,mai,2004\": {\"frequency\": 3, \"value\": \"09,mai,2004\"}, \"01,January,1999\": {\"frequency\": 7, \"value\": \"01,January,1999\"}, \"09,julio,2004\": {\"frequency\": 6, \"value\": \"09,julio,2004\"}, \"21,September,2001\": {\"frequency\": 24, \"value\": \"21,September,2001\"}, \"21,September,2000\": {\"frequency\": 11, \"value\": \"21,September,2000\"}, \"21,September,2003\": {\"frequency\": 343, \"value\": \"21,September,2003\"}, \"21,September,2002\": {\"frequency\": 53, \"value\": \"21,September,2002\"}, \"28,February,2001\": {\"frequency\": 3, \"value\": \"28,February,2001\"}, \"22,mai,2004\": {\"frequency\": 15, \"value\": \"22,mai,2004\"}, \"30,juli,2004\": {\"frequency\": 1, \"value\": \"30,juli,2004\"}, \"14,Februar,2004\": {\"frequency\": 3, \"value\": \"14,Februar,2004\"}, \"12,October,2003\": {\"frequency\": 376, \"value\": \"12,October,2003\"}, \"03,November,2003\": {\"frequency\": 620, \"value\": \"03,November,2003\"}, \"03,November,2002\": {\"frequency\": 95, \"value\": \"03,November,2002\"}, \"21,May,2003\": {\"frequency\": 268, \"value\": \"21,May,2003\"}, \"21,May,2002\": {\"frequency\": 54, \"value\": \"21,May,2002\"}, \"21,May,2004\": {\"frequency\": 2682, \"value\": \"21,May,2004\"}, \"03,November,2004\": {\"frequency\": 1, \"value\": \"03,November,2004\"}, \"20,febrero,2004\": {\"frequency\": 2, \"value\": \"20,febrero,2004\"}, \"06,octobre,2003\": {\"frequency\": 1, \"value\": \"06,octobre,2003\"}, \"21,mai,2004\": {\"frequency\": 1, \"value\": \"21,mai,2004\"}, \"15,August,2003\": {\"frequency\": 273, \"value\": \"15,August,2003\"}, \"15,August,2002\": {\"frequency\": 82, \"value\": \"15,August,2002\"}, \"15,August,2001\": {\"frequency\": 20, \"value\": \"15,August,2001\"}, \"15,August,2000\": {\"frequency\": 4, \"value\": \"15,August,2000\"}, \"13,juli,2004\": {\"frequency\": 2, \"value\": \"13,juli,2004\"}, \"15,August,2004\": {\"frequency\": 2296, \"value\": \"15,August,2004\"}, \"05,juli,2004\": {\"frequency\": 2, \"value\": \"05,juli,2004\"}, \"12,October,2004\": {\"frequency\": 1, \"value\": \"12,October,2004\"}, \"01,March,2004\": {\"frequency\": 1025, \"value\": \"01,March,2004\"}, \"12,October,2002\": {\"frequency\": 83, \"value\": \"12,October,2002\"}, \"12,December,2001\": {\"frequency\": 20, \"value\": \"12,December,2001\"}, \"12,October,2000\": {\"frequency\": 6, \"value\": \"12,October,2000\"}, \"12,December,2003\": {\"frequency\": 412, \"value\": \"12,December,2003\"}, \"18,December,2004\": {\"frequency\": 1, \"value\": \"18,December,2004\"}, \"12,October,2001\": {\"frequency\": 20, \"value\": \"12,October,2001\"}, \"18,December,2002\": {\"frequency\": 99, \"value\": \"18,December,2002\"}, \"18,December,2003\": {\"frequency\": 468, \"value\": \"18,December,2003\"}, \"18,December,2000\": {\"frequency\": 7, \"value\": \"18,December,2000\"}, \"18,December,2001\": {\"frequency\": 13, \"value\": \"18,December,2001\"}, \"13,October,2001\": {\"frequency\": 31, \"value\": \"13,October,2001\"}, \"13,October,2000\": {\"frequency\": 4, \"value\": \"13,October,2000\"}, \"13,October,2003\": {\"frequency\": 430, \"value\": \"13,October,2003\"}, \"13,October,2002\": {\"frequency\": 88, \"value\": \"13,October,2002\"}, \"16,October,2004\": {\"frequency\": 2, \"value\": \"16,October,2004\"}, \"20,Januar,2004\": {\"frequency\": 3, \"value\": \"20,Januar,2004\"}, \"07,augustus,2004\": {\"frequency\": 2, \"value\": \"07,augustus,2004\"}, \"18,september,2003\": {\"frequency\": 3, \"value\": \"18,september,2003\"}, \"19,junio,2003\": {\"frequency\": 1, \"value\": \"19,junio,2003\"}, \"20,julio,2004\": {\"frequency\": 10, \"value\": \"20,julio,2004\"}, \"10,juni,2004\": {\"frequency\": 7, \"value\": \"10,juni,2004\"}, \"18,Agosto,2002\": {\"frequency\": 13, \"value\": \"18,Agosto,2002\"}, \"10,December,1999\": {\"frequency\": 1, \"value\": \"10,December,1999\"}, \"19,octobre,2003\": {\"frequency\": 1, \"value\": \"19,octobre,2003\"}, \"10,July,2004\": {\"frequency\": 3764, \"value\": \"10,July,2004\"}, \"10,July,2003\": {\"frequency\": 265, \"value\": \"10,July,2003\"}, \"10,July,2002\": {\"frequency\": 71, \"value\": \"10,July,2002\"}, \"10,July,2001\": {\"frequency\": 19, \"value\": \"10,July,2001\"}, \"10,July,2000\": {\"frequency\": 4, \"value\": \"10,July,2000\"}, \"15,juli,2004\": {\"frequency\": 6, \"value\": \"15,juli,2004\"}, \"02,octubre,2003\": {\"frequency\": 4, \"value\": \"02,octubre,2003\"}, \"01,elokuu,2004\": {\"frequency\": 5, \"value\": \"01,elokuu,2004\"}, \"22,April,2004\": {\"frequency\": 933, \"value\": \"22,April,2004\"}, \"18,juillet,2004\": {\"frequency\": 6, \"value\": \"18,juillet,2004\"}, \"18,mai,2004\": {\"frequency\": 2, \"value\": \"18,mai,2004\"}, \"08,janvier,2004\": {\"frequency\": 1, \"value\": \"08,janvier,2004\"}, \"24,abril,2003\": {\"frequency\": 1, \"value\": \"24,abril,2003\"}, \"14,Avgust,2004\": {\"frequency\": 2, \"value\": \"14,Avgust,2004\"}, \"14,Setembro,2003\": {\"frequency\": 10, \"value\": \"14,Setembro,2003\"}, \"18,August,2002\": {\"frequency\": 42, \"value\": \"18,August,2002\"}, \"18,August,2003\": {\"frequency\": 350, \"value\": \"18,August,2003\"}, \"18,August,2000\": {\"frequency\": 1, \"value\": \"18,August,2000\"}, \"18,August,2001\": {\"frequency\": 9, \"value\": \"18,August,2001\"}, \"18,August,2006\": {\"frequency\": 1, \"value\": \"18,August,2006\"}, \"18,August,2004\": {\"frequency\": 1790, \"value\": \"18,August,2004\"}, \"05,November,2004\": {\"frequency\": 1, \"value\": \"05,November,2004\"}, \"13,February,2002\": {\"frequency\": 34, \"value\": \"13,February,2002\"}, \"11,juin,2004\": {\"frequency\": 10, \"value\": \"11,juin,2004\"}, \"13,Outubro,2002\": {\"frequency\": 9, \"value\": \"13,Outubro,2002\"}, \"05,November,2001\": {\"frequency\": 16, \"value\": \"05,November,2001\"}, \"18,October,2002\": {\"frequency\": 81, \"value\": \"18,October,2002\"}, \"18,October,2004\": {\"frequency\": 1, \"value\": \"18,October,2004\"}, \"18,June,2000\": {\"frequency\": 7, \"value\": \"18,June,2000\"}, \"16,December,2002\": {\"frequency\": 145, \"value\": \"16,December,2002\"}, \"23,abril,2004\": {\"frequency\": 4, \"value\": \"23,abril,2004\"}, \"22,Januar,2004\": {\"frequency\": 1, \"value\": \"22,Januar,2004\"}, \"24,octubre,2003\": {\"frequency\": 2, \"value\": \"24,octubre,2003\"}, \"16,February,2001\": {\"frequency\": 5, \"value\": \"16,February,2001\"}, \"13,noviembre,2003\": {\"frequency\": 1, \"value\": \"13,noviembre,2003\"}, \"03,agosto,2004\": {\"frequency\": 74, \"value\": \"03,agosto,2004\"}, \"28,septiembre,2003\": {\"frequency\": 1, \"value\": \"28,septiembre,2003\"}, \"03,agosto,2003\": {\"frequency\": 1, \"value\": \"03,agosto,2003\"}, \"31,juillet,2004\": {\"frequency\": 2, \"value\": \"31,juillet,2004\"}, \"21,August,2004\": {\"frequency\": 1099, \"value\": \"21,August,2004\"}, \"16,February,2002\": {\"frequency\": 20, \"value\": \"16,February,2002\"}, \"21,August,2002\": {\"frequency\": 96, \"value\": \"21,August,2002\"}, \"21,August,2003\": {\"frequency\": 351, \"value\": \"21,August,2003\"}, \"21,August,2000\": {\"frequency\": 5, \"value\": \"21,August,2000\"}, \"21,August,2001\": {\"frequency\": 12, \"value\": \"21,August,2001\"}, \"24,October,2000\": {\"frequency\": 4, \"value\": \"24,October,2000\"}, \"20,April,2004\": {\"frequency\": 955, \"value\": \"20,April,2004\"}, \"05,diciembre,2003\": {\"frequency\": 2, \"value\": \"05,diciembre,2003\"}, \"01,juni,2004\": {\"frequency\": 2, \"value\": \"01,juni,2004\"}, \"28,lipanj,2004\": {\"frequency\": 1, \"value\": \"28,lipanj,2004\"}, \"23,January,1999\": {\"frequency\": 2, \"value\": \"23,January,1999\"}, \"11,Abril,2004\": {\"frequency\": 66, \"value\": \"11,Abril,2004\"}, \"07,juin,2004\": {\"frequency\": 10, \"value\": \"07,juin,2004\"}, \"26,Juli,2004\": {\"frequency\": 1, \"value\": \"26,Juli,2004\"}, \"15,junio,2004\": {\"frequency\": 2, \"value\": \"15,junio,2004\"}, \"09,enero,2004\": {\"frequency\": 2, \"value\": \"09,enero,2004\"}, \"24,September,1999\": {\"frequency\": 1, \"value\": \"24,September,1999\"}, \"03,Februar,2004\": {\"frequency\": 4, \"value\": \"03,Februar,2004\"}, \"03,mai,2004\": {\"frequency\": 2, \"value\": \"03,mai,2004\"}, \"22,June,2004\": {\"frequency\": 4023, \"value\": \"22,June,2004\"}, \"22,June,2002\": {\"frequency\": 43, \"value\": \"22,June,2002\"}, \"22,June,2003\": {\"frequency\": 216, \"value\": \"22,June,2003\"}, \"22,June,2000\": {\"frequency\": 3, \"value\": \"22,June,2000\"}, \"22,June,2001\": {\"frequency\": 13, \"value\": \"22,June,2001\"}, \"25,November,2003\": {\"frequency\": 524, \"value\": \"25,November,2003\"}, \"25,November,2002\": {\"frequency\": 115, \"value\": \"25,November,2002\"}, \"25,November,2001\": {\"frequency\": 13, \"value\": \"25,November,2001\"}, \"25,November,2000\": {\"frequency\": 4, \"value\": \"25,November,2000\"}, \"31,Juli,2004\": {\"frequency\": 2, \"value\": \"31,Juli,2004\"}, \"25,November,2004\": {\"frequency\": 2, \"value\": \"25,November,2004\"}, \"22,abril,2004\": {\"frequency\": 5, \"value\": \"22,abril,2004\"}, \"24,mayo,2004\": {\"frequency\": 5, \"value\": \"24,mayo,2004\"}, \"04,september,2003\": {\"frequency\": 31, \"value\": \"04,september,2003\"}, \"10,January,2006\": {\"frequency\": 1, \"value\": \"10,January,2006\"}, \"10,January,2004\": {\"frequency\": 383, \"value\": \"10,January,2004\"}, \"01,octobre,2003\": {\"frequency\": 1, \"value\": \"01,octobre,2003\"}, \"10,January,2002\": {\"frequency\": 20, \"value\": \"10,January,2002\"}, \"10,January,2003\": {\"frequency\": 131, \"value\": \"10,January,2003\"}, \"10,January,2000\": {\"frequency\": 1, \"value\": \"10,January,2000\"}, \"10,January,2001\": {\"frequency\": 3, \"value\": \"10,January,2001\"}, \"15,juillet,2004\": {\"frequency\": 5, \"value\": \"15,juillet,2004\"}, \"02,Maio,2004\": {\"frequency\": 343, \"value\": \"02,Maio,2004\"}, \"03,February,2003\": {\"frequency\": 208, \"value\": \"03,February,2003\"}, \"03,February,2002\": {\"frequency\": 26, \"value\": \"03,February,2002\"}, \"24,mai,2004\": {\"frequency\": 5, \"value\": \"24,mai,2004\"}, \"22,septiembre,2003\": {\"frequency\": 5, \"value\": \"22,septiembre,2003\"}, \"03,February,2004\": {\"frequency\": 691, \"value\": \"03,February,2004\"}, \"07,October,2004\": {\"frequency\": 1, \"value\": \"07,October,2004\"}, \"07,October,2000\": {\"frequency\": 1, \"value\": \"07,October,2000\"}, \"07,October,2001\": {\"frequency\": 12, \"value\": \"07,October,2001\"}, \"07,October,2002\": {\"frequency\": 139, \"value\": \"07,October,2002\"}, \"07,October,2003\": {\"frequency\": 420, \"value\": \"07,October,2003\"}, \"10,November,2003\": {\"frequency\": 503, \"value\": \"10,November,2003\"}, \"10,November,2002\": {\"frequency\": 115, \"value\": \"10,November,2002\"}, \"10,November,2001\": {\"frequency\": 23, \"value\": \"10,November,2001\"}, \"10,November,2000\": {\"frequency\": 1, \"value\": \"10,November,2000\"}, \"10,November,2004\": {\"frequency\": 2, \"value\": \"10,November,2004\"}, \"22,Juli,2004\": {\"frequency\": 2, \"value\": \"22,Juli,2004\"}, \"04,Agosto,2002\": {\"frequency\": 9, \"value\": \"04,Agosto,2002\"}, \"26,Mai,2004\": {\"frequency\": 1, \"value\": \"26,Mai,2004\"}, \"26,marzo,2004\": {\"frequency\": 1, \"value\": \"26,marzo,2004\"}, \"13,June,2003\": {\"frequency\": 214, \"value\": \"13,June,2003\"}, \"13,June,2000\": {\"frequency\": 1, \"value\": \"13,June,2000\"}, \"13,June,2001\": {\"frequency\": 20, \"value\": \"13,June,2001\"}, \"13,June,2004\": {\"frequency\": 2941, \"value\": \"13,June,2004\"}, \"26,octobre,2003\": {\"frequency\": 1, \"value\": \"26,octobre,2003\"}, \"02,March,2004\": {\"frequency\": 850, \"value\": \"02,March,2004\"}, \"26,September,2003\": {\"frequency\": 313, \"value\": \"26,September,2003\"}, \"02,March,2002\": {\"frequency\": 12, \"value\": \"02,March,2002\"}, \"02,March,2003\": {\"frequency\": 181, \"value\": \"02,March,2003\"}, \"15,Agosto,2004\": {\"frequency\": 33, \"value\": \"15,Agosto,2004\"}, \"17,juli,2004\": {\"frequency\": 1, \"value\": \"17,juli,2004\"}, \"16,November,2004\": {\"frequency\": 1, \"value\": \"16,November,2004\"}, \"15,November,2004\": {\"frequency\": 1, \"value\": \"15,November,2004\"}, \"16,November,2001\": {\"frequency\": 24, \"value\": \"16,November,2001\"}, \"15,November,2003\": {\"frequency\": 322, \"value\": \"15,November,2003\"}, \"16,November,2003\": {\"frequency\": 451, \"value\": \"16,November,2003\"}, \"16,November,2002\": {\"frequency\": 70, \"value\": \"16,November,2002\"}, \"03,August,2002\": {\"frequency\": 32, \"value\": \"03,August,2002\"}, \"03,August,2003\": {\"frequency\": 268, \"value\": \"03,August,2003\"}, \"03,August,2000\": {\"frequency\": 1, \"value\": \"03,August,2000\"}, \"03,August,2001\": {\"frequency\": 22, \"value\": \"03,August,2001\"}, \"03,August,2006\": {\"frequency\": 2, \"value\": \"03,August,2006\"}, \"03,August,2004\": {\"frequency\": 11852, \"value\": \"03,August,2004\"}, \"10,Juli,2004\": {\"frequency\": 1, \"value\": \"10,Juli,2004\"}, \"14,juli,2004\": {\"frequency\": 2, \"value\": \"14,juli,2004\"}, \"19,agosto,2003\": {\"frequency\": 1, \"value\": \"19,agosto,2003\"}, \"23,avril,2004\": {\"frequency\": 1, \"value\": \"23,avril,2004\"}, \"20,May,1999\": {\"frequency\": 1, \"value\": \"20,May,1999\"}, \"21,October,2004\": {\"frequency\": 1, \"value\": \"21,October,2004\"}, \"08,abril,2004\": {\"frequency\": 2, \"value\": \"08,abril,2004\"}, \"21,October,2000\": {\"frequency\": 1, \"value\": \"21,October,2000\"}, \"21,October,2001\": {\"frequency\": 35, \"value\": \"21,October,2001\"}, \"08,abril,2003\": {\"frequency\": 2, \"value\": \"08,abril,2003\"}, \"21,October,2003\": {\"frequency\": 514, \"value\": \"21,October,2003\"}, \"05,June,2003\": {\"frequency\": 217, \"value\": \"05,June,2003\"}, \"05,June,2002\": {\"frequency\": 67, \"value\": \"05,June,2002\"}, \"05,June,2001\": {\"frequency\": 20, \"value\": \"05,June,2001\"}, \"27,noviembre,2003\": {\"frequency\": 1, \"value\": \"27,noviembre,2003\"}, \"05,June,2004\": {\"frequency\": 2410, \"value\": \"05,June,2004\"}, \"10,September,2001\": {\"frequency\": 19, \"value\": \"10,September,2001\"}, \"10,September,2000\": {\"frequency\": 4, \"value\": \"10,September,2000\"}, \"10,September,2003\": {\"frequency\": 353, \"value\": \"10,September,2003\"}, \"10,September,2002\": {\"frequency\": 121, \"value\": \"10,September,2002\"}, \"25,June,2004\": {\"frequency\": 3580, \"value\": \"25,June,2004\"}, \"23,Juni,2004\": {\"frequency\": 1, \"value\": \"23,Juni,2004\"}, \"25,June,2001\": {\"frequency\": 22, \"value\": \"25,June,2001\"}, \"25,June,2000\": {\"frequency\": 2, \"value\": \"25,June,2000\"}, \"25,June,2003\": {\"frequency\": 230, \"value\": \"25,June,2003\"}, \"25,June,2002\": {\"frequency\": 53, \"value\": \"25,June,2002\"}, \"05,October,2002\": {\"frequency\": 63, \"value\": \"05,October,2002\"}, \"05,October,2003\": {\"frequency\": 346, \"value\": \"05,October,2003\"}, \"05,October,2000\": {\"frequency\": 4, \"value\": \"05,October,2000\"}, \"05,October,2001\": {\"frequency\": 20, \"value\": \"05,October,2001\"}, \"30,abril,2004\": {\"frequency\": 3, \"value\": \"30,abril,2004\"}, \"05,October,2004\": {\"frequency\": 1, \"value\": \"05,October,2004\"}, \"15,May,2002\": {\"frequency\": 52, \"value\": \"15,May,2002\"}, \"15,May,2003\": {\"frequency\": 244, \"value\": \"15,May,2003\"}, \"26,janvier,2004\": {\"frequency\": 2, \"value\": \"26,janvier,2004\"}, \"15,May,2001\": {\"frequency\": 18, \"value\": \"15,May,2001\"}, \"15,May,2004\": {\"frequency\": 1607, \"value\": \"15,May,2004\"}, \"20,mayo,2004\": {\"frequency\": 9, \"value\": \"20,mayo,2004\"}, \"20,February,1999\": {\"frequency\": 1, \"value\": \"20,February,1999\"}, \"16,December,2000\": {\"frequency\": 2, \"value\": \"16,December,2000\"}, \"16,December,2001\": {\"frequency\": 16, \"value\": \"16,December,2001\"}, \"14,July,2001\": {\"frequency\": 10, \"value\": \"14,July,2001\"}, \"22,September,1999\": {\"frequency\": 2, \"value\": \"22,September,1999\"}, \"14,July,2000\": {\"frequency\": 1, \"value\": \"14,July,2000\"}, \"18,October,2000\": {\"frequency\": 9, \"value\": \"18,October,2000\"}, \"18,June,2004\": {\"frequency\": 3913, \"value\": \"18,June,2004\"}, \"27,mayo,2003\": {\"frequency\": 2, \"value\": \"27,mayo,2003\"}, \"18,October,2003\": {\"frequency\": 313, \"value\": \"18,October,2003\"}, \"18,June,2001\": {\"frequency\": 24, \"value\": \"18,June,2001\"}, \"27,mayo,2004\": {\"frequency\": 10, \"value\": \"27,mayo,2004\"}, \"18,June,2003\": {\"frequency\": 225, \"value\": \"18,June,2003\"}, \"18,June,2002\": {\"frequency\": 55, \"value\": \"18,June,2002\"}, \"21,kolovoz,2002\": {\"frequency\": 2, \"value\": \"21,kolovoz,2002\"}, \"30,enero,2003\": {\"frequency\": 1, \"value\": \"30,enero,2003\"}, \"14,July,2004\": {\"frequency\": 4808, \"value\": \"14,July,2004\"}, \"17,Februar,2004\": {\"frequency\": 4, \"value\": \"17,Februar,2004\"}, \"31,Januar,2004\": {\"frequency\": 1, \"value\": \"31,Januar,2004\"}, \"22,juin,2004\": {\"frequency\": 15, \"value\": \"22,juin,2004\"}, \"16,April,2001\": {\"frequency\": 14, \"value\": \"16,April,2001\"}, \"16,April,2002\": {\"frequency\": 82, \"value\": \"16,April,2002\"}, \"16,April,2003\": {\"frequency\": 205, \"value\": \"16,April,2003\"}, \"16,April,2004\": {\"frequency\": 794, \"value\": \"16,April,2004\"}, \"31,octubre,2003\": {\"frequency\": 1, \"value\": \"31,octubre,2003\"}, \"05,mai,2004\": {\"frequency\": 1, \"value\": \"05,mai,2004\"}, \"09,June,2004\": {\"frequency\": 4317, \"value\": \"09,June,2004\"}, \"21,marzo,2004\": {\"frequency\": 2, \"value\": \"21,marzo,2004\"}, \"21,marzo,2003\": {\"frequency\": 2, \"value\": \"21,marzo,2003\"}, \"23,October,2004\": {\"frequency\": 1, \"value\": \"23,October,2004\"}, \"10,agosto,2004\": {\"frequency\": 11, \"value\": \"10,agosto,2004\"}, \"17,December,2001\": {\"frequency\": 29, \"value\": \"17,December,2001\"}, \"30,Mai,2004\": {\"frequency\": 2, \"value\": \"30,Mai,2004\"}, \"06,noviembre,2003\": {\"frequency\": 3, \"value\": \"06,noviembre,2003\"}, \"10,agosto,2003\": {\"frequency\": 2, \"value\": \"10,agosto,2003\"}, \"20,September,2002\": {\"frequency\": 95, \"value\": \"20,September,2002\"}, \"20,September,2003\": {\"frequency\": 247, \"value\": \"20,September,2003\"}, \"19,February,2004\": {\"frequency\": 737, \"value\": \"19,February,2004\"}, \"20,September,2001\": {\"frequency\": 34, \"value\": \"20,September,2001\"}, \"19,February,2002\": {\"frequency\": 30, \"value\": \"19,February,2002\"}, \"19,February,2003\": {\"frequency\": 221, \"value\": \"19,February,2003\"}, \"19,February,2001\": {\"frequency\": 6, \"value\": \"19,February,2001\"}, \"23,October,2002\": {\"frequency\": 117, \"value\": \"23,October,2002\"}, \"23,October,2003\": {\"frequency\": 507, \"value\": \"23,October,2003\"}, \"23,October,2000\": {\"frequency\": 8, \"value\": \"23,October,2000\"}, \"23,October,2001\": {\"frequency\": 37, \"value\": \"23,October,2001\"}, \"09,June,2003\": {\"frequency\": 242, \"value\": \"09,June,2003\"}, \"09,June,2002\": {\"frequency\": 39, \"value\": \"09,June,2002\"}, \"09,June,2001\": {\"frequency\": 25, \"value\": \"09,June,2001\"}, \"09,June,2000\": {\"frequency\": 1, \"value\": \"09,June,2000\"}, \"20,avril,2004\": {\"frequency\": 2, \"value\": \"20,avril,2004\"}, \"27,December,2000\": {\"frequency\": 13, \"value\": \"27,December,2000\"}, \"23,September,2003\": {\"frequency\": 383, \"value\": \"23,September,2003\"}, \"21,Mai,2004\": {\"frequency\": 5, \"value\": \"21,Mai,2004\"}, \"23,September,2001\": {\"frequency\": 29, \"value\": \"23,September,2001\"}, \"23,September,2000\": {\"frequency\": 2, \"value\": \"23,September,2000\"}, \"24,May,1999\": {\"frequency\": 1, \"value\": \"24,May,1999\"}, \"09,agosto,2004\": {\"frequency\": 5, \"value\": \"09,agosto,2004\"}, \"16,juin,2004\": {\"frequency\": 11, \"value\": \"16,juin,2004\"}, \"28,September,2002\": {\"frequency\": 75, \"value\": \"28,September,2002\"}, \"28,September,2003\": {\"frequency\": 331, \"value\": \"28,September,2003\"}, \"28,September,2000\": {\"frequency\": 9, \"value\": \"28,September,2000\"}, \"28,September,2001\": {\"frequency\": 14, \"value\": \"28,September,2001\"}, \"15,Setembro,2002\": {\"frequency\": 6, \"value\": \"15,Setembro,2002\"}, \"06,mars,2003\": {\"frequency\": 61, \"value\": \"06,mars,2003\"}, \"19,abril,2004\": {\"frequency\": 7, \"value\": \"19,abril,2004\"}, \"06,mars,2004\": {\"frequency\": 69, \"value\": \"06,mars,2004\"}, \"25,February,2003\": {\"frequency\": 202, \"value\": \"25,February,2003\"}, \"25,February,2002\": {\"frequency\": 45, \"value\": \"25,February,2002\"}, \"02,October,1999\": {\"frequency\": 1, \"value\": \"02,October,1999\"}, \"25,February,2004\": {\"frequency\": 759, \"value\": \"25,February,2004\"}, \"30,julio,2004\": {\"frequency\": 7, \"value\": \"30,julio,2004\"}, \"13,May,2001\": {\"frequency\": 8, \"value\": \"13,May,2001\"}, \"13,May,2002\": {\"frequency\": 81, \"value\": \"13,May,2002\"}, \"13,May,2003\": {\"frequency\": 249, \"value\": \"13,May,2003\"}, \"13,May,2004\": {\"frequency\": 3515, \"value\": \"13,May,2004\"}, \"20,Outubro,2002\": {\"frequency\": 8, \"value\": \"20,Outubro,2002\"}, \"20,Juni,2004\": {\"frequency\": 5, \"value\": \"20,Juni,2004\"}, \"15,July,2004\": {\"frequency\": 5091, \"value\": \"15,July,2004\"}, \"15,July,2002\": {\"frequency\": 83, \"value\": \"15,July,2002\"}, \"15,July,2003\": {\"frequency\": 333, \"value\": \"15,July,2003\"}, \"15,July,2001\": {\"frequency\": 8, \"value\": \"15,July,2001\"}, \"11,augustus,2004\": {\"frequency\": 1, \"value\": \"11,augustus,2004\"}, \"16,mei,2004\": {\"frequency\": 8, \"value\": \"16,mei,2004\"}, \"19,August,2003\": {\"frequency\": 399, \"value\": \"19,August,2003\"}, \"19,August,2002\": {\"frequency\": 99, \"value\": \"19,August,2002\"}, \"19,August,2001\": {\"frequency\": 10, \"value\": \"19,August,2001\"}, \"19,August,2000\": {\"frequency\": 1, \"value\": \"19,August,2000\"}, \"11,janvier,2004\": {\"frequency\": 1, \"value\": \"11,janvier,2004\"}, \"15,October,2002\": {\"frequency\": 111, \"value\": \"15,October,2002\"}, \"15,October,2001\": {\"frequency\": 30, \"value\": \"15,October,2001\"}, \"15,October,2000\": {\"frequency\": 6, \"value\": \"15,October,2000\"}, \"17,febrero,2004\": {\"frequency\": 2, \"value\": \"17,febrero,2004\"}, \"15,October,2004\": {\"frequency\": 1, \"value\": \"15,October,2004\"}, \"14,March,2004\": {\"frequency\": 718, \"value\": \"14,March,2004\"}, \"05,augustus,2004\": {\"frequency\": 1, \"value\": \"05,augustus,2004\"}, \"14,March,2001\": {\"frequency\": 7, \"value\": \"14,March,2001\"}, \"14,March,2000\": {\"frequency\": 3, \"value\": \"14,March,2000\"}, \"14,March,2003\": {\"frequency\": 164, \"value\": \"14,March,2003\"}, \"14,March,2002\": {\"frequency\": 28, \"value\": \"14,March,2002\"}, \"09,marzo,2003\": {\"frequency\": 3, \"value\": \"09,marzo,2003\"}, \"30,mei,2004\": {\"frequency\": 3, \"value\": \"30,mei,2004\"}, \"02,November,2002\": {\"frequency\": 55, \"value\": \"02,November,2002\"}, \"02,November,2003\": {\"frequency\": 377, \"value\": \"02,November,2003\"}, \"02,November,2000\": {\"frequency\": 3, \"value\": \"02,November,2000\"}, \"02,November,2001\": {\"frequency\": 31, \"value\": \"02,November,2001\"}, \"02,November,2004\": {\"frequency\": 1, \"value\": \"02,November,2004\"}, \"18,augustus,2004\": {\"frequency\": 1, \"value\": \"18,augustus,2004\"}, \"10,avril,2004\": {\"frequency\": 2, \"value\": \"10,avril,2004\"}, \"06,August,2004\": {\"frequency\": 6291, \"value\": \"06,August,2004\"}, \"02,April,1999\": {\"frequency\": 1, \"value\": \"02,April,1999\"}, \"15,March,2002\": {\"frequency\": 22, \"value\": \"15,March,2002\"}, \"15,March,2003\": {\"frequency\": 144, \"value\": \"15,March,2003\"}, \"15,March,2001\": {\"frequency\": 11, \"value\": \"15,March,2001\"}, \"13,July,2002\": {\"frequency\": 31, \"value\": \"13,July,2002\"}, \"15,March,2004\": {\"frequency\": 807, \"value\": \"15,March,2004\"}, \"12,juli,2004\": {\"frequency\": 4, \"value\": \"12,juli,2004\"}, \"09,August,2002\": {\"frequency\": 63, \"value\": \"09,August,2002\"}, \"28,December,2004\": {\"frequency\": 1, \"value\": \"28,December,2004\"}, \"09,August,2004\": {\"frequency\": 7819, \"value\": \"09,August,2004\"}, \"28,December,2002\": {\"frequency\": 74, \"value\": \"28,December,2002\"}, \"26,noiembrie,2003\": {\"frequency\": 1, \"value\": \"26,noiembrie,2003\"}, \"21,avril,2004\": {\"frequency\": 3, \"value\": \"21,avril,2004\"}, \"28,December,2001\": {\"frequency\": 10, \"value\": \"28,December,2001\"}, \"11,February,2001\": {\"frequency\": 3, \"value\": \"11,February,2001\"}, \"09,Jaanuar,2004\": {\"frequency\": 9, \"value\": \"09,Jaanuar,2004\"}, \"23,junio,2003\": {\"frequency\": 1, \"value\": \"23,junio,2003\"}, \"26,juli,2004\": {\"frequency\": 1, \"value\": \"26,juli,2004\"}, \"09,Februar,2004\": {\"frequency\": 2, \"value\": \"09,Februar,2004\"}, \"14,augustus,2004\": {\"frequency\": 1, \"value\": \"14,augustus,2004\"}, \"31,janvier,2004\": {\"frequency\": 3, \"value\": \"31,janvier,2004\"}, \"06,julio,2004\": {\"frequency\": 28, \"value\": \"06,julio,2004\"}, \"17,Mai,2004\": {\"frequency\": 48, \"value\": \"17,Mai,2004\"}, \"21,Juni,2004\": {\"frequency\": 6, \"value\": \"21,Juni,2004\"}, \"13,November,2000\": {\"frequency\": 3, \"value\": \"13,November,2000\"}, \"13,November,2001\": {\"frequency\": 31, \"value\": \"13,November,2001\"}, \"13,November,2002\": {\"frequency\": 136, \"value\": \"13,November,2002\"}, \"13,November,2003\": {\"frequency\": 461, \"value\": \"13,November,2003\"}, \"13,November,2004\": {\"frequency\": 1, \"value\": \"13,November,2004\"}, \"12,abril,2004\": {\"frequency\": 6, \"value\": \"12,abril,2004\"}, \"13,september,2003\": {\"frequency\": 87, \"value\": \"13,september,2003\"}, \"28,noviembre,2003\": {\"frequency\": 2, \"value\": \"28,noviembre,2003\"}, \"25,September,2001\": {\"frequency\": 34, \"value\": \"25,September,2001\"}, \"25,September,2000\": {\"frequency\": 7, \"value\": \"25,September,2000\"}, \"25,September,2003\": {\"frequency\": 344, \"value\": \"25,September,2003\"}, \"25,September,2002\": {\"frequency\": 114, \"value\": \"25,September,2002\"}, \"24,July,2002\": {\"frequency\": 99, \"value\": \"24,July,2002\"}, \"24,July,2003\": {\"frequency\": 297, \"value\": \"24,July,2003\"}, \"24,July,2000\": {\"frequency\": 1, \"value\": \"24,July,2000\"}, \"24,July,2001\": {\"frequency\": 35, \"value\": \"24,July,2001\"}, \"24,July,2006\": {\"frequency\": 1, \"value\": \"24,July,2006\"}, \"24,July,2004\": {\"frequency\": 3291, \"value\": \"24,July,2004\"}, \"02,abril,2004\": {\"frequency\": 2, \"value\": \"02,abril,2004\"}, \"28,February,2002\": {\"frequency\": 21, \"value\": \"28,February,2002\"}, \"28,February,2003\": {\"frequency\": 95, \"value\": \"28,February,2003\"}, \"28,February,2000\": {\"frequency\": 1, \"value\": \"28,February,2000\"}, \"23,Novembro,2003\": {\"frequency\": 1, \"value\": \"23,Novembro,2003\"}, \"27,Junho,2004\": {\"frequency\": 32, \"value\": \"27,Junho,2004\"}, \"28,February,2004\": {\"frequency\": 471, \"value\": \"28,February,2004\"}, \"29,mars,2004\": {\"frequency\": 2, \"value\": \"29,mars,2004\"}, \"08,mars,2004\": {\"frequency\": 3, \"value\": \"08,mars,2004\"}, \"08,mars,2003\": {\"frequency\": 1, \"value\": \"08,mars,2003\"}, \"06,augustus,2004\": {\"frequency\": 2, \"value\": \"06,augustus,2004\"}, \"20,janvier,2004\": {\"frequency\": 1, \"value\": \"20,janvier,2004\"}, \"28,May,2002\": {\"frequency\": 67, \"value\": \"28,May,2002\"}, \"28,May,2003\": {\"frequency\": 348, \"value\": \"28,May,2003\"}, \"28,May,2001\": {\"frequency\": 13, \"value\": \"28,May,2001\"}, \"28,May,2004\": {\"frequency\": 2407, \"value\": \"28,May,2004\"}, \"27,enero,2004\": {\"frequency\": 1, \"value\": \"27,enero,2004\"}, \"07,Januar,2004\": {\"frequency\": 1, \"value\": \"07,Januar,2004\"}, \"09,junio,2003\": {\"frequency\": 1, \"value\": \"09,junio,2003\"}, \"14,janvier,2004\": {\"frequency\": 2, \"value\": \"14,janvier,2004\"}, \"20,Junho,2004\": {\"frequency\": 179, \"value\": \"20,Junho,2004\"}, \"28,mei,2004\": {\"frequency\": 2, \"value\": \"28,mei,2004\"}, \"05,abril,2004\": {\"frequency\": 6, \"value\": \"05,abril,2004\"}, \"03,Agosto,2003\": {\"frequency\": 7, \"value\": \"03,Agosto,2003\"}, \"13,August,2004\": {\"frequency\": 2949, \"value\": \"13,August,2004\"}, \"13,August,2001\": {\"frequency\": 25, \"value\": \"13,August,2001\"}, \"13,August,2000\": {\"frequency\": 1, \"value\": \"13,August,2000\"}, \"20,juin,2004\": {\"frequency\": 8, \"value\": \"20,juin,2004\"}, \"13,August,2002\": {\"frequency\": 95, \"value\": \"13,August,2002\"}, \"14,septiembre,2003\": {\"frequency\": 1, \"value\": \"14,septiembre,2003\"}, \"02,Mai,2004\": {\"frequency\": 1, \"value\": \"02,Mai,2004\"}, \"09,juli,2004\": {\"frequency\": 10, \"value\": \"09,juli,2004\"}, \"31,mai,2004\": {\"frequency\": 2, \"value\": \"31,mai,2004\"}, \"30,Novembro,2003\": {\"frequency\": 11, \"value\": \"30,Novembro,2003\"}, \"20,August,2004\": {\"frequency\": 1342, \"value\": \"20,August,2004\"}, \"25,junio,2004\": {\"frequency\": 12, \"value\": \"25,junio,2004\"}, \"13,abril,2004\": {\"frequency\": 1, \"value\": \"13,abril,2004\"}, \"26,mai,2004\": {\"frequency\": 8, \"value\": \"26,mai,2004\"}, \"13,abril,2003\": {\"frequency\": 3, \"value\": \"13,abril,2003\"}, \"30,Juli,2004\": {\"frequency\": 3, \"value\": \"30,Juli,2004\"}, \"07,February,2004\": {\"frequency\": 438, \"value\": \"07,February,2004\"}, \"07,February,2003\": {\"frequency\": 161, \"value\": \"07,February,2003\"}, \"07,February,2002\": {\"frequency\": 35, \"value\": \"07,February,2002\"}, \"28,agosto,2003\": {\"frequency\": 2, \"value\": \"28,agosto,2003\"}, \"07,February,2000\": {\"frequency\": 1, \"value\": \"07,February,2000\"}, \"04,May,2004\": {\"frequency\": 1079, \"value\": \"04,May,2004\"}, \"18,October,2001\": {\"frequency\": 25, \"value\": \"18,October,2001\"}, \"04,May,2001\": {\"frequency\": 12, \"value\": \"04,May,2001\"}, \"04,May,2002\": {\"frequency\": 40, \"value\": \"04,May,2002\"}, \"04,May,2003\": {\"frequency\": 208, \"value\": \"04,May,2003\"}, \"02,febrero,2003\": {\"frequency\": 3, \"value\": \"02,febrero,2003\"}, \"02,febrero,2004\": {\"frequency\": 1, \"value\": \"02,febrero,2004\"}, \"02,Fevereiro,2003\": {\"frequency\": 7, \"value\": \"02,Fevereiro,2003\"}, \"13,enero,2004\": {\"frequency\": 2, \"value\": \"13,enero,2004\"}, \"10,March,2002\": {\"frequency\": 26, \"value\": \"10,March,2002\"}, \"15,December,2004\": {\"frequency\": 1, \"value\": \"15,December,2004\"}, \"18,juli,2004\": {\"frequency\": 1, \"value\": \"18,juli,2004\"}, \"21,mars,2004\": {\"frequency\": 2, \"value\": \"21,mars,2004\"}, \"02,March,2001\": {\"frequency\": 3, \"value\": \"02,March,2001\"}, \"28,febrero,2003\": {\"frequency\": 2, \"value\": \"28,febrero,2003\"}, \"24,November,2002\": {\"frequency\": 88, \"value\": \"24,November,2002\"}, \"24,November,2003\": {\"frequency\": 575, \"value\": \"24,November,2003\"}, \"02,agosto,2004\": {\"frequency\": 96, \"value\": \"02,agosto,2004\"}, \"24,November,2001\": {\"frequency\": 11, \"value\": \"24,November,2001\"}, \"24,November,2004\": {\"frequency\": 1, \"value\": \"24,November,2004\"}, \"18,March,2001\": {\"frequency\": 2, \"value\": \"18,March,2001\"}, \"04,abril,2003\": {\"frequency\": 1, \"value\": \"04,abril,2003\"}, \"18,March,2002\": {\"frequency\": 36, \"value\": \"18,March,2002\"}, \"18,March,2004\": {\"frequency\": 743, \"value\": \"18,March,2004\"}, \"30,June,2004\": {\"frequency\": 3448, \"value\": \"30,June,2004\"}, \"30,June,2003\": {\"frequency\": 190, \"value\": \"30,June,2003\"}, \"30,June,2002\": {\"frequency\": 23, \"value\": \"30,June,2002\"}, \"30,June,2001\": {\"frequency\": 5, \"value\": \"30,June,2001\"}, \"30,June,2000\": {\"frequency\": 1, \"value\": \"30,June,2000\"}, \"19,January,2004\": {\"frequency\": 704, \"value\": \"19,January,2004\"}, \"21,Juli,2004\": {\"frequency\": 4, \"value\": \"21,Juli,2004\"}, \"19,January,2001\": {\"frequency\": 4, \"value\": \"19,January,2001\"}, \"19,January,2003\": {\"frequency\": 143, \"value\": \"19,January,2003\"}, \"19,January,2002\": {\"frequency\": 9, \"value\": \"19,January,2002\"}, \"28,August,2003\": {\"frequency\": 316, \"value\": \"28,August,2003\"}, \"28,August,2002\": {\"frequency\": 93, \"value\": \"28,August,2002\"}, \"28,August,2001\": {\"frequency\": 24, \"value\": \"28,August,2001\"}, \"28,August,2000\": {\"frequency\": 3, \"value\": \"28,August,2000\"}, \"28,August,2004\": {\"frequency\": 1, \"value\": \"28,August,2004\"}, \"20,desember,2003\": {\"frequency\": 3, \"value\": \"20,desember,2003\"}, \"24,febrero,2003\": {\"frequency\": 2, \"value\": \"24,febrero,2003\"}, \"24,febrero,2004\": {\"frequency\": 7, \"value\": \"24,febrero,2004\"}, \"11,mei,2004\": {\"frequency\": 2, \"value\": \"11,mei,2004\"}, \"27,Juni,2004\": {\"frequency\": 3, \"value\": \"27,Juni,2004\"}, \"21,septiembre,2003\": {\"frequency\": 1, \"value\": \"21,septiembre,2003\"}, \"13,Februar,2004\": {\"frequency\": 2, \"value\": \"13,Februar,2004\"}, \"26,December,2002\": {\"frequency\": 79, \"value\": \"26,December,2002\"}, \"12,February,1999\": {\"frequency\": 1, \"value\": \"12,February,1999\"}, \"02,diciembre,2003\": {\"frequency\": 4, \"value\": \"02,diciembre,2003\"}, \"05,Juli,2004\": {\"frequency\": 4, \"value\": \"05,Juli,2004\"}, \"28,November,2004\": {\"frequency\": 1, \"value\": \"28,November,2004\"}, \"28,November,2002\": {\"frequency\": 86, \"value\": \"28,November,2002\"}, \"28,November,2003\": {\"frequency\": 391, \"value\": \"28,November,2003\"}, \"10,noviembre,2003\": {\"frequency\": 2, \"value\": \"10,noviembre,2003\"}, \"28,November,2001\": {\"frequency\": 22, \"value\": \"28,November,2001\"}, \"31,mars,2004\": {\"frequency\": 2, \"value\": \"31,mars,2004\"}, \"02,September,2002\": {\"frequency\": 70, \"value\": \"02,September,2002\"}, \"15,iulie,2004\": {\"frequency\": 1, \"value\": \"15,iulie,2004\"}, \"09,October,1999\": {\"frequency\": 1, \"value\": \"09,October,1999\"}, \"11,noviembre,2003\": {\"frequency\": 3, \"value\": \"11,noviembre,2003\"}, \"02,September,2003\": {\"frequency\": 363, \"value\": \"02,September,2003\"}, \"02,February,2004\": {\"frequency\": 774, \"value\": \"02,February,2004\"}, \"02,February,2002\": {\"frequency\": 15, \"value\": \"02,February,2002\"}, \"02,February,2003\": {\"frequency\": 187, \"value\": \"02,February,2003\"}, \"02,February,2001\": {\"frequency\": 13, \"value\": \"02,February,2001\"}, \"03,October,2000\": {\"frequency\": 6, \"value\": \"03,October,2000\"}, \"03,October,2001\": {\"frequency\": 22, \"value\": \"03,October,2001\"}, \"15,julio,2004\": {\"frequency\": 102, \"value\": \"15,julio,2004\"}, \"23,diciembre,2003\": {\"frequency\": 4, \"value\": \"23,diciembre,2003\"}, \"03,October,2004\": {\"frequency\": 1, \"value\": \"03,October,2004\"}, \"19,juin,2004\": {\"frequency\": 2, \"value\": \"19,juin,2004\"}, \"17,agosto,2004\": {\"frequency\": 1, \"value\": \"17,agosto,2004\"}, \"19,August,2004\": {\"frequency\": 1643, \"value\": \"19,August,2004\"}, \"19,Mai,2004\": {\"frequency\": 2, \"value\": \"19,Mai,2004\"}, \"12,junio,2003\": {\"frequency\": 3, \"value\": \"12,junio,2003\"}, \"05,July,2001\": {\"frequency\": 22, \"value\": \"05,July,2001\"}, \"16,May,2002\": {\"frequency\": 43, \"value\": \"16,May,2002\"}, \"05,July,2003\": {\"frequency\": 156, \"value\": \"05,July,2003\"}, \"05,July,2002\": {\"frequency\": 56, \"value\": \"05,July,2002\"}, \"27,abril,2003\": {\"frequency\": 2, \"value\": \"27,abril,2003\"}, \"16,May,2004\": {\"frequency\": 1942, \"value\": \"16,May,2004\"}, \"04,juni,2004\": {\"frequency\": 2, \"value\": \"04,juni,2004\"}, \"15,October,2003\": {\"frequency\": 445, \"value\": \"15,October,2003\"}, \"02,janvier,2004\": {\"frequency\": 2, \"value\": \"02,janvier,2004\"}, \"11,september,2003\": {\"frequency\": 2, \"value\": \"11,september,2003\"}, \"11,August,2004\": {\"frequency\": 3871, \"value\": \"11,August,2004\"}, \"03,November,2001\": {\"frequency\": 19, \"value\": \"03,November,2001\"}, \"27,avril,2004\": {\"frequency\": 1, \"value\": \"27,avril,2004\"}, \"01,juli,2004\": {\"frequency\": 6, \"value\": \"01,juli,2004\"}, \"19,Juli,2004\": {\"frequency\": 6, \"value\": \"19,Juli,2004\"}, \"30,January,2001\": {\"frequency\": 8, \"value\": \"30,January,2001\"}, \"17,noviembre,2003\": {\"frequency\": 4, \"value\": \"17,noviembre,2003\"}, \"19,iulie,2004\": {\"frequency\": 2, \"value\": \"19,iulie,2004\"}, \"29,czerwiec,2004\": {\"frequency\": 3, \"value\": \"29,czerwiec,2004\"}, \"11,August,2000\": {\"frequency\": 3, \"value\": \"11,August,2000\"}, \"23,June,1999\": {\"frequency\": 1, \"value\": \"23,June,1999\"}, \"03,November,2000\": {\"frequency\": 1, \"value\": \"03,November,2000\"}, \"10,February,2002\": {\"frequency\": 35, \"value\": \"10,February,2002\"}, \"08,September,2000\": {\"frequency\": 3, \"value\": \"08,September,2000\"}, \"08,September,2001\": {\"frequency\": 19, \"value\": \"08,September,2001\"}, \"08,September,2002\": {\"frequency\": 64, \"value\": \"08,September,2002\"}, \"08,September,2003\": {\"frequency\": 336, \"value\": \"08,September,2003\"}, \"05,juni,2004\": {\"frequency\": 1, \"value\": \"05,juni,2004\"}, \"25,October,2000\": {\"frequency\": 4, \"value\": \"25,October,2000\"}, \"25,October,2001\": {\"frequency\": 25, \"value\": \"25,October,2001\"}, \"25,October,2002\": {\"frequency\": 73, \"value\": \"25,October,2002\"}, \"25,October,2003\": {\"frequency\": 303, \"value\": \"25,October,2003\"}, \"25,October,2004\": {\"frequency\": 1, \"value\": \"25,October,2004\"}, \"16,mars,2004\": {\"frequency\": 1, \"value\": \"16,mars,2004\"}, \"05,February,2001\": {\"frequency\": 5, \"value\": \"05,February,2001\"}, \"05,February,2003\": {\"frequency\": 173, \"value\": \"05,February,2003\"}, \"05,February,2002\": {\"frequency\": 38, \"value\": \"05,February,2002\"}, \"05,February,2004\": {\"frequency\": 603, \"value\": \"05,February,2004\"}, \"21,February,2004\": {\"frequency\": 535, \"value\": \"21,February,2004\"}, \"21,February,2003\": {\"frequency\": 166, \"value\": \"21,February,2003\"}, \"21,February,2002\": {\"frequency\": 36, \"value\": \"21,February,2002\"}, \"21,February,2001\": {\"frequency\": 8, \"value\": \"21,February,2001\"}, \"07,marzo,2004\": {\"frequency\": 4, \"value\": \"07,marzo,2004\"}, \"20,juli,2004\": {\"frequency\": 2, \"value\": \"20,juli,2004\"}, \"18,Januar,2004\": {\"frequency\": 1, \"value\": \"18,Januar,2004\"}, \"08,mayo,2003\": {\"frequency\": 1, \"value\": \"08,mayo,2003\"}, \"27,janvier,2004\": {\"frequency\": 2, \"value\": \"27,janvier,2004\"}, \"10,October,2000\": {\"frequency\": 5, \"value\": \"10,October,2000\"}, \"19,janvier,2004\": {\"frequency\": 4, \"value\": \"19,janvier,2004\"}, \"18,Juni,2004\": {\"frequency\": 4, \"value\": \"18,Juni,2004\"}, \"03,febrero,2004\": {\"frequency\": 4, \"value\": \"03,febrero,2004\"}, \"03,febrero,2003\": {\"frequency\": 2, \"value\": \"03,febrero,2003\"}, \"18,Mai,2004\": {\"frequency\": 1, \"value\": \"18,Mai,2004\"}, \"07,December,1999\": {\"frequency\": 1, \"value\": \"07,December,1999\"}, \"15,desember,2002\": {\"frequency\": 7, \"value\": \"15,desember,2002\"}, \"09,May,2004\": {\"frequency\": 1234, \"value\": \"09,May,2004\"}, \"09,May,2003\": {\"frequency\": 197, \"value\": \"09,May,2003\"}, \"09,May,2002\": {\"frequency\": 32, \"value\": \"09,May,2002\"}, \"09,May,2001\": {\"frequency\": 12, \"value\": \"09,May,2001\"}, \"09,May,2000\": {\"frequency\": 1, \"value\": \"09,May,2000\"}, \"19,mei,2004\": {\"frequency\": 2, \"value\": \"19,mei,2004\"}, \"03,June,2001\": {\"frequency\": 14, \"value\": \"03,June,2001\"}, \"06,July,2004\": {\"frequency\": 5924, \"value\": \"06,July,2004\"}, \"13,agosto,2004\": {\"frequency\": 16, \"value\": \"13,agosto,2004\"}, \"06,July,2002\": {\"frequency\": 44, \"value\": \"06,July,2002\"}, \"06,July,2003\": {\"frequency\": 177, \"value\": \"06,July,2003\"}, \"25,ottobre,2003\": {\"frequency\": 3, \"value\": \"25,ottobre,2003\"}, \"06,July,2001\": {\"frequency\": 17, \"value\": \"06,July,2001\"}, \"25,Julho,2004\": {\"frequency\": 393, \"value\": \"25,Julho,2004\"}, \"24,June,2001\": {\"frequency\": 15, \"value\": \"24,June,2001\"}, \"24,June,2002\": {\"frequency\": 61, \"value\": \"24,June,2002\"}, \"24,June,2003\": {\"frequency\": 251, \"value\": \"24,June,2003\"}, \"24,June,2004\": {\"frequency\": 3986, \"value\": \"24,June,2004\"}, \"02,augustus,2004\": {\"frequency\": 6, \"value\": \"02,augustus,2004\"}, \"03,juni,2004\": {\"frequency\": 1, \"value\": \"03,juni,2004\"}, \"16,noviembre,2003\": {\"frequency\": 1, \"value\": \"16,noviembre,2003\"}, \"29,April,2001\": {\"frequency\": 8, \"value\": \"29,April,2001\"}, \"10,October,2003\": {\"frequency\": 328, \"value\": \"10,October,2003\"}, \"10,augusti,2004\": {\"frequency\": 1, \"value\": \"10,augusti,2004\"}, \"15,Avgust,2004\": {\"frequency\": 1, \"value\": \"15,Avgust,2004\"}, \"17,February,2004\": {\"frequency\": 794, \"value\": \"17,February,2004\"}, \"11,mars,2004\": {\"frequency\": 22, \"value\": \"11,mars,2004\"}, \"17,February,2001\": {\"frequency\": 4, \"value\": \"17,February,2001\"}, \"17,February,2002\": {\"frequency\": 235, \"value\": \"17,February,2002\"}, \"03,January,2003\": {\"frequency\": 110, \"value\": \"03,January,2003\"}, \"31,January,2003\": {\"frequency\": 91, \"value\": \"31,January,2003\"}, \"31,January,2002\": {\"frequency\": 21, \"value\": \"31,January,2002\"}, \"31,January,2001\": {\"frequency\": 2, \"value\": \"31,January,2001\"}, \"20,marzo,2003\": {\"frequency\": 1, \"value\": \"20,marzo,2003\"}, \"31,January,2004\": {\"frequency\": 318, \"value\": \"31,January,2004\"}, \"09,juin,2004\": {\"frequency\": 1, \"value\": \"09,juin,2004\"}, \"13,Juni,2004\": {\"frequency\": 4, \"value\": \"13,Juni,2004\"}, \"10,October,2004\": {\"frequency\": 2, \"value\": \"10,October,2004\"}, \"25,septembrie,2003\": {\"frequency\": 1, \"value\": \"25,septembrie,2003\"}, \"10,June,2002\": {\"frequency\": 63, \"value\": \"10,June,2002\"}, \"20,octubre,2003\": {\"frequency\": 5, \"value\": \"20,octubre,2003\"}, \"09,abril,2004\": {\"frequency\": 2, \"value\": \"09,abril,2004\"}, \"25,febrero,2003\": {\"frequency\": 5, \"value\": \"25,febrero,2003\"}, \"14,June,2001\": {\"frequency\": 19, \"value\": \"14,June,2001\"}, \"14,June,2003\": {\"frequency\": 140, \"value\": \"14,June,2003\"}, \"14,June,2002\": {\"frequency\": 40, \"value\": \"14,June,2002\"}, \"14,June,2004\": {\"frequency\": 3561, \"value\": \"14,June,2004\"}, \"08,March,2004\": {\"frequency\": 769, \"value\": \"08,March,2004\"}, \"08,March,2000\": {\"frequency\": 1, \"value\": \"08,March,2000\"}, \"08,March,2001\": {\"frequency\": 7, \"value\": \"08,March,2001\"}, \"08,March,2002\": {\"frequency\": 23, \"value\": \"08,March,2002\"}, \"08,March,2003\": {\"frequency\": 145, \"value\": \"08,March,2003\"}, \"16,June,2003\": {\"frequency\": 253, \"value\": \"16,June,2003\"}, \"16,June,2002\": {\"frequency\": 30, \"value\": \"16,June,2002\"}, \"16,June,2001\": {\"frequency\": 8, \"value\": \"16,June,2001\"}, \"16,June,2000\": {\"frequency\": 1, \"value\": \"16,June,2000\"}, \"02,May,2002\": {\"frequency\": 48, \"value\": \"02,May,2002\"}, \"02,May,2003\": {\"frequency\": 211, \"value\": \"02,May,2003\"}, \"02,May,2001\": {\"frequency\": 12, \"value\": \"02,May,2001\"}, \"19,October,2004\": {\"frequency\": 1, \"value\": \"19,October,2004\"}, \"19,October,2003\": {\"frequency\": 462, \"value\": \"19,October,2003\"}, \"19,October,2002\": {\"frequency\": 85, \"value\": \"19,October,2002\"}, \"19,October,2001\": {\"frequency\": 14, \"value\": \"19,October,2001\"}, \"19,October,2000\": {\"frequency\": 3, \"value\": \"19,October,2000\"}, \"11,September,2001\": {\"frequency\": 21, \"value\": \"11,September,2001\"}, \"24,December,2001\": {\"frequency\": 7, \"value\": \"24,December,2001\"}, \"24,February,2004\": {\"frequency\": 719, \"value\": \"24,February,2004\"}, \"24,February,2002\": {\"frequency\": 40, \"value\": \"24,February,2002\"}, \"24,February,2003\": {\"frequency\": 192, \"value\": \"24,February,2003\"}, \"28,junio,2004\": {\"frequency\": 15, \"value\": \"28,junio,2004\"}, \"21,March,2004\": {\"frequency\": 626, \"value\": \"21,March,2004\"}, \"29,February,2004\": {\"frequency\": 483, \"value\": \"29,February,2004\"}, \"04,January,2003\": {\"frequency\": 85, \"value\": \"04,January,2003\"}, \"21,March,2000\": {\"frequency\": 2, \"value\": \"21,March,2000\"}, \"04,January,2001\": {\"frequency\": 3, \"value\": \"04,January,2001\"}, \"21,March,2002\": {\"frequency\": 21, \"value\": \"21,March,2002\"}, \"24,juli,2004\": {\"frequency\": 1, \"value\": \"24,juli,2004\"}, \"23,mayo,2004\": {\"frequency\": 7, \"value\": \"23,mayo,2004\"}, \"07,avril,2004\": {\"frequency\": 2, \"value\": \"07,avril,2004\"}, \"23,mayo,2003\": {\"frequency\": 1, \"value\": \"23,mayo,2003\"}, \"08,Setembro,2002\": {\"frequency\": 6, \"value\": \"08,Setembro,2002\"}, \"20,noviembre,2003\": {\"frequency\": 1, \"value\": \"20,noviembre,2003\"}, \"05,junio,2003\": {\"frequency\": 5, \"value\": \"05,junio,2003\"}, \"08,mai,2004\": {\"frequency\": 2, \"value\": \"08,mai,2004\"}, \"30,May,2000\": {\"frequency\": 2, \"value\": \"30,May,2000\"}, \"28,juli,2004\": {\"frequency\": 3, \"value\": \"28,juli,2004\"}, \"20,March,2002\": {\"frequency\": 18, \"value\": \"20,March,2002\"}, \"20,March,2003\": {\"frequency\": 163, \"value\": \"20,March,2003\"}, \"20,March,2001\": {\"frequency\": 13, \"value\": \"20,March,2001\"}, \"20,March,2004\": {\"frequency\": 519, \"value\": \"20,March,2004\"}, \"14,Juli,2004\": {\"frequency\": 3, \"value\": \"14,Juli,2004\"}, \"14,November,1999\": {\"frequency\": 1, \"value\": \"14,November,1999\"}, \"03,mars,2004\": {\"frequency\": 1, \"value\": \"03,mars,2004\"}, \"07,May,2001\": {\"frequency\": 17, \"value\": \"07,May,2001\"}, \"01,July,2004\": {\"frequency\": 6861, \"value\": \"01,July,2004\"}, \"07,May,2003\": {\"frequency\": 242, \"value\": \"07,May,2003\"}, \"07,May,2002\": {\"frequency\": 41, \"value\": \"07,May,2002\"}, \"01,July,2001\": {\"frequency\": 14, \"value\": \"01,July,2001\"}, \"07,May,2004\": {\"frequency\": 886, \"value\": \"07,May,2004\"}, \"01,July,2003\": {\"frequency\": 322, \"value\": \"01,July,2003\"}, \"01,July,2002\": {\"frequency\": 106, \"value\": \"01,July,2002\"}, \"11,juli,2004\": {\"frequency\": 1, \"value\": \"11,juli,2004\"}, \"30,janvier,2004\": {\"frequency\": 1, \"value\": \"30,janvier,2004\"}, \"07,mai,2004\": {\"frequency\": 3, \"value\": \"07,mai,2004\"}, \"21,mei,2004\": {\"frequency\": 1, \"value\": \"21,mei,2004\"}, \"06,agosto,2004\": {\"frequency\": 29, \"value\": \"06,agosto,2004\"}, \"01,Junho,2003\": {\"frequency\": 8, \"value\": \"01,Junho,2003\"}, \"10,Januar,2004\": {\"frequency\": 1, \"value\": \"10,Januar,2004\"}, \"23,February,2001\": {\"frequency\": 7, \"value\": \"23,February,2001\"}, \"23,February,2000\": {\"frequency\": 1, \"value\": \"23,February,2000\"}, \"23,February,2003\": {\"frequency\": 151, \"value\": \"23,February,2003\"}, \"23,February,2002\": {\"frequency\": 15, \"value\": \"23,February,2002\"}, \"22,January,2003\": {\"frequency\": 154, \"value\": \"22,January,2003\"}, \"22,January,2002\": {\"frequency\": 31, \"value\": \"22,January,2002\"}, \"22,January,2001\": {\"frequency\": 13, \"value\": \"22,January,2001\"}, \"16,May,2001\": {\"frequency\": 23, \"value\": \"16,May,2001\"}, \"08,diciembre,2003\": {\"frequency\": 2, \"value\": \"08,diciembre,2003\"}, \"14,junio,2004\": {\"frequency\": 7, \"value\": \"14,junio,2004\"}, \"01,April,1999\": {\"frequency\": 1, \"value\": \"01,April,1999\"}, \"04,Januar,2004\": {\"frequency\": 2, \"value\": \"04,Januar,2004\"}, \"07,abril,2003\": {\"frequency\": 1, \"value\": \"07,abril,2003\"}, \"22,enero,2004\": {\"frequency\": 1, \"value\": \"22,enero,2004\"}, \"04,ottobre,2003\": {\"frequency\": 141, \"value\": \"04,ottobre,2003\"}, \"08,October,2002\": {\"frequency\": 98, \"value\": \"08,October,2002\"}, \"01,mayo,2003\": {\"frequency\": 6, \"value\": \"01,mayo,2003\"}, \"01,April,2001\": {\"frequency\": 4, \"value\": \"01,April,2001\"}, \"25,mars,2004\": {\"frequency\": 75, \"value\": \"25,mars,2004\"}, \"20,Mai,2004\": {\"frequency\": 6, \"value\": \"20,Mai,2004\"}, \"15,Juli,2004\": {\"frequency\": 3, \"value\": \"15,Juli,2004\"}, \"21,December,1999\": {\"frequency\": 1, \"value\": \"21,December,1999\"}, \"06,Junho,2004\": {\"frequency\": 108, \"value\": \"06,Junho,2004\"}, \"16,February,2003\": {\"frequency\": 167, \"value\": \"16,February,2003\"}, \"20,April,2002\": {\"frequency\": 26, \"value\": \"20,April,2002\"}, \"16,February,2004\": {\"frequency\": 802, \"value\": \"16,February,2004\"}, \"22,julio,2004\": {\"frequency\": 7, \"value\": \"22,julio,2004\"}, \"15,Mai,2004\": {\"frequency\": 1, \"value\": \"15,Mai,2004\"}, \"16,Juli,2004\": {\"frequency\": 18, \"value\": \"16,Juli,2004\"}, \"05,December,2000\": {\"frequency\": 7, \"value\": \"05,December,2000\"}, \"05,December,2001\": {\"frequency\": 19, \"value\": \"05,December,2001\"}, \"05,December,2002\": {\"frequency\": 115, \"value\": \"05,December,2002\"}, \"05,December,2003\": {\"frequency\": 446, \"value\": \"05,December,2003\"}, \"05,September,2003\": {\"frequency\": 279, \"value\": \"05,September,2003\"}, \"04,augustus,2004\": {\"frequency\": 2, \"value\": \"04,augustus,2004\"}, \"19,Dezember,2003\": {\"frequency\": 1, \"value\": \"19,Dezember,2003\"}, \"03,junio,2004\": {\"frequency\": 5, \"value\": \"03,junio,2004\"}, \"22,maart,2004\": {\"frequency\": 1, \"value\": \"22,maart,2004\"}, \"12,November,2000\": {\"frequency\": 2, \"value\": \"12,November,2000\"}, \"12,November,2003\": {\"frequency\": 448, \"value\": \"12,November,2003\"}, \"12,November,2002\": {\"frequency\": 124, \"value\": \"12,November,2002\"}, \"12,November,2004\": {\"frequency\": 1, \"value\": \"12,November,2004\"}, \"01,Fevereiro,2004\": {\"frequency\": 8, \"value\": \"01,Fevereiro,2004\"}, \"19,June,2000\": {\"frequency\": 6, \"value\": \"19,June,2000\"}, \"19,June,2001\": {\"frequency\": 15, \"value\": \"19,June,2001\"}, \"19,June,2002\": {\"frequency\": 68, \"value\": \"19,June,2002\"}, \"19,June,2003\": {\"frequency\": 234, \"value\": \"19,June,2003\"}, \"19,June,2004\": {\"frequency\": 2629, \"value\": \"19,June,2004\"}, \"10,Juni,2004\": {\"frequency\": 8, \"value\": \"10,Juni,2004\"}, \"31,March,2004\": {\"frequency\": 630, \"value\": \"31,March,2004\"}, \"17,December,2004\": {\"frequency\": 1, \"value\": \"17,December,2004\"}, \"13,Juli,2004\": {\"frequency\": 2, \"value\": \"13,Juli,2004\"}, \"31,March,2001\": {\"frequency\": 6, \"value\": \"31,March,2001\"}, \"17,December,2003\": {\"frequency\": 509, \"value\": \"17,December,2003\"}, \"17,December,2002\": {\"frequency\": 131, \"value\": \"17,December,2002\"}, \"15,ianuarie,2004\": {\"frequency\": 1, \"value\": \"15,ianuarie,2004\"}, \"30,diciembre,2003\": {\"frequency\": 3, \"value\": \"30,diciembre,2003\"}, \"31,December,2001\": {\"frequency\": 13, \"value\": \"31,December,2001\"}, \"31,December,2000\": {\"frequency\": 4, \"value\": \"31,December,2000\"}, \"31,December,2003\": {\"frequency\": 265, \"value\": \"31,December,2003\"}, \"31,December,2002\": {\"frequency\": 66, \"value\": \"31,December,2002\"}, \"31,December,2004\": {\"frequency\": 3, \"value\": \"31,December,2004\"}, \"03,augustus,2004\": {\"frequency\": 6, \"value\": \"03,augustus,2004\"}, \"14,mai,2004\": {\"frequency\": 2, \"value\": \"14,mai,2004\"}, \"07,juni,2004\": {\"frequency\": 1, \"value\": \"07,juni,2004\"}, \"03,juli,2004\": {\"frequency\": 1, \"value\": \"03,juli,2004\"}, \"14,February,2004\": {\"frequency\": 497, \"value\": \"14,February,2004\"}, \"14,February,2003\": {\"frequency\": 193, \"value\": \"14,February,2003\"}, \"14,February,2002\": {\"frequency\": 32, \"value\": \"14,February,2002\"}, \"14,February,2001\": {\"frequency\": 19, \"value\": \"14,February,2001\"}, \"14,February,2000\": {\"frequency\": 1, \"value\": \"14,February,2000\"}, \"29,juli,2004\": {\"frequency\": 1, \"value\": \"29,juli,2004\"}, \"12,julio,2004\": {\"frequency\": 7, \"value\": \"12,julio,2004\"}, \"22,Setembro,2002\": {\"frequency\": 10, \"value\": \"22,Setembro,2002\"}, \"18,mayo,2003\": {\"frequency\": 1, \"value\": \"18,mayo,2003\"}, \"13,janvier,2004\": {\"frequency\": 2, \"value\": \"13,janvier,2004\"}, \"18,mayo,2004\": {\"frequency\": 4, \"value\": \"18,mayo,2004\"}, \"11,January,2004\": {\"frequency\": 488, \"value\": \"11,January,2004\"}, \"11,January,2001\": {\"frequency\": 5, \"value\": \"11,January,2001\"}, \"11,January,2003\": {\"frequency\": 121, \"value\": \"11,January,2003\"}, \"11,January,2002\": {\"frequency\": 12, \"value\": \"11,January,2002\"}, \"03,July,2004\": {\"frequency\": 3669, \"value\": \"03,July,2004\"}, \"03,July,2003\": {\"frequency\": 278, \"value\": \"03,July,2003\"}, \"03,July,2002\": {\"frequency\": 66, \"value\": \"03,July,2002\"}, \"03,July,2001\": {\"frequency\": 16, \"value\": \"03,July,2001\"}, \"03,July,2000\": {\"frequency\": 1, \"value\": \"03,July,2000\"}, \"09,December,2004\": {\"frequency\": 1, \"value\": \"09,December,2004\"}, \"12,Juni,2004\": {\"frequency\": 4, \"value\": \"12,Juni,2004\"}, \"25,marzo,2003\": {\"frequency\": 4, \"value\": \"25,marzo,2003\"}, \"03,czerwiec,2004\": {\"frequency\": 4, \"value\": \"03,czerwiec,2004\"}, \"25,marzo,2004\": {\"frequency\": 1, \"value\": \"25,marzo,2004\"}, \"01,Setembro,2002\": {\"frequency\": 9, \"value\": \"01,Setembro,2002\"}, \"29,mai,2004\": {\"frequency\": 9, \"value\": \"29,mai,2004\"}, \"11,abril,2004\": {\"frequency\": 9, \"value\": \"11,abril,2004\"}, \"11,abril,2003\": {\"frequency\": 1, \"value\": \"11,abril,2003\"}, \"04,Februar,2004\": {\"frequency\": 1, \"value\": \"04,Februar,2004\"}, \"12,March,2004\": {\"frequency\": 659, \"value\": \"12,March,2004\"}, \"12,March,2003\": {\"frequency\": 192, \"value\": \"12,March,2003\"}, \"12,March,2002\": {\"frequency\": 38, \"value\": \"12,March,2002\"}, \"12,March,2001\": {\"frequency\": 3, \"value\": \"12,March,2001\"}, \"20,juni,2004\": {\"frequency\": 1, \"value\": \"20,juni,2004\"}, \"28,septembre,2003\": {\"frequency\": 1, \"value\": \"28,septembre,2003\"}, \"23,juni,2004\": {\"frequency\": 8, \"value\": \"23,juni,2004\"}, \"28,juni,2004\": {\"frequency\": 1, \"value\": \"28,juni,2004\"}, \"16,Januar,2004\": {\"frequency\": 4, \"value\": \"16,Januar,2004\"}, \"08,May,2002\": {\"frequency\": 42, \"value\": \"08,May,2002\"}, \"29,September,2002\": {\"frequency\": 73, \"value\": \"29,September,2002\"}, \"10,mayo,2004\": {\"frequency\": 13, \"value\": \"10,mayo,2004\"}, \"08,marzo,2004\": {\"frequency\": 5, \"value\": \"08,marzo,2004\"}, \"15,marzo,2004\": {\"frequency\": 3, \"value\": \"15,marzo,2004\"}, \"23,May,1999\": {\"frequency\": 1, \"value\": \"23,May,1999\"}, \"05,octobre,2003\": {\"frequency\": 3, \"value\": \"05,octobre,2003\"}, \"10,October,2002\": {\"frequency\": 100, \"value\": \"10,October,2002\"}, \"02,July,1999\": {\"frequency\": 1, \"value\": \"02,July,1999\"}, \"02,mai,2004\": {\"frequency\": 1, \"value\": \"02,mai,2004\"}, \"01,abril,2004\": {\"frequency\": 3, \"value\": \"01,abril,2004\"}, \"01,abril,2003\": {\"frequency\": 5, \"value\": \"01,abril,2003\"}, \"15,November,2002\": {\"frequency\": 93, \"value\": \"15,November,2002\"}, \"25,maj,2004\": {\"frequency\": 2, \"value\": \"25,maj,2004\"}, \"26,February,2004\": {\"frequency\": 749, \"value\": \"26,February,2004\"}, \"27,octubre,2003\": {\"frequency\": 1, \"value\": \"27,octubre,2003\"}, \"03,juin,2004\": {\"frequency\": 8, \"value\": \"03,juin,2004\"}, \"18,April,2002\": {\"frequency\": 39, \"value\": \"18,April,2002\"}, \"18,April,2003\": {\"frequency\": 128, \"value\": \"18,April,2003\"}, \"18,April,2000\": {\"frequency\": 1, \"value\": \"18,April,2000\"}, \"12,July,1999\": {\"frequency\": 2, \"value\": \"12,July,1999\"}, \"05,juin,2004\": {\"frequency\": 11, \"value\": \"05,juin,2004\"}, \"18,April,2004\": {\"frequency\": 877, \"value\": \"18,April,2004\"}, \"28,juin,2004\": {\"frequency\": 8, \"value\": \"28,juin,2004\"}, \"03,lipiec,2004\": {\"frequency\": 30, \"value\": \"03,lipiec,2004\"}, \"08,June,2002\": {\"frequency\": 28, \"value\": \"08,June,2002\"}, \"11,April,2004\": {\"frequency\": 751, \"value\": \"11,April,2004\"}, \"08,June,2000\": {\"frequency\": 1, \"value\": \"08,June,2000\"}, \"08,June,2001\": {\"frequency\": 16, \"value\": \"08,June,2001\"}, \"11,April,2001\": {\"frequency\": 11, \"value\": \"11,April,2001\"}, \"08,June,2004\": {\"frequency\": 3792, \"value\": \"08,June,2004\"}, \"11,April,2002\": {\"frequency\": 41, \"value\": \"11,April,2002\"}, \"06,februarie,2004\": {\"frequency\": 1, \"value\": \"06,februarie,2004\"}, \"17,May,2004\": {\"frequency\": 2690, \"value\": \"17,May,2004\"}, \"17,May,2001\": {\"frequency\": 16, \"value\": \"17,May,2001\"}, \"17,May,2002\": {\"frequency\": 44, \"value\": \"17,May,2002\"}, \"17,May,2003\": {\"frequency\": 144, \"value\": \"17,May,2003\"}, \"09,Maio,2004\": {\"frequency\": 60, \"value\": \"09,Maio,2004\"}, \"18,April,2001\": {\"frequency\": 10, \"value\": \"18,April,2001\"}, \"01,June,2003\": {\"frequency\": 236, \"value\": \"01,June,2003\"}, \"01,June,2002\": {\"frequency\": 31, \"value\": \"01,June,2002\"}, \"01,June,2001\": {\"frequency\": 15, \"value\": \"01,June,2001\"}, \"01,June,2000\": {\"frequency\": 1, \"value\": \"01,June,2000\"}, \"01,January,2004\": {\"frequency\": 489, \"value\": \"01,January,2004\"}, \"01,January,2006\": {\"frequency\": 2, \"value\": \"01,January,2006\"}, \"09,diciembre,2003\": {\"frequency\": 3, \"value\": \"09,diciembre,2003\"}, \"01,January,2000\": {\"frequency\": 2, \"value\": \"01,January,2000\"}, \"01,January,2001\": {\"frequency\": 1, \"value\": \"01,January,2001\"}, \"01,January,2002\": {\"frequency\": 17, \"value\": \"01,January,2002\"}, \"01,January,2003\": {\"frequency\": 98, \"value\": \"01,January,2003\"}, \"23,December,2000\": {\"frequency\": 5, \"value\": \"23,December,2000\"}, \"23,December,2001\": {\"frequency\": 7, \"value\": \"23,December,2001\"}, \"23,December,2002\": {\"frequency\": 89, \"value\": \"23,December,2002\"}, \"23,December,2003\": {\"frequency\": 433, \"value\": \"23,December,2003\"}, \"23,December,2004\": {\"frequency\": 3, \"value\": \"23,December,2004\"}, \"14,noviembre,2003\": {\"frequency\": 1, \"value\": \"14,noviembre,2003\"}, \"15,January,2001\": {\"frequency\": 6, \"value\": \"15,January,2001\"}, \"15,January,2003\": {\"frequency\": 144, \"value\": \"15,January,2003\"}, \"15,January,2002\": {\"frequency\": 23, \"value\": \"15,January,2002\"}, \"15,January,2004\": {\"frequency\": 535, \"value\": \"15,January,2004\"}, \"21,July,2000\": {\"frequency\": 1, \"value\": \"21,July,2000\"}, \",,\": {\"frequency\": 24, \"value\": \",,\"}, \"23,November,2004\": {\"frequency\": 1, \"value\": \"23,November,2004\"}, \"26,July,2000\": {\"frequency\": 3, \"value\": \"26,July,2000\"}, \"01,juin,2004\": {\"frequency\": 26, \"value\": \"01,juin,2004\"}, \"26,July,2002\": {\"frequency\": 63, \"value\": \"26,July,2002\"}, \"26,July,2003\": {\"frequency\": 180, \"value\": \"26,July,2003\"}, \"26,July,2004\": {\"frequency\": 5605, \"value\": \"26,July,2004\"}, \"22,Februar,2004\": {\"frequency\": 2, \"value\": \"22,Februar,2004\"}, \"23,November,2001\": {\"frequency\": 11, \"value\": \"23,November,2001\"}, \"23,November,2000\": {\"frequency\": 1, \"value\": \"23,November,2000\"}, \"30,September,2003\": {\"frequency\": 291, \"value\": \"30,September,2003\"}, \"30,September,2002\": {\"frequency\": 72, \"value\": \"30,September,2002\"}, \"30,September,2001\": {\"frequency\": 10, \"value\": \"30,September,2001\"}, \"30,September,2000\": {\"frequency\": 3, \"value\": \"30,September,2000\"}, \"23,November,2003\": {\"frequency\": 399, \"value\": \"23,November,2003\"}, \"30,September,2004\": {\"frequency\": 1, \"value\": \"30,September,2004\"}, \"19,July,2002\": {\"frequency\": 57, \"value\": \"19,July,2002\"}, \"19,July,2003\": {\"frequency\": 174, \"value\": \"19,July,2003\"}, \"19,July,2000\": {\"frequency\": 1, \"value\": \"19,July,2000\"}, \"19,July,2001\": {\"frequency\": 16, \"value\": \"19,July,2001\"}, \"05,Februar,2004\": {\"frequency\": 3, \"value\": \"05,Februar,2004\"}, \"19,July,2004\": {\"frequency\": 5644, \"value\": \"19,July,2004\"}, \"06,January,2001\": {\"frequency\": 6, \"value\": \"06,January,2001\"}, \"06,January,2003\": {\"frequency\": 146, \"value\": \"06,January,2003\"}, \"06,January,2002\": {\"frequency\": 22, \"value\": \"06,January,2002\"}, \"06,January,2004\": {\"frequency\": 523, \"value\": \"06,January,2004\"}, \"13,julio,2004\": {\"frequency\": 2, \"value\": \"13,julio,2004\"}, \"25,septembre,2003\": {\"frequency\": 2, \"value\": \"25,septembre,2003\"}, \"18,mars,2004\": {\"frequency\": 2, \"value\": \"18,mars,2004\"}, \"08,June,2003\": {\"frequency\": 188, \"value\": \"08,June,2003\"}, \"27,January,2004\": {\"frequency\": 714, \"value\": \"27,January,2004\"}, \"28,Juni,2004\": {\"frequency\": 3, \"value\": \"28,Juni,2004\"}, \"27,January,2001\": {\"frequency\": 2, \"value\": \"27,January,2001\"}, \"27,January,2002\": {\"frequency\": 17, \"value\": \"27,January,2002\"}, \"27,January,2003\": {\"frequency\": 191, \"value\": \"27,January,2003\"}, \"28,October,2004\": {\"frequency\": 1, \"value\": \"28,October,2004\"}, \"16,Fevereiro,2003\": {\"frequency\": 5, \"value\": \"16,Fevereiro,2003\"}, \"26,febrero,2004\": {\"frequency\": 5, \"value\": \"26,febrero,2004\"}, \"27,Februar,2004\": {\"frequency\": 2, \"value\": \"27,Februar,2004\"}, \"06,December,2003\": {\"frequency\": 325, \"value\": \"06,December,2003\"}, \"11,April,2003\": {\"frequency\": 174, \"value\": \"11,April,2003\"}, \"06,December,2001\": {\"frequency\": 22, \"value\": \"06,December,2001\"}, \"06,December,2000\": {\"frequency\": 10, \"value\": \"06,December,2000\"}, \"16,august,2004\": {\"frequency\": 1, \"value\": \"16,august,2004\"}, \"16,juni,2004\": {\"frequency\": 1, \"value\": \"16,juni,2004\"}, \"17,February,2003\": {\"frequency\": 168, \"value\": \"17,February,2003\"}, \"23,mei,2004\": {\"frequency\": 8, \"value\": \"23,mei,2004\"}, \"05,agosto,2004\": {\"frequency\": 5, \"value\": \"05,agosto,2004\"}, \"05,agosto,2003\": {\"frequency\": 6, \"value\": \"05,agosto,2003\"}, \"29,June,2001\": {\"frequency\": 13, \"value\": \"29,June,2001\"}, \"29,June,2000\": {\"frequency\": 2, \"value\": \"29,June,2000\"}, \"29,June,2003\": {\"frequency\": 273, \"value\": \"29,June,2003\"}, \"29,June,2002\": {\"frequency\": 26, \"value\": \"29,June,2002\"}, \"25,Abril,2004\": {\"frequency\": 5, \"value\": \"25,Abril,2004\"}, \"29,June,2004\": {\"frequency\": 3680, \"value\": \"29,June,2004\"}, \"12,Juli,2004\": {\"frequency\": 1, \"value\": \"12,Juli,2004\"}, \"11,enero,2004\": {\"frequency\": 1, \"value\": \"11,enero,2004\"}, \"26,December,2003\": {\"frequency\": 300, \"value\": \"26,December,2003\"}, \"23,janvier,2004\": {\"frequency\": 1, \"value\": \"23,janvier,2004\"}, \"19,Februar,2004\": {\"frequency\": 1, \"value\": \"19,Februar,2004\"}, \"13,July,1999\": {\"frequency\": 2, \"value\": \"13,July,1999\"}, \"26,mars,2004\": {\"frequency\": 1, \"value\": \"26,mars,2004\"}, \"11,septembrie,2003\": {\"frequency\": 2, \"value\": \"11,septembrie,2003\"}, \"23,Februar,2004\": {\"frequency\": 2, \"value\": \"23,Februar,2004\"}, \"20,January,2001\": {\"frequency\": 4, \"value\": \"20,January,2001\"}, \"20,January,2000\": {\"frequency\": 1, \"value\": \"20,January,2000\"}, \"20,January,2003\": {\"frequency\": 193, \"value\": \"20,January,2003\"}, \"25,abril,2003\": {\"frequency\": 6, \"value\": \"25,abril,2003\"}, \"25,abril,2004\": {\"frequency\": 3, \"value\": \"25,abril,2004\"}, \"20,January,2004\": {\"frequency\": 669, \"value\": \"20,January,2004\"}, \"23,noviembre,2003\": {\"frequency\": 1, \"value\": \"23,noviembre,2003\"}, \"16,July,2001\": {\"frequency\": 14, \"value\": \"16,July,2001\"}, \"16,July,2000\": {\"frequency\": 3, \"value\": \"16,July,2000\"}, \"02,September,2004\": {\"frequency\": 1, \"value\": \"02,September,2004\"}, \"16,July,2002\": {\"frequency\": 78, \"value\": \"16,July,2002\"}, \"09,august,2004\": {\"frequency\": 1, \"value\": \"09,august,2004\"}, \"11,October,2002\": {\"frequency\": 90, \"value\": \"11,October,2002\"}, \"11,October,2001\": {\"frequency\": 36, \"value\": \"11,October,2001\"}, \"02,September,2001\": {\"frequency\": 19, \"value\": \"02,September,2001\"}, \"23,julio,2004\": {\"frequency\": 6, \"value\": \"23,julio,2004\"}, \"11,December,2000\": {\"frequency\": 6, \"value\": \"11,December,2000\"}, \"31,October,2004\": {\"frequency\": 1, \"value\": \"31,October,2004\"}, \"24,luglio,2004\": {\"frequency\": 1, \"value\": \"24,luglio,2004\"}, \"22,toukokuu,2004\": {\"frequency\": 11, \"value\": \"22,toukokuu,2004\"}, \"31,October,2001\": {\"frequency\": 17, \"value\": \"31,October,2001\"}, \"31,October,2000\": {\"frequency\": 5, \"value\": \"31,October,2000\"}, \"31,October,2003\": {\"frequency\": 271, \"value\": \"31,October,2003\"}, \"31,October,2002\": {\"frequency\": 60, \"value\": \"31,October,2002\"}, \"01,June,2004\": {\"frequency\": 6400, \"value\": \"01,June,2004\"}, \"27,juni,2004\": {\"frequency\": 1, \"value\": \"27,juni,2004\"}, \"07,March,2004\": {\"frequency\": 613, \"value\": \"07,March,2004\"}, \"30,October,2004\": {\"frequency\": 1, \"value\": \"30,October,2004\"}, \"30,October,2002\": {\"frequency\": 84, \"value\": \"30,October,2002\"}, \"30,October,2003\": {\"frequency\": 358, \"value\": \"30,October,2003\"}, \"30,October,2000\": {\"frequency\": 7, \"value\": \"30,October,2000\"}, \"07,March,2002\": {\"frequency\": 31, \"value\": \"07,March,2002\"}, \"28,Januar,2004\": {\"frequency\": 3, \"value\": \"28,Januar,2004\"}, \"11,marzo,2004\": {\"frequency\": 2, \"value\": \"11,marzo,2004\"}, \"21,juin,2004\": {\"frequency\": 15, \"value\": \"21,juin,2004\"}, \"27,Januar,2004\": {\"frequency\": 2, \"value\": \"27,Januar,2004\"}, \"08,February,2001\": {\"frequency\": 9, \"value\": \"08,February,2001\"}, \"08,February,2002\": {\"frequency\": 18, \"value\": \"08,February,2002\"}, \"08,February,2003\": {\"frequency\": 96, \"value\": \"08,February,2003\"}, \"08,February,2004\": {\"frequency\": 535, \"value\": \"08,February,2004\"}, \"16,octobre,2003\": {\"frequency\": 1, \"value\": \"16,octobre,2003\"}, \"05,January,2001\": {\"frequency\": 5, \"value\": \"05,January,2001\"}, \"06,March,2002\": {\"frequency\": 29, \"value\": \"06,March,2002\"}, \"06,March,2003\": {\"frequency\": 172, \"value\": \"06,March,2003\"}, \"06,March,2001\": {\"frequency\": 8, \"value\": \"06,March,2001\"}, \"06,March,2004\": {\"frequency\": 464, \"value\": \"06,March,2004\"}, \"18,janvier,2004\": {\"frequency\": 7, \"value\": \"18,janvier,2004\"}, \"05,June,1999\": {\"frequency\": 1, \"value\": \"05,June,1999\"}, \"05,January,2004\": {\"frequency\": 498, \"value\": \"05,January,2004\"}, \"04,September,2000\": {\"frequency\": 5, \"value\": \"04,September,2000\"}, \"04,September,2001\": {\"frequency\": 21, \"value\": \"04,September,2001\"}, \"04,September,2002\": {\"frequency\": 66, \"value\": \"04,September,2002\"}, \"04,September,2003\": {\"frequency\": 373, \"value\": \"04,September,2003\"}, \"09,November,2001\": {\"frequency\": 23, \"value\": \"09,November,2001\"}, \"09,November,2000\": {\"frequency\": 4, \"value\": \"09,November,2000\"}, \"09,November,2003\": {\"frequency\": 454, \"value\": \"09,November,2003\"}, \"09,November,2002\": {\"frequency\": 82, \"value\": \"09,November,2002\"}, \"09,November,2004\": {\"frequency\": 2, \"value\": \"09,November,2004\"}, \"12,Mai,2004\": {\"frequency\": 2, \"value\": \"12,Mai,2004\"}, \"09,March,2004\": {\"frequency\": 801, \"value\": \"09,March,2004\"}, \"09,March,2003\": {\"frequency\": 163, \"value\": \"09,March,2003\"}, \"09,March,2002\": {\"frequency\": 16, \"value\": \"09,March,2002\"}, \"09,March,2001\": {\"frequency\": 4, \"value\": \"09,March,2001\"}, \"23,Mai,2004\": {\"frequency\": 1, \"value\": \"23,Mai,2004\"}, \"28,July,2004\": {\"frequency\": 5046, \"value\": \"28,July,2004\"}, \"28,July,2002\": {\"frequency\": 41, \"value\": \"28,July,2002\"}, \"28,July,2003\": {\"frequency\": 375, \"value\": \"28,July,2003\"}, \"28,July,2000\": {\"frequency\": 2, \"value\": \"28,July,2000\"}, \"28,July,2001\": {\"frequency\": 9, \"value\": \"28,July,2001\"}, \"06,Juli,2004\": {\"frequency\": 3, \"value\": \"06,Juli,2004\"}, \"13,octobre,2003\": {\"frequency\": 1, \"value\": \"13,octobre,2003\"}, \"24,Agosto,2003\": {\"frequency\": 5, \"value\": \"24,Agosto,2003\"}, \"12,avril,2004\": {\"frequency\": 2, \"value\": \"12,avril,2004\"}, \"25,luglio,2004\": {\"frequency\": 11, \"value\": \"25,luglio,2004\"}, \"25,Februar,2004\": {\"frequency\": 2, \"value\": \"25,Februar,2004\"}, \"18,September,2001\": {\"frequency\": 26, \"value\": \"18,September,2001\"}, \"18,September,2000\": {\"frequency\": 10, \"value\": \"18,September,2000\"}, \"18,September,2003\": {\"frequency\": 364, \"value\": \"18,September,2003\"}, \"18,September,2002\": {\"frequency\": 89, \"value\": \"18,September,2002\"}, \"03,mayo,2004\": {\"frequency\": 2, \"value\": \"03,mayo,2004\"}, \"04,enero,2004\": {\"frequency\": 4, \"value\": \"04,enero,2004\"}, \"26,ottobre,2003\": {\"frequency\": 9, \"value\": \"26,ottobre,2003\"}, \"06,April,2001\": {\"frequency\": 12, \"value\": \"06,April,2001\"}, \"29,Dezembro,2002\": {\"frequency\": 7, \"value\": \"29,Dezembro,2002\"}, \"06,April,2003\": {\"frequency\": 209, \"value\": \"06,April,2003\"}, \"06,April,2002\": {\"frequency\": 13, \"value\": \"06,April,2002\"}, \"06,April,2004\": {\"frequency\": 894, \"value\": \"06,April,2004\"}, \"04,julio,2004\": {\"frequency\": 4, \"value\": \"04,julio,2004\"}, \"24,noviembre,2003\": {\"frequency\": 2, \"value\": \"24,noviembre,2003\"}, \"24,mars,2004\": {\"frequency\": 1, \"value\": \"24,mars,2004\"}, \"14,April,2004\": {\"frequency\": 849, \"value\": \"14,April,2004\"}, \"01,May,2004\": {\"frequency\": 877, \"value\": \"01,May,2004\"}, \"14,April,2002\": {\"frequency\": 29, \"value\": \"14,April,2002\"}, \"14,April,2003\": {\"frequency\": 214, \"value\": \"14,April,2003\"}, \"14,April,2001\": {\"frequency\": 5, \"value\": \"14,April,2001\"}, \"09,marzo,2004\": {\"frequency\": 8, \"value\": \"09,marzo,2004\"}, \"07,August,2004\": {\"frequency\": 4467, \"value\": \"07,August,2004\"}, \"07,August,2002\": {\"frequency\": 92, \"value\": \"07,August,2002\"}, \"07,August,2003\": {\"frequency\": 265, \"value\": \"07,August,2003\"}, \"07,August,2000\": {\"frequency\": 3, \"value\": \"07,August,2000\"}, \"07,August,2001\": {\"frequency\": 17, \"value\": \"07,August,2001\"}, \"07,septembre,2003\": {\"frequency\": 2, \"value\": \"07,septembre,2003\"}, \"14,ianuarie,2004\": {\"frequency\": 1, \"value\": \"14,ianuarie,2004\"}, \"20,December,2004\": {\"frequency\": 3, \"value\": \"20,December,2004\"}, \"20,December,2003\": {\"frequency\": 332, \"value\": \"20,December,2003\"}, \"20,December,2002\": {\"frequency\": 98, \"value\": \"20,December,2002\"}, \"20,December,2001\": {\"frequency\": 15, \"value\": \"20,December,2001\"}, \"20,December,2000\": {\"frequency\": 5, \"value\": \"20,December,2000\"}, \"19,September,2002\": {\"frequency\": 95, \"value\": \"19,September,2002\"}, \"19,September,2003\": {\"frequency\": 305, \"value\": \"19,September,2003\"}, \"17,junio,2004\": {\"frequency\": 16, \"value\": \"17,junio,2004\"}, \"23,June,2003\": {\"frequency\": 296, \"value\": \"23,June,2003\"}, \"31,enero,2003\": {\"frequency\": 1, \"value\": \"31,enero,2003\"}, \"23,June,2001\": {\"frequency\": 13, \"value\": \"23,June,2001\"}, \"30,May,2004\": {\"frequency\": 4345, \"value\": \"30,May,2004\"}, \"30,May,2003\": {\"frequency\": 205, \"value\": \"30,May,2003\"}, \"30,May,2002\": {\"frequency\": 51, \"value\": \"30,May,2002\"}, \"30,May,2001\": {\"frequency\": 20, \"value\": \"30,May,2001\"}, \"23,June,2004\": {\"frequency\": 4038, \"value\": \"23,June,2004\"}, \"16,August,2004\": {\"frequency\": 2448, \"value\": \"16,August,2004\"}, \"12,giugno,2004\": {\"frequency\": 3, \"value\": \"12,giugno,2004\"}, \"28,mars,2004\": {\"frequency\": 2, \"value\": \"28,mars,2004\"}, \"13,Junho,2004\": {\"frequency\": 230, \"value\": \"13,Junho,2004\"}, \"10,junio,2003\": {\"frequency\": 2, \"value\": \"10,junio,2003\"}, \"12,septiembre,2003\": {\"frequency\": 4, \"value\": \"12,septiembre,2003\"}, \"10,junio,2004\": {\"frequency\": 13, \"value\": \"10,junio,2004\"}, \"16,August,2002\": {\"frequency\": 87, \"value\": \"16,August,2002\"}, \"30,mai,2004\": {\"frequency\": 5, \"value\": \"30,mai,2004\"}, \"22,marzo,2004\": {\"frequency\": 5, \"value\": \"22,marzo,2004\"}, \"01,enero,2004\": {\"frequency\": 2, \"value\": \"01,enero,2004\"}, \"22,juillet,2004\": {\"frequency\": 2, \"value\": \"22,juillet,2004\"}, \"17,juillet,2004\": {\"frequency\": 4, \"value\": \"17,juillet,2004\"}, \"09,February,2002\": {\"frequency\": 21, \"value\": \"09,February,2002\"}, \"07,May,2000\": {\"frequency\": 1, \"value\": \"07,May,2000\"}, \"14,avril,2004\": {\"frequency\": 3, \"value\": \"14,avril,2004\"}, \"03,Juni,2004\": {\"frequency\": 3, \"value\": \"03,Juni,2004\"}, \"01,Juli,2004\": {\"frequency\": 5, \"value\": \"01,Juli,2004\"}, \"20,giugno,2004\": {\"frequency\": 10, \"value\": \"20,giugno,2004\"}, \"12,May,2004\": {\"frequency\": 2320, \"value\": \"12,May,2004\"}, \"12,May,2003\": {\"frequency\": 236, \"value\": \"12,May,2003\"}, \"12,May,2002\": {\"frequency\": 28, \"value\": \"12,May,2002\"}, \"12,May,2001\": {\"frequency\": 8, \"value\": \"12,May,2001\"}, \"26,July,2001\": {\"frequency\": 30, \"value\": \"26,July,2001\"}, \"05,September,2002\": {\"frequency\": 86, \"value\": \"05,September,2002\"}, \"21,mayo,2004\": {\"frequency\": 5, \"value\": \"21,mayo,2004\"}, \"30,Dezember,2003\": {\"frequency\": 1, \"value\": \"30,Dezember,2003\"}, \"14,Juni,2004\": {\"frequency\": 5, \"value\": \"14,Juni,2004\"}, \"26,August,1999\": {\"frequency\": 1, \"value\": \"26,August,1999\"}, \"23,octubre,2003\": {\"frequency\": 1, \"value\": \"23,octubre,2003\"}, \"11,juillet,2004\": {\"frequency\": 6, \"value\": \"11,juillet,2004\"}, \"29,lipiec,2004\": {\"frequency\": 29, \"value\": \"29,lipiec,2004\"}, \"29,juillet,2004\": {\"frequency\": 5, \"value\": \"29,juillet,2004\"}, \"03,marzo,2003\": {\"frequency\": 5, \"value\": \"03,marzo,2003\"}, \"17,November,2004\": {\"frequency\": 1, \"value\": \"17,November,2004\"}, \"13,August,2003\": {\"frequency\": 334, \"value\": \"13,August,2003\"}, \"11,septiembre,2003\": {\"frequency\": 1, \"value\": \"11,septiembre,2003\"}, \"15,agosto,2003\": {\"frequency\": 1, \"value\": \"15,agosto,2003\"}, \"01,October,2004\": {\"frequency\": 1, \"value\": \"01,October,2004\"}, \"01,October,2002\": {\"frequency\": 123, \"value\": \"01,October,2002\"}, \"15,septiembre,2003\": {\"frequency\": 1, \"value\": \"15,septiembre,2003\"}, \"01,October,2000\": {\"frequency\": 9, \"value\": \"01,October,2000\"}, \"01,October,2001\": {\"frequency\": 32, \"value\": \"01,October,2001\"}, \"17,November,2000\": {\"frequency\": 2, \"value\": \"17,November,2000\"}, \"04,Julho,2004\": {\"frequency\": 343, \"value\": \"04,Julho,2004\"}, \"30,July,2000\": {\"frequency\": 6, \"value\": \"30,July,2000\"}, \"17,November,2002\": {\"frequency\": 101, \"value\": \"17,November,2002\"}, \"17,mars,2004\": {\"frequency\": 1, \"value\": \"17,mars,2004\"}, \"30,December,2004\": {\"frequency\": 2, \"value\": \"30,December,2004\"}, \"08,junio,2004\": {\"frequency\": 5, \"value\": \"08,junio,2004\"}, \"30,July,2002\": {\"frequency\": 57, \"value\": \"30,July,2002\"}, \"30,December,2000\": {\"frequency\": 5, \"value\": \"30,December,2000\"}, \"30,December,2001\": {\"frequency\": 10, \"value\": \"30,December,2001\"}, \"30,December,2002\": {\"frequency\": 143, \"value\": \"30,December,2002\"}, \"30,December,2003\": {\"frequency\": 395, \"value\": \"30,December,2003\"}, \"04,octobre,2003\": {\"frequency\": 1, \"value\": \"04,octobre,2003\"}, \"24,April,2004\": {\"frequency\": 575, \"value\": \"24,April,2004\"}, \"30,marzo,2003\": {\"frequency\": 1, \"value\": \"30,marzo,2003\"}, \"15,mai,2004\": {\"frequency\": 6, \"value\": \"15,mai,2004\"}, \"30,marzo,2004\": {\"frequency\": 6, \"value\": \"30,marzo,2004\"}, \"20,mars,2003\": {\"frequency\": 1, \"value\": \"20,mars,2003\"}, \"20,mars,2004\": {\"frequency\": 13, \"value\": \"20,mars,2004\"}, \"24,April,2002\": {\"frequency\": 60, \"value\": \"24,April,2002\"}, \"26,toukokuu,2004\": {\"frequency\": 1, \"value\": \"26,toukokuu,2004\"}, \"02,juni,2004\": {\"frequency\": 1, \"value\": \"02,juni,2004\"}, \"17,October,2001\": {\"frequency\": 45, \"value\": \"17,October,2001\"}, \"17,October,2000\": {\"frequency\": 4, \"value\": \"17,October,2000\"}, \"06,November,2002\": {\"frequency\": 148, \"value\": \"06,November,2002\"}, \"17,October,2003\": {\"frequency\": 405, \"value\": \"17,October,2003\"}, \"01,March,2003\": {\"frequency\": 123, \"value\": \"01,March,2003\"}, \"27,May,2004\": {\"frequency\": 2787, \"value\": \"27,May,2004\"}, \"27,May,2003\": {\"frequency\": 271, \"value\": \"27,May,2003\"}, \"29,November,2002\": {\"frequency\": 56, \"value\": \"29,November,2002\"}, \"27,May,2001\": {\"frequency\": 12, \"value\": \"27,May,2001\"}, \"29,November,2000\": {\"frequency\": 2, \"value\": \"29,November,2000\"}, \"31,mayo,2004\": {\"frequency\": 6, \"value\": \"31,mayo,2004\"}, \"19,diciembre,2003\": {\"frequency\": 4, \"value\": \"19,diciembre,2003\"}, \"03,October,2003\": {\"frequency\": 295, \"value\": \"03,October,2003\"}, \"27,October,2004\": {\"frequency\": 1, \"value\": \"27,October,2004\"}, \"27,October,2002\": {\"frequency\": 76, \"value\": \"27,October,2002\"}, \"27,October,2003\": {\"frequency\": 527, \"value\": \"27,October,2003\"}, \"27,October,2000\": {\"frequency\": 3, \"value\": \"27,October,2000\"}, \"27,October,2001\": {\"frequency\": 27, \"value\": \"27,October,2001\"}, \"01,March,2002\": {\"frequency\": 26, \"value\": \"01,March,2002\"}, \"16,agosto,2004\": {\"frequency\": 2, \"value\": \"16,agosto,2004\"}, \"18,July,2004\": {\"frequency\": 4221, \"value\": \"18,July,2004\"}, \"18,July,2003\": {\"frequency\": 255, \"value\": \"18,July,2003\"}, \"18,July,2002\": {\"frequency\": 81, \"value\": \"18,July,2002\"}, \"18,July,2001\": {\"frequency\": 19, \"value\": \"18,July,2001\"}, \"18,July,2000\": {\"frequency\": 2, \"value\": \"18,July,2000\"}, \"20,April,2001\": {\"frequency\": 12, \"value\": \"20,April,2001\"}, \"01,March,2001\": {\"frequency\": 7, \"value\": \"01,March,2001\"}, \"08,juni,2004\": {\"frequency\": 6, \"value\": \"08,juni,2004\"}, \"22,August,2000\": {\"frequency\": 3, \"value\": \"22,August,2000\"}, \"24,novembre,2003\": {\"frequency\": 4, \"value\": \"24,novembre,2003\"}, \"06,Outubro,2002\": {\"frequency\": 14, \"value\": \"06,Outubro,2002\"}, \"27,Juli,2004\": {\"frequency\": 1, \"value\": \"27,Juli,2004\"}, \"15,April,2001\": {\"frequency\": 20, \"value\": \"15,April,2001\"}, \"15,April,2000\": {\"frequency\": 1, \"value\": \"15,April,2000\"}, \"15,April,2003\": {\"frequency\": 205, \"value\": \"15,April,2003\"}, \"15,April,2002\": {\"frequency\": 41, \"value\": \"15,April,2002\"}, \"15,April,2004\": {\"frequency\": 908, \"value\": \"15,April,2004\"}, \"25,mai,2004\": {\"frequency\": 10, \"value\": \"25,mai,2004\"}, \"31,mei,2004\": {\"frequency\": 2, \"value\": \"31,mei,2004\"}, \"07,juillet,2004\": {\"frequency\": 3, \"value\": \"07,juillet,2004\"}, \"20,April,2003\": {\"frequency\": 202, \"value\": \"20,April,2003\"}, \"19,Juni,2004\": {\"frequency\": 2, \"value\": \"19,Juni,2004\"}, \"25,julio,2003\": {\"frequency\": 2, \"value\": \"25,julio,2003\"}, \"25,julio,2004\": {\"frequency\": 3, \"value\": \"25,julio,2004\"}, \"06,janvier,2004\": {\"frequency\": 3, \"value\": \"06,janvier,2004\"}, \"26,September,2000\": {\"frequency\": 3, \"value\": \"26,September,2000\"}, \"26,September,2001\": {\"frequency\": 24, \"value\": \"26,September,2001\"}, \"26,September,2002\": {\"frequency\": 107, \"value\": \"26,September,2002\"}, \"18,luglio,2004\": {\"frequency\": 10, \"value\": \"18,luglio,2004\"}, \"05,May,2002\": {\"frequency\": 20, \"value\": \"05,May,2002\"}, \"16,octubre,2003\": {\"frequency\": 1, \"value\": \"16,octubre,2003\"}, \"10,Februar,2004\": {\"frequency\": 2, \"value\": \"10,Februar,2004\"}, \"03,octubre,2003\": {\"frequency\": 4, \"value\": \"03,octubre,2003\"}, \"02,juillet,2004\": {\"frequency\": 77, \"value\": \"02,juillet,2004\"}, \"25,septiembre,2003\": {\"frequency\": 1, \"value\": \"25,septiembre,2003\"}, \"14,August,2004\": {\"frequency\": 2150, \"value\": \"14,August,2004\"}, \"08,enero,2004\": {\"frequency\": 1, \"value\": \"08,enero,2004\"}, \"13,July,2000\": {\"frequency\": 1, \"value\": \"13,July,2000\"}, \"13,July,2001\": {\"frequency\": 13, \"value\": \"13,July,2001\"}, \"05,March,2004\": {\"frequency\": 644, \"value\": \"05,March,2004\"}, \"16,Februar,2004\": {\"frequency\": 2, \"value\": \"16,Februar,2004\"}, \"13,July,2003\": {\"frequency\": 195, \"value\": \"13,July,2003\"}, \"11,Januar,2004\": {\"frequency\": 1, \"value\": \"11,Januar,2004\"}, \"04,mayo,2004\": {\"frequency\": 8, \"value\": \"04,mayo,2004\"}, \"04,mayo,2003\": {\"frequency\": 3, \"value\": \"04,mayo,2003\"}, \"21,agosto,2003\": {\"frequency\": 2, \"value\": \"21,agosto,2003\"}, \"16,marzo,2003\": {\"frequency\": 3, \"value\": \"16,marzo,2003\"}, \"21,juillet,2004\": {\"frequency\": 8, \"value\": \"21,juillet,2004\"}, \"13,Januar,2004\": {\"frequency\": 1, \"value\": \"13,Januar,2004\"}, \"31,August,2001\": {\"frequency\": 10, \"value\": \"31,August,2001\"}, \"31,August,2000\": {\"frequency\": 1, \"value\": \"31,August,2000\"}, \"31,August,2003\": {\"frequency\": 222, \"value\": \"31,August,2003\"}, \"31,August,2002\": {\"frequency\": 29, \"value\": \"31,August,2002\"}, \"20,August,2003\": {\"frequency\": 391, \"value\": \"20,August,2003\"}, \"08,January,1999\": {\"frequency\": 2, \"value\": \"08,January,1999\"}, \"20,August,2001\": {\"frequency\": 14, \"value\": \"20,August,2001\"}, \"20,August,2000\": {\"frequency\": 5, \"value\": \"20,August,2000\"}, \"07,February,2001\": {\"frequency\": 4, \"value\": \"07,February,2001\"}, \"10,October,2001\": {\"frequency\": 31, \"value\": \"10,October,2001\"}, \"20,enero,2004\": {\"frequency\": 3, \"value\": \"20,enero,2004\"}, \"01,mars,2004\": {\"frequency\": 2, \"value\": \"01,mars,2004\"}, \"23,April,2002\": {\"frequency\": 50, \"value\": \"23,April,2002\"}, \"20,August,2002\": {\"frequency\": 129, \"value\": \"20,August,2002\"}, \"03,abril,2003\": {\"frequency\": 3, \"value\": \"03,abril,2003\"}, \"15,December,2003\": {\"frequency\": 573, \"value\": \"15,December,2003\"}, \"15,December,2002\": {\"frequency\": 68, \"value\": \"15,December,2002\"}, \"15,December,2001\": {\"frequency\": 7, \"value\": \"15,December,2001\"}, \"15,December,2000\": {\"frequency\": 5, \"value\": \"15,December,2000\"}, \"23,April,2004\": {\"frequency\": 809, \"value\": \"23,April,2004\"}, \"11,mai,2004\": {\"frequency\": 2, \"value\": \"11,mai,2004\"}, \"30,January,2000\": {\"frequency\": 1, \"value\": \"30,January,2000\"}, \"29,Januar,2004\": {\"frequency\": 2, \"value\": \"29,Januar,2004\"}, \"26,October,2004\": {\"frequency\": 1, \"value\": \"26,October,2004\"}, \"26,October,2001\": {\"frequency\": 34, \"value\": \"26,October,2001\"}, \"26,October,2000\": {\"frequency\": 9, \"value\": \"26,October,2000\"}, \"26,October,2003\": {\"frequency\": 390, \"value\": \"26,October,2003\"}, \"26,October,2002\": {\"frequency\": 53, \"value\": \"26,October,2002\"}, \"24,juillet,2004\": {\"frequency\": 5, \"value\": \"24,juillet,2004\"}, \"19,febrero,2004\": {\"frequency\": 7, \"value\": \"19,febrero,2004\"}, \"02,juin,2004\": {\"frequency\": 14, \"value\": \"02,juin,2004\"}, \"05,julio,2004\": {\"frequency\": 9, \"value\": \"05,julio,2004\"}, \"15,September,2002\": {\"frequency\": 84, \"value\": \"15,September,2002\"}, \"15,September,2003\": {\"frequency\": 358, \"value\": \"15,September,2003\"}, \"15,September,2000\": {\"frequency\": 4, \"value\": \"15,September,2000\"}, \"15,September,2001\": {\"frequency\": 12, \"value\": \"15,September,2001\"}, \"02,November,1999\": {\"frequency\": 1, \"value\": \"02,November,1999\"}, \"20,May,2002\": {\"frequency\": 42, \"value\": \"20,May,2002\"}, \"20,May,2003\": {\"frequency\": 278, \"value\": \"20,May,2003\"}, \"20,May,2001\": {\"frequency\": 9, \"value\": \"20,May,2001\"}, \"15,juni,2004\": {\"frequency\": 1, \"value\": \"15,juni,2004\"}, \"20,May,2004\": {\"frequency\": 3211, \"value\": \"20,May,2004\"}, \"30,January,2002\": {\"frequency\": 35, \"value\": \"30,January,2002\"}, \"13,juillet,2004\": {\"frequency\": 49, \"value\": \"13,juillet,2004\"}, \"19,December,2004\": {\"frequency\": 1, \"value\": \"19,December,2004\"}, \"14,diciembre,2003\": {\"frequency\": 4, \"value\": \"14,diciembre,2003\"}, \"11,September,2002\": {\"frequency\": 92, \"value\": \"11,September,2002\"}, \"11,September,2003\": {\"frequency\": 378, \"value\": \"11,September,2003\"}, \"11,September,2000\": {\"frequency\": 7, \"value\": \"11,September,2000\"}, \"26,septiembre,2003\": {\"frequency\": 2, \"value\": \"26,septiembre,2003\"}, \"10,December,2004\": {\"frequency\": 2, \"value\": \"10,December,2004\"}, \"10,December,2002\": {\"frequency\": 140, \"value\": \"10,December,2002\"}, \"10,December,2003\": {\"frequency\": 530, \"value\": \"10,December,2003\"}, \"10,December,2000\": {\"frequency\": 5, \"value\": \"10,December,2000\"}, \"10,December,2001\": {\"frequency\": 39, \"value\": \"10,December,2001\"}, \"08,October,2004\": {\"frequency\": 1, \"value\": \"08,October,2004\"}, \"08,October,2001\": {\"frequency\": 20, \"value\": \"08,October,2001\"}, \"08,October,2000\": {\"frequency\": 2, \"value\": \"08,October,2000\"}, \"08,October,2003\": {\"frequency\": 432, \"value\": \"08,October,2003\"}, \"20,abril,2004\": {\"frequency\": 2, \"value\": \"20,abril,2004\"}, \"27,juli,2004\": {\"frequency\": 8, \"value\": \"27,juli,2004\"}, \"06,December,2004\": {\"frequency\": 1, \"value\": \"06,December,2004\"}, \"08,juillet,2004\": {\"frequency\": 7, \"value\": \"08,juillet,2004\"}, \"05,Januar,2004\": {\"frequency\": 1, \"value\": \"05,Januar,2004\"}, \"06,December,2002\": {\"frequency\": 112, \"value\": \"06,December,2002\"}, \"24,julio,2003\": {\"frequency\": 4, \"value\": \"24,julio,2003\"}, \"23,marzo,2004\": {\"frequency\": 4, \"value\": \"23,marzo,2004\"}, \"23,marzo,2003\": {\"frequency\": 4, \"value\": \"23,marzo,2003\"}, \"24,May,2003\": {\"frequency\": 147, \"value\": \"24,May,2003\"}, \"16,mayo,2004\": {\"frequency\": 5, \"value\": \"16,mayo,2004\"}, \"21,Julho,2002\": {\"frequency\": 4, \"value\": \"21,Julho,2002\"}, \"24,May,2000\": {\"frequency\": 1, \"value\": \"24,May,2000\"}, \"28,enero,2003\": {\"frequency\": 3, \"value\": \"28,enero,2003\"}, \"04,Juli,2004\": {\"frequency\": 1, \"value\": \"04,Juli,2004\"}, \"22,July,2003\": {\"frequency\": 331, \"value\": \"22,July,2003\"}, \"02,August,1999\": {\"frequency\": 1, \"value\": \"02,August,1999\"}, \"20,October,2004\": {\"frequency\": 1, \"value\": \"20,October,2004\"}, \"17,September,2000\": {\"frequency\": 11, \"value\": \"17,September,2000\"}, \"17,September,2001\": {\"frequency\": 25, \"value\": \"17,September,2001\"}, \"17,September,2002\": {\"frequency\": 89, \"value\": \"17,September,2002\"}, \"04,mars,2004\": {\"frequency\": 140, \"value\": \"04,mars,2004\"}, \"09,Januar,2004\": {\"frequency\": 3, \"value\": \"09,Januar,2004\"}, \"26,maj,2004\": {\"frequency\": 1, \"value\": \"26,maj,2004\"}, \"26,August,2000\": {\"frequency\": 2, \"value\": \"26,August,2000\"}, \"12,juillet,2004\": {\"frequency\": 4, \"value\": \"12,juillet,2004\"}, \"05,January,2000\": {\"frequency\": 1, \"value\": \"05,January,2000\"}, \"25,May,2004\": {\"frequency\": 2943, \"value\": \"25,May,2004\"}, \"05,January,2002\": {\"frequency\": 27, \"value\": \"05,January,2002\"}, \"05,January,2003\": {\"frequency\": 107, \"value\": \"05,January,2003\"}, \"25,May,2001\": {\"frequency\": 11, \"value\": \"25,May,2001\"}, \"25,May,2000\": {\"frequency\": 1, \"value\": \"25,May,2000\"}, \"25,May,2003\": {\"frequency\": 164, \"value\": \"25,May,2003\"}, \"25,May,2002\": {\"frequency\": 36, \"value\": \"25,May,2002\"}, \"28,October,2003\": {\"frequency\": 436, \"value\": \"28,October,2003\"}, \"28,October,2002\": {\"frequency\": 134, \"value\": \"28,October,2002\"}, \"28,October,2001\": {\"frequency\": 28, \"value\": \"28,October,2001\"}, \"17,Dezember,2003\": {\"frequency\": 2, \"value\": \"17,Dezember,2003\"}, \"16,marzo,2004\": {\"frequency\": 8, \"value\": \"16,marzo,2004\"}, \"24,September,2002\": {\"frequency\": 123, \"value\": \"24,September,2002\"}, \"24,September,2003\": {\"frequency\": 368, \"value\": \"24,September,2003\"}, \"24,September,2000\": {\"frequency\": 3, \"value\": \"24,September,2000\"}, \"24,September,2001\": {\"frequency\": 15, \"value\": \"24,September,2001\"}, \"15,February,2002\": {\"frequency\": 25, \"value\": \"15,February,2002\"}, \"15,February,2003\": {\"frequency\": 135, \"value\": \"15,February,2003\"}, \"15,February,2001\": {\"frequency\": 8, \"value\": \"15,February,2001\"}, \"16,August,2000\": {\"frequency\": 5, \"value\": \"16,August,2000\"}, \"16,August,2001\": {\"frequency\": 15, \"value\": \"16,August,2001\"}, \"15,February,2004\": {\"frequency\": 532, \"value\": \"15,February,2004\"}, \"16,August,2003\": {\"frequency\": 197, \"value\": \"16,August,2003\"}, \"15,June,2004\": {\"frequency\": 4679, \"value\": \"15,June,2004\"}, \"15,June,2000\": {\"frequency\": 2, \"value\": \"15,June,2000\"}, \"15,June,2001\": {\"frequency\": 22, \"value\": \"15,June,2001\"}, \"15,June,2002\": {\"frequency\": 27, \"value\": \"15,June,2002\"}, \"15,June,2003\": {\"frequency\": 185, \"value\": \"15,June,2003\"}, \"03,August,1999\": {\"frequency\": 1, \"value\": \"03,August,1999\"}, \"21,April,2004\": {\"frequency\": 968, \"value\": \"21,April,2004\"}, \"25,novembre,2003\": {\"frequency\": 1, \"value\": \"25,novembre,2003\"}, \"11,February,2002\": {\"frequency\": 44, \"value\": \"11,February,2002\"}, \"31,May,2004\": {\"frequency\": 2254, \"value\": \"31,May,2004\"}, \"24,April,2001\": {\"frequency\": 10, \"value\": \"24,April,2001\"}, \"24,April,2003\": {\"frequency\": 240, \"value\": \"24,April,2003\"}, \"06,marzo,2003\": {\"frequency\": 3, \"value\": \"06,marzo,2003\"}, \"06,November,2004\": {\"frequency\": 1, \"value\": \"06,November,2004\"}, \"16,December,2003\": {\"frequency\": 660, \"value\": \"16,December,2003\"}, \"06,November,2003\": {\"frequency\": 464, \"value\": \"06,November,2003\"}, \"06,November,2000\": {\"frequency\": 6, \"value\": \"06,November,2000\"}, \"06,November,2001\": {\"frequency\": 31, \"value\": \"06,November,2001\"}, \"23,July,2001\": {\"frequency\": 19, \"value\": \"23,July,2001\"}, \"23,July,2000\": {\"frequency\": 5, \"value\": \"23,July,2000\"}, \"23,July,2003\": {\"frequency\": 296, \"value\": \"23,July,2003\"}, \"23,July,2002\": {\"frequency\": 73, \"value\": \"23,July,2002\"}, \"23,July,2004\": {\"frequency\": 4421, \"value\": \"23,July,2004\"}, \"22,August,2001\": {\"frequency\": 13, \"value\": \"22,August,2001\"}, \"12,September,2003\": {\"frequency\": 278, \"value\": \"12,September,2003\"}, \"22,August,2003\": {\"frequency\": 314, \"value\": \"22,August,2003\"}, \"22,August,2002\": {\"frequency\": 85, \"value\": \"22,August,2002\"}, \"22,August,2004\": {\"frequency\": 876, \"value\": \"22,August,2004\"}, \"22,juni,2004\": {\"frequency\": 5, \"value\": \"22,juni,2004\"}, \"30,November,2004\": {\"frequency\": 1, \"value\": \"30,November,2004\"}, \"17,avril,2004\": {\"frequency\": 6, \"value\": \"17,avril,2004\"}, \"28,January,2001\": {\"frequency\": 3, \"value\": \"28,January,2001\"}, \"28,January,2003\": {\"frequency\": 177, \"value\": \"28,January,2003\"}, \"28,January,2002\": {\"frequency\": 38, \"value\": \"28,January,2002\"}, \"28,January,2004\": {\"frequency\": 640, \"value\": \"28,January,2004\"}, \"11,Juni,2004\": {\"frequency\": 5, \"value\": \"11,Juni,2004\"}, \"23,January,2001\": {\"frequency\": 7, \"value\": \"23,January,2001\"}, \"23,January,2002\": {\"frequency\": 28, \"value\": \"23,January,2002\"}, \"23,January,2003\": {\"frequency\": 184, \"value\": \"23,January,2003\"}, \"23,January,2004\": {\"frequency\": 544, \"value\": \"23,January,2004\"}, \"15,abril,2004\": {\"frequency\": 2, \"value\": \"15,abril,2004\"}, \"29,December,2002\": {\"frequency\": 115, \"value\": \"29,December,2002\"}, \"29,December,2003\": {\"frequency\": 464, \"value\": \"29,December,2003\"}, \"29,December,2000\": {\"frequency\": 4, \"value\": \"29,December,2000\"}, \"29,December,2001\": {\"frequency\": 8, \"value\": \"29,December,2001\"}, \"04,marzo,2004\": {\"frequency\": 1, \"value\": \"04,marzo,2004\"}, \"29,December,2004\": {\"frequency\": 1, \"value\": \"29,December,2004\"}, \"24,marzo,2003\": {\"frequency\": 1, \"value\": \"24,marzo,2003\"}, \"22,September,2000\": {\"frequency\": 3, \"value\": \"22,September,2000\"}, \"22,September,2001\": {\"frequency\": 18, \"value\": \"22,September,2001\"}, \"22,September,2002\": {\"frequency\": 85, \"value\": \"22,September,2002\"}, \"22,September,2003\": {\"frequency\": 390, \"value\": \"22,September,2003\"}, \"25,mei,2004\": {\"frequency\": 1, \"value\": \"25,mei,2004\"}, \"13,January,2003\": {\"frequency\": 144, \"value\": \"13,January,2003\"}, \"13,January,2002\": {\"frequency\": 24, \"value\": \"13,January,2002\"}, \"13,January,2004\": {\"frequency\": 594, \"value\": \"13,January,2004\"}, \"12,janvier,2004\": {\"frequency\": 3, \"value\": \"12,janvier,2004\"}, \"26,octubre,2003\": {\"frequency\": 1, \"value\": \"26,octubre,2003\"}, \"02,avril,2004\": {\"frequency\": 2, \"value\": \"02,avril,2004\"}, \"24,November,1999\": {\"frequency\": 1, \"value\": \"24,November,1999\"}, \"12,November,2001\": {\"frequency\": 21, \"value\": \"12,November,2001\"}, \"13,November,1999\": {\"frequency\": 1, \"value\": \"13,November,1999\"}, \"06,October,2003\": {\"frequency\": 539, \"value\": \"06,October,2003\"}, \"06,October,2002\": {\"frequency\": 83, \"value\": \"06,October,2002\"}, \"06,October,2001\": {\"frequency\": 13, \"value\": \"06,October,2001\"}, \"06,October,2000\": {\"frequency\": 5, \"value\": \"06,October,2000\"}, \"07,March,2003\": {\"frequency\": 168, \"value\": \"07,March,2003\"}, \"06,October,2004\": {\"frequency\": 1, \"value\": \"06,October,2004\"}, \"08,avril,2004\": {\"frequency\": 1, \"value\": \"08,avril,2004\"}}, \"size\": 681288}, \"gender\": {\"complete\": true, \"numeric\": false, \"num_unique\": 2, \"num_undefined\": 0, \"progress\": 1.0, \"frequent_items\": {\"male\": {\"frequency\": 9660, \"value\": \"male\"}, \"female\": {\"frequency\": 9660, \"value\": \"female\"}}, \"size\": 19320}, \"age\": {\"std\": 7.975283146062912, \"complete\": true, \"min\": 13.0, \"max\": 48.0, \"quantile\": [13.0, 13.0, 13.0, 13.0, 14.0, 14.0, 14.0, 14.0, 14.0, 14.0, 14.0, 15.0, 15.0, 15.0, 15.0, 15.0, 15.0, 15.0, 15.0, 15.0, 16.0, 16.0, 16.0, 16.0, 16.0, 16.0, 16.0, 16.0, 16.0, 16.0, 16.0, 17.0, 17.0, 17.0, 17.0, 17.0, 17.0, 17.0, 17.0, 17.0, 17.0, 17.0, 17.0, 23.0, 23.0, 23.0, 23.0, 23.0, 23.0, 23.0, 23.0, 23.0, 23.0, 23.0, 24.0, 24.0, 24.0, 24.0, 24.0, 24.0, 24.0, 24.0, 24.0, 25.0, 25.0, 25.0, 25.0, 25.0, 25.0, 25.0, 25.0, 25.0, 26.0, 26.0, 26.0, 26.0, 26.0, 26.0, 26.0, 27.0, 27.0, 27.0, 27.0, 27.0, 27.0, 33.0, 33.0, 34.0, 34.0, 35.0, 35.0, 36.0, 36.0, 37.0, 38.0, 39.0, 41.0, 42.0, 44.0, 46.0, 48.0], \"median\": 23.0, \"numeric\": true, \"num_unique\": 26, \"num_undefined\": 0, \"var\": 63.60514125987514, \"progress\": 1.0, \"size\": 19320, \"frequent_items\": {\"13\": {\"frequency\": 690, \"value\": 13}, \"14\": {\"frequency\": 1246, \"value\": 14}, \"15\": {\"frequency\": 1771, \"value\": 15}, \"16\": {\"frequency\": 2152, \"value\": 16}, \"17\": {\"frequency\": 2381, \"value\": 17}, \"23\": {\"frequency\": 2026, \"value\": 23}, \"24\": {\"frequency\": 1895, \"value\": 24}, \"25\": {\"frequency\": 1620, \"value\": 25}, \"26\": {\"frequency\": 1340, \"value\": 26}, \"27\": {\"frequency\": 1205, \"value\": 27}, \"33\": {\"frequency\": 464, \"value\": 33}, \"34\": {\"frequency\": 378, \"value\": 34}, \"35\": {\"frequency\": 338, \"value\": 35}, \"36\": {\"frequency\": 288, \"value\": 36}, \"37\": {\"frequency\": 259, \"value\": 37}, \"38\": {\"frequency\": 171, \"value\": 38}, \"39\": {\"frequency\": 152, \"value\": 39}, \"40\": {\"frequency\": 145, \"value\": 40}, \"41\": {\"frequency\": 139, \"value\": 41}, \"42\": {\"frequency\": 127, \"value\": 42}, \"43\": {\"frequency\": 116, \"value\": 43}, \"44\": {\"frequency\": 94, \"value\": 44}, \"45\": {\"frequency\": 103, \"value\": 45}, \"46\": {\"frequency\": 72, \"value\": 46}, \"47\": {\"frequency\": 71, \"value\": 47}, \"48\": {\"frequency\": 77, \"value\": 48}}, \"mean\": 22.833799171842585}, \"posts\": {\"complete\": true, \"numeric\": false, \"num_unique\": 609365, \"num_undefined\": 0, \"progress\": 1.0, \"frequent_items\": {\"\": {\"frequency\": 3137, \"value\": \"\"}, \"...\": {\"frequency\": 58, \"value\": \"...\"}, \"urlLink       Sylvain's 40th Birthday May 2004\": {\"frequency\": 78, \"value\": \"urlLink ...\"}, \"Brought to you by   JPServicez.com: Smart bargain shopping  . Please CLICK on the \\\"TITLE\\\" to take up these promotions...   urlLink Site Feed\": {\"frequency\": 106, \"value\": \"Brought to you by ...\"}, \"urlLink\": {\"frequency\": 1888, \"value\": \"urlLink\"}, \"urlLink    temple  urlLink\": {\"frequency\": 71, \"value\": \"urlLink    temple ...\"}, \"urlLink       urlLink\": {\"frequency\": 116, \"value\": \"urlLink ...\"}}, \"size\": 681288}, \"sign\": {\"complete\": true, \"numeric\": false, \"num_unique\": 12, \"num_undefined\": 0, \"progress\": 1.0, \"frequent_items\": {\"Sagittarius\": {\"frequency\": 1549, \"value\": \"Sagittarius\"}, \"Cancer\": {\"frequency\": 1722, \"value\": \"Cancer\"}, \"Gemini\": {\"frequency\": 1595, \"value\": \"Gemini\"}, \"Capricorn\": {\"frequency\": 1425, \"value\": \"Capricorn\"}, \"Aquarius\": {\"frequency\": 1474, \"value\": \"Aquarius\"}, \"Taurus\": {\"frequency\": 1645, \"value\": \"Taurus\"}, \"Leo\": {\"frequency\": 1619, \"value\": \"Leo\"}, \"Virgo\": {\"frequency\": 1783, \"value\": \"Virgo\"}, \"Scorpio\": {\"frequency\": 1631, \"value\": \"Scorpio\"}, \"Libra\": {\"frequency\": 1700, \"value\": \"Libra\"}, \"Aries\": {\"frequency\": 1597, \"value\": \"Aries\"}, \"Pisces\": {\"frequency\": 1580, \"value\": \"Pisces\"}}, \"size\": 19320}, \"industry\": {\"complete\": true, \"numeric\": false, \"num_unique\": 40, \"num_undefined\": 0, \"progress\": 1.0, \"frequent_items\": {\"Arts\": {\"frequency\": 721, \"value\": \"Arts\"}, \"HumanResources\": {\"frequency\": 94, \"value\": \"HumanResources\"}, \"Publishing\": {\"frequency\": 150, \"value\": \"Publishing\"}, \"indUnk\": {\"frequency\": 6827, \"value\": \"indUnk\"}, \"LawEnforcement-Security\": {\"frequency\": 57, \"value\": \"LawEnforcement- ...\"}, \"Environment\": {\"frequency\": 28, \"value\": \"Environment\"}, \"Religion\": {\"frequency\": 139, \"value\": \"Religion\"}, \"Internet\": {\"frequency\": 397, \"value\": \"Internet\"}, \"Transportation\": {\"frequency\": 91, \"value\": \"Transportation\"}, \"Sports-Recreation\": {\"frequency\": 90, \"value\": \"Sports-Recreation\"}, \"Government\": {\"frequency\": 236, \"value\": \"Government\"}, \"Marketing\": {\"frequency\": 180, \"value\": \"Marketing\"}, \"Maritime\": {\"frequency\": 17, \"value\": \"Maritime\"}, \"Chemicals\": {\"frequency\": 62, \"value\": \"Chemicals\"}, \"Construction\": {\"frequency\": 55, \"value\": \"Construction\"}, \"Student\": {\"frequency\": 5120, \"value\": \"Student\"}, \"Non-Profit\": {\"frequency\": 372, \"value\": \"Non-Profit\"}, \"Law\": {\"frequency\": 197, \"value\": \"Law\"}, \"Tourism\": {\"frequency\": 94, \"value\": \"Tourism\"}, \"BusinessServices\": {\"frequency\": 163, \"value\": \"BusinessServices\"}, \"Communications-Media\": {\"frequency\": 479, \"value\": \"Communications- ...\"}, \"Science\": {\"frequency\": 184, \"value\": \"Science\"}, \"InvestmentBanking\": {\"frequency\": 33, \"value\": \"InvestmentBanking\"}, \"Banking\": {\"frequency\": 112, \"value\": \"Banking\"}, \"Architecture\": {\"frequency\": 69, \"value\": \"Architecture\"}, \"Military\": {\"frequency\": 116, \"value\": \"Military\"}, \"Museums-Libraries\": {\"frequency\": 55, \"value\": \"Museums-Libraries\"}, \"Biotech\": {\"frequency\": 57, \"value\": \"Biotech\"}, \"Consulting\": {\"frequency\": 191, \"value\": \"Consulting\"}, \"Fashion\": {\"frequency\": 98, \"value\": \"Fashion\"}, \"Agriculture\": {\"frequency\": 36, \"value\": \"Agriculture\"}, \"Manufacturing\": {\"frequency\": 87, \"value\": \"Manufacturing\"}, \"Engineering\": {\"frequency\": 312, \"value\": \"Engineering\"}, \"Automotive\": {\"frequency\": 54, \"value\": \"Automotive\"}, \"Accounting\": {\"frequency\": 105, \"value\": \"Accounting\"}, \"Education\": {\"frequency\": 980, \"value\": \"Education\"}, \"Technology\": {\"frequency\": 943, \"value\": \"Technology\"}, \"Telecommunications\": {\"frequency\": 119, \"value\": \"Telecommunications\"}, \"RealEstate\": {\"frequency\": 55, \"value\": \"RealEstate\"}, \"Advertising\": {\"frequency\": 145, \"value\": \"Advertising\"}}, \"size\": 19320}, \"id\": {\"complete\": true, \"numeric\": false, \"num_unique\": 19305, \"num_undefined\": 0, \"progress\": 1.0, \"frequent_items\": {\"1019224\": {\"frequency\": 1, \"value\": \"1019224\"}, \"123532\": {\"frequency\": 1, \"value\": \"123532\"}, \"1101683\": {\"frequency\": 1, \"value\": \"1101683\"}, \"1222749\": {\"frequency\": 1, \"value\": \"1222749\"}, \"1250730\": {\"frequency\": 1, \"value\": \"1250730\"}, \"1043785\": {\"frequency\": 1, \"value\": \"1043785\"}, \"1256321\": {\"frequency\": 1, \"value\": \"1256321\"}, \"1144172\": {\"frequency\": 1, \"value\": \"1144172\"}, \"1233897\": {\"frequency\": 1, \"value\": \"1233897\"}, \"1217528\": {\"frequency\": 1, \"value\": \"1217528\"}, \"1163948\": {\"frequency\": 1, \"value\": \"1163948\"}, \"1234212\": {\"frequency\": 1, \"value\": \"1234212\"}, \"1240631\": {\"frequency\": 1, \"value\": \"1240631\"}, \"1208187\": {\"frequency\": 1, \"value\": \"1208187\"}, \"1056232\": {\"frequency\": 1, \"value\": \"1056232\"}, \"1015252\": {\"frequency\": 1, \"value\": \"1015252\"}, \"1039136\": {\"frequency\": 1, \"value\": \"1039136\"}, \"1158355\": {\"frequency\": 1, \"value\": \"1158355\"}, \"1149422\": {\"frequency\": 1, \"value\": \"1149422\"}, \"1146482\": {\"frequency\": 1, \"value\": \"1146482\"}, \"1078410\": {\"frequency\": 1, \"value\": \"1078410\"}, \"1234631\": {\"frequency\": 1, \"value\": \"1234631\"}, \"1132409\": {\"frequency\": 1, \"value\": \"1132409\"}, \"1255453\": {\"frequency\": 1, \"value\": \"1255453\"}, \"1233335\": {\"frequency\": 1, \"value\": \"1233335\"}, \"1015556\": {\"frequency\": 1, \"value\": \"1015556\"}, \"105748\": {\"frequency\": 1, \"value\": \"105748\"}, \"1262059\": {\"frequency\": 1, \"value\": \"1262059\"}, \"1009572\": {\"frequency\": 1, \"value\": \"1009572\"}, \"1045289\": {\"frequency\": 1, \"value\": \"1045289\"}, \"1153868\": {\"frequency\": 1, \"value\": \"1153868\"}, \"1000866\": {\"frequency\": 1, \"value\": \"1000866\"}, \"1224894\": {\"frequency\": 1, \"value\": \"1224894\"}, \"1005545\": {\"frequency\": 1, \"value\": \"1005545\"}, \"1100515\": {\"frequency\": 1, \"value\": \"1100515\"}, \"1274152\": {\"frequency\": 1, \"value\": \"1274152\"}, \"1055228\": {\"frequency\": 1, \"value\": \"1055228\"}, \"1107975\": {\"frequency\": 1, \"value\": \"1107975\"}, \"1245629\": {\"frequency\": 1, \"value\": \"1245629\"}, \"1149997\": {\"frequency\": 1, \"value\": \"1149997\"}, \"1028257\": {\"frequency\": 1, \"value\": \"1028257\"}, \"1058543\": {\"frequency\": 1, \"value\": \"1058543\"}, \"1183666\": {\"frequency\": 1, \"value\": \"1183666\"}, \"1016738\": {\"frequency\": 1, \"value\": \"1016738\"}, \"1197086\": {\"frequency\": 1, \"value\": \"1197086\"}, \"1044338\": {\"frequency\": 1, \"value\": \"1044338\"}, \"1005076\": {\"frequency\": 1, \"value\": \"1005076\"}, \"1149009\": {\"frequency\": 1, \"value\": \"1149009\"}, \"1091574\": {\"frequency\": 1, \"value\": \"1091574\"}, \"1084668\": {\"frequency\": 1, \"value\": \"1084668\"}, \"1157178\": {\"frequency\": 1, \"value\": \"1157178\"}, \"1160168\": {\"frequency\": 1, \"value\": \"1160168\"}, \"1050060\": {\"frequency\": 1, \"value\": \"1050060\"}, \"1142598\": {\"frequency\": 1, \"value\": \"1142598\"}, \"1039908\": {\"frequency\": 1, \"value\": \"1039908\"}, \"1155029\": {\"frequency\": 1, \"value\": \"1155029\"}, \"1066127\": {\"frequency\": 1, \"value\": \"1066127\"}, \"1157338\": {\"frequency\": 1, \"value\": \"1157338\"}, \"1032591\": {\"frequency\": 1, \"value\": \"1032591\"}, \"1125373\": {\"frequency\": 1, \"value\": \"1125373\"}, \"1273229\": {\"frequency\": 1, \"value\": \"1273229\"}, \"1089661\": {\"frequency\": 1, \"value\": \"1089661\"}, \"1199948\": {\"frequency\": 1, \"value\": \"1199948\"}, \"1086142\": {\"frequency\": 1, \"value\": \"1086142\"}, \"1019622\": {\"frequency\": 1, \"value\": \"1019622\"}, \"1084944\": {\"frequency\": 1, \"value\": \"1084944\"}, \"1193364\": {\"frequency\": 1, \"value\": \"1193364\"}, \"1264160\": {\"frequency\": 1, \"value\": \"1264160\"}, \"1238294\": {\"frequency\": 1, \"value\": \"1238294\"}, \"112265\": {\"frequency\": 1, \"value\": \"112265\"}, \"1258907\": {\"frequency\": 1, \"value\": \"1258907\"}, \"1110189\": {\"frequency\": 1, \"value\": \"1110189\"}, \"1135724\": {\"frequency\": 1, \"value\": \"1135724\"}, \"1111991\": {\"frequency\": 1, \"value\": \"1111991\"}, \"1188176\": {\"frequency\": 1, \"value\": \"1188176\"}, \"1131982\": {\"frequency\": 1, \"value\": \"1131982\"}, \"1076134\": {\"frequency\": 1, \"value\": \"1076134\"}, \"1174200\": {\"frequency\": 1, \"value\": \"1174200\"}, \"1084212\": {\"frequency\": 1, \"value\": \"1084212\"}, \"1135325\": {\"frequency\": 1, \"value\": \"1135325\"}, \"1284157\": {\"frequency\": 1, \"value\": \"1284157\"}, \"1255893\": {\"frequency\": 1, \"value\": \"1255893\"}, \"1110391\": {\"frequency\": 1, \"value\": \"1110391\"}, \"1079521\": {\"frequency\": 1, \"value\": \"1079521\"}, \"1266795\": {\"frequency\": 1, \"value\": \"1266795\"}, \"1136785\": {\"frequency\": 1, \"value\": \"1136785\"}, \"1231400\": {\"frequency\": 1, \"value\": \"1231400\"}, \"1252171\": {\"frequency\": 1, \"value\": \"1252171\"}, \"1274353\": {\"frequency\": 1, \"value\": \"1274353\"}, \"118791\": {\"frequency\": 1, \"value\": \"118791\"}, \"1125433\": {\"frequency\": 1, \"value\": \"1125433\"}, \"1025783\": {\"frequency\": 1, \"value\": \"1025783\"}, \"1198592\": {\"frequency\": 1, \"value\": \"1198592\"}, \"1170834\": {\"frequency\": 1, \"value\": \"1170834\"}, \"1171643\": {\"frequency\": 1, \"value\": \"1171643\"}, \"1145753\": {\"frequency\": 1, \"value\": \"1145753\"}, \"1089670\": {\"frequency\": 1, \"value\": \"1089670\"}, \"1088782\": {\"frequency\": 1, \"value\": \"1088782\"}, \"1157658\": {\"frequency\": 1, \"value\": \"1157658\"}, \"1075230\": {\"frequency\": 1, \"value\": \"1075230\"}, \"1068622\": {\"frequency\": 1, \"value\": \"1068622\"}, \"109656\": {\"frequency\": 1, \"value\": \"109656\"}, \"1263465\": {\"frequency\": 1, \"value\": \"1263465\"}, \"1225881\": {\"frequency\": 1, \"value\": \"1225881\"}, \"1166708\": {\"frequency\": 1, \"value\": \"1166708\"}, \"1134486\": {\"frequency\": 1, \"value\": \"1134486\"}, \"108212\": {\"frequency\": 1, \"value\": \"108212\"}, \"1117055\": {\"frequency\": 1, \"value\": \"1117055\"}, \"1241641\": {\"frequency\": 1, \"value\": \"1241641\"}, \"1158868\": {\"frequency\": 1, \"value\": \"1158868\"}, \"1253219\": {\"frequency\": 2, \"value\": \"1253219\"}, \"1278138\": {\"frequency\": 1, \"value\": \"1278138\"}, \"1135804\": {\"frequency\": 1, \"value\": \"1135804\"}, \"1180573\": {\"frequency\": 1, \"value\": \"1180573\"}, \"1246193\": {\"frequency\": 1, \"value\": \"1246193\"}, \"11762\": {\"frequency\": 1, \"value\": \"11762\"}, \"1074721\": {\"frequency\": 1, \"value\": \"1074721\"}, \"1231280\": {\"frequency\": 1, \"value\": \"1231280\"}, \"1046946\": {\"frequency\": 1, \"value\": \"1046946\"}, \"1108003\": {\"frequency\": 1, \"value\": \"1108003\"}, \"1057945\": {\"frequency\": 1, \"value\": \"1057945\"}, \"1241488\": {\"frequency\": 1, \"value\": \"1241488\"}, \"1220898\": {\"frequency\": 1, \"value\": \"1220898\"}, \"1125546\": {\"frequency\": 1, \"value\": \"1125546\"}, \"1054833\": {\"frequency\": 1, \"value\": \"1054833\"}, \"1083777\": {\"frequency\": 1, \"value\": \"1083777\"}, \"1097941\": {\"frequency\": 1, \"value\": \"1097941\"}, \"1089137\": {\"frequency\": 1, \"value\": \"1089137\"}, \"1270372\": {\"frequency\": 1, \"value\": \"1270372\"}, \"100812\": {\"frequency\": 1, \"value\": \"100812\"}, \"1223561\": {\"frequency\": 1, \"value\": \"1223561\"}, \"1259041\": {\"frequency\": 1, \"value\": \"1259041\"}, \"1077758\": {\"frequency\": 1, \"value\": \"1077758\"}, \"1026443\": {\"frequency\": 1, \"value\": \"1026443\"}, \"1187430\": {\"frequency\": 1, \"value\": \"1187430\"}, \"1104980\": {\"frequency\": 1, \"value\": \"1104980\"}, \"1060727\": {\"frequency\": 1, \"value\": \"1060727\"}, \"1270648\": {\"frequency\": 1, \"value\": \"1270648\"}, \"1022037\": {\"frequency\": 1, \"value\": \"1022037\"}, \"1008329\": {\"frequency\": 1, \"value\": \"1008329\"}, \"1029959\": {\"frequency\": 1, \"value\": \"1029959\"}, \"1197937\": {\"frequency\": 1, \"value\": \"1197937\"}, \"1276007\": {\"frequency\": 1, \"value\": \"1276007\"}, \"1098293\": {\"frequency\": 2, \"value\": \"1098293\"}, \"1266843\": {\"frequency\": 1, \"value\": \"1266843\"}, \"1242619\": {\"frequency\": 1, \"value\": \"1242619\"}, \"1060087\": {\"frequency\": 1, \"value\": \"1060087\"}, \"1244732\": {\"frequency\": 1, \"value\": \"1244732\"}, \"1000331\": {\"frequency\": 2, \"value\": \"1000331\"}, \"1266177\": {\"frequency\": 1, \"value\": \"1266177\"}, \"1119650\": {\"frequency\": 1, \"value\": \"1119650\"}, \"1137273\": {\"frequency\": 1, \"value\": \"1137273\"}, \"1051122\": {\"frequency\": 1, \"value\": \"1051122\"}, \"1086405\": {\"frequency\": 1, \"value\": \"1086405\"}, \"1152012\": {\"frequency\": 1, \"value\": \"1152012\"}, \"1127124\": {\"frequency\": 1, \"value\": \"1127124\"}, \"1279436\": {\"frequency\": 1, \"value\": \"1279436\"}, \"1238388\": {\"frequency\": 1, \"value\": \"1238388\"}, \"1113692\": {\"frequency\": 1, \"value\": \"1113692\"}, \"1113052\": {\"frequency\": 1, \"value\": \"1113052\"}, \"1110574\": {\"frequency\": 1, \"value\": \"1110574\"}, \"1277039\": {\"frequency\": 1, \"value\": \"1277039\"}, \"1052611\": {\"frequency\": 1, \"value\": \"1052611\"}, \"1137547\": {\"frequency\": 2, \"value\": \"1137547\"}, \"1252620\": {\"frequency\": 1, \"value\": \"1252620\"}, \"1103171\": {\"frequency\": 1, \"value\": \"1103171\"}, \"1268682\": {\"frequency\": 1, \"value\": \"1268682\"}, \"1004904\": {\"frequency\": 1, \"value\": \"1004904\"}, \"1261185\": {\"frequency\": 1, \"value\": \"1261185\"}, \"1112708\": {\"frequency\": 1, \"value\": \"1112708\"}, \"1076363\": {\"frequency\": 1, \"value\": \"1076363\"}, \"1273538\": {\"frequency\": 1, \"value\": \"1273538\"}, \"1269873\": {\"frequency\": 1, \"value\": \"1269873\"}, \"1125459\": {\"frequency\": 1, \"value\": \"1125459\"}, \"1091912\": {\"frequency\": 1, \"value\": \"1091912\"}, \"1184801\": {\"frequency\": 1, \"value\": \"1184801\"}, \"1233956\": {\"frequency\": 1, \"value\": \"1233956\"}, \"1259179\": {\"frequency\": 1, \"value\": \"1259179\"}, \"1279026\": {\"frequency\": 1, \"value\": \"1279026\"}, \"1267773\": {\"frequency\": 1, \"value\": \"1267773\"}, \"1221843\": {\"frequency\": 1, \"value\": \"1221843\"}, \"1024234\": {\"frequency\": 1, \"value\": \"1024234\"}, \"1031806\": {\"frequency\": 1, \"value\": \"1031806\"}, \"1232458\": {\"frequency\": 1, \"value\": \"1232458\"}, \"1011289\": {\"frequency\": 1, \"value\": \"1011289\"}, \"1021779\": {\"frequency\": 1, \"value\": \"1021779\"}, \"1157144\": {\"frequency\": 1, \"value\": \"1157144\"}, \"108780\": {\"frequency\": 1, \"value\": \"108780\"}, \"1143104\": {\"frequency\": 1, \"value\": \"1143104\"}, \"1034874\": {\"frequency\": 1, \"value\": \"1034874\"}, \"1204495\": {\"frequency\": 1, \"value\": \"1204495\"}, \"1162051\": {\"frequency\": 1, \"value\": \"1162051\"}, \"1251358\": {\"frequency\": 1, \"value\": \"1251358\"}, \"1255416\": {\"frequency\": 1, \"value\": \"1255416\"}, \"1194367\": {\"frequency\": 1, \"value\": \"1194367\"}, \"1195073\": {\"frequency\": 1, \"value\": \"1195073\"}, \"1216517\": {\"frequency\": 1, \"value\": \"1216517\"}, \"1223044\": {\"frequency\": 1, \"value\": \"1223044\"}, \"1067319\": {\"frequency\": 1, \"value\": \"1067319\"}, \"1091067\": {\"frequency\": 1, \"value\": \"1091067\"}, \"1233687\": {\"frequency\": 1, \"value\": \"1233687\"}, \"1156278\": {\"frequency\": 1, \"value\": \"1156278\"}, \"1173156\": {\"frequency\": 1, \"value\": \"1173156\"}, \"1073035\": {\"frequency\": 1, \"value\": \"1073035\"}, \"1042993\": {\"frequency\": 1, \"value\": \"1042993\"}, \"1247134\": {\"frequency\": 1, \"value\": \"1247134\"}, \"1028027\": {\"frequency\": 1, \"value\": \"1028027\"}, \"1274852\": {\"frequency\": 1, \"value\": \"1274852\"}, \"1180158\": {\"frequency\": 1, \"value\": \"1180158\"}, \"1190695\": {\"frequency\": 1, \"value\": \"1190695\"}, \"1209613\": {\"frequency\": 1, \"value\": \"1209613\"}, \"1090547\": {\"frequency\": 1, \"value\": \"1090547\"}, \"1281160\": {\"frequency\": 1, \"value\": \"1281160\"}, \"1040084\": {\"frequency\": 1, \"value\": \"1040084\"}, \"1105342\": {\"frequency\": 1, \"value\": \"1105342\"}, \"1032153\": {\"frequency\": 1, \"value\": \"1032153\"}, \"1045316\": {\"frequency\": 1, \"value\": \"1045316\"}, \"1196077\": {\"frequency\": 1, \"value\": \"1196077\"}, \"1261450\": {\"frequency\": 1, \"value\": \"1261450\"}, \"1274564\": {\"frequency\": 1, \"value\": \"1274564\"}, \"1143324\": {\"frequency\": 1, \"value\": \"1143324\"}, \"1178497\": {\"frequency\": 1, \"value\": \"1178497\"}, \"110854\": {\"frequency\": 1, \"value\": \"110854\"}, \"1113541\": {\"frequency\": 1, \"value\": \"1113541\"}, \"1226756\": {\"frequency\": 1, \"value\": \"1226756\"}, \"1065973\": {\"frequency\": 1, \"value\": \"1065973\"}, \"1087356\": {\"frequency\": 1, \"value\": \"1087356\"}, \"1196970\": {\"frequency\": 1, \"value\": \"1196970\"}, \"1266861\": {\"frequency\": 1, \"value\": \"1266861\"}, \"1016787\": {\"frequency\": 1, \"value\": \"1016787\"}, \"1098541\": {\"frequency\": 1, \"value\": \"1098541\"}, \"1032824\": {\"frequency\": 1, \"value\": \"1032824\"}, \"1263794\": {\"frequency\": 1, \"value\": \"1263794\"}, \"1230289\": {\"frequency\": 1, \"value\": \"1230289\"}, \"1237310\": {\"frequency\": 1, \"value\": \"1237310\"}, \"1093457\": {\"frequency\": 1, \"value\": \"1093457\"}, \"1112526\": {\"frequency\": 1, \"value\": \"1112526\"}, \"1209241\": {\"frequency\": 1, \"value\": \"1209241\"}, \"1231733\": {\"frequency\": 1, \"value\": \"1231733\"}, \"1093691\": {\"frequency\": 1, \"value\": \"1093691\"}, \"1234709\": {\"frequency\": 1, \"value\": \"1234709\"}, \"1088145\": {\"frequency\": 1, \"value\": \"1088145\"}, \"1207055\": {\"frequency\": 1, \"value\": \"1207055\"}, \"1110091\": {\"frequency\": 1, \"value\": \"1110091\"}, \"1090235\": {\"frequency\": 1, \"value\": \"1090235\"}, \"1107146\": {\"frequency\": 1, \"value\": \"1107146\"}, \"1207422\": {\"frequency\": 1, \"value\": \"1207422\"}, \"1117656\": {\"frequency\": 1, \"value\": \"1117656\"}, \"1211557\": {\"frequency\": 1, \"value\": \"1211557\"}, \"1092346\": {\"frequency\": 1, \"value\": \"1092346\"}, \"1214462\": {\"frequency\": 1, \"value\": \"1214462\"}, \"1225595\": {\"frequency\": 1, \"value\": \"1225595\"}, \"1280497\": {\"frequency\": 1, \"value\": \"1280497\"}, \"1241231\": {\"frequency\": 1, \"value\": \"1241231\"}, \"1284564\": {\"frequency\": 1, \"value\": \"1284564\"}, \"1203229\": {\"frequency\": 1, \"value\": \"1203229\"}, \"1077954\": {\"frequency\": 1, \"value\": \"1077954\"}, \"1197361\": {\"frequency\": 1, \"value\": \"1197361\"}, \"1019710\": {\"frequency\": 1, \"value\": \"1019710\"}, \"1114816\": {\"frequency\": 1, \"value\": \"1114816\"}, \"1178991\": {\"frequency\": 1, \"value\": \"1178991\"}, \"1242759\": {\"frequency\": 1, \"value\": \"1242759\"}, \"1091544\": {\"frequency\": 1, \"value\": \"1091544\"}, \"1169141\": {\"frequency\": 1, \"value\": \"1169141\"}, \"1245805\": {\"frequency\": 1, \"value\": \"1245805\"}, \"106651\": {\"frequency\": 1, \"value\": \"106651\"}, \"1236636\": {\"frequency\": 1, \"value\": \"1236636\"}, \"1119851\": {\"frequency\": 1, \"value\": \"1119851\"}, \"114645\": {\"frequency\": 1, \"value\": \"114645\"}, \"1047241\": {\"frequency\": 1, \"value\": \"1047241\"}, \"1208423\": {\"frequency\": 1, \"value\": \"1208423\"}, \"1283465\": {\"frequency\": 1, \"value\": \"1283465\"}, \"1043329\": {\"frequency\": 1, \"value\": \"1043329\"}, \"1169580\": {\"frequency\": 1, \"value\": \"1169580\"}, \"1205193\": {\"frequency\": 1, \"value\": \"1205193\"}, \"1164965\": {\"frequency\": 1, \"value\": \"1164965\"}, \"1155573\": {\"frequency\": 2, \"value\": \"1155573\"}, \"1131517\": {\"frequency\": 1, \"value\": \"1131517\"}, \"1274993\": {\"frequency\": 1, \"value\": \"1274993\"}, \"1283349\": {\"frequency\": 1, \"value\": \"1283349\"}, \"1112886\": {\"frequency\": 1, \"value\": \"1112886\"}, \"1211653\": {\"frequency\": 1, \"value\": \"1211653\"}, \"1232234\": {\"frequency\": 1, \"value\": \"1232234\"}, \"1246850\": {\"frequency\": 1, \"value\": \"1246850\"}, \"1103084\": {\"frequency\": 1, \"value\": \"1103084\"}, \"1151815\": {\"frequency\": 1, \"value\": \"1151815\"}, \"1013637\": {\"frequency\": 1, \"value\": \"1013637\"}, \"1057539\": {\"frequency\": 1, \"value\": \"1057539\"}, \"1162265\": {\"frequency\": 1, \"value\": \"1162265\"}, \"1102011\": {\"frequency\": 1, \"value\": \"1102011\"}, \"1130595\": {\"frequency\": 1, \"value\": \"1130595\"}, \"1043569\": {\"frequency\": 1, \"value\": \"1043569\"}, \"1231380\": {\"frequency\": 1, \"value\": \"1231380\"}, \"1225020\": {\"frequency\": 1, \"value\": \"1225020\"}, \"1045831\": {\"frequency\": 1, \"value\": \"1045831\"}, \"1070326\": {\"frequency\": 1, \"value\": \"1070326\"}, \"1163257\": {\"frequency\": 1, \"value\": \"1163257\"}, \"1068893\": {\"frequency\": 1, \"value\": \"1068893\"}, \"1274171\": {\"frequency\": 1, \"value\": \"1274171\"}, \"1185193\": {\"frequency\": 1, \"value\": \"1185193\"}, \"1239610\": {\"frequency\": 1, \"value\": \"1239610\"}, \"1103016\": {\"frequency\": 1, \"value\": \"1103016\"}, \"106738\": {\"frequency\": 1, \"value\": \"106738\"}, \"1261679\": {\"frequency\": 1, \"value\": \"1261679\"}, \"1192293\": {\"frequency\": 1, \"value\": \"1192293\"}, \"1011311\": {\"frequency\": 1, \"value\": \"1011311\"}, \"122217\": {\"frequency\": 1, \"value\": \"122217\"}, \"1159057\": {\"frequency\": 1, \"value\": \"1159057\"}, \"106160\": {\"frequency\": 1, \"value\": \"106160\"}, \"1254400\": {\"frequency\": 1, \"value\": \"1254400\"}, \"1240274\": {\"frequency\": 1, \"value\": \"1240274\"}, \"1103575\": {\"frequency\": 1, \"value\": \"1103575\"}, \"1016560\": {\"frequency\": 1, \"value\": \"1016560\"}, \"1209865\": {\"frequency\": 1, \"value\": \"1209865\"}, \"1115374\": {\"frequency\": 1, \"value\": \"1115374\"}, \"1202874\": {\"frequency\": 1, \"value\": \"1202874\"}, \"1284920\": {\"frequency\": 1, \"value\": \"1284920\"}, \"1171545\": {\"frequency\": 1, \"value\": \"1171545\"}, \"11253\": {\"frequency\": 1, \"value\": \"11253\"}, \"1094221\": {\"frequency\": 1, \"value\": \"1094221\"}, \"1078077\": {\"frequency\": 1, \"value\": \"1078077\"}, \"1092135\": {\"frequency\": 1, \"value\": \"1092135\"}, \"1022086\": {\"frequency\": 1, \"value\": \"1022086\"}, \"1284681\": {\"frequency\": 1, \"value\": \"1284681\"}, \"1056581\": {\"frequency\": 1, \"value\": \"1056581\"}, \"1138306\": {\"frequency\": 1, \"value\": \"1138306\"}, \"1097617\": {\"frequency\": 1, \"value\": \"1097617\"}, \"1062652\": {\"frequency\": 1, \"value\": \"1062652\"}, \"1063313\": {\"frequency\": 1, \"value\": \"1063313\"}, \"1011153\": {\"frequency\": 1, \"value\": \"1011153\"}, \"1229858\": {\"frequency\": 1, \"value\": \"1229858\"}, \"1119280\": {\"frequency\": 1, \"value\": \"1119280\"}, \"113390\": {\"frequency\": 1, \"value\": \"113390\"}}, \"size\": 19320}}, \"selected_variable\": {\"name\": [\"sf\"], \"descriptives\": {\"rows\": 19320, \"columns\": 7}, \"view_component\": \"Summary\", \"view_file\": \"sframe\", \"view_params\": {\"y\": null, \"x\": null, \"columns\": [\"age\", \"dates\", \"gender\", \"id\", \"industry\", \"posts\", \"sign\"], \"view\": null}, \"view_components\": [\"Summary\", \"Table\", \"Bar Chart\", \"BoxWhisker Plot\", \"Line Chart\", \"Scatter Plot\", \"Heat Map\", \"Plots\"], \"type\": \"SFrame\", \"columns\": [{\"dtype\": \"int\", \"name\": \"age\"}, {\"dtype\": \"list\", \"name\": \"dates\"}, {\"dtype\": \"str\", \"name\": \"gender\"}, {\"dtype\": \"str\", \"name\": \"id\"}, {\"dtype\": \"str\", \"name\": \"industry\"}, {\"dtype\": \"list\", \"name\": \"posts\"}, {\"dtype\": \"str\", \"name\": \"sign\"}], \"column_identifiers\": [\"dates\", \"gender\", \"age\", \"posts\", \"sign\", \"industry\", \"id\"]}, \"columns\": [{\"dtype\": \"int\", \"name\": \"age\"}, {\"dtype\": \"list\", \"name\": \"dates\"}, {\"dtype\": \"str\", \"name\": \"gender\"}, {\"dtype\": \"str\", \"name\": \"id\"}, {\"dtype\": \"str\", \"name\": \"industry\"}, {\"dtype\": \"list\", \"name\": \"posts\"}, {\"dtype\": \"str\", \"name\": \"sign\"}]}, e);\n",
       "                });\n",
       "            })();\n",
       "        "
      ]
     },
     "metadata": {},
     "output_type": "display_data"
    }
   ],
   "source": [
    "gl.canvas.set_target('ipynb')\n",
    "sf.show()"
   ]
  },
  {
   "cell_type": "markdown",
   "metadata": {},
   "source": [
    "## Training Word2Vec Model"
   ]
  },
  {
   "cell_type": "markdown",
   "metadata": {},
   "source": [
    "### Warning this step can take awhile to train"
   ]
  },
  {
   "cell_type": "code",
   "execution_count": 41,
   "metadata": {
    "collapsed": true
   },
   "outputs": [],
   "source": [
    "import os\n",
    "import gensim\n",
    "import re\n",
    "import nltk\n",
    "from nltk.corpus import stopwords\n",
    "from bs4 import BeautifulSoup"
   ]
  },
  {
   "cell_type": "code",
   "execution_count": 43,
   "metadata": {
    "collapsed": true
   },
   "outputs": [],
   "source": [
    "BASE_DIR = \"/Users/marvinbertin/graphlab_data\" # NOTE: Update BASE_DIR to your own directory path\n",
    "class TrainSentences(object):\n",
    "    \"\"\"\n",
    "    Iterator class that returns Sentences from texts files in a input directory\n",
    "    \"\"\"\n",
    "    RE_WIHTE_SPACES = re.compile(\"\\s+\")\n",
    "    STOP_WORDS = set(stopwords.words(\"english\"))\n",
    "    def __init__(self, dirname):\n",
    "        \"\"\"\n",
    "        Initialize a TrainSentences object with a input directory that contains text files for training\n",
    "        :param dirname: directory name which contains the text files        \n",
    "        \"\"\"\n",
    "        self.dirname = dirname\n",
    "\n",
    "    def __iter__(self):\n",
    "        \"\"\"\n",
    "        Sentences iterator that return sentences parsed from files in the input directory.\n",
    "        Each sentences is returned as list of words\n",
    "        \"\"\"\n",
    "        #First iterate  on all files in the input directory\n",
    "        for fname in os.listdir(self.dirname):\n",
    "            # read line from file (Without reading the entire file)\n",
    "            for line in file(os.path.join(self.dirname, fname), \"rb\"):\n",
    "                # split the read line into sentences using NLTK\n",
    "                for s in txt2sentences(line, is_html=True):\n",
    "                    # split the sentence into words using regex\n",
    "                    w =txt2words(s, lower=True, is_html=False, remove_stop_words=False,\n",
    "                                                 remove_none_english_chars=True)\n",
    "                    #skip short sentneces with less than 3 words\n",
    "                    if len(w) < 3:\n",
    "                        continue\n",
    "                    yield w\n",
    "\n",
    "def txt2sentences(txt, is_html=False, remove_none_english_chars=True):\n",
    "    \"\"\"\n",
    "    Split the English text into sentences using NLTK\n",
    "    :param txt: input text.\n",
    "    :param is_html: If True thenremove HTML tags using BeautifulSoup\n",
    "    :param remove_none_english_chars: if True then remove non-english chars from text\n",
    "    :return: string in which each line consists of single sentence from the original input text.\n",
    "    :rtype: str\n",
    "    \"\"\"\n",
    "    if is_html:\n",
    "        txt = BeautifulSoup(txt).get_text()\n",
    "    tokenizer = nltk.data.load('tokenizers/punkt/english.pickle')\n",
    "\n",
    "    # split text into sentences using nltk packages\n",
    "    for s in tokenizer.tokenize(txt):\n",
    "        if remove_none_english_chars:\n",
    "            #remove none English chars\n",
    "            s = re.sub(\"[^a-zA-Z]\", \" \", s)\n",
    "        yield s\n",
    "    "
   ]
  },
  {
   "cell_type": "code",
   "execution_count": 39,
   "metadata": {
    "collapsed": true
   },
   "outputs": [],
   "source": [
    "def txt2words(txt, lower=True, is_html=False, remove_none_english_chars=True, remove_stop_words=True):\n",
    "    \"\"\"\n",
    "    Split text into words list\n",
    "    :param txt: the input text\n",
    "    :param lower: if to make the  text to lowercase or not.\n",
    "    :param is_html: If True then  remove HTML tags using BeautifulSoup\n",
    "    :param remove_none_english_chars: if True then remove non-english chars from text\n",
    "    :param remove_stop_words: if True then remove stop words from text\n",
    "    :return: words list create from the input text according to the input parameters.\n",
    "    :rtype: list\n",
    "    \"\"\"\n",
    "    if is_html:\n",
    "        txt = BeautifulSoup(txt).get_text()\n",
    "    if lower:\n",
    "        txt = txt.lower()\n",
    "    if remove_none_english_chars:\n",
    "        txt = re.sub(\"[^a-zA-Z]\", \" \", txt)\n",
    "\n",
    "    words = TrainSentences.RE_WIHTE_SPACES.split(txt.strip().lower())\n",
    "    if remove_stop_words:\n",
    "        #remove stop words from text\n",
    "        words = [w for w in words if w not in TrainSentences.STOP_WORDS]\n",
    "    return words"
   ]
  },
  {
   "cell_type": "code",
   "execution_count": null,
   "metadata": {
    "collapsed": true
   },
   "outputs": [],
   "source": [
    "sentences = TrainSentences(\"%s/txt\" % BASE_DIR)\n",
    "model = gensim.models.Word2Vec(sentences, size=300, workers=8, min_count=40)\n",
    "model.save(\"%s/blog_posts_300_c_40.word2vec\" % BASE_DIR)"
   ]
  },
  {
   "cell_type": "code",
   "execution_count": 20,
   "metadata": {
    "collapsed": false
   },
   "outputs": [],
   "source": [
    "import gensim"
   ]
  },
  {
   "cell_type": "code",
   "execution_count": 21,
   "metadata": {
    "collapsed": false
   },
   "outputs": [],
   "source": [
    "BASE_DIR = \"/Users/marvinbertin/graphlab_data/models\" # NOTE: Update BASE_DIR to your own directory path\n",
    "model_download_path = \"%s/blog_posts_300_c_40.word2vec\" % BASE_DIR\n",
    "model = gensim.models.Word2Vec.load(model_download_path)"
   ]
  },
  {
   "cell_type": "code",
   "execution_count": 22,
   "metadata": {
    "collapsed": false
   },
   "outputs": [
    {
     "data": {
      "text/plain": [
       "[(u'haha', 0.7543795108795166),\n",
       " (u'lildevil', 0.7210554480552673),\n",
       " (u'dynamitedg', 0.7055381536483765),\n",
       " (u'hahaha', 0.704667329788208),\n",
       " (u'hellokittylovzme', 0.7038414478302002),\n",
       " (u'yea', 0.6890978813171387),\n",
       " (u'shevy', 0.6800159215927124),\n",
       " (u'fabityfabfab', 0.6786916851997375),\n",
       " (u'djkthegr', 0.6695927381515503),\n",
       " (u'sehne', 0.6663240790367126)]"
      ]
     },
     "execution_count": 22,
     "metadata": {},
     "output_type": "execute_result"
    }
   ],
   "source": [
    "model.most_similar(\"lol\")"
   ]
  },
  {
   "cell_type": "code",
   "execution_count": 25,
   "metadata": {
    "collapsed": false
   },
   "outputs": [
    {
     "data": {
      "text/plain": [
       "[(u'white', 0.9320946335792542),\n",
       " (u'supremacist', 0.9221380352973938),\n",
       " (u'caucasian', 0.8852033615112305),\n",
       " (u'bodied', 0.8755568861961365),\n",
       " (u'burgandy', 0.8735051155090332),\n",
       " (u'stripes', 0.87107253074646),\n",
       " (u'sequined', 0.8671029806137085),\n",
       " (u'bearded', 0.8589045405387878),\n",
       " (u'hispanic', 0.8537147641181946),\n",
       " (u'tights', 0.8529753088951111)]"
      ]
     },
     "execution_count": 25,
     "metadata": {},
     "output_type": "execute_result"
    }
   ],
   "source": [
    "model.most_similar_cosmul(positive=['young', 'black'], negative=['old'])"
   ]
  },
  {
   "cell_type": "code",
   "execution_count": 27,
   "metadata": {
    "collapsed": false
   },
   "outputs": [
    {
     "data": {
      "text/plain": [
       "[(u'fabulous', 0.696677565574646),\n",
       " (u'terrific', 0.6917413473129272),\n",
       " (u'great', 0.6832793951034546),\n",
       " (u'wonderful', 0.6618353128433228),\n",
       " (u'superb', 0.6394547820091248),\n",
       " (u'brilliant', 0.6001139879226685),\n",
       " (u'marvelous', 0.5984939336776733),\n",
       " (u'amazing', 0.5513710379600525),\n",
       " (u'lovely', 0.5503456592559814),\n",
       " (u'delightful', 0.5462784767150879)]"
      ]
     },
     "execution_count": 27,
     "metadata": {},
     "output_type": "execute_result"
    }
   ],
   "source": [
    "model.most_similar(\"fantastic\")"
   ]
  },
  {
   "cell_type": "code",
   "execution_count": 28,
   "metadata": {
    "collapsed": false
   },
   "outputs": [
    {
     "name": "stdout",
     "output_type": "stream",
     "text": [
      "19320\n"
     ]
    }
   ],
   "source": [
    "print sf.num_rows()"
   ]
  },
  {
   "cell_type": "markdown",
   "metadata": {},
   "source": [
    "##Creating & Evaluating Classifiers"
   ]
  },
  {
   "cell_type": "markdown",
   "metadata": {},
   "source": [
    "### Feature Engineering"
   ]
  },
  {
   "cell_type": "code",
   "execution_count": 29,
   "metadata": {
    "collapsed": false
   },
   "outputs": [
    {
     "data": {
      "text/html": [
       "<div style=\"max-height:1000px;max-width:1500px;overflow:auto;\"><table frame=\"box\" rules=\"cols\">\n",
       "    <tr>\n",
       "        <th style=\"padding-left: 1em; padding-right: 1em; text-align: center\">age</th>\n",
       "        <th style=\"padding-left: 1em; padding-right: 1em; text-align: center\">dates</th>\n",
       "        <th style=\"padding-left: 1em; padding-right: 1em; text-align: center\">gender</th>\n",
       "        <th style=\"padding-left: 1em; padding-right: 1em; text-align: center\">id</th>\n",
       "        <th style=\"padding-left: 1em; padding-right: 1em; text-align: center\">industry</th>\n",
       "        <th style=\"padding-left: 1em; padding-right: 1em; text-align: center\">posts</th>\n",
       "        <th style=\"padding-left: 1em; padding-right: 1em; text-align: center\">sign</th>\n",
       "    </tr>\n",
       "    <tr>\n",
       "        <td style=\"padding-left: 1em; padding-right: 1em; text-align: center; vertical-align: top\">37</td>\n",
       "        <td style=\"padding-left: 1em; padding-right: 1em; text-align: center; vertical-align: top\">[31,May,2004,<br>29,May,2004, 28,May,2 ...</td>\n",
       "        <td style=\"padding-left: 1em; padding-right: 1em; text-align: center; vertical-align: top\">female</td>\n",
       "        <td style=\"padding-left: 1em; padding-right: 1em; text-align: center; vertical-align: top\">1000331</td>\n",
       "        <td style=\"padding-left: 1em; padding-right: 1em; text-align: center; vertical-align: top\">indUnk</td>\n",
       "        <td style=\"padding-left: 1em; padding-right: 1em; text-align: center; vertical-align: top\">[Well, everyone got up<br>and going this morning. ...</td>\n",
       "        <td style=\"padding-left: 1em; padding-right: 1em; text-align: center; vertical-align: top\">Leo</td>\n",
       "    </tr>\n",
       "    <tr>\n",
       "        <td style=\"padding-left: 1em; padding-right: 1em; text-align: center; vertical-align: top\">17</td>\n",
       "        <td style=\"padding-left: 1em; padding-right: 1em; text-align: center; vertical-align: top\">[23,November,2002,<br>20,November,2002, ...</td>\n",
       "        <td style=\"padding-left: 1em; padding-right: 1em; text-align: center; vertical-align: top\">female</td>\n",
       "        <td style=\"padding-left: 1em; padding-right: 1em; text-align: center; vertical-align: top\">1000866</td>\n",
       "        <td style=\"padding-left: 1em; padding-right: 1em; text-align: center; vertical-align: top\">Student</td>\n",
       "        <td style=\"padding-left: 1em; padding-right: 1em; text-align: center; vertical-align: top\">[Yeah, sorry for not<br>writing for a whole ...</td>\n",
       "        <td style=\"padding-left: 1em; padding-right: 1em; text-align: center; vertical-align: top\">Libra</td>\n",
       "    </tr>\n",
       "    <tr>\n",
       "        <td style=\"padding-left: 1em; padding-right: 1em; text-align: center; vertical-align: top\">23</td>\n",
       "        <td style=\"padding-left: 1em; padding-right: 1em; text-align: center; vertical-align: top\">[19,June,2004,<br>19,June,2004, ...</td>\n",
       "        <td style=\"padding-left: 1em; padding-right: 1em; text-align: center; vertical-align: top\">male</td>\n",
       "        <td style=\"padding-left: 1em; padding-right: 1em; text-align: center; vertical-align: top\">1004904</td>\n",
       "        <td style=\"padding-left: 1em; padding-right: 1em; text-align: center; vertical-align: top\">Arts</td>\n",
       "        <td style=\"padding-left: 1em; padding-right: 1em; text-align: center; vertical-align: top\">[cupid,please hear my<br>cry, cupid, please let ...</td>\n",
       "        <td style=\"padding-left: 1em; padding-right: 1em; text-align: center; vertical-align: top\">Capricorn</td>\n",
       "    </tr>\n",
       "    <tr>\n",
       "        <td style=\"padding-left: 1em; padding-right: 1em; text-align: center; vertical-align: top\">25</td>\n",
       "        <td style=\"padding-left: 1em; padding-right: 1em; text-align: center; vertical-align: top\">[31,May,2004,<br>30,May,2004, 30,May,2 ...</td>\n",
       "        <td style=\"padding-left: 1em; padding-right: 1em; text-align: center; vertical-align: top\">female</td>\n",
       "        <td style=\"padding-left: 1em; padding-right: 1em; text-align: center; vertical-align: top\">1005076</td>\n",
       "        <td style=\"padding-left: 1em; padding-right: 1em; text-align: center; vertical-align: top\">Arts</td>\n",
       "        <td style=\"padding-left: 1em; padding-right: 1em; text-align: center; vertical-align: top\">[and did i mention that i<br>no longer have to deal ...</td>\n",
       "        <td style=\"padding-left: 1em; padding-right: 1em; text-align: center; vertical-align: top\">Cancer</td>\n",
       "    </tr>\n",
       "    <tr>\n",
       "        <td style=\"padding-left: 1em; padding-right: 1em; text-align: center; vertical-align: top\">25</td>\n",
       "        <td style=\"padding-left: 1em; padding-right: 1em; text-align: center; vertical-align: top\">[05,July,2003,<br>04,July,2003, ...</td>\n",
       "        <td style=\"padding-left: 1em; padding-right: 1em; text-align: center; vertical-align: top\">male</td>\n",
       "        <td style=\"padding-left: 1em; padding-right: 1em; text-align: center; vertical-align: top\">1005545</td>\n",
       "        <td style=\"padding-left: 1em; padding-right: 1em; text-align: center; vertical-align: top\">Engineering</td>\n",
       "        <td style=\"padding-left: 1em; padding-right: 1em; text-align: center; vertical-align: top\">[B-Logs: The Business<br>Blogs Paradox    urlLink ...</td>\n",
       "        <td style=\"padding-left: 1em; padding-right: 1em; text-align: center; vertical-align: top\">Sagittarius</td>\n",
       "    </tr>\n",
       "    <tr>\n",
       "        <td style=\"padding-left: 1em; padding-right: 1em; text-align: center; vertical-align: top\">48</td>\n",
       "        <td style=\"padding-left: 1em; padding-right: 1em; text-align: center; vertical-align: top\">[12,July,2003,<br>07,July,2003, ...</td>\n",
       "        <td style=\"padding-left: 1em; padding-right: 1em; text-align: center; vertical-align: top\">male</td>\n",
       "        <td style=\"padding-left: 1em; padding-right: 1em; text-align: center; vertical-align: top\">1007188</td>\n",
       "        <td style=\"padding-left: 1em; padding-right: 1em; text-align: center; vertical-align: top\">Religion</td>\n",
       "        <td style=\"padding-left: 1em; padding-right: 1em; text-align: center; vertical-align: top\">[1/03 DrKioni.com Awarded<br>ByRegion.net Healers  ...</td>\n",
       "        <td style=\"padding-left: 1em; padding-right: 1em; text-align: center; vertical-align: top\">Libra</td>\n",
       "    </tr>\n",
       "    <tr>\n",
       "        <td style=\"padding-left: 1em; padding-right: 1em; text-align: center; vertical-align: top\">26</td>\n",
       "        <td style=\"padding-left: 1em; padding-right: 1em; text-align: center; vertical-align: top\">[23,July,2003,<br>14,July,2003, ...</td>\n",
       "        <td style=\"padding-left: 1em; padding-right: 1em; text-align: center; vertical-align: top\">female</td>\n",
       "        <td style=\"padding-left: 1em; padding-right: 1em; text-align: center; vertical-align: top\">100812</td>\n",
       "        <td style=\"padding-left: 1em; padding-right: 1em; text-align: center; vertical-align: top\">Architecture</td>\n",
       "        <td style=\"padding-left: 1em; padding-right: 1em; text-align: center; vertical-align: top\">[Friday    My dear wife<br>was walking on her ...</td>\n",
       "        <td style=\"padding-left: 1em; padding-right: 1em; text-align: center; vertical-align: top\">Aries</td>\n",
       "    </tr>\n",
       "    <tr>\n",
       "        <td style=\"padding-left: 1em; padding-right: 1em; text-align: center; vertical-align: top\">16</td>\n",
       "        <td style=\"padding-left: 1em; padding-right: 1em; text-align: center; vertical-align: top\">[23,November,2002,<br>21,November,2002, ...</td>\n",
       "        <td style=\"padding-left: 1em; padding-right: 1em; text-align: center; vertical-align: top\">female</td>\n",
       "        <td style=\"padding-left: 1em; padding-right: 1em; text-align: center; vertical-align: top\">1008329</td>\n",
       "        <td style=\"padding-left: 1em; padding-right: 1em; text-align: center; vertical-align: top\">Student</td>\n",
       "        <td style=\"padding-left: 1em; padding-right: 1em; text-align: center; vertical-align: top\">[Sorry, but I gotta..I<br>couldn't remember the ...</td>\n",
       "        <td style=\"padding-left: 1em; padding-right: 1em; text-align: center; vertical-align: top\">Pisces</td>\n",
       "    </tr>\n",
       "    <tr>\n",
       "        <td style=\"padding-left: 1em; padding-right: 1em; text-align: center; vertical-align: top\">25</td>\n",
       "        <td style=\"padding-left: 1em; padding-right: 1em; text-align: center; vertical-align: top\">[30,July,2004,<br>22,July,2004, ...</td>\n",
       "        <td style=\"padding-left: 1em; padding-right: 1em; text-align: center; vertical-align: top\">male</td>\n",
       "        <td style=\"padding-left: 1em; padding-right: 1em; text-align: center; vertical-align: top\">1009572</td>\n",
       "        <td style=\"padding-left: 1em; padding-right: 1em; text-align: center; vertical-align: top\">indUnk</td>\n",
       "        <td style=\"padding-left: 1em; padding-right: 1em; text-align: center; vertical-align: top\">[Planning the Marathon<br>I checked Active.com, ...</td>\n",
       "        <td style=\"padding-left: 1em; padding-right: 1em; text-align: center; vertical-align: top\">Cancer</td>\n",
       "    </tr>\n",
       "    <tr>\n",
       "        <td style=\"padding-left: 1em; padding-right: 1em; text-align: center; vertical-align: top\">27</td>\n",
       "        <td style=\"padding-left: 1em; padding-right: 1em; text-align: center; vertical-align: top\">[28,April,2004,<br>26,April,2004, ...</td>\n",
       "        <td style=\"padding-left: 1em; padding-right: 1em; text-align: center; vertical-align: top\">female</td>\n",
       "        <td style=\"padding-left: 1em; padding-right: 1em; text-align: center; vertical-align: top\">1011153</td>\n",
       "        <td style=\"padding-left: 1em; padding-right: 1em; text-align: center; vertical-align: top\">Technology</td>\n",
       "        <td style=\"padding-left: 1em; padding-right: 1em; text-align: center; vertical-align: top\">[The astute among you<br>will note that this run ...</td>\n",
       "        <td style=\"padding-left: 1em; padding-right: 1em; text-align: center; vertical-align: top\">Virgo</td>\n",
       "    </tr>\n",
       "</table>\n",
       "[10 rows x 7 columns]<br/>\n",
       "</div>"
      ],
      "text/plain": [
       "Columns:\n",
       "\tage\tint\n",
       "\tdates\tlist\n",
       "\tgender\tstr\n",
       "\tid\tstr\n",
       "\tindustry\tstr\n",
       "\tposts\tlist\n",
       "\tsign\tstr\n",
       "\n",
       "Rows: 10\n",
       "\n",
       "Data:\n",
       "+-----+-------------------------------+--------+---------+--------------+\n",
       "| age |             dates             | gender |    id   |   industry   |\n",
       "+-----+-------------------------------+--------+---------+--------------+\n",
       "|  37 | [31,May,2004, 29,May,2004,... | female | 1000331 |    indUnk    |\n",
       "|  17 | [23,November,2002, 20,Nove... | female | 1000866 |   Student    |\n",
       "|  23 | [19,June,2004, 19,June,200... |  male  | 1004904 |     Arts     |\n",
       "|  25 | [31,May,2004, 30,May,2004,... | female | 1005076 |     Arts     |\n",
       "|  25 | [05,July,2003, 04,July,200... |  male  | 1005545 | Engineering  |\n",
       "|  48 | [12,July,2003, 07,July,200... |  male  | 1007188 |   Religion   |\n",
       "|  26 | [23,July,2003, 14,July,200... | female |  100812 | Architecture |\n",
       "|  16 | [23,November,2002, 21,Nove... | female | 1008329 |   Student    |\n",
       "|  25 | [30,July,2004, 22,July,200... |  male  | 1009572 |    indUnk    |\n",
       "|  27 | [28,April,2004, 26,April,2... | female | 1011153 |  Technology  |\n",
       "+-----+-------------------------------+--------+---------+--------------+\n",
       "+-------------------------------+-------------+\n",
       "|             posts             |     sign    |\n",
       "+-------------------------------+-------------+\n",
       "| [Well, everyone got up and... |     Leo     |\n",
       "| [Yeah, sorry for not writi... |    Libra    |\n",
       "| [cupid,please hear my cry,... |  Capricorn  |\n",
       "| [and did i mention that i ... |    Cancer   |\n",
       "| [B-Logs: The Business Blog... | Sagittarius |\n",
       "| [1/03 DrKioni.com Awarded ... |    Libra    |\n",
       "| [Friday    My dear wife wa... |    Aries    |\n",
       "| [Sorry, but I gotta..I cou... |    Pisces   |\n",
       "| [Planning the Marathon   I... |    Cancer   |\n",
       "| [The astute among you will... |    Virgo    |\n",
       "+-------------------------------+-------------+\n",
       "[10 rows x 7 columns]"
      ]
     },
     "execution_count": 29,
     "metadata": {},
     "output_type": "execute_result"
    }
   ],
   "source": [
    "sf.head()"
   ]
  },
  {
   "cell_type": "code",
   "execution_count": 34,
   "metadata": {
    "collapsed": false
   },
   "outputs": [],
   "source": [
    "# first we join the posts list to a single string\n",
    "sf[\"posts\"] = sf['posts'].apply(lambda post: \"\\n\".join(post))"
   ]
  },
  {
   "cell_type": "code",
   "execution_count": 36,
   "metadata": {
    "collapsed": false
   },
   "outputs": [],
   "source": [
    "# Construct Bag-of-Words model and evaluate it\n",
    "sf['1gram features'] = gl.text_analytics.count_ngrams(sf['posts'], 1)\n",
    "sf['2gram features'] = gl.text_analytics.count_ngrams(sf['posts'], 2)"
   ]
  },
  {
   "cell_type": "code",
   "execution_count": 37,
   "metadata": {
    "collapsed": true
   },
   "outputs": [],
   "source": [
    "from numpy import average\n",
    "import graphlab as gl\n",
    "import numpy as np\n",
    "import gensim\n",
    "\n",
    "class DeepTextAnalyzer(object):\n",
    "    def __init__(self, word2vec_model):\n",
    "        \"\"\"\n",
    "        Construct a DeepTextAnalyzer using the input Word2Vec model\n",
    "        :param word2vec_model: a trained Word2Vec model\n",
    "        \"\"\"\n",
    "        self._model = word2vec_model\n",
    "\n",
    "    def txt2vectors(self,txt, is_html):\n",
    "        \"\"\"\n",
    "        Convert input text into an iterator that returns the corresponding vector representation of each\n",
    "        word in the text, if it exists in the Word2Vec model\n",
    "        :param txt: input text\n",
    "        :param is_html: if True, then extract the text from the input HTML\n",
    "        :return: iterator of vectors created from the words in the text using the Word2Vec model.\n",
    "        \"\"\"\n",
    "        words = txt2words(txt,is_html=is_html, lower=True, remove_none_english_chars=True)\n",
    "        words = [w for w in words if w in self._model]\n",
    "        if len(words) != 0:\n",
    "            for w in words:\n",
    "                yield self._model[w]\n",
    "\n",
    "\n",
    "    def txt2avg_vector(self, txt, is_html):\n",
    "        \"\"\"\n",
    "        Calculate the average vector representation of the input text\n",
    "        :param txt: input text\n",
    "        :param is_html: is the text is a HTML\n",
    "        :return the average vector of the vector representations of the words in the text  \n",
    "        \"\"\"\n",
    "        vectors = self.txt2vectors(txt,is_html=is_html)\n",
    "        vectors_sum = next(vectors, None)\n",
    "        if vectors_sum is None:\n",
    "            return None\n",
    "        count =1.0\n",
    "        for v in vectors:\n",
    "            count += 1\n",
    "            vectors_sum = np.add(vectors_sum,v)\n",
    "        \n",
    "        #calculate the average vector and replace +infy and -inf with numeric values \n",
    "        avg_vector = np.nan_to_num(vectors_sum/count)\n",
    "        return avg_vector"
   ]
  },
  {
   "cell_type": "code",
   "execution_count": 44,
   "metadata": {
    "collapsed": false
   },
   "outputs": [
    {
     "data": {
      "text/plain": [
       "dtype: array\n",
       "Rows: 1\n",
       "[array('d', [0.0062507628463208675, -0.07606526464223862, 0.052258580923080444, 0.008684697560966015, -0.0038692429661750793, 0.02404574677348137, 0.012569146230816841, 0.02063075453042984, 0.015948006883263588, -0.012405338697135448, -0.022391920909285545, -0.022027013823390007, -0.035614486783742905, -0.01066309493035078, -0.03329771012067795, -0.020523464307188988, 0.023844784125685692, -0.013862643390893936, -0.04676587134599686, -0.05669616162776947, -0.004467571619898081, 0.02933463640511036, 0.03274542838335037, 0.010069825686514378, 0.017453908920288086, -0.008361246436834335, 0.01089525781571865, 0.04363299161195755, 0.048218220472335815, -0.0005510354530997574, -0.013837507925927639, -0.0027286745607852936, 0.02849958837032318, 0.0021772056352347136, -0.030761901289224625, -0.014515019953250885, 0.0350775271654129, 0.004702108912169933, -0.03487129136919975, 0.030265316367149353, 0.026896469295024872, -0.005913758650422096, -0.038957491517066956, -0.0026015732437372208, -0.006340811960399151, -0.0009231464937329292, 0.028093500062823296, -0.013950562104582787, -0.0026413172017782927, -0.030951978638768196, 0.019537005573511124, 0.02300502546131611, 0.011456560343503952, 0.0552002377808094, 0.01880757138133049, -0.04488890990614891, 0.030762411653995514, 0.018418682739138603, 0.0023012678138911724, 0.01261923834681511, -0.02944919466972351, 0.06346206367015839, 0.006328878924250603, -0.013438784517347813, -0.0015729452716186643, 0.03040458634495735, 0.023440804332494736, 0.06488031893968582, 0.014209446497261524, -0.006659889128059149, -0.0452045239508152, 0.03447061777114868, -0.008923685178160667, -0.04801059141755104, -0.031865593045949936, -0.047837063670158386, -0.034160032868385315, -0.030251244083046913, -0.008204511366784573, -0.025344232097268105, -0.00986909307539463, 0.0011772594880312681, 0.016029823571443558, -0.003233082126826048, -0.020192448049783707, 0.024791894480586052, 0.04094719886779785, 0.024481216445565224, 0.031035305932164192, -0.004439827986061573, -0.023519914597272873, 0.00203666090965271, -0.028797516599297523, -0.01783624105155468, 0.0011284415377303958, -0.015257604420185089, -0.004139994736760855, -0.04950234666466713, -0.015817916020751, 0.025987977162003517, 0.03092159889638424, 0.06782237440347672, -0.018026040866971016, 0.00019892108684871346, 0.0010188620071858168, -0.057303205132484436, 0.03359374403953552, 0.0015045180916786194, 0.010731867514550686, -0.024999180808663368, 0.0040291668847203255, -0.06147528439760208, 0.012438918463885784, -0.012190102599561214, 0.021852226927876472, 0.0009180227643810213, -0.006120507139712572, -0.015890559181571007, 0.03271034359931946, -0.04232143238186836, 0.01988382078707218, -0.01367731112986803, 0.012394264340400696, -0.0396755188703537, -0.012933995574712753, -0.008878644555807114, -0.006466362625360489, -0.014417849481105804, -0.011554524302482605, -0.022419756278395653, 0.010503306984901428, -0.02862459234893322, -0.001962020294740796, 0.006702987942844629, 0.025947581976652145, -0.014859199523925781, 0.00365536124445498, 0.004802600014954805, 0.03807218372821808, 0.012002215720713139, -0.029447782784700394, -0.01765350066125393, 0.016118228435516357, 0.0623774416744709, -0.007125606294721365, 0.012582683004438877, 0.015145387500524521, 0.03420328348875046, 0.04080546274781227, 0.022580178454518318, -0.055072199553251266, -0.0039200205355882645, 0.02752000465989113, 0.020261967554688454, 0.0001624175056349486, 0.002785244258120656, 0.01865268126130104, 0.025021936744451523, 0.04542943462729454, 0.035414330661296844, 0.022415338084101677, -0.00465861801058054, -0.014884552918374538, 0.00952619407325983, -0.014399287290871143, -0.013582557439804077, -0.019114231690764427, 0.01593778468668461, 0.007883498445153236, 0.019663086161017418, 0.0024535914417356253, -0.03364604339003563, -0.030416622757911682, 0.03268289566040039, -0.06290428340435028, 0.0038872307632118464, -0.04221697896718979, -0.009434588253498077, 0.024708980694413185, 0.03170691058039665, -0.007666244171559811, -0.04397645592689514, -0.02865331619977951, -0.008731109090149403, 0.032216157764196396, -0.012194995768368244, 0.0009420944261364639, -0.01656549982726574, 0.03181254863739014, 0.04226524755358696, 0.05146700143814087, 0.0017479527741670609, 0.01557596493512392, -0.02985529787838459, 0.03583734482526779, 0.017544258385896683, -0.04299143701791763, 0.021886812523007393, 0.045726168900728226, 0.0497157983481884, -0.0002235964930150658, 0.05810781568288803, 0.0242632944136858, -0.020343517884612083, 0.009707130491733551, 0.01380325946956873, -0.024453120306134224, 0.02602708525955677, 0.0328640453517437, -0.007843352854251862, -0.017463719472289085, -0.011825216002762318, 0.03393634408712387, 0.05402999743819237, -0.05757589265704155, -0.03618909791111946, -0.06030780076980591, 0.02866489626467228, 0.0003758806560654193, 0.03420723229646683, 0.03761450573801994, 0.030666017904877663, 0.01483627874404192, -0.022290844470262527, 0.010459061712026596, 0.013356180861592293, 0.009040475822985172, -0.021194826811552048, -0.03022742085158825, -0.05001017078757286, 0.008977608755230904, 0.007584415376186371, -0.017837150022387505, 0.026900211349129677, 0.03582991287112236, 0.00844636745750904, -0.00887762475758791, -0.024691475555300713, 0.010647554881870747, -0.026544753462076187, 0.01766262575984001, 0.019415637478232384, 0.013311047106981277, -0.018297486007213593, 0.011638904921710491, -0.01004220824688673, -0.006573833059519529, 0.0006394666852429509, -0.0005122913862578571, -0.026079220697283745, 0.02664465829730034, -0.015395193360745907, -0.006322159431874752, -0.003503374056890607, 0.018160266801714897, -0.012431156821548939, -0.0035519867669790983, -0.0299102533608675, -0.0002263818314531818, 0.01273181103169918, -0.058808013796806335, -0.06990817934274673, 0.017619144171476364, -0.0010878813918679953, 0.01452413760125637, 0.022666526958346367, 0.04028388112783432, -0.006035818252712488, 0.025802170857787132, -0.019852301105856895, 0.04282994940876961, -0.030066590756177902, 0.013790949247777462, -0.04431947320699692, 0.01259420532733202, 0.046570803970098495, 0.04343020170927048, 0.012889616191387177, -0.003271479159593582, 0.010725196450948715, 0.023854365572333336, -0.03853616863489151, 0.006100908387452364, 0.0710827112197876, 0.021322980523109436, 0.0034994855523109436, -0.002848871750757098, -0.042315416038036346, 0.03752664476633072, 0.009476304985582829, -0.024234261363744736, 0.022283459082245827, -0.043898750096559525, -0.008493353612720966, -0.004227129276841879, -0.011050884611904621, -0.020539693534374237, -0.00351351429708302, 0.012974292039871216, 0.03844581916928291])]"
      ]
     },
     "execution_count": 44,
     "metadata": {},
     "output_type": "execute_result"
    }
   ],
   "source": [
    "# Calculate each blogger's average vector\n",
    "dt = DeepTextAnalyzer(model)\n",
    "sf['vectors'] = sf['posts'].apply(lambda p: dt.txt2avg_vector(p, is_html=True))\n",
    "sf['vectors'].head(1)"
   ]
  },
  {
   "cell_type": "code",
   "execution_count": 45,
   "metadata": {
    "collapsed": false
   },
   "outputs": [
    {
     "name": "stdout",
     "output_type": "stream",
     "text": [
      "['age', 'dates', 'gender', 'id', 'industry', 'posts', 'sign', '1gram features', '2gram features', 'vectors']\n"
     ]
    }
   ],
   "source": [
    "sf = sf.dropna()\n",
    "print sf.column_names()"
   ]
  },
  {
   "cell_type": "code",
   "execution_count": 46,
   "metadata": {
    "collapsed": true
   },
   "outputs": [],
   "source": [
    "train_set, test_set = sf.random_split(0.8, seed=5)"
   ]
  },
  {
   "cell_type": "code",
   "execution_count": 48,
   "metadata": {
    "collapsed": false
   },
   "outputs": [
    {
     "data": {
      "text/html": [
       "<div style=\"max-height:1000px;max-width:1500px;overflow:auto;\"><table frame=\"box\" rules=\"cols\">\n",
       "    <tr>\n",
       "        <th style=\"padding-left: 1em; padding-right: 1em; text-align: center\">age</th>\n",
       "        <th style=\"padding-left: 1em; padding-right: 1em; text-align: center\">dates</th>\n",
       "        <th style=\"padding-left: 1em; padding-right: 1em; text-align: center\">gender</th>\n",
       "        <th style=\"padding-left: 1em; padding-right: 1em; text-align: center\">id</th>\n",
       "        <th style=\"padding-left: 1em; padding-right: 1em; text-align: center\">industry</th>\n",
       "        <th style=\"padding-left: 1em; padding-right: 1em; text-align: center\">posts</th>\n",
       "        <th style=\"padding-left: 1em; padding-right: 1em; text-align: center\">sign</th>\n",
       "    </tr>\n",
       "    <tr>\n",
       "        <td style=\"padding-left: 1em; padding-right: 1em; text-align: center; vertical-align: top\">37</td>\n",
       "        <td style=\"padding-left: 1em; padding-right: 1em; text-align: center; vertical-align: top\">[31,May,2004,<br>29,May,2004, 28,May,2 ...</td>\n",
       "        <td style=\"padding-left: 1em; padding-right: 1em; text-align: center; vertical-align: top\">female</td>\n",
       "        <td style=\"padding-left: 1em; padding-right: 1em; text-align: center; vertical-align: top\">1000331</td>\n",
       "        <td style=\"padding-left: 1em; padding-right: 1em; text-align: center; vertical-align: top\">indUnk</td>\n",
       "        <td style=\"padding-left: 1em; padding-right: 1em; text-align: center; vertical-align: top\">Well, everyone got up and<br>going this morning.   ...</td>\n",
       "        <td style=\"padding-left: 1em; padding-right: 1em; text-align: center; vertical-align: top\">Leo</td>\n",
       "    </tr>\n",
       "    <tr>\n",
       "        <td style=\"padding-left: 1em; padding-right: 1em; text-align: center; vertical-align: top\">17</td>\n",
       "        <td style=\"padding-left: 1em; padding-right: 1em; text-align: center; vertical-align: top\">[23,November,2002,<br>20,November,2002, ...</td>\n",
       "        <td style=\"padding-left: 1em; padding-right: 1em; text-align: center; vertical-align: top\">female</td>\n",
       "        <td style=\"padding-left: 1em; padding-right: 1em; text-align: center; vertical-align: top\">1000866</td>\n",
       "        <td style=\"padding-left: 1em; padding-right: 1em; text-align: center; vertical-align: top\">Student</td>\n",
       "        <td style=\"padding-left: 1em; padding-right: 1em; text-align: center; vertical-align: top\">Yeah, sorry for not<br>writing for a whole ...</td>\n",
       "        <td style=\"padding-left: 1em; padding-right: 1em; text-align: center; vertical-align: top\">Libra</td>\n",
       "    </tr>\n",
       "    <tr>\n",
       "        <td style=\"padding-left: 1em; padding-right: 1em; text-align: center; vertical-align: top\">23</td>\n",
       "        <td style=\"padding-left: 1em; padding-right: 1em; text-align: center; vertical-align: top\">[19,June,2004,<br>19,June,2004, ...</td>\n",
       "        <td style=\"padding-left: 1em; padding-right: 1em; text-align: center; vertical-align: top\">male</td>\n",
       "        <td style=\"padding-left: 1em; padding-right: 1em; text-align: center; vertical-align: top\">1004904</td>\n",
       "        <td style=\"padding-left: 1em; padding-right: 1em; text-align: center; vertical-align: top\">Arts</td>\n",
       "        <td style=\"padding-left: 1em; padding-right: 1em; text-align: center; vertical-align: top\">cupid,please hear my cry,<br>cupid, please let your ...</td>\n",
       "        <td style=\"padding-left: 1em; padding-right: 1em; text-align: center; vertical-align: top\">Capricorn</td>\n",
       "    </tr>\n",
       "    <tr>\n",
       "        <td style=\"padding-left: 1em; padding-right: 1em; text-align: center; vertical-align: top\">25</td>\n",
       "        <td style=\"padding-left: 1em; padding-right: 1em; text-align: center; vertical-align: top\">[31,May,2004,<br>30,May,2004, 30,May,2 ...</td>\n",
       "        <td style=\"padding-left: 1em; padding-right: 1em; text-align: center; vertical-align: top\">female</td>\n",
       "        <td style=\"padding-left: 1em; padding-right: 1em; text-align: center; vertical-align: top\">1005076</td>\n",
       "        <td style=\"padding-left: 1em; padding-right: 1em; text-align: center; vertical-align: top\">Arts</td>\n",
       "        <td style=\"padding-left: 1em; padding-right: 1em; text-align: center; vertical-align: top\">and did i mention that i<br>no longer have to deal ...</td>\n",
       "        <td style=\"padding-left: 1em; padding-right: 1em; text-align: center; vertical-align: top\">Cancer</td>\n",
       "    </tr>\n",
       "    <tr>\n",
       "        <td style=\"padding-left: 1em; padding-right: 1em; text-align: center; vertical-align: top\">25</td>\n",
       "        <td style=\"padding-left: 1em; padding-right: 1em; text-align: center; vertical-align: top\">[05,July,2003,<br>04,July,2003, ...</td>\n",
       "        <td style=\"padding-left: 1em; padding-right: 1em; text-align: center; vertical-align: top\">male</td>\n",
       "        <td style=\"padding-left: 1em; padding-right: 1em; text-align: center; vertical-align: top\">1005545</td>\n",
       "        <td style=\"padding-left: 1em; padding-right: 1em; text-align: center; vertical-align: top\">Engineering</td>\n",
       "        <td style=\"padding-left: 1em; padding-right: 1em; text-align: center; vertical-align: top\">B-Logs: The Business<br>Blogs Paradox    urlLink ...</td>\n",
       "        <td style=\"padding-left: 1em; padding-right: 1em; text-align: center; vertical-align: top\">Sagittarius</td>\n",
       "    </tr>\n",
       "    <tr>\n",
       "        <td style=\"padding-left: 1em; padding-right: 1em; text-align: center; vertical-align: top\">48</td>\n",
       "        <td style=\"padding-left: 1em; padding-right: 1em; text-align: center; vertical-align: top\">[12,July,2003,<br>07,July,2003, ...</td>\n",
       "        <td style=\"padding-left: 1em; padding-right: 1em; text-align: center; vertical-align: top\">male</td>\n",
       "        <td style=\"padding-left: 1em; padding-right: 1em; text-align: center; vertical-align: top\">1007188</td>\n",
       "        <td style=\"padding-left: 1em; padding-right: 1em; text-align: center; vertical-align: top\">Religion</td>\n",
       "        <td style=\"padding-left: 1em; padding-right: 1em; text-align: center; vertical-align: top\">1/03 DrKioni.com Awarded<br>ByRegion.net Healers  ...</td>\n",
       "        <td style=\"padding-left: 1em; padding-right: 1em; text-align: center; vertical-align: top\">Libra</td>\n",
       "    </tr>\n",
       "    <tr>\n",
       "        <td style=\"padding-left: 1em; padding-right: 1em; text-align: center; vertical-align: top\">16</td>\n",
       "        <td style=\"padding-left: 1em; padding-right: 1em; text-align: center; vertical-align: top\">[23,November,2002,<br>21,November,2002, ...</td>\n",
       "        <td style=\"padding-left: 1em; padding-right: 1em; text-align: center; vertical-align: top\">female</td>\n",
       "        <td style=\"padding-left: 1em; padding-right: 1em; text-align: center; vertical-align: top\">1008329</td>\n",
       "        <td style=\"padding-left: 1em; padding-right: 1em; text-align: center; vertical-align: top\">Student</td>\n",
       "        <td style=\"padding-left: 1em; padding-right: 1em; text-align: center; vertical-align: top\">Sorry, but I gotta..I<br>couldn't remember the ...</td>\n",
       "        <td style=\"padding-left: 1em; padding-right: 1em; text-align: center; vertical-align: top\">Pisces</td>\n",
       "    </tr>\n",
       "    <tr>\n",
       "        <td style=\"padding-left: 1em; padding-right: 1em; text-align: center; vertical-align: top\">25</td>\n",
       "        <td style=\"padding-left: 1em; padding-right: 1em; text-align: center; vertical-align: top\">[30,July,2004,<br>22,July,2004, ...</td>\n",
       "        <td style=\"padding-left: 1em; padding-right: 1em; text-align: center; vertical-align: top\">male</td>\n",
       "        <td style=\"padding-left: 1em; padding-right: 1em; text-align: center; vertical-align: top\">1009572</td>\n",
       "        <td style=\"padding-left: 1em; padding-right: 1em; text-align: center; vertical-align: top\">indUnk</td>\n",
       "        <td style=\"padding-left: 1em; padding-right: 1em; text-align: center; vertical-align: top\">Planning the Marathon   I<br>checked Active.com, and ...</td>\n",
       "        <td style=\"padding-left: 1em; padding-right: 1em; text-align: center; vertical-align: top\">Cancer</td>\n",
       "    </tr>\n",
       "    <tr>\n",
       "        <td style=\"padding-left: 1em; padding-right: 1em; text-align: center; vertical-align: top\">27</td>\n",
       "        <td style=\"padding-left: 1em; padding-right: 1em; text-align: center; vertical-align: top\">[28,April,2004,<br>26,April,2004, ...</td>\n",
       "        <td style=\"padding-left: 1em; padding-right: 1em; text-align: center; vertical-align: top\">female</td>\n",
       "        <td style=\"padding-left: 1em; padding-right: 1em; text-align: center; vertical-align: top\">1011153</td>\n",
       "        <td style=\"padding-left: 1em; padding-right: 1em; text-align: center; vertical-align: top\">Technology</td>\n",
       "        <td style=\"padding-left: 1em; padding-right: 1em; text-align: center; vertical-align: top\">The astute among you will<br>note that this run is a ...</td>\n",
       "        <td style=\"padding-left: 1em; padding-right: 1em; text-align: center; vertical-align: top\">Virgo</td>\n",
       "    </tr>\n",
       "    <tr>\n",
       "        <td style=\"padding-left: 1em; padding-right: 1em; text-align: center; vertical-align: top\">25</td>\n",
       "        <td style=\"padding-left: 1em; padding-right: 1em; text-align: center; vertical-align: top\">[29,November,2002,<br>28,November,2002, ...</td>\n",
       "        <td style=\"padding-left: 1em; padding-right: 1em; text-align: center; vertical-align: top\">female</td>\n",
       "        <td style=\"padding-left: 1em; padding-right: 1em; text-align: center; vertical-align: top\">1011289</td>\n",
       "        <td style=\"padding-left: 1em; padding-right: 1em; text-align: center; vertical-align: top\">indUnk</td>\n",
       "        <td style=\"padding-left: 1em; padding-right: 1em; text-align: center; vertical-align: top\">MSN conversation: 11.17am<br>Iggbalbollywall  ( this ...</td>\n",
       "        <td style=\"padding-left: 1em; padding-right: 1em; text-align: center; vertical-align: top\">Libra</td>\n",
       "    </tr>\n",
       "</table>\n",
       "<table frame=\"box\" rules=\"cols\">\n",
       "    <tr>\n",
       "        <th style=\"padding-left: 1em; padding-right: 1em; text-align: center\">1gram features</th>\n",
       "        <th style=\"padding-left: 1em; padding-right: 1em; text-align: center\">2gram features</th>\n",
       "        <th style=\"padding-left: 1em; padding-right: 1em; text-align: center\">vectors</th>\n",
       "    </tr>\n",
       "    <tr>\n",
       "        <td style=\"padding-left: 1em; padding-right: 1em; text-align: center; vertical-align: top\">{'raining': 2, 'all': 5,<br>'infestations': 1, ...</td>\n",
       "        <td style=\"padding-left: 1em; padding-right: 1em; text-align: center; vertical-align: top\">{'know how': 1, 'in<br>case': 1, 'many people': ...</td>\n",
       "        <td style=\"padding-left: 1em; padding-right: 1em; text-align: center; vertical-align: top\">[0.00625076284632,<br>-0.0760652646422, ...</td>\n",
       "    </tr>\n",
       "    <tr>\n",
       "        <td style=\"padding-left: 1em; padding-right: 1em; text-align: center; vertical-align: top\">{'raining': 5, 'foul': 1,<br>'barraged': 1, 'woods': ...</td>\n",
       "        <td style=\"padding-left: 1em; padding-right: 1em; text-align: center; vertical-align: top\">{'or black': 3, 'my<br>dinner': 3, 'probably ...</td>\n",
       "        <td style=\"padding-left: 1em; padding-right: 1em; text-align: center; vertical-align: top\">[0.00972067564726,<br>-0.0654575005174, ...</td>\n",
       "    </tr>\n",
       "    <tr>\n",
       "        <td style=\"padding-left: 1em; padding-right: 1em; text-align: center; vertical-align: top\">{'hats': 2, 'saves': 1,<br>'four': 1, 'sleep': 2, ...</td>\n",
       "        <td style=\"padding-left: 1em; padding-right: 1em; text-align: center; vertical-align: top\">{'hear those': 1,<br>'kitties i': 1, 'the ...</td>\n",
       "        <td style=\"padding-left: 1em; padding-right: 1em; text-align: center; vertical-align: top\">[0.0155644528568,<br>-0.0584896802902, ...</td>\n",
       "    </tr>\n",
       "    <tr>\n",
       "        <td style=\"padding-left: 1em; padding-right: 1em; text-align: center; vertical-align: top\">{'neighbors': 2, 'all':<br>19, 'forget': 1, ...</td>\n",
       "        <td style=\"padding-left: 1em; padding-right: 1em; text-align: center; vertical-align: top\">{'everyone says': 1,<br>'still yikes': 1, 'be ...</td>\n",
       "        <td style=\"padding-left: 1em; padding-right: 1em; text-align: center; vertical-align: top\">[0.0111539196223,<br>-0.0412371978164, ...</td>\n",
       "    </tr>\n",
       "    <tr>\n",
       "        <td style=\"padding-left: 1em; padding-right: 1em; text-align: center; vertical-align: top\">{'limited': 3,<br>'similarity': 2, 'hats': ...</td>\n",
       "        <td style=\"padding-left: 1em; padding-right: 1em; text-align: center; vertical-align: top\">{'tutorials on': 1, 'say<br>say': 1, 'your passwo ...</td>\n",
       "        <td style=\"padding-left: 1em; padding-right: 1em; text-align: center; vertical-align: top\">[-0.0735046640038,<br>-0.149944871664, ...</td>\n",
       "    </tr>\n",
       "    <tr>\n",
       "        <td style=\"padding-left: 1em; padding-right: 1em; text-align: center; vertical-align: top\">{'limited': 1, 'all': 3,<br>'coach': 1, 'global': 1, ...</td>\n",
       "        <td style=\"padding-left: 1em; padding-right: 1em; text-align: center; vertical-align: top\">{'html and': 1,<br>'mp3motivators keen': 1, ...</td>\n",
       "        <td style=\"padding-left: 1em; padding-right: 1em; text-align: center; vertical-align: top\">[-0.0994467884302,<br>-0.161703407764, ...</td>\n",
       "    </tr>\n",
       "    <tr>\n",
       "        <td style=\"padding-left: 1em; padding-right: 1em; text-align: center; vertical-align: top\">{'suicidal': 3,<br>'personally': 2, 'felt': ...</td>\n",
       "        <td style=\"padding-left: 1em; padding-right: 1em; text-align: center; vertical-align: top\">{'dance around': 1,<br>'above one': 1, 'went ...</td>\n",
       "        <td style=\"padding-left: 1em; padding-right: 1em; text-align: center; vertical-align: top\">[0.0120706614107,<br>-0.0553446821868, ...</td>\n",
       "    </tr>\n",
       "    <tr>\n",
       "        <td style=\"padding-left: 1em; padding-right: 1em; text-align: center; vertical-align: top\">{'all': 6, 'forget': 1,<br>'people': 2, 'bombed' ...</td>\n",
       "        <td style=\"padding-left: 1em; padding-right: 1em; text-align: center; vertical-align: top\">{'i try': 1, 'mr smooth':<br>1, 'people i': 1, 'the ...</td>\n",
       "        <td style=\"padding-left: 1em; padding-right: 1em; text-align: center; vertical-align: top\">[0.0193899124861,<br>-0.083295404911, ...</td>\n",
       "    </tr>\n",
       "    <tr>\n",
       "        <td style=\"padding-left: 1em; padding-right: 1em; text-align: center; vertical-align: top\">{'all': 6, 'managed': 1,<br>'chain': 3, 'whoever' ...</td>\n",
       "        <td style=\"padding-left: 1em; padding-right: 1em; text-align: center; vertical-align: top\">{'the second': 1, 'stairs<br>it': 1, 'minutes ...</td>\n",
       "        <td style=\"padding-left: 1em; padding-right: 1em; text-align: center; vertical-align: top\">[0.00792560260743,<br>-0.0958431214094, ...</td>\n",
       "    </tr>\n",
       "    <tr>\n",
       "        <td style=\"padding-left: 1em; padding-right: 1em; text-align: center; vertical-align: top\">{'raining': 7,<br>'daftness': 1, 'yellow': ...</td>\n",
       "        <td style=\"padding-left: 1em; padding-right: 1em; text-align: center; vertical-align: top\">{'or black': 1, 'things<br>anyways': 1, 'downtown ...</td>\n",
       "        <td style=\"padding-left: 1em; padding-right: 1em; text-align: center; vertical-align: top\">[-0.00284207914956,<br>-0.0830091014504, ...</td>\n",
       "    </tr>\n",
       "</table>\n",
       "[10 rows x 10 columns]<br/>\n",
       "</div>"
      ],
      "text/plain": [
       "Columns:\n",
       "\tage\tint\n",
       "\tdates\tlist\n",
       "\tgender\tstr\n",
       "\tid\tstr\n",
       "\tindustry\tstr\n",
       "\tposts\tstr\n",
       "\tsign\tstr\n",
       "\t1gram features\tdict\n",
       "\t2gram features\tdict\n",
       "\tvectors\tarray\n",
       "\n",
       "Rows: 10\n",
       "\n",
       "Data:\n",
       "+-----+-------------------------------+--------+---------+-------------+\n",
       "| age |             dates             | gender |    id   |   industry  |\n",
       "+-----+-------------------------------+--------+---------+-------------+\n",
       "|  37 | [31,May,2004, 29,May,2004,... | female | 1000331 |    indUnk   |\n",
       "|  17 | [23,November,2002, 20,Nove... | female | 1000866 |   Student   |\n",
       "|  23 | [19,June,2004, 19,June,200... |  male  | 1004904 |     Arts    |\n",
       "|  25 | [31,May,2004, 30,May,2004,... | female | 1005076 |     Arts    |\n",
       "|  25 | [05,July,2003, 04,July,200... |  male  | 1005545 | Engineering |\n",
       "|  48 | [12,July,2003, 07,July,200... |  male  | 1007188 |   Religion  |\n",
       "|  16 | [23,November,2002, 21,Nove... | female | 1008329 |   Student   |\n",
       "|  25 | [30,July,2004, 22,July,200... |  male  | 1009572 |    indUnk   |\n",
       "|  27 | [28,April,2004, 26,April,2... | female | 1011153 |  Technology |\n",
       "|  25 | [29,November,2002, 28,Nove... | female | 1011289 |    indUnk   |\n",
       "+-----+-------------------------------+--------+---------+-------------+\n",
       "+-------------------------------+-------------+-------------------------------+\n",
       "|             posts             |     sign    |         1gram features        |\n",
       "+-------------------------------+-------------+-------------------------------+\n",
       "| Well, everyone got up and ... |     Leo     | {'raining': 2, 'all': 5, '... |\n",
       "| Yeah, sorry for not writin... |    Libra    | {'raining': 5, 'foul': 1, ... |\n",
       "| cupid,please hear my cry, ... |  Capricorn  | {'hats': 2, 'saves': 1, 'f... |\n",
       "| and did i mention that i n... |    Cancer   | {'neighbors': 2, 'all': 19... |\n",
       "| B-Logs: The Business Blogs... | Sagittarius | {'limited': 3, 'similarity... |\n",
       "| 1/03 DrKioni.com Awarded B... |    Libra    | {'limited': 1, 'all': 3, '... |\n",
       "| Sorry, but I gotta..I coul... |    Pisces   | {'suicidal': 3, 'personall... |\n",
       "| Planning the Marathon   I ... |    Cancer   | {'all': 6, 'forget': 1, 'p... |\n",
       "| The astute among you will ... |    Virgo    | {'all': 6, 'managed': 1, '... |\n",
       "| MSN conversation: 11.17am ... |    Libra    | {'raining': 7, 'daftness':... |\n",
       "+-------------------------------+-------------+-------------------------------+\n",
       "+-------------------------------+-------------------------------+\n",
       "|         2gram features        |            vectors            |\n",
       "+-------------------------------+-------------------------------+\n",
       "| {'know how': 1, 'in case':... | [0.00625076284632, -0.0760... |\n",
       "| {'or black': 3, 'my dinner... | [0.00972067564726, -0.0654... |\n",
       "| {'hear those': 1, 'kitties... | [0.0155644528568, -0.05848... |\n",
       "| {'everyone says': 1, 'stil... | [0.0111539196223, -0.04123... |\n",
       "| {'tutorials on': 1, 'say s... | [-0.0735046640038, -0.1499... |\n",
       "| {'html and': 1, 'mp3motiva... | [-0.0994467884302, -0.1617... |\n",
       "| {'dance around': 1, 'above... | [0.0120706614107, -0.05534... |\n",
       "| {'i try': 1, 'mr smooth': ... | [0.0193899124861, -0.08329... |\n",
       "| {'the second': 1, 'stairs ... | [0.00792560260743, -0.0958... |\n",
       "| {'or black': 1, 'things an... | [-0.00284207914956, -0.083... |\n",
       "+-------------------------------+-------------------------------+\n",
       "[10 rows x 10 columns]"
      ]
     },
     "execution_count": 48,
     "metadata": {},
     "output_type": "execute_result"
    }
   ],
   "source": [
    "train_set.head()"
   ]
  },
  {
   "cell_type": "markdown",
   "metadata": {},
   "source": [
    "### Predicting blogger gender"
   ]
  },
  {
   "cell_type": "markdown",
   "metadata": {},
   "source": [
    "### 1-gram"
   ]
  },
  {
   "cell_type": "code",
   "execution_count": 47,
   "metadata": {
    "collapsed": false
   },
   "outputs": [
    {
     "name": "stdout",
     "output_type": "stream",
     "text": [
      "PROGRESS: Creating a validation set from 5 percent of training data. This may take a while.\n",
      "          You can set ``validation_set=None`` to disable validation tracking.\n",
      "\n",
      "PROGRESS: The following methods are available for this type of problem.\n",
      "PROGRESS: LogisticClassifier, SVMClassifier\n",
      "PROGRESS: The returned model will be chosen according to validation accuracy.\n",
      "PROGRESS: Logistic regression:\n",
      "PROGRESS: --------------------------------------------------------\n",
      "PROGRESS: Number of examples          : 14777\n",
      "PROGRESS: Number of classes           : 2\n",
      "PROGRESS: Number of feature columns   : 1\n",
      "PROGRESS: Number of unpacked features : 652659\n",
      "PROGRESS: Number of coefficients    : 652660\n",
      "PROGRESS: Starting L-BFGS\n",
      "PROGRESS: --------------------------------------------------------\n",
      "PROGRESS: +-----------+----------+-----------+--------------+-------------------+---------------------+\n",
      "PROGRESS: | Iteration | Passes   | Step size | Elapsed Time | Training-accuracy | Validation-accuracy |\n",
      "PROGRESS: +-----------+----------+-----------+--------------+-------------------+---------------------+\n",
      "PROGRESS: | 1         | 6        | 0.000011  | 6.505095     | 0.935982          | 0.718182            |\n",
      "PROGRESS: | 2         | 8        | 1.000000  | 8.786613     | 0.924410          | 0.637662            |\n",
      "PROGRESS: | 3         | 9        | 1.000000  | 10.262722    | 0.972863          | 0.697403            |\n",
      "PROGRESS: | 4         | 10       | 1.000000  | 11.992682    | 0.982202          | 0.728571            |\n",
      "PROGRESS: | 5         | 11       | 1.000000  | 13.838694    | 0.987278          | 0.746753            |\n",
      "PROGRESS: | 6         | 12       | 1.000000  | 15.247395    | 0.988969          | 0.749351            |\n",
      "PROGRESS: | 7         | 13       | 1.000000  | 16.673901    | 0.989917          | 0.746753            |\n",
      "PROGRESS: | 8         | 14       | 1.000000  | 18.098772    | 0.991406          | 0.749351            |\n",
      "PROGRESS: | 9         | 15       | 1.000000  | 19.561302    | 0.992691          | 0.745455            |\n",
      "PROGRESS: | 10        | 16       | 1.000000  | 21.027050    | 0.993639          | 0.751948            |\n",
      "PROGRESS: +-----------+----------+-----------+--------------+-------------------+---------------------+\n",
      "PROGRESS: SVM:\n",
      "PROGRESS: --------------------------------------------------------\n",
      "PROGRESS: Number of examples          : 14777\n",
      "PROGRESS: Number of classes           : 2\n",
      "PROGRESS: Number of feature columns   : 1\n",
      "PROGRESS: Number of unpacked features : 652659\n",
      "PROGRESS: Number of coefficients    : 652660\n",
      "PROGRESS: Starting L-BFGS\n",
      "PROGRESS: --------------------------------------------------------\n",
      "PROGRESS: +-----------+----------+-----------+--------------+-------------------+---------------------+\n",
      "PROGRESS: | Iteration | Passes   | Step size | Elapsed Time | Training-accuracy | Validation-accuracy |\n",
      "PROGRESS: +-----------+----------+-----------+--------------+-------------------+---------------------+\n",
      "PROGRESS: | 1         | 4        | 0.000034  | 3.022209     | 0.935982          | 0.718182            |\n",
      "PROGRESS: | 2         | 6        | 1.000000  | 5.144277     | 0.954524          | 0.701299            |\n",
      "PROGRESS: | 3         | 7        | 1.000000  | 6.473716     | 0.979834          | 0.725974            |\n",
      "PROGRESS: | 4         | 8        | 1.000000  | 7.822121     | 0.986262          | 0.737662            |\n",
      "PROGRESS: | 5         | 9        | 1.000000  | 9.106231     | 0.988225          | 0.736364            |\n",
      "PROGRESS: | 6         | 10       | 1.000000  | 10.372390    | 0.989240          | 0.735065            |\n",
      "PROGRESS: | 7         | 11       | 1.000000  | 11.620443    | 0.989578          | 0.735065            |\n",
      "PROGRESS: | 8         | 13       | 1.000000  | 13.530156    | 0.990255          | 0.733766            |\n",
      "PROGRESS: | 9         | 14       | 1.000000  | 14.803966    | 0.989308          | 0.736364            |\n",
      "PROGRESS: | 10        | 16       | 1.000000  | 16.716114    | 0.990729          | 0.736364            |\n",
      "PROGRESS: +-----------+----------+-----------+--------------+-------------------+---------------------+\n",
      "PROGRESS: Model selection based on validation accuracy:\n",
      "PROGRESS: ---------------------------------------------\n",
      "PROGRESS: LogisticClassifier              : 0.751948\n",
      "PROGRESS: SVMClassifier                   : 0.736364\n",
      "PROGRESS: ---------------------------------------------\n",
      "PROGRESS: Selecting LogisticClassifier based on validation set performance.\n",
      "{'confusion_matrix': Columns:\n",
      "\ttarget_label\tstr\n",
      "\tpredicted_label\tstr\n",
      "\tcount\tint\n",
      "\n",
      "Rows: 4\n",
      "\n",
      "Data:\n",
      "+--------------+-----------------+-------+\n",
      "| target_label | predicted_label | count |\n",
      "+--------------+-----------------+-------+\n",
      "|     male     |       male      |  1405 |\n",
      "|    female    |      female     |  1390 |\n",
      "|     male     |      female     |  511  |\n",
      "|    female    |       male      |  467  |\n",
      "+--------------+-----------------+-------+\n",
      "[4 rows x 3 columns]\n",
      ", 'accuracy': 0.7407898224224755}\n"
     ]
    }
   ],
   "source": [
    "cls = gl.classifier.create(train_set, target = 'gender', features=['1gram features'])\n",
    "baseline_result = cls.evaluate(test_set)\n",
    "print baseline_result"
   ]
  },
  {
   "cell_type": "code",
   "execution_count": null,
   "metadata": {
    "collapsed": true
   },
   "outputs": [],
   "source": [
    "\"\"\"\n",
    "WARNING very long training! 13 million features\n",
    "cls2 = gl.classifier.create(train_set, target='gender',features=['2gram features', '1gram features'] )\n",
    "ngram_result = cls2.evaluate(test_set)\n",
    "print ngram_result\n",
    "\n",
    "LogisticClassifier              : 0.758256\n",
    "SVMClassifier                   : 0.743725\n",
    "\"\"\""
   ]
  },
  {
   "cell_type": "code",
   "execution_count": 49,
   "metadata": {
    "collapsed": false
   },
   "outputs": [
    {
     "name": "stdout",
     "output_type": "stream",
     "text": [
      "PROGRESS: Creating a validation set from 5 percent of training data. This may take a while.\n",
      "          You can set ``validation_set=None`` to disable validation tracking.\n",
      "\n",
      "PROGRESS: The following methods are available for this type of problem.\n",
      "PROGRESS: LogisticClassifier, SVMClassifier\n",
      "PROGRESS: The returned model will be chosen according to validation accuracy.\n",
      "PROGRESS: Logistic regression:\n",
      "PROGRESS: --------------------------------------------------------\n",
      "PROGRESS: Number of examples          : 14778\n",
      "PROGRESS: Number of classes           : 2\n",
      "PROGRESS: Number of feature columns   : 1\n",
      "PROGRESS: Number of unpacked features : 300\n",
      "PROGRESS: Number of coefficients    : 301\n",
      "PROGRESS: Starting Newton Method\n",
      "PROGRESS: --------------------------------------------------------\n",
      "PROGRESS: +-----------+----------+--------------+-------------------+---------------------+\n",
      "PROGRESS: | Iteration | Passes   | Elapsed Time | Training-accuracy | Validation-accuracy |\n",
      "PROGRESS: +-----------+----------+--------------+-------------------+---------------------+\n",
      "PROGRESS: | 1         | 2        | 9.792507     | 0.793138          | 0.806242            |\n",
      "PROGRESS: | 2         | 3        | 15.058995    | 0.795371          | 0.799740            |\n",
      "PROGRESS: | 3         | 4        | 19.934597    | 0.797199          | 0.802341            |\n",
      "PROGRESS: | 4         | 5        | 24.704714    | 0.797469          | 0.802341            |\n",
      "PROGRESS: | 5         | 6        | 31.128566    | 0.797402          | 0.802341            |\n",
      "PROGRESS: +-----------+----------+--------------+-------------------+---------------------+\n",
      "PROGRESS: SVM:\n",
      "PROGRESS: --------------------------------------------------------\n",
      "PROGRESS: Number of examples          : 14778\n",
      "PROGRESS: Number of classes           : 2\n",
      "PROGRESS: Number of feature columns   : 1\n",
      "PROGRESS: Number of unpacked features : 300\n",
      "PROGRESS: Number of coefficients    : 301\n",
      "PROGRESS: Starting L-BFGS\n",
      "PROGRESS: --------------------------------------------------------\n",
      "PROGRESS: +-----------+----------+-----------+--------------+-------------------+---------------------+\n",
      "PROGRESS: | Iteration | Passes   | Step size | Elapsed Time | Training-accuracy | Validation-accuracy |\n",
      "PROGRESS: +-----------+----------+-----------+--------------+-------------------+---------------------+\n",
      "PROGRESS: | 1         | 6        | 0.000007  | 1.679692     | 0.652186          | 0.667100            |\n",
      "PROGRESS: | 2         | 8        | 1.000000  | 2.503962     | 0.667614          | 0.673602            |\n",
      "PROGRESS: | 3         | 9        | 1.000000  | 3.014474     | 0.682636          | 0.704811            |\n",
      "PROGRESS: | 4         | 10       | 1.000000  | 3.552262     | 0.692245          | 0.700910            |\n",
      "PROGRESS: | 5         | 11       | 1.000000  | 4.098193     | 0.716403          | 0.725618            |\n",
      "PROGRESS: | 6         | 12       | 1.000000  | 4.672365     | 0.725606          | 0.736021            |\n",
      "PROGRESS: | 10        | 17       | 1.000000  | 7.147806     | 0.749831          | 0.765930            |\n",
      "PROGRESS: +-----------+----------+-----------+--------------+-------------------+---------------------+\n",
      "PROGRESS: Model selection based on validation accuracy:\n",
      "PROGRESS: ---------------------------------------------\n",
      "PROGRESS: LogisticClassifier              : 0.802341\n",
      "PROGRESS: SVMClassifier                   : 0.76593\n",
      "PROGRESS: ---------------------------------------------\n",
      "PROGRESS: Selecting LogisticClassifier based on validation set performance.\n",
      "{'confusion_matrix': Columns:\n",
      "\ttarget_label\tstr\n",
      "\tpredicted_label\tstr\n",
      "\tcount\tint\n",
      "\n",
      "Rows: 4\n",
      "\n",
      "Data:\n",
      "+--------------+-----------------+-------+\n",
      "| target_label | predicted_label | count |\n",
      "+--------------+-----------------+-------+\n",
      "|     male     |       male      |  1503 |\n",
      "|    female    |      female     |  1493 |\n",
      "|     male     |      female     |  413  |\n",
      "|    female    |       male      |  364  |\n",
      "+--------------+-----------------+-------+\n",
      "[4 rows x 3 columns]\n",
      ", 'accuracy': 0.7940630797773655}\n"
     ]
    }
   ],
   "source": [
    "cls3 = gl.classifier.create(train_set, target = 'gender', features=['vectors'])\n",
    "word2vec_result = cls3.evaluate(test_set)\n",
    "print word2vec_result"
   ]
  },
  {
   "cell_type": "code",
   "execution_count": 51,
   "metadata": {
    "collapsed": false
   },
   "outputs": [
    {
     "name": "stdout",
     "output_type": "stream",
     "text": [
      "PROGRESS: Creating a validation set from 5 percent of training data. This may take a while.\n",
      "          You can set ``validation_set=None`` to disable validation tracking.\n",
      "\n",
      "PROGRESS: The following methods are available for this type of problem.\n",
      "PROGRESS: LogisticClassifier, SVMClassifier\n",
      "PROGRESS: The returned model will be chosen according to validation accuracy.\n",
      "PROGRESS: Logistic regression:\n",
      "PROGRESS: --------------------------------------------------------\n",
      "PROGRESS: Number of examples          : 14765\n",
      "PROGRESS: Number of classes           : 2\n",
      "PROGRESS: Number of feature columns   : 3\n",
      "PROGRESS: Number of unpacked features : 302\n",
      "PROGRESS: Number of coefficients    : 341\n",
      "PROGRESS: Starting Newton Method\n",
      "PROGRESS: --------------------------------------------------------\n",
      "PROGRESS: +-----------+----------+--------------+-------------------+---------------------+\n",
      "PROGRESS: | Iteration | Passes   | Elapsed Time | Training-accuracy | Validation-accuracy |\n",
      "PROGRESS: +-----------+----------+--------------+-------------------+---------------------+\n",
      "PROGRESS: | 1         | 2        | 9.373631     | 0.800203          | 0.796675            |\n",
      "PROGRESS: | 2         | 3        | 14.328938    | 0.801287          | 0.796675            |\n",
      "PROGRESS: | 3         | 4        | 19.212811    | 0.803522          | 0.796675            |\n",
      "PROGRESS: | 4         | 5        | 24.036462    | 0.803928          | 0.794118            |\n",
      "PROGRESS: | 5         | 6        | 29.102793    | 0.803928          | 0.794118            |\n",
      "PROGRESS: +-----------+----------+--------------+-------------------+---------------------+\n",
      "PROGRESS: SVM:\n",
      "PROGRESS: --------------------------------------------------------\n",
      "PROGRESS: Number of examples          : 14765\n",
      "PROGRESS: Number of classes           : 2\n",
      "PROGRESS: Number of feature columns   : 3\n",
      "PROGRESS: Number of unpacked features : 302\n",
      "PROGRESS: Number of coefficients    : 341\n",
      "PROGRESS: Starting L-BFGS\n",
      "PROGRESS: --------------------------------------------------------\n",
      "PROGRESS: +-----------+----------+-----------+--------------+-------------------+---------------------+\n",
      "PROGRESS: | Iteration | Passes   | Step size | Elapsed Time | Training-accuracy | Validation-accuracy |\n",
      "PROGRESS: +-----------+----------+-----------+--------------+-------------------+---------------------+\n",
      "PROGRESS: | 1         | 6        | 0.000007  | 1.687351     | 0.654521          | 0.644501            |\n",
      "PROGRESS: | 2         | 8        | 1.000000  | 2.518301     | 0.670505          | 0.667519            |\n",
      "PROGRESS: | 3         | 9        | 1.000000  | 3.077742     | 0.686556          | 0.693095            |\n",
      "PROGRESS: | 4         | 10       | 1.000000  | 3.650607     | 0.695902          | 0.698210            |\n",
      "PROGRESS: | 5         | 11       | 1.000000  | 4.304405     | 0.723806          | 0.709719            |\n",
      "PROGRESS: | 6         | 12       | 1.000000  | 4.856648     | 0.734169          | 0.726343            |\n",
      "PROGRESS: | 10        | 17       | 1.000000  | 7.375794     | 0.756857          | 0.755754            |\n",
      "PROGRESS: +-----------+----------+-----------+--------------+-------------------+---------------------+\n",
      "PROGRESS: Model selection based on validation accuracy:\n",
      "PROGRESS: ---------------------------------------------\n",
      "PROGRESS: LogisticClassifier              : 0.794118\n",
      "PROGRESS: SVMClassifier                   : 0.755754\n",
      "PROGRESS: ---------------------------------------------\n",
      "PROGRESS: Selecting LogisticClassifier based on validation set performance.\n",
      "{'confusion_matrix': Columns:\n",
      "\ttarget_label\tstr\n",
      "\tpredicted_label\tstr\n",
      "\tcount\tint\n",
      "\n",
      "Rows: 4\n",
      "\n",
      "Data:\n",
      "+--------------+-----------------+-------+\n",
      "| target_label | predicted_label | count |\n",
      "+--------------+-----------------+-------+\n",
      "|     male     |       male      |  1499 |\n",
      "|    female    |      female     |  1514 |\n",
      "|     male     |      female     |  417  |\n",
      "|    female    |       male      |  343  |\n",
      "+--------------+-----------------+-------+\n",
      "[4 rows x 3 columns]\n",
      ", 'accuracy': 0.7985687781606149}\n"
     ]
    }
   ],
   "source": [
    "cls4 = gl.classifier.create(train_set, target='gender', features=['vectors', 'industry', 'age'])\n",
    "word2vec_ind_age_result = cls4.evaluate(test_set)\n",
    "print word2vec_ind_age_result"
   ]
  },
  {
   "cell_type": "code",
   "execution_count": 52,
   "metadata": {
    "collapsed": false,
    "scrolled": true
   },
   "outputs": [
    {
     "name": "stdout",
     "output_type": "stream",
     "text": [
      "PROGRESS: Creating a validation set from 5 percent of training data. This may take a while.\n",
      "          You can set ``validation_set=None`` to disable validation tracking.\n",
      "\n",
      "PROGRESS: The following methods are available for this type of problem.\n",
      "PROGRESS: LogisticClassifier, SVMClassifier\n",
      "PROGRESS: The returned model will be chosen according to validation accuracy.\n",
      "PROGRESS: Logistic regression:\n",
      "PROGRESS: --------------------------------------------------------\n",
      "PROGRESS: Number of examples          : 14781\n",
      "PROGRESS: Number of classes           : 2\n",
      "PROGRESS: Number of feature columns   : 4\n",
      "PROGRESS: Number of unpacked features : 303\n",
      "PROGRESS: Number of coefficients    : 342\n",
      "PROGRESS: Starting Newton Method\n",
      "PROGRESS: --------------------------------------------------------\n",
      "PROGRESS: +-----------+----------+--------------+-------------------+---------------------+\n",
      "PROGRESS: | Iteration | Passes   | Elapsed Time | Training-accuracy | Validation-accuracy |\n",
      "PROGRESS: +-----------+----------+--------------+-------------------+---------------------+\n",
      "PROGRESS: | 1         | 2        | 9.725876     | 0.801705          | 0.787206            |\n",
      "PROGRESS: | 2         | 3        | 14.994588    | 0.803261          | 0.784595            |\n",
      "PROGRESS: | 3         | 4        | 20.160741    | 0.804614          | 0.788512            |\n",
      "PROGRESS: | 4         | 5        | 25.281800    | 0.804479          | 0.791123            |\n",
      "PROGRESS: | 5         | 6        | 30.635664    | 0.804411          | 0.791123            |\n",
      "PROGRESS: +-----------+----------+--------------+-------------------+---------------------+\n",
      "PROGRESS: SVM:\n",
      "PROGRESS: --------------------------------------------------------\n",
      "PROGRESS: Number of examples          : 14781\n",
      "PROGRESS: Number of classes           : 2\n",
      "PROGRESS: Number of feature columns   : 4\n",
      "PROGRESS: Number of unpacked features : 303\n",
      "PROGRESS: Number of coefficients    : 342\n",
      "PROGRESS: Starting L-BFGS\n",
      "PROGRESS: --------------------------------------------------------\n",
      "PROGRESS: +-----------+----------+-----------+--------------+-------------------+---------------------+\n",
      "PROGRESS: | Iteration | Passes   | Step size | Elapsed Time | Training-accuracy | Validation-accuracy |\n",
      "PROGRESS: +-----------+----------+-----------+--------------+-------------------+---------------------+\n",
      "PROGRESS: | 1         | 6        | 0.000007  | 1.619477     | 0.655165          | 0.634465            |\n",
      "PROGRESS: | 2         | 8        | 1.000000  | 2.445234     | 0.671876          | 0.635770            |\n",
      "PROGRESS: | 3         | 9        | 1.000000  | 3.022154     | 0.688993          | 0.669713            |\n",
      "PROGRESS: | 4         | 10       | 1.000000  | 3.538041     | 0.699750          | 0.661880            |\n",
      "PROGRESS: | 5         | 11       | 1.000000  | 4.084611     | 0.724849          | 0.712794            |\n",
      "PROGRESS: | 6         | 12       | 1.000000  | 4.605207     | 0.735268          | 0.723238            |\n",
      "PROGRESS: | 10        | 17       | 1.000000  | 6.958460     | 0.754414          | 0.758486            |\n",
      "PROGRESS: +-----------+----------+-----------+--------------+-------------------+---------------------+\n",
      "PROGRESS: Model selection based on validation accuracy:\n",
      "PROGRESS: ---------------------------------------------\n",
      "PROGRESS: LogisticClassifier              : 0.791123\n",
      "PROGRESS: SVMClassifier                   : 0.758486\n",
      "PROGRESS: ---------------------------------------------\n",
      "PROGRESS: Selecting LogisticClassifier based on validation set performance.\n",
      "{'confusion_matrix': Columns:\n",
      "\ttarget_label\tstr\n",
      "\tpredicted_label\tstr\n",
      "\tcount\tint\n",
      "\n",
      "Rows: 4\n",
      "\n",
      "Data:\n",
      "+--------------+-----------------+-------+\n",
      "| target_label | predicted_label | count |\n",
      "+--------------+-----------------+-------+\n",
      "|     male     |       male      |  1496 |\n",
      "|    female    |      female     |  1508 |\n",
      "|     male     |      female     |  420  |\n",
      "|    female    |       male      |  349  |\n",
      "+--------------+-----------------+-------+\n",
      "[4 rows x 3 columns]\n",
      ", 'accuracy': 0.7961834084283064}\n"
     ]
    }
   ],
   "source": [
    "train_set['posts_length'] = train_set['posts'].apply(lambda p: len(p))\n",
    "test_set['posts_length'] = test_set['posts'].apply(lambda p: len(p))\n",
    "\n",
    "cls5 = gl.classifier.create(train_set, target='gender', features=['vectors', 'industry', 'age', 'posts_length'])\n",
    "word2vec_ind_age_len_result = cls5.evaluate(test_set)\n",
    "print word2vec_ind_age_len_result"
   ]
  },
  {
   "cell_type": "code",
   "execution_count": 54,
   "metadata": {
    "collapsed": false
   },
   "outputs": [
    {
     "data": {
      "text/plain": [
       "13"
      ]
     },
     "execution_count": 54,
     "metadata": {},
     "output_type": "execute_result"
    }
   ],
   "source": [
    "# number of posts for blogger 1\n",
    "len(train_set['dates'][0])"
   ]
  },
  {
   "cell_type": "code",
   "execution_count": 55,
   "metadata": {
    "collapsed": false
   },
   "outputs": [
    {
     "name": "stdout",
     "output_type": "stream",
     "text": [
      "PROGRESS: Creating a validation set from 5 percent of training data. This may take a while.\n",
      "          You can set ``validation_set=None`` to disable validation tracking.\n",
      "\n",
      "PROGRESS: The following methods are available for this type of problem.\n",
      "PROGRESS: LogisticClassifier, SVMClassifier\n",
      "PROGRESS: The returned model will be chosen according to validation accuracy.\n",
      "PROGRESS: Logistic regression:\n",
      "PROGRESS: --------------------------------------------------------\n",
      "PROGRESS: Number of examples          : 14801\n",
      "PROGRESS: Number of classes           : 2\n",
      "PROGRESS: Number of feature columns   : 5\n",
      "PROGRESS: Number of unpacked features : 304\n",
      "PROGRESS: Number of coefficients    : 343\n",
      "PROGRESS: Starting Newton Method\n",
      "PROGRESS: --------------------------------------------------------\n",
      "PROGRESS: +-----------+----------+--------------+-------------------+---------------------+\n",
      "PROGRESS: | Iteration | Passes   | Elapsed Time | Training-accuracy | Validation-accuracy |\n",
      "PROGRESS: +-----------+----------+--------------+-------------------+---------------------+\n",
      "PROGRESS: | 1         | 2        | 9.654015     | 0.800351          | 0.796247            |\n",
      "PROGRESS: | 2         | 3        | 15.076040    | 0.803459          | 0.801609            |\n",
      "PROGRESS: | 3         | 4        | 20.287553    | 0.804608          | 0.800268            |\n",
      "PROGRESS: | 4         | 5        | 25.600141    | 0.805351          | 0.797587            |\n",
      "PROGRESS: | 5         | 6        | 30.809424    | 0.805351          | 0.797587            |\n",
      "PROGRESS: +-----------+----------+--------------+-------------------+---------------------+\n",
      "PROGRESS: SVM:\n",
      "PROGRESS: --------------------------------------------------------\n",
      "PROGRESS: Number of examples          : 14801\n",
      "PROGRESS: Number of classes           : 2\n",
      "PROGRESS: Number of feature columns   : 5\n",
      "PROGRESS: Number of unpacked features : 304\n",
      "PROGRESS: Number of coefficients    : 343\n",
      "PROGRESS: Starting L-BFGS\n",
      "PROGRESS: --------------------------------------------------------\n",
      "PROGRESS: +-----------+----------+-----------+--------------+-------------------+---------------------+\n",
      "PROGRESS: | Iteration | Passes   | Step size | Elapsed Time | Training-accuracy | Validation-accuracy |\n",
      "PROGRESS: +-----------+----------+-----------+--------------+-------------------+---------------------+\n",
      "PROGRESS: | 1         | 6        | 0.000007  | 1.668628     | 0.655158          | 0.643432            |\n",
      "PROGRESS: | 2         | 8        | 1.000000  | 2.501792     | 0.670022          | 0.674263            |\n",
      "PROGRESS: | 3         | 9        | 1.000000  | 3.043286     | 0.685562          | 0.689008            |\n",
      "PROGRESS: | 4         | 10       | 1.000000  | 3.593539     | 0.696237          | 0.682306            |\n",
      "PROGRESS: | 5         | 11       | 1.000000  | 4.139171     | 0.722046          | 0.710456            |\n",
      "PROGRESS: | 6         | 12       | 1.000000  | 4.673522     | 0.733126          | 0.717158            |\n",
      "PROGRESS: | 10        | 17       | 1.000000  | 7.016457     | 0.760422          | 0.754692            |\n",
      "PROGRESS: +-----------+----------+-----------+--------------+-------------------+---------------------+\n",
      "PROGRESS: Model selection based on validation accuracy:\n",
      "PROGRESS: ---------------------------------------------\n",
      "PROGRESS: LogisticClassifier              : 0.797587\n",
      "PROGRESS: SVMClassifier                   : 0.754692\n",
      "PROGRESS: ---------------------------------------------\n",
      "PROGRESS: Selecting LogisticClassifier based on validation set performance.\n",
      "{'confusion_matrix': Columns:\n",
      "\ttarget_label\tstr\n",
      "\tpredicted_label\tstr\n",
      "\tcount\tint\n",
      "\n",
      "Rows: 4\n",
      "\n",
      "Data:\n",
      "+--------------+-----------------+-------+\n",
      "| target_label | predicted_label | count |\n",
      "+--------------+-----------------+-------+\n",
      "|     male     |       male      |  1491 |\n",
      "|    female    |      female     |  1506 |\n",
      "|     male     |      female     |  425  |\n",
      "|    female    |       male      |  351  |\n",
      "+--------------+-----------------+-------+\n",
      "[4 rows x 3 columns]\n",
      ", 'accuracy': 0.7943281208587331}\n"
     ]
    }
   ],
   "source": [
    "train_set['num_posts'] = train_set['dates'].apply(lambda d: len(d))\n",
    "test_set['num_posts'] = test_set['dates'].apply(lambda d: len(d))\n",
    "\n",
    "cls6 = gl.classifier.create(train_set, target='gender', features=['vectors', 'industry', 'age', 'posts_length', 'num_posts'])\n",
    "word2vec_ind_age_len_num_result = cls6.evaluate(test_set)\n",
    "print word2vec_ind_age_len_num_result"
   ]
  },
  {
   "cell_type": "markdown",
   "metadata": {},
   "source": [
    "## Predicting Blogger Age"
   ]
  },
  {
   "cell_type": "code",
   "execution_count": 57,
   "metadata": {
    "collapsed": false
   },
   "outputs": [
    {
     "data": {
      "application/javascript": [
       "$(\"head\").append($(\"<link/>\").attr({\n",
       "  rel:  \"stylesheet\",\n",
       "  type: \"text/css\",\n",
       "  href: \"//cdnjs.cloudflare.com/ajax/libs/font-awesome/4.1.0/css/font-awesome.min.css\"\n",
       "}));\n",
       "$(\"head\").append($(\"<link/>\").attr({\n",
       "  rel:  \"stylesheet\",\n",
       "  type: \"text/css\",\n",
       "  href: \"//dato.com/files/canvas/1.6.1/css/canvas.css\"\n",
       "}));\n",
       "\n",
       "            (function(){\n",
       "\n",
       "                var e = null;\n",
       "                if (typeof element == 'undefined') {\n",
       "                    var scripts = document.getElementsByTagName('script');\n",
       "                    var thisScriptTag = scripts[scripts.length-1];\n",
       "                    var parentDiv = thisScriptTag.parentNode;\n",
       "                    e = document.createElement('div');\n",
       "                    parentDiv.appendChild(e);\n",
       "                } else {\n",
       "                    e = element[0];\n",
       "                }\n",
       "\n",
       "                if (typeof requirejs !== 'undefined') {\n",
       "                    // disable load timeout; ipython_app.js is large and can take a while to load.\n",
       "                    requirejs.config({waitSeconds: 0});\n",
       "                }\n",
       "\n",
       "                require(['//dato.com/files/canvas/1.6.1/js/ipython_app.js'], function(IPythonApp){\n",
       "                    var app = new IPythonApp();\n",
       "                    app.attachView('sarray','Numeric', {\"ipython\": true, \"sketch\": {\"std\": 7.975283146062912, \"complete\": true, \"min\": 13.0, \"max\": 48.0, \"quantile\": [13.0, 13.0, 13.0, 13.0, 14.0, 14.0, 14.0, 14.0, 14.0, 14.0, 14.0, 15.0, 15.0, 15.0, 15.0, 15.0, 15.0, 15.0, 15.0, 15.0, 16.0, 16.0, 16.0, 16.0, 16.0, 16.0, 16.0, 16.0, 16.0, 16.0, 16.0, 17.0, 17.0, 17.0, 17.0, 17.0, 17.0, 17.0, 17.0, 17.0, 17.0, 17.0, 17.0, 23.0, 23.0, 23.0, 23.0, 23.0, 23.0, 23.0, 23.0, 23.0, 23.0, 23.0, 24.0, 24.0, 24.0, 24.0, 24.0, 24.0, 24.0, 24.0, 24.0, 25.0, 25.0, 25.0, 25.0, 25.0, 25.0, 25.0, 25.0, 25.0, 26.0, 26.0, 26.0, 26.0, 26.0, 26.0, 26.0, 27.0, 27.0, 27.0, 27.0, 27.0, 27.0, 33.0, 33.0, 34.0, 34.0, 35.0, 35.0, 36.0, 36.0, 37.0, 38.0, 39.0, 41.0, 42.0, 44.0, 46.0, 48.0], \"median\": 23.0, \"numeric\": true, \"num_unique\": 26, \"num_undefined\": 0, \"var\": 63.60514125987514, \"progress\": 1.0, \"size\": 19320, \"frequent_items\": {\"13\": {\"frequency\": 690, \"value\": 13}, \"14\": {\"frequency\": 1246, \"value\": 14}, \"15\": {\"frequency\": 1771, \"value\": 15}, \"16\": {\"frequency\": 2152, \"value\": 16}, \"17\": {\"frequency\": 2381, \"value\": 17}, \"23\": {\"frequency\": 2026, \"value\": 23}, \"24\": {\"frequency\": 1895, \"value\": 24}, \"25\": {\"frequency\": 1620, \"value\": 25}, \"26\": {\"frequency\": 1340, \"value\": 26}, \"27\": {\"frequency\": 1205, \"value\": 27}, \"33\": {\"frequency\": 464, \"value\": 33}, \"34\": {\"frequency\": 378, \"value\": 34}, \"35\": {\"frequency\": 338, \"value\": 35}, \"36\": {\"frequency\": 288, \"value\": 36}, \"37\": {\"frequency\": 259, \"value\": 37}, \"38\": {\"frequency\": 171, \"value\": 38}, \"39\": {\"frequency\": 152, \"value\": 39}, \"40\": {\"frequency\": 145, \"value\": 40}, \"41\": {\"frequency\": 139, \"value\": 41}, \"42\": {\"frequency\": 127, \"value\": 42}, \"43\": {\"frequency\": 116, \"value\": 43}, \"44\": {\"frequency\": 94, \"value\": 44}, \"45\": {\"frequency\": 103, \"value\": 45}, \"46\": {\"frequency\": 72, \"value\": 46}, \"47\": {\"frequency\": 71, \"value\": 47}, \"48\": {\"frequency\": 77, \"value\": 48}}, \"mean\": 22.833799171842585}, \"selected_variable\": {\"name\": [\"<SArray>\"], \"dtype\": \"int\", \"view_component\": \"Numeric\", \"view_file\": \"sarray\", \"descriptives\": {\"rows\": 19320}, \"type\": \"SArray\", \"view_components\": [\"Numeric\", \"Categorical\"]}, \"histogram\": {\"progress\": 1.0, \"histogram\": {\"max\": 48.28, \"bins\": [3707, 4533, 0, 3921, 4165, 0, 464, 1004, 582, 411, 313, 220], \"min\": 12.760000000000002}, \"min\": 13, \"complete\": 1, \"max\": 48}}, e);\n",
       "                });\n",
       "            })();\n",
       "        "
      ]
     },
     "metadata": {},
     "output_type": "display_data"
    }
   ],
   "source": [
    "sf['age'].show()"
   ]
  },
  {
   "cell_type": "markdown",
   "metadata": {},
   "source": [
    "### Regression Model"
   ]
  },
  {
   "cell_type": "code",
   "execution_count": 58,
   "metadata": {
    "collapsed": false
   },
   "outputs": [
    {
     "name": "stdout",
     "output_type": "stream",
     "text": [
      "PROGRESS: Creating a validation set from 5 percent of training data. This may take a while.\n",
      "          You can set ``validation_set=None`` to disable validation tracking.\n",
      "\n",
      "PROGRESS: Linear regression:\n",
      "PROGRESS: --------------------------------------------------------\n",
      "PROGRESS: Number of examples          : 14781\n",
      "PROGRESS: Number of features          : 1\n",
      "PROGRESS: Number of unpacked features : 300\n",
      "PROGRESS: Number of coefficients    : 301\n",
      "PROGRESS: Starting Newton Method\n",
      "PROGRESS: --------------------------------------------------------\n",
      "PROGRESS: +-----------+----------+--------------+--------------------+----------------------+---------------+-----------------+\n",
      "PROGRESS: | Iteration | Passes   | Elapsed Time | Training-max_error | Validation-max_error | Training-rmse | Validation-rmse |\n",
      "PROGRESS: +-----------+----------+--------------+--------------------+----------------------+---------------+-----------------+\n",
      "PROGRESS: | 1         | 2        | 4.714229     | 27.470940          | 27.333897            | 5.567409      | 6.109441        |\n",
      "PROGRESS: +-----------+----------+--------------+--------------------+----------------------+---------------+-----------------+\n"
     ]
    },
    {
     "data": {
      "text/plain": [
       "{'max_error': 27.407039865894234, 'rmse': 5.785284936754378}"
      ]
     },
     "execution_count": 58,
     "metadata": {},
     "output_type": "execute_result"
    }
   ],
   "source": [
    "linear_model = gl.linear_regression.create(train_set, target = 'age', features=['vectors'])\n",
    "linear_model.evaluate(test_set)"
   ]
  },
  {
   "cell_type": "code",
   "execution_count": 60,
   "metadata": {
    "collapsed": false
   },
   "outputs": [
    {
     "name": "stdout",
     "output_type": "stream",
     "text": [
      "PROGRESS: Creating a validation set from 5 percent of training data. This may take a while.\n",
      "          You can set ``validation_set=None`` to disable validation tracking.\n",
      "\n",
      "PROGRESS: Boosted trees regression:\n",
      "PROGRESS: --------------------------------------------------------\n",
      "PROGRESS: Number of examples          : 14760\n",
      "PROGRESS: Number of features          : 1\n",
      "PROGRESS: Number of unpacked features : 300\n",
      "PROGRESS: Starting Boosted Trees\n",
      "PROGRESS: --------------------------------------------------------\n",
      "PROGRESS:   Iter          RMSE          Elapsed time\n",
      "PROGRESS:         (training) (validation)\n",
      "PROGRESS:      0   1.721e+01   1.654e+01        0.86s\n",
      "PROGRESS:      1   1.280e+01   1.216e+01        1.71s\n",
      "PROGRESS:      2   9.886e+00   9.365e+00        2.57s\n",
      "PROGRESS:      3   8.026e+00   7.656e+00        3.42s\n",
      "PROGRESS:      4   6.867e+00   6.633e+00        4.27s\n",
      "PROGRESS:      5   6.149e+00   6.090e+00        5.17s\n",
      "PROGRESS:      6   5.705e+00   5.831e+00        6.03s\n",
      "PROGRESS:      7   5.423e+00   5.680e+00        6.91s\n",
      "PROGRESS:      8   5.210e+00   5.622e+00        7.76s\n",
      "PROGRESS:      9   5.058e+00   5.579e+00        8.60s\n"
     ]
    },
    {
     "data": {
      "text/plain": [
       "{'max_error': 33.30920549278245, 'rmse': 6.237615538266947}"
      ]
     },
     "execution_count": 60,
     "metadata": {},
     "output_type": "execute_result"
    }
   ],
   "source": [
    "boosted_tree_model = gl.boosted_trees_regression.create(train_set, target = 'age', features=['vectors'])\n",
    "boosted_tree_model.evaluate(test_set)"
   ]
  },
  {
   "cell_type": "markdown",
   "metadata": {},
   "source": [
    "### Classification Models"
   ]
  },
  {
   "cell_type": "code",
   "execution_count": 62,
   "metadata": {
    "collapsed": false
   },
   "outputs": [],
   "source": [
    "valid_age = range(13,18) + range(23,28) + range(33,43)\n",
    "sf_age_catego = sf.filter_by(valid_age, 'age')"
   ]
  },
  {
   "cell_type": "code",
   "execution_count": 63,
   "metadata": {
    "collapsed": false
   },
   "outputs": [
    {
     "data": {
      "text/plain": [
       "18787"
      ]
     },
     "execution_count": 63,
     "metadata": {},
     "output_type": "execute_result"
    }
   ],
   "source": [
    "sf_age_catego.num_rows()"
   ]
  },
  {
   "cell_type": "code",
   "execution_count": null,
   "metadata": {
    "collapsed": true
   },
   "outputs": [],
   "source": []
  },
  {
   "cell_type": "code",
   "execution_count": 64,
   "metadata": {
    "collapsed": false
   },
   "outputs": [
    {
     "name": "stdout",
     "output_type": "stream",
     "text": [
      "18787\n"
     ]
    }
   ],
   "source": [
    "def get_age_category(age):\n",
    "    if 13 <= age <= 17:\n",
    "        return \"10s\"\n",
    "    elif 23 <= age <= 27:\n",
    "        return \"20s\"\n",
    "    elif 33 <= age <= 42:\n",
    "        return \"30s\"\n",
    "    return None\n",
    "\n",
    "sf['age_category'] = sf['age'].apply(lambda age: get_age_category(age))\n",
    "sf_age_categories = sf.dropna()\n",
    "print sf_age_categories.num_rows()"
   ]
  },
  {
   "cell_type": "code",
   "execution_count": 65,
   "metadata": {
    "collapsed": false
   },
   "outputs": [
    {
     "name": "stdout",
     "output_type": "stream",
     "text": [
      "PROGRESS: Creating a validation set from 5 percent of training data. This may take a while.\n",
      "          You can set ``validation_set=None`` to disable validation tracking.\n",
      "\n",
      "PROGRESS: The following methods are available for this type of problem.\n",
      "PROGRESS: BoostedTreesClassifier, RandomForestClassifier, LogisticClassifier\n",
      "PROGRESS: The returned model will be chosen according to validation accuracy.\n",
      "PROGRESS: Boosted trees classifier:\n",
      "PROGRESS: --------------------------------------------------------\n",
      "PROGRESS: Number of examples          : 14306\n",
      "PROGRESS: Number of classes           : 3\n",
      "PROGRESS: Number of feature columns   : 1\n",
      "PROGRESS: Number of unpacked features : 300\n",
      "PROGRESS: Starting Boosted Trees\n",
      "PROGRESS: --------------------------------------------------------\n",
      "PROGRESS:   Iter      Accuracy          Elapsed time\n",
      "PROGRESS:         (training) (validation)\n",
      "PROGRESS:      0   7.263e-01   6.679e-01        1.43s\n",
      "PROGRESS:      1   7.498e-01   6.916e-01        2.89s\n",
      "PROGRESS:      2   7.622e-01   6.954e-01        4.32s\n",
      "PROGRESS:      3   7.691e-01   7.016e-01        5.83s\n",
      "PROGRESS:      4   7.810e-01   6.979e-01        7.29s\n",
      "PROGRESS:      5   7.937e-01   7.104e-01        8.72s\n",
      "PROGRESS:      6   8.018e-01   7.166e-01       10.22s\n",
      "PROGRESS:      7   8.096e-01   7.154e-01       11.67s\n",
      "PROGRESS:      8   8.189e-01   7.191e-01       13.15s\n",
      "PROGRESS:      9   8.277e-01   7.191e-01       14.57s\n",
      "PROGRESS: Random forest classifier:\n",
      "PROGRESS: --------------------------------------------------------\n",
      "PROGRESS: Number of examples          : 14306\n",
      "PROGRESS: Number of classes           : 3\n",
      "PROGRESS: Number of feature columns   : 1\n",
      "PROGRESS: Number of unpacked features : 300\n",
      "PROGRESS: Starting Boosted Trees\n",
      "PROGRESS: --------------------------------------------------------\n",
      "PROGRESS:   Iter      Accuracy          Elapsed time\n",
      "PROGRESS:         (training) (validation)\n",
      "PROGRESS:      0   7.200e-01   6.742e-01        1.29s\n",
      "PROGRESS:      1   7.393e-01   6.966e-01        2.33s\n",
      "PROGRESS:      2   7.382e-01   7.029e-01        3.37s\n",
      "PROGRESS:      3   7.415e-01   7.004e-01        4.41s\n",
      "PROGRESS:      4   7.444e-01   6.979e-01        5.45s\n",
      "PROGRESS:      5   7.435e-01   7.029e-01        6.47s\n",
      "PROGRESS:      6   7.442e-01   7.016e-01        7.52s\n",
      "PROGRESS:      7   7.434e-01   6.941e-01        8.53s\n",
      "PROGRESS:      8   7.429e-01   6.979e-01        9.55s\n",
      "PROGRESS:      9   7.433e-01   7.029e-01       10.56s\n",
      "PROGRESS: Logistic regression:\n",
      "PROGRESS: --------------------------------------------------------\n",
      "PROGRESS: Number of examples          : 14306\n",
      "PROGRESS: Number of classes           : 3\n",
      "PROGRESS: Number of feature columns   : 1\n",
      "PROGRESS: Number of unpacked features : 300\n",
      "PROGRESS: Number of coefficients    : 602\n",
      "PROGRESS: Starting L-BFGS\n",
      "PROGRESS: --------------------------------------------------------\n",
      "PROGRESS: +-----------+----------+-----------+--------------+-------------------+---------------------+\n",
      "PROGRESS: | Iteration | Passes   | Step size | Elapsed Time | Training-accuracy | Validation-accuracy |\n",
      "PROGRESS: +-----------+----------+-----------+--------------+-------------------+---------------------+\n",
      "PROGRESS: | 1         | 6        | 0.000004  | 1.840171     | 0.481756          | 0.484395            |\n",
      "PROGRESS: | 2         | 8        | 1.000000  | 2.728720     | 0.659234          | 0.671660            |\n",
      "PROGRESS: | 3         | 9        | 1.000000  | 3.319660     | 0.620020          | 0.616729            |\n",
      "PROGRESS: | 4         | 10       | 1.000000  | 3.938757     | 0.639172          | 0.649189            |\n",
      "PROGRESS: | 5         | 11       | 1.000000  | 4.554929     | 0.557598          | 0.573034            |\n",
      "PROGRESS: | 6         | 13       | 1.000000  | 5.458387     | 0.676010          | 0.686642            |\n",
      "PROGRESS: | 10        | 17       | 1.000000  | 7.997438     | 0.688872          | 0.697878            |\n",
      "PROGRESS: +-----------+----------+-----------+--------------+-------------------+---------------------+\n",
      "PROGRESS: Model selection based on validation accuracy:\n",
      "PROGRESS: ---------------------------------------------\n",
      "PROGRESS: BoostedTreesClassifier          : 0.719101123596\n",
      "PROGRESS: RandomForestClassifier          : 0.702871410737\n",
      "PROGRESS: LogisticClassifier              : 0.697878\n",
      "PROGRESS: ---------------------------------------------\n",
      "PROGRESS: Selecting BoostedTreesClassifier based on validation set performance.\n"
     ]
    },
    {
     "ename": "AttributeError",
     "evalue": "'BoostedTreesClassifier' object has no attribute 'evalute'",
     "output_type": "error",
     "traceback": [
      "\u001b[0;31m---------------------------------------------------------------------------\u001b[0m",
      "\u001b[0;31mAttributeError\u001b[0m                            Traceback (most recent call last)",
      "\u001b[0;32m<ipython-input-65-d6d7c0d1513c>\u001b[0m in \u001b[0;36m<module>\u001b[0;34m()\u001b[0m\n\u001b[1;32m      1\u001b[0m \u001b[0mtrain_set2\u001b[0m\u001b[0;34m,\u001b[0m \u001b[0mtest_set2\u001b[0m \u001b[0;34m=\u001b[0m \u001b[0msf_age_categories\u001b[0m\u001b[0;34m.\u001b[0m\u001b[0mrandom_split\u001b[0m\u001b[0;34m(\u001b[0m\u001b[0;36m0.8\u001b[0m\u001b[0;34m,\u001b[0m \u001b[0mseed\u001b[0m \u001b[0;34m=\u001b[0m \u001b[0;36m5\u001b[0m\u001b[0;34m)\u001b[0m\u001b[0;34m\u001b[0m\u001b[0m\n\u001b[1;32m      2\u001b[0m \u001b[0mcls\u001b[0m \u001b[0;34m=\u001b[0m \u001b[0mgl\u001b[0m\u001b[0;34m.\u001b[0m\u001b[0mclassifier\u001b[0m\u001b[0;34m.\u001b[0m\u001b[0mcreate\u001b[0m\u001b[0;34m(\u001b[0m\u001b[0mtrain_set2\u001b[0m\u001b[0;34m,\u001b[0m \u001b[0mtarget\u001b[0m \u001b[0;34m=\u001b[0m \u001b[0;34m'age_category'\u001b[0m\u001b[0;34m,\u001b[0m \u001b[0mfeatures\u001b[0m\u001b[0;34m=\u001b[0m\u001b[0;34m[\u001b[0m\u001b[0;34m'vectors'\u001b[0m\u001b[0;34m]\u001b[0m\u001b[0;34m)\u001b[0m\u001b[0;34m\u001b[0m\u001b[0m\n\u001b[0;32m----> 3\u001b[0;31m \u001b[0mage_catego_result\u001b[0m \u001b[0;34m=\u001b[0m \u001b[0mcls\u001b[0m\u001b[0;34m.\u001b[0m\u001b[0mevalute\u001b[0m\u001b[0;34m(\u001b[0m\u001b[0mtest_set2\u001b[0m\u001b[0;34m)\u001b[0m\u001b[0;34m\u001b[0m\u001b[0m\n\u001b[0m\u001b[1;32m      4\u001b[0m \u001b[0;32mprint\u001b[0m \u001b[0mage_catego_result\u001b[0m\u001b[0;34m\u001b[0m\u001b[0m\n",
      "\u001b[0;31mAttributeError\u001b[0m: 'BoostedTreesClassifier' object has no attribute 'evalute'"
     ]
    }
   ],
   "source": [
    "train_set2, test_set2 = sf_age_categories.random_split(0.8, seed = 5)\n",
    "cls = gl.classifier.create(train_set2, target = 'age_category', features=['vectors'])"
   ]
  },
  {
   "cell_type": "code",
   "execution_count": 66,
   "metadata": {
    "collapsed": false
   },
   "outputs": [
    {
     "name": "stdout",
     "output_type": "stream",
     "text": [
      "{'confusion_matrix': Columns:\n",
      "\ttarget_label\tstr\n",
      "\tpredicted_label\tstr\n",
      "\tcount\tint\n",
      "\n",
      "Rows: 9\n",
      "\n",
      "Data:\n",
      "+--------------+-----------------+-------+\n",
      "| target_label | predicted_label | count |\n",
      "+--------------+-----------------+-------+\n",
      "|     20s      |       30s       |   42  |\n",
      "|     30s      |       10s       |   37  |\n",
      "|     20s      |       20s       |  1360 |\n",
      "|     20s      |       10s       |  242  |\n",
      "|     10s      |       20s       |  321  |\n",
      "|     30s      |       30s       |   28  |\n",
      "|     30s      |       20s       |  369  |\n",
      "|     10s      |       10s       |  1262 |\n",
      "|     10s      |       30s       |   19  |\n",
      "+--------------+-----------------+-------+\n",
      "[9 rows x 3 columns]\n",
      ", 'accuracy': 0.720108695652174}\n"
     ]
    }
   ],
   "source": [
    "age_catego_result = cls.evaluate(test_set2)\n",
    "print age_catego_result"
   ]
  },
  {
   "cell_type": "code",
   "execution_count": null,
   "metadata": {
    "collapsed": true
   },
   "outputs": [],
   "source": []
  }
 ],
 "metadata": {
  "kernelspec": {
   "display_name": "Python 2",
   "language": "python",
   "name": "python2"
  },
  "language_info": {
   "codemirror_mode": {
    "name": "ipython",
    "version": 2
   },
   "file_extension": ".py",
   "mimetype": "text/x-python",
   "name": "python",
   "nbconvert_exporter": "python",
   "pygments_lexer": "ipython2",
   "version": "2.7.10"
  }
 },
 "nbformat": 4,
 "nbformat_minor": 0
}
