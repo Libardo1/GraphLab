{
 "cells": [
  {
   "cell_type": "code",
   "execution_count": 1,
   "metadata": {
    "collapsed": false
   },
   "outputs": [
    {
     "name": "stderr",
     "output_type": "stream",
     "text": [
      "[INFO] This non-commercial license of GraphLab Create is assigned to marvin.bertin@gmail.comand will expire on September 15, 2016. For commercial licensing options, visit https://dato.com/buy/.\n",
      "\n",
      "[INFO] Start server at: ipc:///tmp/graphlab_server-3502 - Server binary: /Users/marvinbertin/.graphlab/anaconda/lib/python2.7/site-packages/graphlab/unity_server - Server log: /tmp/graphlab_server_1444103072.log\n",
      "[INFO] GraphLab Server Version: 1.6.1\n"
     ]
    }
   ],
   "source": [
    "from numpy import average\n",
    "import os\n",
    "import graphlab as gl\n",
    "import numpy as np\n",
    "import gensim\n",
    "import re\n",
    "import nltk\n",
    "from nltk.corpus import stopwords\n",
    "from bs4 import BeautifulSoup\n",
    "\n",
    "gl.canvas.set_target('ipynb')"
   ]
  },
  {
   "cell_type": "code",
   "execution_count": 2,
   "metadata": {
    "collapsed": true
   },
   "outputs": [],
   "source": [
    "traindata_path = \"/Users/marvinbertin/graphlab_data/Bags-of-Popcorn/LabeledData/labeledTrainData.tsv\""
   ]
  },
  {
   "cell_type": "code",
   "execution_count": 3,
   "metadata": {
    "collapsed": false,
    "scrolled": false
   },
   "outputs": [
    {
     "name": "stdout",
     "output_type": "stream",
     "text": [
      "PROGRESS: Finished parsing file /Users/marvinbertin/graphlab_data/Bags-of-Popcorn/LabeledData/labeledTrainData.tsv\n",
      "PROGRESS: Parsing completed. Parsed 100 lines in 0.563292 secs.\n",
      "PROGRESS: Finished parsing file /Users/marvinbertin/graphlab_data/Bags-of-Popcorn/LabeledData/labeledTrainData.tsv\n",
      "PROGRESS: Parsing completed. Parsed 25000 lines in 0.900316 secs.\n"
     ]
    }
   ],
   "source": [
    "train_data = gl.SFrame.read_csv(traindata_path,header=True, delimiter='\\t',quote_char='\"',\n",
    "                                column_type_hints = {'id':str, 'sentiment' : int, 'review':str } )"
   ]
  },
  {
   "cell_type": "code",
   "execution_count": null,
   "metadata": {
    "collapsed": true
   },
   "outputs": [],
   "source": [
    "unlabeledtraindata_path = \"/Users/marvinbertin/graphlab_data/Bags-of-Popcorn/UnlabeledData/unlabeledTrainData.tsv\"\n",
    "unlabeled_train_data = gl.SFrame.read_csv(traindata_path,header=True, delimiter='\\t',quote_char='\"',\n",
    "                                column_type_hints = {'id':str, 'review':str } )"
   ]
  },
  {
   "cell_type": "code",
   "execution_count": 4,
   "metadata": {
    "collapsed": false,
    "scrolled": false
   },
   "outputs": [
    {
     "data": {
      "application/javascript": [
       "$(\"head\").append($(\"<link/>\").attr({\n",
       "  rel:  \"stylesheet\",\n",
       "  type: \"text/css\",\n",
       "  href: \"//cdnjs.cloudflare.com/ajax/libs/font-awesome/4.1.0/css/font-awesome.min.css\"\n",
       "}));\n",
       "$(\"head\").append($(\"<link/>\").attr({\n",
       "  rel:  \"stylesheet\",\n",
       "  type: \"text/css\",\n",
       "  href: \"//dato.com/files/canvas/1.6.1/css/canvas.css\"\n",
       "}));\n",
       "\n",
       "            (function(){\n",
       "\n",
       "                var e = null;\n",
       "                if (typeof element == 'undefined') {\n",
       "                    var scripts = document.getElementsByTagName('script');\n",
       "                    var thisScriptTag = scripts[scripts.length-1];\n",
       "                    var parentDiv = thisScriptTag.parentNode;\n",
       "                    e = document.createElement('div');\n",
       "                    parentDiv.appendChild(e);\n",
       "                } else {\n",
       "                    e = element[0];\n",
       "                }\n",
       "\n",
       "                if (typeof requirejs !== 'undefined') {\n",
       "                    // disable load timeout; ipython_app.js is large and can take a while to load.\n",
       "                    requirejs.config({waitSeconds: 0});\n",
       "                }\n",
       "\n",
       "                require(['//dato.com/files/canvas/1.6.1/js/ipython_app.js'], function(IPythonApp){\n",
       "                    var app = new IPythonApp();\n",
       "                    app.attachView('sframe','Summary', {\"ipython\": true, \"sketch\": {\"review\": {\"complete\": true, \"numeric\": false, \"num_unique\": 24932, \"num_undefined\": 0, \"progress\": 1.0, \"frequent_items\": {\"You know all those letters to \\\"Father Christmas\\\" and \\\"Jesus\\\" that are sent every year? Well, it turns out that they are not actually delivered but dropped off in a half-forgotten corner of the post office to rot unless some bright spark figures out a way of posting them. As bizarre settings go, it's a winner and one which perfectly fits the strange movie that is \\\"Dead Letter Office\\\". Having said that, this is obviously an Australian film as opposed to a British one. If it was Royal Mail, most letters get this sort of treatment anyway. I haven't been in this flat for two years and we're still getting letters for a Mr Wang, some female priest of the Church of Latter Day I've-Never-Heard-Of-You and various catalogues for industrial equipment addressed to a plumbing company.<br /><br />\\\"Dead Letter Office\\\" (the name given to the place where undeliverable mail ends up) follows the story of Alice (Miranda Otto) who grows up in a seriously divided home. Writing to her absent father, she only learns in adulthood that her letters haven't been delivered for one reason or another. So, logically, she gets a job at the D.L.O. and finds herself working alongside other social rejects including the brooding Chilean immigrant Frank Lopez (George Del Hoyo). Slowly, she finds herself drawn to him but can she find out where her dad is without bringing the self-contained world of the Dead Letters Office to its knees?<br /><br />Nothing against this film but I was reminded of the god-awful Heather Graham film \\\"Committed\\\" while watching this. However, this is so much better than that pile of horse crap but then again, that ain't difficult. For a start, this film is much more logical. True, the metaphors are somewhat blatant and the underflowing symbolism quickly becomes a flood. But at least this is cohesive and quirky without being complete drivel. It is also well acted. Both Otto and Del Hoyo are very good as the lovers looking for something they know they'll never find while other characters are peripheral at best. Part of the trouble is that it seems to wrap up far too quickly, leaving this viewer somewhat disappointed. The other part is that when you consider Australia's draconian immigration policy (i.e. if you don't speak English, rack off!), such a story is unlikely to take place in reality. The other characters, sadly, also help to destabilise the realism by proving to be little more than odd-ball stereotypes.<br /><br />Despite that, \\\"Dead Letter Office\\\" is certainly something a little different. It might not be to everyone's taste but I liked it. Yes, it was hackneyed and predictable but sometimes, it's nice to watch a film without guns or violence or heavy-duty swearing and nudity (no chance of that in an Australian film). There ain't any major laughs, there's no Bullet Time and the characters are usually one-dimensional. But it's the story that counts here and while it's not earth-shattering in its magnificence, it's a pleasant enough way of passing the time. It's the movie equivalent of a Sheryl Crow CD - nice to listen to now and again but you wouldn't really miss it if it wasn't there.\": {\"frequency\": 2, \"value\": \"You know all those ...\"}, \"I am decidedly not in the target audience for this film. I am a man nearly 50 who has only recently stumbled across the world of independent film. This happened quite by accident, with the discovery of a movie called Clerks late one night on television. The first two things I noticed about that film were that it was 1) technically amateurish and 2) brilliantly written. When I read an interview with the director in the local paper and he said that one of his influences was Clerks, I started to get interesting. When he said his main influence was The Station Agent, a movie I'd seen on DVD a week prior, I decided I had to go and check it out. The result could be described along the same lines as Clerks, although the two films are nothing alike content wise. Both films suffer from technical gaffes that are overcome through amazing writing. Whereas Clerks is a day in the life of a man who has nothing in his life at all and is afraid to ask tough questions about himself and his situation, Less Like Me is about a man who seemingly forces himself to be constantly busy, he's always running one way or another, filling his life with little things so that he will never have to deal with the big ones. The themes and ideas of this film are strong and poignant. I can tell from watching it that not much has changed since I was growing up, young men still have the same problems they always have. The writer dresses up these problems and themes in the modern vernacular, crafts wonderfully honest characters, and has them do completely believable things. As far as indie cinema goes, this may not be perfect from a technical standpoint, but from an artistic one, it is very close.\": {\"frequency\": 2, \"value\": \"I am decidedly not ...\"}, \"Holy freaking God all-freaking-mighty. This movie was so bad, I thought I was on drugs. In a bad way... The character acting is the poorest thing I've seen in quite some time. This movie was more akin to Lord of the G-Strings, IMHO(it's a real movie). Most of the movie appeared to be done on a horrible green screen. My favorite part was when they are in the carriage, and you can tell there's no horse. They're fleeing from alien monsters, and going about the same speed as a swift jog. Then it switches to a far-shot with a ridiculous CG horse. And the CG in general seems to be sub-par to 1992's Beyond the Mind's Eye. I mean, Come on, really. It felt like a horrible episode of Hercules, only without Kevin Sorbo there to save the day. Worst. Movie. Ever.\": {\"frequency\": 2, \"value\": \"Holy freaking God ...\"}, \"Red Skelton was still another major star who made the transition from movies to television with ease.<br /><br />His shows certainly brought a laughter to the American households of years back.<br /><br />He would begin the show with an opening monologue. Afterwards, we would have a variety of characters. Remember Gertrude and Heathcliff in the monologue? How can we ever forget San Fernando Red? I remember one episode where as a king Red introduced his queen by referring to her as your fatness.<br /><br />Go know that Red would use his comedic talents to really hide from his tragic life. He lost a son to leukemia at age 11 or so. His wife, Georgia, died by suicide.\": {\"frequency\": 2, \"value\": \"Red Skelton was ...\"}, \"Love it, love it, love it! This is another absolutely superb performance from the Divine Miss M. From the beginning to the end, this is one big treat! Don't rent it- buy it now!\": {\"frequency\": 1, \"value\": \"Love it, love it, ...\"}, \"<br /><br />Back in his youth, the old man had wanted to marry his first cousin, but his family forbid it. Many decades later, the old man has raised three children (two boys and one girl), and allows his son and daughter to marry and have children. Soon, the sister is bored with brother #1, and jumps in the bed of brother #2.<br /><br />One might think that the three siblings are stuck somewhere on a remote island. But no -- they are upper class Europeans going to college and busy in the social world.<br /><br />Never do we see a flirtatious moment between any non-related female and the two brothers. Never do we see any flirtatious moment between any non-related male and the one sister. All flirtatious moments are shared between only between the brothers and sister.<br /><br />The weakest part of GLADIATOR was the incest thing. The young emperor Commodus would have hundreds of slave girls and a city full of marriage-minded girls all over him, but no -- he only wanted his sister? If movie incest is your cup of tea, then SUNSHINE will (slowly) thrill you to no end.\": {\"frequency\": 2, \"value\": \"<br /><br />Back ...\"}, \"A have a female friend who is currently being drawn into a relationship with an SOB who has a long term girlfriend. Of course the SOB is very good-looking, charming, etc and my friend is a very intelligent woman. Watching Jean Pierre Leaud's character at work is exactly like watching what goes on in real life when guys like that destroy the lives of our female friends. It's tragic, and you know she's going to end up very hurt, but there's nothing you can do. Leaud is brilliant. Totally empty. A blank throughout, he pulls the faces and tells the stories he thinks will get the reaction he wants.<br /><br />The scene two hours in when Leaud and Lebrun have made love, and the next morning he puts on a record and, very sweetly and charmingly, sings along to amuse her is brilliant. The \\\"What the hell am I doing here with this idiot\\\" expression that flickers back and forth across her face will be in my memory for a long time to come.<br /><br />It's a long film, but see it in one go, preferably in a cinema. Takes a while to get into, but then the time just disappears.\": {\"frequency\": 2, \"value\": \"A have a female ...\"}, \"This show comes up with interesting locations as fast as the travel channel. It is billed as reality but in actuality it is pure prime time soap opera. It's tries to use exotic locales as a facade to bring people into a phony contest & then proceeds to hook viewers on the contestants soap opera style.<br /><br />It also borrows from an early CBS game show pioneer- Beat The Clock- by inventing situations for its contestants to try & overcome. Then it rewards the winner money. If they can spice it up with a little interaction between the characters, even better. While the game format is in slow motion versus Beat The Clock- the real accomplishment of this series is to escape reality. <br /><br />This show has elements of several types of successful past programs. Reality television, hardly, but if your hooked on the contestants, locale or contest, this is your cup of tea. If your not, this entire series is as I say, drivel dripping with gravy. It is another show hiding behind the reality label which is the trend it started in 2000.<br /><br />It is slick & well produced, so it might last a while yet. After all, so do re-runs of Gilligan's Island, Green Acres, The Beverly Hillbillies & The Brady Bunch. This just doesn't employ professional actors. The intelligence level is about the same.\": {\"frequency\": 3, \"value\": \"This show comes up ...\"}, \"Even if you could get past the idea that these boring characters personally witnessed every Significant Moment of the 1960s (ok, so Katie didn't join the Manson Family, and nobody died at Altamont), this movie was still unbelievably awful. I got the impression that the \\\"writers\\\" just locked themselves in a room and watched \\\"Forrest Gump,\\\" \\\"The Wonder Years,\\\" and Oliver Stone's 60s films over and over again and called it research. A Canadian television critic called the conclusion of the first episode \\\"head spinning\\\". He was right.\": {\"frequency\": 2, \"value\": \"Even if you could ...\"}, \"I'm gonna tip the scales here a bit and say I enjoyed this. However, the cartoon is really only going to appeal to those who have very absurdist tendencies. It's definitely something that most people will not get, as is the nature of absurdism.<br /><br />the animation is horrible, but yes, that's the point. The main character is foul mouthed, violent, and stupid. no redeeming qualities whatsoever. his wife shrieks and wails, apparently just barely capable of the most basic communication skills. most of these stories completely lack any kind of point.<br /><br />but again, that's the point ;)<br /><br />If non sequiters, foul language, and complete and utter randomness are your thing, you're going to love this.<br /><br />It is really short, so I would probably rent instead of buying.\": {\"frequency\": 2, \"value\": \"I'm gonna tip the ...\"}, \"I absolutely hate this programme, what kind of people sit and watch this garbage?? OK my dad and mum love it lol but i make sure I'm well out of the room before it comes on. Its so depressing and dreary but the worst thing about it is the acting i cant stand all detective programmes such as this because the detectives are so wooden and heartless. What happened to detective programmes with real mystery??? I mean who wants to know what happened to fictional characters we know nothing about that died over 20 years ago??? I wish the bbc would put more comedy on bbc1 cos now with the vicar of dibley finished there is more room for crap like this.\": {\"frequency\": 2, \"value\": \"I absolutely hate ...\"}, \"This movie surprised me. Some things were \\\"clicheish\\\" and some technological elements reminded me of the movie \\\"Enemy of the State\\\" starring Will Smith. But for the most part very entertaining- good mix with Jamie Foxx and comedian Mike Epps and the 2 wannabe thugs Julio and Ramundo (providing some comic relief). This is a movie you can watch over again-say... some Wednesday night when nothing else is on. I gave it a 9 for entertainment value.\": {\"frequency\": 3, \"value\": \"This movie ...\"}, \"How has this piece of crap stayed on TV this long? It's terrible. It makes me want to shoot someone. It's so fake that it is actually worse than a 1940s sci-fi movie. I'd rather have a stroke than watch this nonsense. I remember watching it when it first came out. I thought, hey this could be interesting, then I found out how absolutely, insanely, ridiculously stupid it really was. It was so bad that I actually took out my pocket knife and stuck my hand to the table.<br /><br />Please people, stop watching this and all other reality shows, they're the trash that is jamming the networks and canceling quality programming that requires some thought to create.\": {\"frequency\": 3, \"value\": \"How has this piece ...\"}, \"Bette Midler is indescribable in this concert. She gives her all every time she is on stage. Whether we are laughing at her jokes and antics or dabbing our eyes at the strains of one of her tremendous ballads, Bette Midler moves her audience. If you can't see it live (which is the best way to see Bette) then this is the next best thing. An interesting thing to look at is how incredible her voice has changed and matured over the years but never lost its power. Her more \\\"vocally correct\\\" version of \\\"Stay With Me\\\" never loses anything in spirit from THE ROSE or DIVINE MADNESS, Here it is just more pure and as heartfelt as ever. I will treasure this concert for a very long time.\": {\"frequency\": 2, \"value\": \"Bette Midler is ...\"}, \"I sat through almost one episode of this series and just couldn't take anymore. It felt as though I'd watched dozens of episodes already, and then it hit me.....There's nothing new here! I've heard that joke on Seinfeld, I saw someone fall like that on friends, an episode of Happy Days had almost the same storyline, ect. None of the actors are interesting here either! Some were good on other shows (not here), and others are new to a profession they should have never entered. Avoid this stinker!\": {\"frequency\": 2, \"value\": \"I sat through ...\"}, \"One of Disney's best films that I can enjoy watching often. you may easily guess the outcome, but who cares? its just plain fun escape for 1 hour forty-two minutes. and after all wasn't movies meant to get away from reality for just a short time anyway? The cast sparkles with delight. -magictrain\": {\"frequency\": 2, \"value\": \"One of Disney's ...\"}, \"Yes, he is! ...No, not because of Pintilie likes to undress his actors and show publicly their privies. Pintilie IS THE naked \\\"emperor\\\" - so to speak...<br /><br />It's big time for someone to state the truth. This impostor is a voyeur, a brat locked in an old man's body. His abundance of nude scenes have no artistic legitimacy whatsoever. It is 100% visual perversion: he gets his kicks by making the actors strip in the buff and look at their willies. And if he does this in front of the audience, he might eve get a hard-on! Did you know that, on the set of \\\"Niki Ardelean\\\", he used to embarrass poor Coca Bloss, by telling her: \\\"Oh, Coca, how I wanna f*** you!\\\"? She is a great lady, very decent and sensitive, and she became unspeakably ashamed - to his petty satisfaction! And, as a worrying alarm signal about the degree of vulgarity and lack of education in Romanian audiences, so many people are still so foolish to declare these visual obscenities \\\"works of art\\\"! Will anyone have ever the decency to expose the truth of it all?\": {\"frequency\": 2, \"value\": \"Yes, he is! ...No, ...\"}, \"I find it rather useless to comment on this \\\"movie\\\" for the simplest reason that it has nothing to comment upon.It's similar to a rotten egg which has nothing good to show to the world excerpt for the fact that it is rotten as other endless number of eggs have been before it. But since a comment is mandatory for such a grandiose insignificance ... <br /><br />Filth is definitely the proper word to describe this movie created in the same manner as any other Romanian \\\"movie\\\" directed by Lucian Pintilie who insists to depict the so called \\\"Romanian reality\\\" following the Communist era (1990 to present days).<br /><br />Under no circumstances recommended for people outside Romania as for the others (who lately find amateurish camera, lack of plot, lack of directorial / actors's quality etc, noise etc. as being trendy and even art-like) : watch & enjoy this \\\"movie\\\" (as I know you will) but do the other well intentioned IMDb members a favor, don't write an online review for it will misguide, irritate and in the end waste their time.<br /><br />On the other hand this movie (among others) has some value whatsoever, an educational one for it sets the example for : \\\"How NOT to make a movie.\\\"\": {\"frequency\": 2, \"value\": \"I find it rather ...\"}, \"Beautiful film, pure Cassavetes style. Gena Rowland gives a stunning performance of a declining actress, dealing with success, aging, loneliness...and alcoholism. She tries to escape her own subconscious ghosts, embodied by the death spectre of a young girl. Acceptance of oneself, of human condition, though its overall difficulties, is the real purpose of the film. The parallel between the theatrical sequences and the film itself are puzzling: it's like if the stage became a way out for the Heroin. If all american movies could only be that top-quality, dealing with human relations on an adult level, not trying to infantilize and standardize feelings... One of the best dramas ever. 10/10.\": {\"frequency\": 2, \"value\": \"Beautiful film, ...\"}, \"Dumb is as dumb does, in this thoroughly uninteresting, supposed black comedy. Essentially what starts out as Chris Klein trying to maintain a low profile, eventually morphs into an uninspired version of \\\"The Three Amigos\\\", only without any laughs. In order for black comedy to work, it must be outrageous, which \\\"Play Dead\\\" is not. In order for black comedy to work, it cannot be mean spirited, which \\\"Play Dead\\\" is. What \\\"Play Dead\\\" really is, is a town full of nut jobs. Fred Dunst does however do a pretty fair imitation of Billy Bob Thornton's character from \\\"A Simple Plan\\\", while Jake Busey does a pretty fair imitation of, well, Jake Busey. - MERK\": {\"frequency\": 2, \"value\": \"Dumb is as dumb ...\"}, \"No spoilers here but I have been a fan since Waking the Dead started but the last series, of which only 3 have been on so far is awful. The stories bear no resemblance to the original idea of the series. I found these 3 in the last series jaw droppingly ludicrous. As a BBC licence payer, after the show I rang BBC complaints to pass on my disappointment. I'm amazed that actors of the calibre of Trevor Eve and Sue Johnstone didn't object to the story lines. These actors have been with these characters for 8 seasons, surly they can see it's lost all direction. It's a good job it is the last series or the next series may start with the team investigating the death of Father Christmas!<br /><br />Paul Bentley, West Yorkshire, England.\": {\"frequency\": 2, \"value\": \"No spoilers here ...\"}, \"This movie had a IMDB rating of 8.1 so I expected much more from it. It starts out funny and endearing with an energy that feels spontaneous. But before the movie is half-way through, it begins to drag and everything becomes sickingly predictable. The characters in the office were delightful in the first third of the movie, but we get to know them a little too well; they become caricatures, not real people at all. This is the same story I've seen hundreds of times, only told here with slightly different circumstances. The thing is, I could stomach another predictable love story if only the dialog weren't so stale!<br /><br />The only thing that could be worse is if the characters had inconsistent and unbelievable motivations, and unfortunately that was also the case with Dead Letter Office. Hopefully this movie will end up in the Dead Movie Office soon.\": {\"frequency\": 2, \"value\": \"This movie had a ...\"}, \"It's very sad that Lucian Pintilie does not stop making movies. They get worse every time. Niki and Flo (2003) is a depressing stab at the camera. It's unfortunate that from the many movies that are made yearly in Romania , the worst of them get to be sent abroad ( e.g. Chicago International Film Festival). This movie without a plot , acting or script is a waste of time and money. Score: 0.02 out of 10.\": {\"frequency\": 2, \"value\": \"It's very sad that ...\"}, \"I have been familiar with the fantastic book of 'Goodnight Mister Tom' for absolutely ages and it was only recently when I got the chance to watch this adaption of it. I have heard lots of positive remarks about this, so I had high hopes. Once this film had finished, I was horrified.<br /><br />This film is not a good film at all. 'Goodnight Mister Tom' was an extremely poor adaption and practically 4.5/10 of the book was missed out. Particularly, I found that a lot of the characters and some great scenes in the book were not in this. There was not much dialogue, It was rushed and far too fast-moving, but I was mostly upset by the fact that you never got to see the bonding and love between William Beech and Tom in this film which was a true let down. The casting was not all that good,either. I thought this could have been really good, but it was so different to the book! Anextremely poor adaption, one of the worst I've seen. This deserves a decent remake that'd better be 1000 times better than this pile of garbage.\": {\"frequency\": 2, \"value\": \"I have been ...\"}, \"This was one of the lamest movies we watched in the last few months with a predictable plot line and pretty bad acting (mainly from the supporting characters). The interview with Hugh Laurie on the DVD was actually more rewarding than the film itself...<br /><br />Hugh Laurie obviously put a lot of effort into learning how to dance the Samba but the scope of his character only required that he immerse himself at the kiddie end of the pool. The movie is based on the appearance of a lovely girl and great music but these are not sufficient to make good entertainment.<br /><br />If you have never seen Rio, or the inside of a British bank, this film is for you. 2 out of 10.\": {\"frequency\": 2, \"value\": \"This was one of ...\"}, \"It's so sad that Romanian audiences are still populated with vulgar and uneducated individuals who relish this kind of cheap and demonstrative shows, as superficial and brutal as the \\\"Garcea\\\" series or the \\\"Vacanta mare\\\" child-plays... The difference is that Mugur Mih\\ufffd\\ufffdescu, Doru Octavian Dumitru and other such sub-artisans never presume to claim their shows as \\\"art\\\". Pintilie, who 40 years ago made a very good movie (\\\"Duminic\\ufffd\\ufffd la ora sase\\\") followed by another one, nice enough (\\\"Reconstituirea\\\"), tries to declare his film-lenghts \\\"art works\\\" - but, unfortunately, he masters at a way too limited level the specifically cinematographic means of expression. As such, \\\"Niki Ardelean\\\" offers again a sample of \\\"HOW NOT\\\" - this being about its only merit.\": {\"frequency\": 2, \"value\": \"It's so sad that ...\"}, \"I watched this movie when Joe Bob Briggs hosted Monstervision on TNT. Even he couldn't make this movie enjoyable. The only reason I watched it until the end is because I teach video production and I wanted to make sure my students never made anything this bad ... but it took all my intestinal fortitude to sit through it though. It's like watching your great grandmother flirting with a 15 year old boy ... excruciatingly painful.<br /><br />If you took the actual film, dipped it in paint thinner, then watched it, it would be more entertaining. Seriously.<br /><br />If you see this movie in the bargin bin at S-Mart, back away from it as if it were a rattlesnake.\": {\"frequency\": 2, \"value\": \"I watched this ...\"}, \"Wow! So much fun! Probably a bit much for normal American kids, and really it's a stretch to call this a kid's film, this movie reminded me a quite a bit of Time Bandits - very Terry Gilliam all the way through. While the overall narrative is pretty much straight forward, Miike still throws in A LOT of surreal and Bunuel-esquire moments. The whole first act violently juxtaposes from scene to scene the normal family life of the main kid/hero, with the spirit world and the evil than is ensuing therein. And while the ending does have a bit of an ambiguous aspect that are common of Miike's work, the layers of meaning and metaphor, particularly the anti-war / anti-revenge message of human folly, is pretty damn poignant. As manic and imaginatively fun as other great Miike films, only instead of over the top torture and gore, he gives us an endless amount of monsters and yokai from Japanese folk-lore creatively conceived via CG and puppetry wrapped into an imaginative multi-faceted adventure. F'n rad, and one of Miike's best!\": {\"frequency\": 1, \"value\": \"Wow! So much fun! ...\"}, \"THE JIST: See something else.<br /><br />This film was highly rated by Gene Siskel, but after watching it I can't figure out why. The film is definitely original and different. It even has interesting dialogue at times, some cool moments, and a creepy \\\"noir\\\" feel. But it just isn't entertaining. It also doesn't make a whole lot of sense, in plot but especially in character motivations. I don't know anyone that behaves like these characters do.<br /><br />This is a difficult movie to take on -- I suggest you don't accept the challenge.\": {\"frequency\": 2, \"value\": \"THE JIST: See ...\"}, \"in this movie, joe pesci slams dunks a basketball. joe pesci...<br /><br />and being consistent, the rest of the script is equally not believable.<br /><br />pesci is a funny guy, which saves this film from sinking int the absolute back of the cellar, but the other roles were pretty bad. the father was a greedy businessman who valued money more than people, which wasn't even well-played. instead of the man being an archetypal villain, he seemed more like an amoral android programmed to make money at all costs. then there's the token piece that is assigned to pesci as a girlfriend or something...i don't even remember...she was that forgettable.<br /><br />anyone who rates this movie above a 5 or 6 is a paid member of some sort of film studio trying to up the reputation of this sunken film, or at least one of those millions of media minions who can't critique efficiently (you know, the people who feel bad if they give anything a mark below 6).<br /><br />stay away...far away. and shame on comedy central, where i saw this film. they usually pick better.\": {\"frequency\": 2, \"value\": \"in this movie, joe ...\"}, \"You do realize that you've been watching the EXACT SAME SHOW for eight years, right? I could understand the initial curiosity of seeing strangers co-exist on an Island, but you'd think that after watching unkempt, stink-ladened heroes run roughshod through the bush with an egg on a spoon for half a decade would be enough to get you to commit to something a little more original (and interesting).<br /><br />And I'm not even speaking of the shows validity which for the record I find questionable. It's just hard to suspend disbelief for \\\"Bushy Bill\\\" eating a rat when the entire crew of producers and camera people are housed in an air conditioned make-shift bio-dome sipping frosty mochcinno's with moxy.<br /><br />What's the appeal here? I don't care about these people or their meandering lives. I just don't get it. But if you DO find yourself being captivated by hairy, unwashed people, I suggest you turn off your TV and just take a trip to your local bus station where you can see people like this in their TRUE habitat. They call them HOMELESS PEOPLE, and free of charge, you can sit back and marvel in their uncanny ability to retrieve various cigarette debris from a plethora of garbage canisters, eventually striking \\\"pay-dirt\\\" and fashioning a homemade Dr. Frankenstein-styled cancer-stick, all the while begging people for change for food when the stink of \\\"Aqua Velva\\\" on their breath is enough to suggest otherwise. And the best part? Much like Survivor, every week one member of the tribe \\\"Leaves\\\" the \\\"Island\\\" when they are unceremoniously sent packing to the local Institution when the frightening unmedicated state of full-blown schizophrenia kicks into gear! Now THAT'S ENTERTAINMENT!\": {\"frequency\": 3, \"value\": \"You do realize ...\"}, \"This guy has no idea of cinema. Okay, it seems he made a few interestig theater shows in his youth, and about two acceptable movies that had success more of political reasons cause they tricked the communist censorship. This all is very good, but look carefully: HE DOES NOT KNOW HIS JOB! The scenes are unbalanced, without proper start and and, with a disordered content and full of emptiness. He has nothing to say about the subject, so he over-licitates with violence, nakedness and gutter language. How is it possible to keep alive such a rotten corpse who never understood anything of cinematographic profession and art? Why don't they let him succumb in piece?\": {\"frequency\": 2, \"value\": \"This guy has no ...\"}, \"I like Chris Rock, but I feel he is wasted in this film. The idea of remaking Heaven Can Wait is fine, but the filmmakers followed the plot of that turkey too closely. When Eddie Murphy remade Dr. Doolittle and The Nutty Professor, he re-did them totally -- so they became Murphy films/vehicles, not just tepid remakes. That's why they were successful. If Chris had done the same, this could have been a much better film. The few laughs that come are when he is doing his standup routine -- so he might as well have done a concert film. It also would have been much funnier if the white man whose body he inhabits was a truck driver or hillbilly. So why does Hollywood keep making junk like this? Because people go to see it -- because they like Chris Rock. So give Chris a decent script and give us better movies! Don't remake films that weren't that good in the first place!\": {\"frequency\": 2, \"value\": \"I like Chris Rock, ...\"}, \"Wow, here it finally is; the action \\\"movie\\\" without action. In a real low-budget setting (don't miss the hilarious flying saucers flying by a few times) of a future Seattle we find a no-brain hardbody seeking to avenge her childhood.<br /><br />There is nothing even remotely original or interesting about the plot and the actors' performance is only rivalled in stupidity by the attempts to steal from other movies, mainly \\\"Matrix\\\" without having the money to do it right. Yes, we do get to see some running on walls and slow motion shoot-outs (45 secs approx.) but these scenes are about as cool as the stupid hardbody's attempts at making jokes about male incompetence now and then.<br /><br />And, yes, we are also served a number of leads that lead absolutely nowhere, as if the script was thought-out by the previously unseen cast while shooting the scenes.<br /><br />Believe me, it is as bad as it possibly can get. In fact, it doesn't deserve to be taken seriously, but perhaps I can make some of you not rent it and save your money.\": {\"frequency\": 2, \"value\": \"Wow, here it ...\"}, \"When i got this movie free from my job, along with three other similar movies.. I watched then with very low expectations. Now this movie isn't bad per se. You get what you pay for. It is a tale of love, betrayal, lies, sex, scandal, everything you want in a movie. Definitely not a Hollywood blockbuster, but for cheap thrills it is not that bad. I would probably never watch this movie again. In a nutshell this is the kind of movie that you would see either very late at night on a local television station that is just wanting to take up some time, or you would see it on a Sunday afternoon on a local television station that is trying to take up some time. Despite the bad acting, clich\\ufffd\\ufffd lines, and sub par camera work. I didn't have the desire to turn off the movie and pretend like it never popped into my DVD player. The story has been done many times in many movies. This one is no different, no better, no worse. <br /><br />Just your average movie.\": {\"frequency\": 3, \"value\": \"When i got this ...\"}, \"Do we really need any more narcissistic garbage on the Baby Boomer generation? Technically, I am a Boomer, though at the time when all the \\\"idealistic youths\\\" of the '60s were reading Marx, burning their draft cards, and generally prolonging a war which destroyed tens of thousands of lives; I was still in grade school. But I remember them well, and 9 out of 10 were just moronic fools, who would believe anything as long as it was destructive.<br /><br />This is just another excercise in self-importance from the kids who never really grew up.\": {\"frequency\": 1, \"value\": \"Do we really need ...\"}, \"This movie is a disgrace to the Major League Franchise. I live in Minnesota and even I can't believe they dumped Cleveland. (Yes I realize at the time the real Indians were pretty good, and the Twins had taken over their spot at the bottom of the American League, but still be consistent.) Anyway I loved the first Major League, liked the second, and always looked forward to the third, when the Indians would finally go all the way to the series. You can't tell me this wasn't the plan after the second film was completed. What Happened? Anyways if your a true fan of the original Major League do yourself a favor and don't watch this junk.\": {\"frequency\": 2, \"value\": \"This movie is a ...\"}, \"Sondra Locke stinks in this film, but then she was an awful 'actress' anyway. Unfortunately, she drags everyone else (including then =real life boyfriend Clint Eastwood down the drain with her. But what was Clint Eastwood thinking when he agreed to star in this one? One read of the script should have told him that this one was going to be a real snorer. It's an exceptionally weak story, basically no story or plot at all. Add in bored, poor acting, even from the normally good Eastwood. There's absolutely no action except a couple arguments and as far as I was concerned, this film ranks up at the top of the heap of natural sleep enhancers. Wow! Could a film BE any more boring? I think watching paint dry or the grass grow might be more fun. A real stinker. Don't bother with this one.\": {\"frequency\": 2, \"value\": \"Sondra Locke ...\"}, \"I loved this movie. I knew it would be chocked full of camp and silliness like the original series. I found it very heart warming to see Adam West, Burt Ward, Frank Gorshin, and Julie Newmar all back together once again. Anyone who loved the Batman series from the 60's should have enjoyed Return to the Batcave. You could tell the actors had a lot of fun making this film, especially Adam West. And I'll bet he would have gladly jumped back into his Batman costume had the script required him to do so. I told a number of friends about this movie who chose not to view it... now they wished they had. I have all of the original 120 episodes on VHS. Now this movie will join my collection. Thank You for the reunion Adam and Burt.\": {\"frequency\": 2, \"value\": \"I loved this ...\"}, \"In 1993, \\\"the visitors\\\" was an enormous hit in France. So, the sequence was inevitable and unfortunately, this sequence ranks among the worst ones ever made. <br /><br />This is a movie that doesn't keep its promises. Indeed, it's supposed to tell a sole story. Jean Reno must go in the twentieth century and take Christian Clavier back in the Middle Ages so that time can normally follow its course. The problem is that Clavier feels completely at ease in the world of the twentieth century, and so make him get back in the Middles Ages is rather hard... Instead of this, the movie goes on several other stories without succeeding in following the main plot. As a consequence, the movie becomes sometimes muddle-headed, sometimes a bit of a mess.<br /><br />But the movie also suffers from the performance of nearly all the actors. Reno and Clavier fall into the trap that however they could avoid in the first movie: they're going over the top and become annoying. Then, why did Jean-Marie Poir\\ufffd\\ufffd the film-maker engage Muriel Robin in the female main role? He made a mistake because she seems ill-at-ease and is absolutely pitiful. The other actors aren't better: Marie-Anne Chazel is nonexistent and Christian Bujeau, unbearable.<br /><br /> Of course, the movie contains a few good moments with efficient gags but it often falls into vulgarity and easiness. Certain sequences and dialogs are affected. It also appears hollow because Poir\\ufffd\\ufffd takes back elements that secured the success of the first movie. Thus, a young girl takes Reno for a close relative of her family and asks him to take part in her wedding.<br /><br />A labored and disappointing follow-up. Anyway, what's the interest of this movie otherwise commercial?<br /><br />\": {\"frequency\": 2, \"value\": \"In 1993, \\\"the ...\"}, \".......Playing Kaddiddlehopper, Col San Fernando, etc. the man was pretty wide ranging and a scream. I love watching him interact w/ Amanda Blake, or Don Knotts or whomever--he clearly was having a ball and I think he made it easier on his guests as well--so long as they Knew ahead of time it wasn't a disciplined, 19 take kind of production. Relax and be loose was clearly the name of the game there.<br /><br />He reminds me of guys like Milton Berle, Benny Hill, maybe Jerry Lewis some too. Great timing, ancient gags that kept audiences in stitches for decades, sheer enjoyment about what he was doing. His sad little clown he played was good too--but in a touching manner.<br /><br />Personally I think he's great, having just bought a two DVD set of his shows from '61 or so, it brings his stuff back in a fond way for me. I can remember seeing him on TV at the end of his run when he was winding up the series in 1971 or so.<br /><br />Check this out if you are a fan or curious. He was a riot.\": {\"frequency\": 2, \"value\": \".......Playing ...\"}, \"The '60s is an occasionally entertaining film, most of this entertainment is from laughing at the film. It is extremely uneven, and includes many annoying elements. Take for instance the switch between black & white, and color. If done right, this could of been fairly effective, but because it was done poorly , it turned into a nuisance and only detracted from the already bad experience; much of the film had an odd feel to it. The acting wasn't extremely bad for a made for TV flick, but then again it was downright embarrassing at other times. Many of the events were not coherent, and ending up being confusing. How did this family somehow end up being at many of the big events during the 1960's? The ending was much too sappy for my tastes; because it was hollywoodized, everything had to turn out right in the end. I would advise you to not waste your time on The '60s and do something else with your time. I'm glad I watched this in class, and not on my own time. I think I can safely say that the best part of the movie was the inclusion of Bob Dylan's music. Those are just my rambling thoughts on the flick. I hope you take my advice, and stay away from this.\": {\"frequency\": 2, \"value\": \"The '60s is an ...\"}, \"If you want Scream or anything like the big-studio horror product that we get forced on us these days don't bother. This well-written film kept me up thinking about all it had to say. Importance of myth in our lives to make it make sense, how children interpret the world (and the violence in it), our ransacking of the environment and ignorance of its history and legends.. all here, but not flatly on the surface. You could technically call it a \\\"monster movie\\\" even though the Wendigo does not take physical form until the end, and then it's even up to you and your beliefs as to what's happening with the legendary spirit/beast. Some standard thriller elements for those looking just for the basics and the film never bores, though in fact the less you see of the creature, the better. Fessenden successfully continues George Romero's tradition of using the genre as parable and as a discussion forum while still keeping us creeped out.\": {\"frequency\": 2, \"value\": \"If you want Scream ...\"}, \"this movie begins with an ordinary funeral... and it insists so hard on this ordinary funeral feel that i lost interest within 5 minutes of watching, and started skipping scenes. it seems to me whomever made this movie is afflicted to the extent of becoming trapped in a permanent morbid trance, unable to contemplate anything else but death and destruction. well, i ain't one of the dark kids from Southpark, i want a movie that within 10 minutes gets me well into an interesting story, i won't sit and watch 10 minutes of nothing but preparations for a funeral.. my grandma on her last years was fascinated by funerals, perhaps she might have enjoyed this \\\"movie\\\".\": {\"frequency\": 2, \"value\": \"this movie begins ...\"}, \"After losing the Emmy for her performance as Mama Rose in the television version of GYPSY, Bette won an Emmy the following year for BETTE MIDLER: DIVA LAS VEGAS, a live concert special filmed for HBO from Las Vegas. Midler, who has been performing live on stage since the 1970's, proves that she is still one of the most electrifying live performers in the business. From her opening number, her classic \\\"Friends\\\", where she descends from the wings atop a beautiful prop cloud, Bette commands the stage with style and charisma from a rap-styled number called \\\"I Look Good\\\" she then proves that she has a way with a joke like few other performers in this business as she segues her way through a variety of musical selections. The section of the show where she salutes burlesque goes on a little too long but she does manage to incorporate her old Sophie Tucker jokes here to good advantage (even though she actually forgets one joke in the middle of telling it, but her ad-libbing until she remembers it is hysterical). Bette also treats us to \\\"Rose's Turn\\\" from GYPSY and the title tune from her smash film THE ROSE as well as a shameless plug for her hit movie THE FIRST WIVES CLUB. She brings the house down near the end with \\\"Stay with Me, Baby\\\" from THE ROSE and her only #1 hit record, \\\"Wind Beneath My Wings\\\" from BEACHES. It's a dazzling evening of musical comedy entertainment and for Midler fans, it's a must.\": {\"frequency\": 2, \"value\": \"After losing the ...\"}, \"During a Kurt Weill celebration in Brooklyn, WHERE DO WE GO FROM HERE? was finally unearthed for a screening. It is amazing that a motion picture, from any era, that has Weill-Gershwin collaborations can possibly be missing from the screens. The score stands tall, and a CD of the material, with Gershwin and Weill, only underscores its merits, which are considerable. Yes, the film has its problems, but the score is not one of them. Ratoff is not in his element as the director of this musical fantasy, and Fred MacMurray cannot quite grasp the material. Then, too, the 'modern' segment is weakly written. BUT the fantasy elements carry the film to a high mark, as does the work of the two delightful leading ladies - Joan Leslie and June Haver. Both have the charm that this kind of work desperately needs to work. As a World War II salute to our country's history - albeit in a 'never was' framework, the film has its place in Hollywood musical history and should be available for all to see and to find its considerable merits.\": {\"frequency\": 2, \"value\": \"During a Kurt ...\"}, \"The story and the show were good, but it was really depressing and I hate depressing movies. Ri'Chard is great. He really put on a top notch performance, and the girl who played his sister was really awesome and gorgeous. Seriously, I thought she was Carmen Electra until I saw the IMDb profile. I can't say anything bad about Peter Galleghar. He's one of my favorite actors. I love Anne Rice. I'm currently reading the Vampire Chronicles, but I'm glad I saw the movie before reading the book. This is a little too\\\"real\\\" for me. I prefer Lestat and Louis's witty little tiffs to the struggles of slaves. Eartha Kitt was so creepy and after her character did what she did The movie was ruined for me; I could barely stand to watch the rest of the show. (sorry for the ambiguity, but I don't want to give anything away) Sorry, but it's just not my type of show.\": {\"frequency\": 2, \"value\": \"The story and the ...\"}, \"Everyone knows about this ''Zero Day'' event. What I think this movie did that Elephant did not is that they made us see how these guys were. They showed their life for about a year. Throughout the movie we get to like them, to laugh with them even though we totally know what they're gonna do. And THAT gives me the chills. Cause I felt guilty to be cheered by their comments, and I just thought Cal was a sweet guy. Even though I KNEW what was gonna happen you know? Even at the end of the movie when they were about to commit suicide and just deciding if they did it on the count of 3 or 4 I thought this was funny but still I was horrified to see their heads blown off. Of course I was. I got to like them. They were wicked, maybe, but I felt like they were really normal guys, that they didn't really realize it. But I knew they were.<br /><br />That's, IMO, the main force of this movie. It makes us realize that our friends, or relatives, or anyone, can be planning something crazy, and that we won't even notice it. This movie, as good as it was, made me feel bad. And that's why I can't go to sleep right now. There's still this little feeling in my stomach. Butterflies.\": {\"frequency\": 2, \"value\": \"Everyone knows ...\"}, \"Somehow they summed up the 60's, ten years that radically changed our country, in four hours. And what a painful four hours it was. They trivilized the major events and happenings and they \\\"claimed\\\" it was about two families yet you barely saw the african-american family. If I were NBC I would be ashamed and embarrassed for airing such trash. What was amusing was this happy-go-lucky family you saw in the very beginning was tortured in so many ways, but managed to attend every major 60's event through the country. And the second family was such a non-factor. They devoted maybe five or six scenes total to this family. That poor son... Please NBC, do not make any movies about any other eras....leave that to PBS and the History Channel\": {\"frequency\": 2, \"value\": \"Somehow they ...\"}, \"The original \\\"les visiteurs\\\" was original, hilarious, interesting, balanced and near perfect. LV2 must be a candidate for \\\"Worst first sequel to a really good film\\\". In LV2 everyone keeps shouting, when a gag doesn't work first it's repeated another 5 times with some vague hope that it will eventually become funny. LV2 is a horrible parody of LV1, except of course that a parody should be inventive. If you loved LV1 just don't see this film, just see LV1 again!!\": {\"frequency\": 2, \"value\": \"The original \\\"les ...\"}, \"God, I was bored out of my head as I watched this pilot. I had been expecting a lot from it, as I'm a huge fan of James Cameron (and not just since \\\"Titanic\\\", I might add), and his name in the credits I thought would be a guarantee of quality (Then again, he also wrote the leaden Strange Days..). But the thing failed miserably at grabbing my attention at any point of its almost two hours of duration. In all that time, it barely went beyond its two line synopsis, and I would be very hard pressed to try to figure out any kind of coherent plot out of all the mess of strands that went nowhere. On top of that, I don't think the acrobatics outdid even those of any regular \\\"A-Team\\\" episode. As for Alba, yes, she is gorgeous, of course, but the fact that she only displays one single facial expression the entire movie (pouty and surly), makes me also get bored of her \\\"gal wit an attitude\\\" schtick pretty soon. You can count me out of this one, Mr. Cameron!\": {\"frequency\": 2, \"value\": \"God, I was bored ...\"}, \"While there aren't any talking animals, big lavish song production numbers, or villians with half white / half black hair ... it does have 1 thing ... realistic people acting normally in a strange circumstance, and Walt & Roy did in their eras with the studio. If you thought think \\\"The Castaways\\\" or \\\"The Island At The Top Of The World\\\" weren't identical, or you hold them to a higher authority than Atlantis, then your idealism is just as whacked as keeping your kids up till midnight to watch a friggin' cartoon.\": {\"frequency\": 2, \"value\": \"While there aren't ...\"}, \"I'm trying to picture the pitch for Dark Angel. \\\"I'm thinking Matrix, I'm thinking Bladerunner, I'm thinking that chick that plays Faith in Angel, wearing shiny black leather - or some chick just like her, leave that one with us. Only - get this! - we'll do it without any plot, dialogue, character, decent action or budget, just some loud bangs and a hot chick in shiny black leather straddling a big throbbing bike. Fanboys dig loud bangs and hot chicks in shiny black leather straddling big throbbing bikes, right?\\\"<br /><br />Flashy, shallow, dreary, formulaic, passionless, tedious, dull, dumb, humourless, desultory, barely competent. Live action anime without any action, or indeed any life. SF just the way Joe Fanboy likes it, in fact. :(\": {\"frequency\": 2, \"value\": \"I'm trying to ...\"}, \"Once big action star who fell off the face of the earth ends up in a small town with a problem with drug dealers and a dead body of a federal agent. Reuniting with some former co-stars to clean up the town.<br /><br />Low key, often to the point of blandness, \\\"action\\\" comedy mostly just doesn't work. Part of the problem is the casting Chris Klien as a former action hero. he's not bad, but he's really not believable as some one who was taken to be a tough guy. As I said he's not bad, he's just just miscast for what his back story is. The real problem here is the combination of the script, which really isn't funny and seems artificial at times, and the direction which is pedestrian to the port of dullness. There is no life in the way things are set up. Its as if the director had a list of shots and went by that list. It makes for an un-engaging film. And yet the film occasionally springs to life, such as the in the final show down that ends the film. That sequence works, but because the earlier parts of the film floundered its drained of much of its power.<br /><br />I can't really recommend the film. Its worth a shot if you're a fan of the actors or are a huge fan of independent cinema in all its forms, but otherwise this is just a disappointment.\": {\"frequency\": 2, \"value\": \"Once big action ...\"}, \"Les Visiteurs, the first movie about the medieval time travelers was actually funny. I like Jean Reno as an actor, but there was more. There were unexpected twists, funny situations and of course plain absurdness, that would remind you a little bit of Louis de Funes.<br /><br />Now this sequel has the same characters, the same actors in great part and the same time traveling. The plot changes a little, since the characters now are supposed to be experienced time travelers. So they jump up and down in history, without paying any attention to the fact that it keeps getting absurder as you advance in the movie. The duke, Jean Reno, tries to keep the whole thing together with his playing, but his character has been emptied, so there's not a lot he can do to save the film.<br /><br />Now the duke's slave/helper, he has really all the attention. The movie is merely about him and his being clumsy / annoying / stupid or whatever he was supposed to be. Fact is; this character tries to produce the laughter from the audience, but he does not succeed. It is as if someone was telling you a really very very bad joke, you already know, but he insists on telling that joke till the end, adding details, to make your suffering a little longer.<br /><br />If you liked Les Visiteurs, do not spoil the taste in your mouth with the sequel. If you didn't like Les Visiteurs, you would never consider seeing the sequel. If you liked this sequel... well, I suppose you still need to see a lot of movies.\": {\"frequency\": 2, \"value\": \"Les Visiteurs, the ...\"}, \"I feel like I've just watched a snuff film....a beautifully acted, taut, engrossing and horrible thing! A two hour litany of perversion in the most basic and all inclusive sense of the word, sexual violence and torture, rape, decapitation, incest, corruption, live burial, and abuse, abuse, abuse. No redemption whatsoever. And I WAS entertained. I couldn't stop watching. What does this say about me, about the people who make and act in this sort of thing, and a world that has become so desensitized that eventually real snuff films will be the norm. And I'm neither puritanical nor humorless, I don't try to hide from the existence of darkness, and I definitely have not led a sheltered life, but I am ashamed of myself. AND I'm sorry to see my British cousins dragging the subject-matter sewers the way my own tribe does. It doesn't have to be cozy, but does it have to wallow in vicarious sadism?\": {\"frequency\": 2, \"value\": \"I feel like I've ...\"}, \"There is no reason to see this movie. A good plot idea is handled very badly. In the middle of the movie everything changes and from there on nothing makes much sense. The reason for the killings are not made clear. The acting is awful. Nick Stahl obviously needs a better director. He was excellent in In the Bedroom, but here he is terrible. Amber Benson from Buffy, has to change her character someday. Even those of you who enjoy gratuitous sex and violence will be disappointed. Even though the movie was 80 minutes, which is too short for a good movie (but too long for this one),there are no deleted scenes in the DVD which means they never bothered to fill in the missing parts to the characters.<br /><br />Don't spend the time on this one.\": {\"frequency\": 2, \"value\": \"There is no reason ...\"}, \"Awful, simply awful. It proves my theory about \\\"star power.\\\" This is supposed to be great TV because the guy who directed (battlestar) Titanica is the same guy who directed this shlop schtock schtick about a chick. B O R I N G.<br /><br />Find something a thousand times more interesting to do - like watch your TV with no picture and no sound. 1/10 (I rated it so high b/c there aren't any negative scores in the IMDb.com rating system.)<br /><br />-Zaphoid<br /><br />PS: My theory about \\\"star power\\\" is: the more \\\"star power\\\" used in a show, the weaker the show is. (It's called an indirect proportionality: quality 1/\\\"star power\\\", less \\\"sp\\\" makes for better quality, etc. Another way to look at it is: \\\"more is less.\\\")<br /><br />-Z\": {\"frequency\": 1, \"value\": \"Awful, simply ...\"}, \"In a movie that follows a struggling actor, played, evidently, by a struggling actor, this does no favours for Chris Klein. He struggles to bring anything memorable to the role and meanders on through the shallow script managing to display, what could only be described as, a bland leading man. The story exists, but that is all, and fails to show any basic start, middle and end and the viewer is left shrugging his shoulders feeling as though nothing in the past hour and three quarters has really happened.<br /><br />One bright light in the midst of this is Fred Durst, who manages to stand out above his seemingly averagely talented co-stars and does a semi-decent job of bringing the backward character of Legde to life. Whether Fred can re-create this when working with a higher calibre of cast remains to be seen but I'l be watching out for him in future.\": {\"frequency\": 2, \"value\": \"In a movie that ...\"}, \"This film was so amateurish I could hardly believe what I was seeing. It is shot on VIDEO! NOT film! I have not seen the likes of this since the early 70's, when late night networks showed movie of the week 'horror flicks' shot in......video. It looks like a bad soap opera, and that is paying it a compliment. Some of the actors give it their best shot. Michael Des Barres does okay with what he is given to do, which is to act like a sex addict out of control. I can't say that it is pleasant to watch.<br /><br />Nastassja Kinski as the therapist sits in a chair for practically the entire film, with very little variation in camera angles. I can't fault her for someone else's poor blocking, but she is totally unbelievable in her role. Her little girl voice works against her here. And I consider myself a Nastassja Kinski fan. She is certainly ageless and exotic, but she's outside her range with this.<br /><br />Alexandra Paul is pathetically overwrought. Every line she delivers is with three exclamation points. Someone must have directed her to scream at all costs. Why would Michael Des Barres want to have sex with such a raging shrew?<br /><br />Finally, Rosanna Arquette as the sweet, maligned wife comes off okay, and probably the most believable of the bunch. But that is not saying much.<br /><br />This has to be the worst film I have seen in years.\": {\"frequency\": 2, \"value\": \"This film was so ...\"}, \"Oh God,what an idiotic movie!Incredibly cheap with fake special effects(the creature is played by one guy in lame costume)and stupid plot.All dialogues are unbelievably bad and these actors(HA!HA!HA!)...they're simply ludicrous.For example I have never seen so annoying characters like in this junk(these dumb kids or pregnant woman with his husband and many more).All in all,this is a great entertainment if you're drunk.Avoid it like the plague.Am I drunk?I don't think so...\": {\"frequency\": 2, \"value\": \"Oh God,what an ...\"}, \"The scenes are fast-paced. the characters are great. I love Anne-Marie Johnson's acting. I really like the ending. <br /><br />However, I was disappointed that this movie didn't delve deeper into Achilles's and Athena's relationship. It only blossomed when they kissed each other.\": {\"frequency\": 2, \"value\": \"The scenes are ...\"}, \"It's been a long time since I last saw a movie this bad.. The acting is very average, the story is horribly boring, and I'm at a loss for words as to the execution. It was completely unoriginal. O, and this is as much a comedy as Clint Eastwood's a pregnant Schwarzenegger! <br /><br />One of the first scenes (the one with the television show - where the hell are you?) got it right - the cast was 80% of let's face it - forgotten actors. If they were hoping for a career relaunch, then I think it might never happen with this on their CV! The script had the potential, but neither 80% of the actors nor the director (who's an actor and clearly should stick to being an actor) pulled it off. Fred Durst was the only one who seemed better than any of the rest.<br /><br />I'm sorry, but if you ever consider watching this - I highly recommend you turn to something less traumatic, because not only it's a total loss of time, but also a weak example of what bad cinema looks like.\": {\"frequency\": 2, \"value\": \"It's been a long ...\"}, \"The 1960's were a time of change and awakening for most people. Social upheaval and unrest were commonplace as people spoke-out about their views. Racial tensions, politics, the Vietnam War, sexual promiscuity, and drug use were all part of the daily fabric, and the daily news. This film attempted to encapsulate these historical aspects into an entertaining movie, and largely succeeded.<br /><br />In this film, two families are followed: one white, one black. During the first half of the film, the story follows each family on a equal basis through social and family struggles. Unfortunately, the second half of the movie is nearly dedicated to the white family. Admittedly, there are more characters in this family, and the story lines are intermingled, but equal consideration is not given to the racial aspects of this century.<br /><br />On the whole, the acting is well done and historical footage is mixed with color and black and white original footage to give a documentary feel to the movie. The movie is a work of fiction, but clips of well-known historical figures are used to set the time-line.<br /><br />I enjoyed the movie but the situations were predictable and the storyline was one-sided.\": {\"frequency\": 2, \"value\": \"The 1960's were a ...\"}, \"I am not so much like Love Sick as I image. Finally the film express sexual relationship of Alex, kik, Sandu their triangle love were full of intenseness, frustration and jealous, at last, Alex waked up and realized that they would not have result and future.Ending up was sad.<br /><br />The director Tudor Giurgiu was in AMC theatre on Sunday 12:00PM on 08/10/06, with us watched the movie together. After the movie he told the audiences that the purposed to create this film which was to express the sexual relationships of Romanian were kind of complicate.<br /><br />On my point of view sexual life is always complicated in everywhere, I don't feel any particular impression and effect from the movie. The love proceeding of Alex and Kiki, and Kiki and her brother Sandu were kind of next door neighborhood story.<br /><br />The two main reasons I don't like this movie are, firstly, the film didn't told us how they started to fall in love? Sounds like after Alex moved into the building which Kiki was living, then two girls are fall in love. It doesn't make sense at all. How a girl would fall in love with another girl instead of a man. Too much fragments, you need to image and connect those stories by your mind. Secondly, The whole film didn't have a scene of Alex and Kik's sexual intercourse, that 's what I was waiting for\\ufffd\\ufffd\\ufffd\\ufffd. However, it still had some parts were deserved to recommend. The \\\"ear piercing \\\" part was kind of interesting. Alex was willing to suffer the pain of ear piercing to appreciate kik's love. That was a touching scene which gave you a little idea of their love. Also, the scene of they were lying in the soccer field, the conversation express their loves were truthful and passionate.\": {\"frequency\": 2, \"value\": \"I am not so much ...\"}, \"I really enjoyed this movie. The script is fresh and unpredictable and the acting is outstanding.It is a down-to-earth movie with characters one cares about. It brought tears into my eyes a few times but left me with a great feeling afterwards.\": {\"frequency\": 2, \"value\": \"I really enjoyed ...\"}, \"Bette Midler showcases her talents and beauty in \\\"Diva Las Vegas\\\". I am thrilled that I taped it and I am able to view whenever I want to. She possesses what it takes to keep an audience in captivity. Her voice is as beautiful as ever and will truly impress you. The highlight of the show was her singing \\\"Stay With Me\\\" from her 1979 movie \\\"The Rose\\\". You can feel the emotion in the song and will end up having goose bumps. The show will leave you with the urge to go out and either rent a Bette Midler movie or go to the nearest music store and purchase one of Bette Midler's albums.\": {\"frequency\": 2, \"value\": \"Bette Midler ...\"}}, \"size\": 25000}, \"id\": {\"complete\": true, \"numeric\": false, \"num_unique\": 24924, \"num_undefined\": 0, \"progress\": 1.0, \"frequent_items\": {}, \"size\": 25000}, \"sentiment\": {\"std\": 0.5000000000000002, \"complete\": true, \"min\": 0.0, \"max\": 1.0, \"quantile\": [0.0, 0.0, 0.0, 0.0, 0.0, 0.0, 0.0, 0.0, 0.0, 0.0, 0.0, 0.0, 0.0, 0.0, 0.0, 0.0, 0.0, 0.0, 0.0, 0.0, 0.0, 0.0, 0.0, 0.0, 0.0, 0.0, 0.0, 0.0, 0.0, 0.0, 0.0, 0.0, 0.0, 0.0, 0.0, 0.0, 0.0, 0.0, 0.0, 0.0, 0.0, 0.0, 0.0, 0.0, 0.0, 0.0, 0.0, 0.0, 0.0, 0.0, 0.0, 1.0, 1.0, 1.0, 1.0, 1.0, 1.0, 1.0, 1.0, 1.0, 1.0, 1.0, 1.0, 1.0, 1.0, 1.0, 1.0, 1.0, 1.0, 1.0, 1.0, 1.0, 1.0, 1.0, 1.0, 1.0, 1.0, 1.0, 1.0, 1.0, 1.0, 1.0, 1.0, 1.0, 1.0, 1.0, 1.0, 1.0, 1.0, 1.0, 1.0, 1.0, 1.0, 1.0, 1.0, 1.0, 1.0, 1.0, 1.0, 1.0, 1.0], \"median\": 0.0, \"numeric\": true, \"num_unique\": 2, \"num_undefined\": 0, \"var\": 0.2500000000000002, \"progress\": 1.0, \"size\": 25000, \"frequent_items\": {\"0\": {\"frequency\": 12500, \"value\": 0}, \"1\": {\"frequency\": 12500, \"value\": 1}}, \"mean\": 0.5000000000000003}}, \"selected_variable\": {\"name\": [\"train_data\"], \"descriptives\": {\"rows\": 25000, \"columns\": 3}, \"view_component\": \"Summary\", \"view_file\": \"sframe\", \"view_params\": {\"y\": null, \"x\": null, \"columns\": [\"id\", \"sentiment\", \"review\"], \"view\": null}, \"view_components\": [\"Summary\", \"Table\", \"Bar Chart\", \"BoxWhisker Plot\", \"Line Chart\", \"Scatter Plot\", \"Heat Map\", \"Plots\"], \"type\": \"SFrame\", \"columns\": [{\"dtype\": \"str\", \"name\": \"id\"}, {\"dtype\": \"int\", \"name\": \"sentiment\"}, {\"dtype\": \"str\", \"name\": \"review\"}], \"column_identifiers\": [\"review\", \"id\", \"sentiment\"]}, \"columns\": [{\"dtype\": \"str\", \"name\": \"id\"}, {\"dtype\": \"int\", \"name\": \"sentiment\"}, {\"dtype\": \"str\", \"name\": \"review\"}]}, e);\n",
       "                });\n",
       "            })();\n",
       "        "
      ]
     },
     "metadata": {},
     "output_type": "display_data"
    }
   ],
   "source": [
    "train_data.show()"
   ]
  },
  {
   "cell_type": "code",
   "execution_count": 5,
   "metadata": {
    "collapsed": false,
    "scrolled": true
   },
   "outputs": [
    {
     "data": {
      "text/html": [
       "<div style=\"max-height:1000px;max-width:1500px;overflow:auto;\"><table frame=\"box\" rules=\"cols\">\n",
       "    <tr>\n",
       "        <th style=\"padding-left: 1em; padding-right: 1em; text-align: center\">id</th>\n",
       "        <th style=\"padding-left: 1em; padding-right: 1em; text-align: center\">sentiment</th>\n",
       "        <th style=\"padding-left: 1em; padding-right: 1em; text-align: center\">review</th>\n",
       "    </tr>\n",
       "    <tr>\n",
       "        <td style=\"padding-left: 1em; padding-right: 1em; text-align: center; vertical-align: top\">5814_8</td>\n",
       "        <td style=\"padding-left: 1em; padding-right: 1em; text-align: center; vertical-align: top\">1</td>\n",
       "        <td style=\"padding-left: 1em; padding-right: 1em; text-align: center; vertical-align: top\">With all this stuff going<br>down at the moment with ...</td>\n",
       "    </tr>\n",
       "    <tr>\n",
       "        <td style=\"padding-left: 1em; padding-right: 1em; text-align: center; vertical-align: top\">2381_9</td>\n",
       "        <td style=\"padding-left: 1em; padding-right: 1em; text-align: center; vertical-align: top\">1</td>\n",
       "        <td style=\"padding-left: 1em; padding-right: 1em; text-align: center; vertical-align: top\">\"The Classic War of the<br>Worlds\" by Timothy Hines ...</td>\n",
       "    </tr>\n",
       "    <tr>\n",
       "        <td style=\"padding-left: 1em; padding-right: 1em; text-align: center; vertical-align: top\">7759_3</td>\n",
       "        <td style=\"padding-left: 1em; padding-right: 1em; text-align: center; vertical-align: top\">0</td>\n",
       "        <td style=\"padding-left: 1em; padding-right: 1em; text-align: center; vertical-align: top\">The film starts with a<br>manager (Nicholas Bell) ...</td>\n",
       "    </tr>\n",
       "    <tr>\n",
       "        <td style=\"padding-left: 1em; padding-right: 1em; text-align: center; vertical-align: top\">3630_4</td>\n",
       "        <td style=\"padding-left: 1em; padding-right: 1em; text-align: center; vertical-align: top\">0</td>\n",
       "        <td style=\"padding-left: 1em; padding-right: 1em; text-align: center; vertical-align: top\">It must be assumed that<br>those who praised this ...</td>\n",
       "    </tr>\n",
       "    <tr>\n",
       "        <td style=\"padding-left: 1em; padding-right: 1em; text-align: center; vertical-align: top\">9495_8</td>\n",
       "        <td style=\"padding-left: 1em; padding-right: 1em; text-align: center; vertical-align: top\">1</td>\n",
       "        <td style=\"padding-left: 1em; padding-right: 1em; text-align: center; vertical-align: top\">Superbly trashy and<br>wondrously unpretentious ...</td>\n",
       "    </tr>\n",
       "    <tr>\n",
       "        <td style=\"padding-left: 1em; padding-right: 1em; text-align: center; vertical-align: top\">8196_8</td>\n",
       "        <td style=\"padding-left: 1em; padding-right: 1em; text-align: center; vertical-align: top\">1</td>\n",
       "        <td style=\"padding-left: 1em; padding-right: 1em; text-align: center; vertical-align: top\">I dont know why people<br>think this is such a bad ...</td>\n",
       "    </tr>\n",
       "    <tr>\n",
       "        <td style=\"padding-left: 1em; padding-right: 1em; text-align: center; vertical-align: top\">7166_2</td>\n",
       "        <td style=\"padding-left: 1em; padding-right: 1em; text-align: center; vertical-align: top\">0</td>\n",
       "        <td style=\"padding-left: 1em; padding-right: 1em; text-align: center; vertical-align: top\">This movie could have<br>been very good, but c ...</td>\n",
       "    </tr>\n",
       "    <tr>\n",
       "        <td style=\"padding-left: 1em; padding-right: 1em; text-align: center; vertical-align: top\">10633_1</td>\n",
       "        <td style=\"padding-left: 1em; padding-right: 1em; text-align: center; vertical-align: top\">0</td>\n",
       "        <td style=\"padding-left: 1em; padding-right: 1em; text-align: center; vertical-align: top\">I watched this video at a<br>friend's house. I'm glad ...</td>\n",
       "    </tr>\n",
       "    <tr>\n",
       "        <td style=\"padding-left: 1em; padding-right: 1em; text-align: center; vertical-align: top\">319_1</td>\n",
       "        <td style=\"padding-left: 1em; padding-right: 1em; text-align: center; vertical-align: top\">0</td>\n",
       "        <td style=\"padding-left: 1em; padding-right: 1em; text-align: center; vertical-align: top\">A friend of mine bought<br>this film for £1, and ...</td>\n",
       "    </tr>\n",
       "    <tr>\n",
       "        <td style=\"padding-left: 1em; padding-right: 1em; text-align: center; vertical-align: top\">8713_10</td>\n",
       "        <td style=\"padding-left: 1em; padding-right: 1em; text-align: center; vertical-align: top\">1</td>\n",
       "        <td style=\"padding-left: 1em; padding-right: 1em; text-align: center; vertical-align: top\">&lt;br /&gt;&lt;br /&gt;This movie is<br>full of references. Like ...</td>\n",
       "    </tr>\n",
       "</table>\n",
       "[10 rows x 3 columns]<br/>\n",
       "</div>"
      ],
      "text/plain": [
       "Columns:\n",
       "\tid\tstr\n",
       "\tsentiment\tint\n",
       "\treview\tstr\n",
       "\n",
       "Rows: 10\n",
       "\n",
       "Data:\n",
       "+---------+-----------+-------------------------------+\n",
       "|    id   | sentiment |             review            |\n",
       "+---------+-----------+-------------------------------+\n",
       "|  5814_8 |     1     | With all this stuff going ... |\n",
       "|  2381_9 |     1     | \"The Classic War of the Wo... |\n",
       "|  7759_3 |     0     | The film starts with a man... |\n",
       "|  3630_4 |     0     | It must be assumed that th... |\n",
       "|  9495_8 |     1     | Superbly trashy and wondro... |\n",
       "|  8196_8 |     1     | I dont know why people thi... |\n",
       "|  7166_2 |     0     | This movie could have been... |\n",
       "| 10633_1 |     0     | I watched this video at a ... |\n",
       "|  319_1  |     0     | A friend of mine bought th... |\n",
       "| 8713_10 |     1     | <br /><br />This movie is ... |\n",
       "+---------+-----------+-------------------------------+\n",
       "[10 rows x 3 columns]"
      ]
     },
     "execution_count": 5,
     "metadata": {},
     "output_type": "execute_result"
    }
   ],
   "source": [
    "train_data.head()"
   ]
  },
  {
   "cell_type": "code",
   "execution_count": 6,
   "metadata": {
    "collapsed": false,
    "scrolled": true
   },
   "outputs": [
    {
     "data": {
      "text/plain": [
       "dtype: str\n",
       "Rows: 1\n",
       "[\"With all this stuff going down at the moment with MJ i've started listening to his music, watching the odd documentary here and there, watched The Wiz and watched Moonwalker again. Maybe i just want to get a certain insight into this guy who i thought was really cool in the eighties just to maybe make up my mind whether he is guilty or innocent. Moonwalker is part biography, part feature film which i remember going to see at the cinema when it was originally released. Some of it has subtle messages about MJ's feeling towards the press and also the obvious message of drugs are bad m'kay.<br /><br />Visually impressive but of course this is all about Michael Jackson so unless you remotely like MJ in anyway then you are going to hate this and find it boring. Some may call MJ an egotist for consenting to the making of this movie BUT MJ and most of his fans would say that he made it for the fans which if true is really nice of him.<br /><br />The actual feature film bit when it finally starts is only on for 20 minutes or so excluding the Smooth Criminal sequence and Joe Pesci is convincing as a psychopathic all powerful drug lord. Why he wants MJ dead so bad is beyond me. Because MJ overheard his plans? Nah, Joe Pesci's character ranted that he wanted people to know it is he who is supplying drugs etc so i dunno, maybe he just hates MJ's music.<br /><br />Lots of cool things in this like MJ turning into a car and a robot and the whole Speed Demon sequence. Also, the director must have had the patience of a saint when it came to filming the kiddy Bad sequence as usually directors hate working with one kid let alone a whole bunch of them performing a complex dance scene.<br /><br />Bottom line, this movie is for people who like MJ on one level or another (which i think is most people). If not, then stay away. It does try and give off a wholesome message and ironically MJ's bestest buddy in this movie is a girl! Michael Jackson is truly one of the most talented people ever to grace this planet but is he guilty? Well, with all the attention i've gave this subject....hmmm well i don't know because people can be different behind closed doors, i know this for a fact. He is either an extremely nice but stupid guy or one of the most sickest liars. I hope he is not the latter.\"]"
      ]
     },
     "execution_count": 6,
     "metadata": {},
     "output_type": "execute_result"
    }
   ],
   "source": [
    "train_data['review'].head(1)"
   ]
  },
  {
   "cell_type": "code",
   "execution_count": 8,
   "metadata": {
    "collapsed": false
   },
   "outputs": [],
   "source": [
    "BASE_DIR = \"/Users/marvinbertin/graphlab_data/Bags-of-Popcorn\"\n",
    "os.mkdir(\"%s/txt\" % BASE_DIR)\n",
    "train_data.apply(lambda r: file(\"%s/txt/%s.txt\" % (BASE_DIR, r[\"id\"]),\"w\").write(r['review'])).__materialize__()"
   ]
  },
  {
   "cell_type": "code",
   "execution_count": null,
   "metadata": {
    "collapsed": true
   },
   "outputs": [],
   "source": [
    "unlabeled_train_data.apply(lambda r: file(\"%s/txt/%s.txt\" % (BASE_DIR, r[\"id\"]),\"w\").write(r['review'])).__materialize__()"
   ]
  },
  {
   "cell_type": "code",
   "execution_count": 9,
   "metadata": {
    "collapsed": true
   },
   "outputs": [],
   "source": [
    "class TrainSentences(object):\n",
    "    \"\"\"\n",
    "    Iterator class that returns Sentences from texts files in a input directory\n",
    "    \"\"\"\n",
    "    RE_WIHTE_SPACES = re.compile(\"\\s+\")\n",
    "    STOP_WORDS = set(stopwords.words(\"english\"))\n",
    "    def __init__(self, dirname):\n",
    "        \"\"\"\n",
    "        Initialize a TrainSentences object with a input directory that contains text files for training\n",
    "        :param dirname: directory name which contains the text files        \n",
    "        \"\"\"\n",
    "        self.dirname = dirname\n",
    "\n",
    "    def __iter__(self):\n",
    "        \"\"\"\n",
    "        Sentences iterator that return sentences parsed from files in the input directory.\n",
    "        Each sentences is returned as list of words\n",
    "        \"\"\"\n",
    "        #First iterate  on all files in the input directory\n",
    "        for fname in os.listdir(self.dirname):\n",
    "            # read line from file (Without reading the entire file)\n",
    "            for line in file(os.path.join(self.dirname, fname), \"rb\"):\n",
    "                # split the read line into sentences using NLTK\n",
    "                for s in txt2sentences(line, is_html=True):\n",
    "                    # split the sentence into words using regex\n",
    "                    w =txt2words(s, lower=True, is_html=False, remove_stop_words=False,\n",
    "                                                 remove_none_english_chars=True)\n",
    "                    #skip short sentences with less than 3 words\n",
    "                    if len(w) < 3:\n",
    "                        continue\n",
    "                    yield w\n",
    "\n",
    "def txt2sentences(txt, is_html=False, remove_none_english_chars=True):\n",
    "    \"\"\"\n",
    "    Split the English text into sentences using NLTK\n",
    "    :param txt: input text.\n",
    "    :param is_html: If True thenremove HTML tags using BeautifulSoup\n",
    "    :param remove_none_english_chars: if True then remove non-english chars from text\n",
    "    :return: string in which each line consists of single sentence from the original input text.\n",
    "    :rtype: str\n",
    "    \"\"\"\n",
    "    if is_html:\n",
    "        txt = BeautifulSoup(txt).get_text()\n",
    "    tokenizer = nltk.data.load('tokenizers/punkt/english.pickle')\n",
    "\n",
    "    # split text into sentences using nltk packages\n",
    "    for s in tokenizer.tokenize(txt):\n",
    "        if remove_none_english_chars:\n",
    "            #remove none English chars\n",
    "            s = re.sub(\"[^a-zA-Z]\", \" \", s)\n",
    "        yield s"
   ]
  },
  {
   "cell_type": "code",
   "execution_count": 11,
   "metadata": {
    "collapsed": true
   },
   "outputs": [],
   "source": [
    "def txt2words(txt, lower=True, is_html=False, remove_none_english_chars=True, remove_stop_words=True):\n",
    "    \"\"\"\n",
    "    Split text into words list\n",
    "    :param txt: the input text\n",
    "    :param lower: if to make the  text to lowercase or not.\n",
    "    :param is_html: If True then  remove HTML tags using BeautifulSoup\n",
    "    :param remove_none_english_chars: if True then remove non-english chars from text\n",
    "    :param remove_stop_words: if True then remove stop words from text\n",
    "    :return: words list create from the input text according to the input parameters.\n",
    "    :rtype: list\n",
    "    \"\"\"\n",
    "    if is_html:\n",
    "        txt = BeautifulSoup(txt).get_text()\n",
    "    if lower:\n",
    "        txt = txt.lower()\n",
    "    if remove_none_english_chars:\n",
    "        txt = re.sub(\"[^a-zA-Z]\", \" \", txt)\n",
    "\n",
    "    words = TrainSentences.RE_WIHTE_SPACES.split(txt.strip().lower())\n",
    "    if remove_stop_words:\n",
    "        #remove stop words from text\n",
    "        words = [w for w in words if w not in TrainSentences.STOP_WORDS]\n",
    "    return words"
   ]
  },
  {
   "cell_type": "code",
   "execution_count": 12,
   "metadata": {
    "collapsed": false
   },
   "outputs": [],
   "source": [
    "sentences = TrainSentences(\"%s/LabeledData\" % BASE_DIR)\n",
    "model = gensim.models.Word2Vec(sentences, size=300, workers=4, min_count=40)\n",
    "model.save(\"%s/movie_reviews_300_c_40.word2vec\" % BASE_DIR)"
   ]
  },
  {
   "cell_type": "code",
   "execution_count": 20,
   "metadata": {
    "collapsed": false
   },
   "outputs": [
    {
     "data": {
      "text/plain": [
       "[(u'terrible', 0.7815021276473999),\n",
       " (u'horrendous', 0.709304690361023),\n",
       " (u'dreadful', 0.6580719947814941),\n",
       " (u'lousy', 0.623784065246582),\n",
       " (u'awful', 0.620533287525177),\n",
       " (u'horrid', 0.6181655526161194),\n",
       " (u'atrocious', 0.5620525479316711),\n",
       " (u'abysmal', 0.5584285259246826),\n",
       " (u'pathetic', 0.5454639196395874),\n",
       " (u'laughable', 0.5300486087799072)]"
      ]
     },
     "execution_count": 20,
     "metadata": {},
     "output_type": "execute_result"
    }
   ],
   "source": [
    "model.most_similar(\"horrible\")"
   ]
  },
  {
   "cell_type": "code",
   "execution_count": 19,
   "metadata": {
    "collapsed": false
   },
   "outputs": [
    {
     "data": {
      "text/plain": [
       "[(u'fantastic', 0.7257372140884399),\n",
       " (u'superb', 0.7204450368881226),\n",
       " (u'splendid', 0.7123845219612122),\n",
       " (u'marvelous', 0.6995391845703125),\n",
       " (u'wonderful', 0.6877990365028381),\n",
       " (u'fine', 0.6634610295295715),\n",
       " (u'marvellous', 0.6486601829528809),\n",
       " (u'fabulous', 0.6358596086502075),\n",
       " (u'superlative', 0.6269110441207886),\n",
       " (u'outstanding', 0.6199491620063782)]"
      ]
     },
     "execution_count": 19,
     "metadata": {},
     "output_type": "execute_result"
    }
   ],
   "source": [
    "model.most_similar(\"terrific\")"
   ]
  },
  {
   "cell_type": "code",
   "execution_count": 21,
   "metadata": {
    "collapsed": false
   },
   "outputs": [
    {
     "data": {
      "text/plain": [
       "<bound method SFrame.num_rows of Columns:\n",
       "\tid\tstr\n",
       "\tsentiment\tint\n",
       "\treview\tstr\n",
       "\n",
       "Rows: 25000\n",
       "\n",
       "Data:\n",
       "+---------+-----------+-------------------------------+\n",
       "|    id   | sentiment |             review            |\n",
       "+---------+-----------+-------------------------------+\n",
       "|  5814_8 |     1     | With all this stuff going ... |\n",
       "|  2381_9 |     1     | \"The Classic War of the Wo... |\n",
       "|  7759_3 |     0     | The film starts with a man... |\n",
       "|  3630_4 |     0     | It must be assumed that th... |\n",
       "|  9495_8 |     1     | Superbly trashy and wondro... |\n",
       "|  8196_8 |     1     | I dont know why people thi... |\n",
       "|  7166_2 |     0     | This movie could have been... |\n",
       "| 10633_1 |     0     | I watched this video at a ... |\n",
       "|  319_1  |     0     | A friend of mine bought th... |\n",
       "| 8713_10 |     1     | <br /><br />This movie is ... |\n",
       "+---------+-----------+-------------------------------+\n",
       "[25000 rows x 3 columns]\n",
       "Note: Only the head of the SFrame is printed.\n",
       "You can use print_rows(num_rows=m, num_columns=n) to print more rows and columns.>"
      ]
     },
     "execution_count": 21,
     "metadata": {},
     "output_type": "execute_result"
    }
   ],
   "source": [
    "train_data.num_rows"
   ]
  },
  {
   "cell_type": "code",
   "execution_count": 22,
   "metadata": {
    "collapsed": true
   },
   "outputs": [],
   "source": [
    "class DeepTextAnalyzer(object):\n",
    "    def __init__(self, word2vec_model):\n",
    "        \"\"\"\n",
    "        Construct a DeepTextAnalyzer using the input Word2Vec model\n",
    "        :param word2vec_model: a trained Word2Vec model\n",
    "        \"\"\"\n",
    "        self._model = word2vec_model\n",
    "\n",
    "    def txt2vectors(self,txt, is_html):\n",
    "        \"\"\"\n",
    "        Convert input text into an iterator that returns the corresponding vector representation of each\n",
    "        word in the text, if it exists in the Word2Vec model\n",
    "        :param txt: input text\n",
    "        :param is_html: if True, then extract the text from the input HTML\n",
    "        :return: iterator of vectors created from the words in the text using the Word2Vec model.\n",
    "        \"\"\"\n",
    "        words = txt2words(txt,is_html=is_html, lower=True, remove_none_english_chars=True)\n",
    "        words = [w for w in words if w in self._model]\n",
    "        if len(words) != 0:\n",
    "            for w in words:\n",
    "                yield self._model[w]\n",
    "\n",
    "\n",
    "    def txt2avg_vector(self, txt, is_html):\n",
    "        \"\"\"\n",
    "        Calculate the average vector representation of the input text\n",
    "        :param txt: input text\n",
    "        :param is_html: is the text is a HTML\n",
    "        :return the average vector of the vector representations of the words in the text  \n",
    "        \"\"\"\n",
    "        vectors = self.txt2vectors(txt,is_html=is_html)\n",
    "        vectors_sum = next(vectors, None)\n",
    "        if vectors_sum is None:\n",
    "            return None\n",
    "        count =1.0\n",
    "        for v in vectors:\n",
    "            count += 1\n",
    "            vectors_sum = np.add(vectors_sum,v)\n",
    "        \n",
    "        #calculate the average vector and replace +infy and -inf with numeric values \n",
    "        avg_vector = np.nan_to_num(vectors_sum/count)\n",
    "        return avg_vector"
   ]
  },
  {
   "cell_type": "code",
   "execution_count": 23,
   "metadata": {
    "collapsed": false
   },
   "outputs": [
    {
     "data": {
      "text/plain": [
       "dtype: array\n",
       "Rows: 1\n",
       "[array('d', [0.03502282872796059, 0.01633261889219284, -0.01777825504541397, 0.006104846950620413, 0.014137832447886467, -0.018585577607154846, 0.015146004036068916, -0.02158847078680992, -0.006849241908639669, 0.00038025836693122983, -0.009065904654562473, 0.0200472641736269, 0.011096293106675148, -0.004228357225656509, -0.001332852290943265, 0.03325987234711647, 0.02252323366701603, 0.011898208409547806, -0.027523566037416458, 0.024843977764248848, -0.06615491211414337, 0.01505744643509388, 0.05482500046491623, 0.0079379016533494, -0.03465285897254944, -0.00264940457418561, 0.024672172963619232, -0.015375135466456413, -0.024094343185424805, -0.026456154882907867, -0.03384796157479286, 0.037299130111932755, -0.012322157621383667, 0.017702100798487663, -0.03666450083255768, -0.009129147976636887, 0.01178585086017847, 0.01688515953719616, -0.001407705363817513, -0.03739621862769127, -0.01011306419968605, -0.0057843648828566074, 0.023623857647180557, -0.039992693811655045, 0.002245828276500106, 0.0031822877936065197, -0.005123793613165617, -0.022344201803207397, -0.02896769717335701, -0.012258403934538364, -0.013324304483830929, -0.004453639965504408, -0.013427108526229858, 0.00498024420812726, -0.03500303998589516, -0.04815676063299179, -0.0301816463470459, 0.017390316352248192, 0.011988007463514805, 0.03608360514044762, 0.0031703358981758356, -0.010214516893029213, 0.02001584880053997, 0.013293431140482426, -0.00907336175441742, -0.036326758563518524, -0.056898992508649826, -0.037158574908971786, 0.013602832332253456, -0.027198275551199913, -0.002936659613624215, 0.01655740663409233, -0.009578069671988487, 9.401558054378256e-05, -0.009547092951834202, 0.030444663017988205, 0.010581465438008308, -0.00989973172545433, -0.014594306237995625, 0.047679975628852844, -0.016973083838820457, -0.01581706665456295, -0.018851280212402344, 0.020620856434106827, 0.010513863526284695, 0.025905605405569077, -0.002914237789809704, 0.01565168797969818, -0.006901716347783804, 0.012301941402256489, 0.006046689115464687, 0.045329056680202484, 0.007538162171840668, -0.016816359013319016, 0.0024589854292571545, -0.031282056123018265, 0.01542631909251213, -0.025907794013619423, -0.0326087512075901, 0.02951432578265667, 0.016666008159518242, 0.004868534859269857, -0.030379462987184525, 0.02071523293852806, 0.0359637476503849, 0.028648842126131058, 0.019133275374770164, 0.02907089702785015, -0.019533125683665276, -0.0013784619513899088, 0.013834967277944088, -0.008527827449142933, 0.018871711567044258, 0.01665477454662323, -0.02369658276438713, -0.02419416792690754, 0.029281018301844597, 0.024220099672675133, -0.014536624774336815, -0.028730018064379692, -0.004052027594298124, -0.012244661338627338, -0.0015850602649152279, -0.018030280247330666, 0.002760782605037093, -0.032395485788583755, 0.019491661339998245, 0.029648039489984512, -0.014880111441016197, 0.011471630074083805, 0.02350209839642048, 0.022014934569597244, 0.019254909828305244, 0.02972043864428997, -0.05417361110448837, 0.0002392318710917607, 0.046867433935403824, -0.006908045150339603, -0.03138064965605736, 0.0060511063784360886, -0.04783008620142937, -0.00699135335162282, 0.03369193524122238, 0.004927540197968483, -0.02480327896773815, 0.017900019884109497, -0.007918087765574455, -0.05193101614713669, 0.011611199006438255, 0.018771182745695114, 0.02182377316057682, 0.04526901990175247, 0.014570442959666252, -0.004716227296739817, -0.007146879099309444, 0.01015862263739109, -0.0326533168554306, -0.019789904356002808, -0.004531546030193567, 0.00768179539591074, -0.041075192391872406, 0.023471031337976456, -0.0023456269409507513, -0.0061867209151387215, -0.012105835601687431, 0.0344102680683136, -0.006669060327112675, -0.03334163501858711, -0.002561488887295127, 0.015640972182154655, 0.005743963643908501, 0.003497490892186761, -0.015601927414536476, 0.018360160291194916, -0.005527156870812178, 0.011794238351285458, -0.018932078033685684, 0.026249079033732414, -0.009327122010290623, -0.02238621562719345, 0.010686631314456463, -0.0061487178318202496, 0.028658946976065636, 0.011533960700035095, -0.032283954322338104, 0.008683831430971622, -0.0038850526325404644, 0.029781274497509003, 0.030237209051847458, 0.027526019141077995, -0.011618832126259804, -0.01819840632379055, 0.00094874098431319, -0.027334850281476974, 0.016633106395602226, 0.0017622801242396235, -0.02235393039882183, 0.021756039932370186, 0.006576774641871452, -0.009076517075300217, 0.004792551975697279, 0.023559562861919403, -0.015265285968780518, 0.0005454832571558654, 0.004205352161079645, -0.0060586160980165005, -0.0015001497231423855, 0.02143695205450058, 0.010053666308522224, -0.021337488666176796, 0.0011859501246362925, -0.027498725801706314, 0.05616297945380211, 0.0012626181123778224, -0.006589599419385195, 0.04404666647315025, -0.018201781436800957, -0.03207750245928764, -0.024199021980166435, -0.006074446719139814, 0.014411194249987602, 0.012325559742748737, 0.00999999139457941, -0.015967490151524544, 0.03539601340889931, -0.004312396049499512, 0.0046281469985842705, 0.02100694552063942, -0.04152791202068329, -0.012737398967146873, -0.011702139861881733, -0.014246165752410889, 0.0068719396367669106, 0.016745999455451965, 0.025995614007115364, 0.02549220249056816, 0.03376983106136322, -0.010077020153403282, -0.004232772625982761, -0.018872607499361038, 0.013686126098036766, 0.06596728414297104, -0.03342222794890404, 0.009555989876389503, 0.004523195326328278, 0.022584903985261917, 0.004679707810282707, -0.005240075755864382, 0.041494786739349365, -0.00689309649169445, 0.0021510221995413303, 0.01441419031471014, -0.012936297804117203, 0.023764081299304962, -0.015520925633609295, 0.012667090632021427, -0.03807444870471954, 0.01927785389125347, 0.03661537915468216, 0.02563808485865593, 0.00849106628447771, -0.017800698056817055, 0.02729065902531147, -0.020730171352624893, 0.00403942447155714, -0.014980824664235115, -0.020441727712750435, -0.020657261833548546, -0.013790727593004704, 0.03680386766791344, 0.012305309064686298, -0.006418663077056408, 0.01943833753466606, -0.03406225144863129, -0.0066155982203781605, 0.01762879267334938, 0.008415515534579754, 0.0001519237703178078, -0.015014657750725746, 0.014849579893052578, 0.019561558961868286, -0.0061491504311561584, 0.048741087317466736, -0.003591330489143729, 0.04025556147098541, -0.019939331337809563, -0.01154449675232172, 0.05380146950483322, -0.018966246396303177, 0.04155536741018295, -0.013323802500963211, 0.009100822731852531, -0.029075641185045242, -0.011540131643414497, -0.05488122999668121, 0.004928667563945055, 0.00726384948939085, 0.028820253908634186, -0.023242641240358353, -0.0034971574787050486])]"
      ]
     },
     "execution_count": 23,
     "metadata": {},
     "output_type": "execute_result"
    }
   ],
   "source": [
    "dt = DeepTextAnalyzer(model)\n",
    "train_data['vectors'] = train_data['review'].apply(lambda p: dt.txt2avg_vector(p, is_html=True))\n",
    "train_data['vectors'].head(1)"
   ]
  },
  {
   "cell_type": "code",
   "execution_count": 24,
   "metadata": {
    "collapsed": false,
    "scrolled": true
   },
   "outputs": [
    {
     "data": {
      "text/plain": [
       "25000"
      ]
     },
     "execution_count": 24,
     "metadata": {},
     "output_type": "execute_result"
    }
   ],
   "source": [
    "train_data.num_rows()"
   ]
  },
  {
   "cell_type": "code",
   "execution_count": 27,
   "metadata": {
    "collapsed": false
   },
   "outputs": [
    {
     "data": {
      "text/html": [
       "<div style=\"max-height:1000px;max-width:1500px;overflow:auto;\"><table frame=\"box\" rules=\"cols\">\n",
       "    <tr>\n",
       "        <th style=\"padding-left: 1em; padding-right: 1em; text-align: center\">id</th>\n",
       "        <th style=\"padding-left: 1em; padding-right: 1em; text-align: center\">sentiment</th>\n",
       "        <th style=\"padding-left: 1em; padding-right: 1em; text-align: center\">review</th>\n",
       "        <th style=\"padding-left: 1em; padding-right: 1em; text-align: center\">vectors</th>\n",
       "    </tr>\n",
       "    <tr>\n",
       "        <td style=\"padding-left: 1em; padding-right: 1em; text-align: center; vertical-align: top\">5814_8</td>\n",
       "        <td style=\"padding-left: 1em; padding-right: 1em; text-align: center; vertical-align: top\">1</td>\n",
       "        <td style=\"padding-left: 1em; padding-right: 1em; text-align: center; vertical-align: top\">With all this stuff going<br>down at the moment with ...</td>\n",
       "        <td style=\"padding-left: 1em; padding-right: 1em; text-align: center; vertical-align: top\">[0.035022828728,<br>0.0163326188922, ...</td>\n",
       "    </tr>\n",
       "    <tr>\n",
       "        <td style=\"padding-left: 1em; padding-right: 1em; text-align: center; vertical-align: top\">2381_9</td>\n",
       "        <td style=\"padding-left: 1em; padding-right: 1em; text-align: center; vertical-align: top\">1</td>\n",
       "        <td style=\"padding-left: 1em; padding-right: 1em; text-align: center; vertical-align: top\">\"The Classic War of the<br>Worlds\" by Timothy Hines ...</td>\n",
       "        <td style=\"padding-left: 1em; padding-right: 1em; text-align: center; vertical-align: top\">[-0.0267988946289,<br>0.00687773991376, ...</td>\n",
       "    </tr>\n",
       "    <tr>\n",
       "        <td style=\"padding-left: 1em; padding-right: 1em; text-align: center; vertical-align: top\">7759_3</td>\n",
       "        <td style=\"padding-left: 1em; padding-right: 1em; text-align: center; vertical-align: top\">0</td>\n",
       "        <td style=\"padding-left: 1em; padding-right: 1em; text-align: center; vertical-align: top\">The film starts with a<br>manager (Nicholas Bell) ...</td>\n",
       "        <td style=\"padding-left: 1em; padding-right: 1em; text-align: center; vertical-align: top\">[0.0674279406667,<br>0.00655502825975, ...</td>\n",
       "    </tr>\n",
       "    <tr>\n",
       "        <td style=\"padding-left: 1em; padding-right: 1em; text-align: center; vertical-align: top\">3630_4</td>\n",
       "        <td style=\"padding-left: 1em; padding-right: 1em; text-align: center; vertical-align: top\">0</td>\n",
       "        <td style=\"padding-left: 1em; padding-right: 1em; text-align: center; vertical-align: top\">It must be assumed that<br>those who praised this ...</td>\n",
       "        <td style=\"padding-left: 1em; padding-right: 1em; text-align: center; vertical-align: top\">[0.0392956994474,<br>0.0380714945495, ...</td>\n",
       "    </tr>\n",
       "    <tr>\n",
       "        <td style=\"padding-left: 1em; padding-right: 1em; text-align: center; vertical-align: top\">9495_8</td>\n",
       "        <td style=\"padding-left: 1em; padding-right: 1em; text-align: center; vertical-align: top\">1</td>\n",
       "        <td style=\"padding-left: 1em; padding-right: 1em; text-align: center; vertical-align: top\">Superbly trashy and<br>wondrously unpretentious ...</td>\n",
       "        <td style=\"padding-left: 1em; padding-right: 1em; text-align: center; vertical-align: top\">[0.0449821017683,<br>0.0114711578935, ...</td>\n",
       "    </tr>\n",
       "    <tr>\n",
       "        <td style=\"padding-left: 1em; padding-right: 1em; text-align: center; vertical-align: top\">8196_8</td>\n",
       "        <td style=\"padding-left: 1em; padding-right: 1em; text-align: center; vertical-align: top\">1</td>\n",
       "        <td style=\"padding-left: 1em; padding-right: 1em; text-align: center; vertical-align: top\">I dont know why people<br>think this is such a bad ...</td>\n",
       "        <td style=\"padding-left: 1em; padding-right: 1em; text-align: center; vertical-align: top\">[0.0180358290672,<br>0.0227684117854, ...</td>\n",
       "    </tr>\n",
       "    <tr>\n",
       "        <td style=\"padding-left: 1em; padding-right: 1em; text-align: center; vertical-align: top\">7166_2</td>\n",
       "        <td style=\"padding-left: 1em; padding-right: 1em; text-align: center; vertical-align: top\">0</td>\n",
       "        <td style=\"padding-left: 1em; padding-right: 1em; text-align: center; vertical-align: top\">This movie could have<br>been very good, but c ...</td>\n",
       "        <td style=\"padding-left: 1em; padding-right: 1em; text-align: center; vertical-align: top\">[-0.0313609987497,<br>0.0245630778372, ...</td>\n",
       "    </tr>\n",
       "    <tr>\n",
       "        <td style=\"padding-left: 1em; padding-right: 1em; text-align: center; vertical-align: top\">10633_1</td>\n",
       "        <td style=\"padding-left: 1em; padding-right: 1em; text-align: center; vertical-align: top\">0</td>\n",
       "        <td style=\"padding-left: 1em; padding-right: 1em; text-align: center; vertical-align: top\">I watched this video at a<br>friend's house. I'm glad ...</td>\n",
       "        <td style=\"padding-left: 1em; padding-right: 1em; text-align: center; vertical-align: top\">[0.0339717939496,<br>0.0485922731459, ...</td>\n",
       "    </tr>\n",
       "    <tr>\n",
       "        <td style=\"padding-left: 1em; padding-right: 1em; text-align: center; vertical-align: top\">319_1</td>\n",
       "        <td style=\"padding-left: 1em; padding-right: 1em; text-align: center; vertical-align: top\">0</td>\n",
       "        <td style=\"padding-left: 1em; padding-right: 1em; text-align: center; vertical-align: top\">A friend of mine bought<br>this film for £1, and ...</td>\n",
       "        <td style=\"padding-left: 1em; padding-right: 1em; text-align: center; vertical-align: top\">[0.00447202892974,<br>0.01647073403, ...</td>\n",
       "    </tr>\n",
       "    <tr>\n",
       "        <td style=\"padding-left: 1em; padding-right: 1em; text-align: center; vertical-align: top\">8713_10</td>\n",
       "        <td style=\"padding-left: 1em; padding-right: 1em; text-align: center; vertical-align: top\">1</td>\n",
       "        <td style=\"padding-left: 1em; padding-right: 1em; text-align: center; vertical-align: top\">&lt;br /&gt;&lt;br /&gt;This movie is<br>full of references. Like ...</td>\n",
       "        <td style=\"padding-left: 1em; padding-right: 1em; text-align: center; vertical-align: top\">[0.032674357295,<br>0.0182836633176, ...</td>\n",
       "    </tr>\n",
       "</table>\n",
       "[10 rows x 4 columns]<br/>\n",
       "</div>"
      ],
      "text/plain": [
       "Columns:\n",
       "\tid\tstr\n",
       "\tsentiment\tint\n",
       "\treview\tstr\n",
       "\tvectors\tarray\n",
       "\n",
       "Rows: 10\n",
       "\n",
       "Data:\n",
       "+---------+-----------+-------------------------------+\n",
       "|    id   | sentiment |             review            |\n",
       "+---------+-----------+-------------------------------+\n",
       "|  5814_8 |     1     | With all this stuff going ... |\n",
       "|  2381_9 |     1     | \"The Classic War of the Wo... |\n",
       "|  7759_3 |     0     | The film starts with a man... |\n",
       "|  3630_4 |     0     | It must be assumed that th... |\n",
       "|  9495_8 |     1     | Superbly trashy and wondro... |\n",
       "|  8196_8 |     1     | I dont know why people thi... |\n",
       "|  7166_2 |     0     | This movie could have been... |\n",
       "| 10633_1 |     0     | I watched this video at a ... |\n",
       "|  319_1  |     0     | A friend of mine bought th... |\n",
       "| 8713_10 |     1     | <br /><br />This movie is ... |\n",
       "+---------+-----------+-------------------------------+\n",
       "+-------------------------------+\n",
       "|            vectors            |\n",
       "+-------------------------------+\n",
       "| [0.035022828728, 0.0163326... |\n",
       "| [-0.0267988946289, 0.00687... |\n",
       "| [0.0674279406667, 0.006555... |\n",
       "| [0.0392956994474, 0.038071... |\n",
       "| [0.0449821017683, 0.011471... |\n",
       "| [0.0180358290672, 0.022768... |\n",
       "| [-0.0313609987497, 0.02456... |\n",
       "| [0.0339717939496, 0.048592... |\n",
       "| [0.00447202892974, 0.01647... |\n",
       "| [0.032674357295, 0.0182836... |\n",
       "+-------------------------------+\n",
       "[10 rows x 4 columns]"
      ]
     },
     "execution_count": 27,
     "metadata": {},
     "output_type": "execute_result"
    }
   ],
   "source": [
    "train_data.head()"
   ]
  },
  {
   "cell_type": "code",
   "execution_count": 26,
   "metadata": {
    "collapsed": true
   },
   "outputs": [],
   "source": [
    "train_subset, test_subset = train_data.random_split(0.8, seed=1)"
   ]
  },
  {
   "cell_type": "code",
   "execution_count": 28,
   "metadata": {
    "collapsed": false,
    "scrolled": false
   },
   "outputs": [
    {
     "name": "stdout",
     "output_type": "stream",
     "text": [
      "PROGRESS: Creating a validation set from 5 percent of training data. This may take a while.\n",
      "          You can set ``validation_set=None`` to disable validation tracking.\n",
      "\n",
      "PROGRESS: The following methods are available for this type of problem.\n",
      "PROGRESS: LogisticClassifier, SVMClassifier\n",
      "PROGRESS: The returned model will be chosen according to validation accuracy.\n",
      "PROGRESS: Logistic regression:\n",
      "PROGRESS: --------------------------------------------------------\n",
      "PROGRESS: Number of examples          : 18930\n",
      "PROGRESS: Number of classes           : 2\n",
      "PROGRESS: Number of feature columns   : 1\n",
      "PROGRESS: Number of unpacked features : 300\n",
      "PROGRESS: Number of coefficients    : 301\n",
      "PROGRESS: Starting Newton Method\n",
      "PROGRESS: --------------------------------------------------------\n",
      "PROGRESS: +-----------+----------+--------------+-------------------+---------------------+\n",
      "PROGRESS: | Iteration | Passes   | Elapsed Time | Training-accuracy | Validation-accuracy |\n",
      "PROGRESS: +-----------+----------+--------------+-------------------+---------------------+\n",
      "PROGRESS: | 1         | 2        | 14.474462    | 0.860592          | 0.854207            |\n",
      "PROGRESS: | 2         | 3        | 23.396054    | 0.864237          | 0.860078            |\n",
      "PROGRESS: | 3         | 4        | 34.451691    | 0.864342          | 0.858121            |\n",
      "PROGRESS: | 4         | 5        | 42.645733    | 0.864712          | 0.858121            |\n",
      "PROGRESS: | 5         | 6        | 50.437602    | 0.865029          | 0.858121            |\n",
      "PROGRESS: | 6         | 7        | 60.880468    | 0.865029          | 0.858121            |\n",
      "PROGRESS: +-----------+----------+--------------+-------------------+---------------------+\n",
      "PROGRESS: SVM:\n",
      "PROGRESS: --------------------------------------------------------\n",
      "PROGRESS: Number of examples          : 18930\n",
      "PROGRESS: Number of classes           : 2\n",
      "PROGRESS: Number of feature columns   : 1\n",
      "PROGRESS: Number of unpacked features : 300\n",
      "PROGRESS: Number of coefficients    : 301\n",
      "PROGRESS: Starting L-BFGS\n",
      "PROGRESS: --------------------------------------------------------\n",
      "PROGRESS: +-----------+----------+-----------+--------------+-------------------+---------------------+\n",
      "PROGRESS: | Iteration | Passes   | Step size | Elapsed Time | Training-accuracy | Validation-accuracy |\n",
      "PROGRESS: +-----------+----------+-----------+--------------+-------------------+---------------------+\n",
      "PROGRESS: | 1         | 4        | 0.000026  | 1.248950     | 0.739620          | 0.757339            |\n",
      "PROGRESS: | 2         | 6        | 1.000000  | 2.173936     | 0.785103          | 0.796477            |\n",
      "PROGRESS: | 3         | 7        | 1.000000  | 2.885037     | 0.689805          | 0.653620            |\n",
      "PROGRESS: | 4         | 9        | 1.000000  | 4.020873     | 0.820338          | 0.825832            |\n",
      "PROGRESS: | 5         | 10       | 1.000000  | 4.715223     | 0.825832          | 0.824853            |\n",
      "PROGRESS: | 6         | 11       | 1.000000  | 5.414202     | 0.836344          | 0.818004            |\n",
      "PROGRESS: | 10        | 16       | 1.000000  | 8.455055     | 0.842631          | 0.821918            |\n",
      "PROGRESS: +-----------+----------+-----------+--------------+-------------------+---------------------+\n",
      "PROGRESS: Model selection based on validation accuracy:\n",
      "PROGRESS: ---------------------------------------------\n",
      "PROGRESS: LogisticClassifier              : 0.858121\n",
      "PROGRESS: SVMClassifier                   : 0.821918\n",
      "PROGRESS: ---------------------------------------------\n",
      "PROGRESS: Selecting LogisticClassifier based on validation set performance.\n"
     ]
    },
    {
     "data": {
      "text/plain": [
       "{'accuracy': 0.8534072900158478, 'confusion_matrix': Columns:\n",
       " \ttarget_label\tint\n",
       " \tpredicted_label\tint\n",
       " \tcount\tint\n",
       " \n",
       " Rows: 4\n",
       " \n",
       " Data:\n",
       " +--------------+-----------------+-------+\n",
       " | target_label | predicted_label | count |\n",
       " +--------------+-----------------+-------+\n",
       " |      0       |        1        |  392  |\n",
       " |      1       |        0        |  348  |\n",
       " |      1       |        1        |  2216 |\n",
       " |      0       |        0        |  2092 |\n",
       " +--------------+-----------------+-------+\n",
       " [4 rows x 3 columns]}"
      ]
     },
     "execution_count": 28,
     "metadata": {},
     "output_type": "execute_result"
    }
   ],
   "source": [
    "cls = gl.classifier.create(train_subset, target=\"sentiment\", features=[\"vectors\"])\n",
    "result1 = cls.evaluate(test_subset)\n",
    "result1"
   ]
  },
  {
   "cell_type": "code",
   "execution_count": 31,
   "metadata": {
    "collapsed": false
   },
   "outputs": [
    {
     "name": "stdout",
     "output_type": "stream",
     "text": [
      "Using network:\n",
      "\n",
      "### network layers ###\n",
      "layer[0]: FullConnectionLayer\n",
      "  init_sigma = 0.01\n",
      "  init_random = gaussian\n",
      "  init_bias = 0\n",
      "  num_hidden_units = 10\n",
      "layer[1]: SigmoidLayer\n",
      "layer[2]: FullConnectionLayer\n",
      "  init_sigma = 0.01\n",
      "  init_random = gaussian\n",
      "  init_bias = 0\n",
      "  num_hidden_units = 2\n",
      "layer[3]: SoftmaxLayer\n",
      "### end network layers ###\n",
      "\n",
      "### network parameters ###\n",
      "learning_rate = 0.001\n",
      "metric = accuracy,recall@2\n",
      "momentum = 0.9\n",
      "### end network parameters ###\n",
      "\n",
      "PROGRESS: Creating a validation set from 5 percent of training data. This may take a while.\n",
      "          You can set ``validation_set=None`` to disable validation tracking.\n",
      "\n",
      "PROGRESS: Creating neuralnet using cpu\n",
      "PROGRESS: Training with batch size = 100\n",
      "PROGRESS: +-----------+----------+--------------+-------------------+---------------------+-------------------+---------------------+-----------------+\n",
      "PROGRESS: | Iteration | Examples | Elapsed Time | Training-accuracy | Validation-accuracy | Training-recall@2 | Validation-recall@2 | Examples/second |\n",
      "PROGRESS: +-----------+----------+--------------+-------------------+---------------------+-------------------+---------------------+-----------------+\n",
      "PROGRESS: | 1         | 19000    | 0.375997     | 0.503105          | 0.497059            | 1.000000          | 1.000000            | 50532.433594    |\n",
      "PROGRESS: | 2         | 19000    | 0.756242     | 0.500684          | 0.497059            | 1.000000          | 1.000000            | 49989.058594    |\n",
      "PROGRESS: | 3         | 19000    | 1.130218     | 0.500316          | 0.497059            | 1.000000          | 1.000000            | 50827.406250    |\n",
      "PROGRESS: +-----------+----------+--------------+-------------------+---------------------+-------------------+---------------------+-----------------+\n"
     ]
    },
    {
     "data": {
      "text/plain": [
       "{'accuracy': 0.4920760691165924, 'confusion_matrix': Columns:\n",
       " \ttarget_label\tint\n",
       " \tpredicted_label\tint\n",
       " \tcount\tint\n",
       " \n",
       " Rows: 2\n",
       " \n",
       " Data:\n",
       " +--------------+-----------------+-------+\n",
       " | target_label | predicted_label | count |\n",
       " +--------------+-----------------+-------+\n",
       " |      0       |        0        |  2484 |\n",
       " |      1       |        0        |  2564 |\n",
       " +--------------+-----------------+-------+\n",
       " [2 rows x 3 columns]}"
      ]
     },
     "execution_count": 31,
     "metadata": {},
     "output_type": "execute_result"
    }
   ],
   "source": [
    "cls = gl.classifier.neuralnet_classifier.create(train_subset, target=\"sentiment\", features=[\"vectors\"],\n",
    "                                                metric=['accuracy', 'recall@2'],\n",
    "                                                max_iterations=3)\n",
    "result2 = cls.evaluate(test_subset)\n",
    "result2"
   ]
  },
  {
   "cell_type": "code",
   "execution_count": 32,
   "metadata": {
    "collapsed": false
   },
   "outputs": [
    {
     "name": "stdout",
     "output_type": "stream",
     "text": [
      "PROGRESS: Creating a validation set from 5 percent of training data. This may take a while.\n",
      "          You can set ``validation_set=None`` to disable validation tracking.\n",
      "\n",
      "PROGRESS: Random forest classifier:\n",
      "PROGRESS: --------------------------------------------------------\n",
      "PROGRESS: Number of examples          : 18879\n",
      "PROGRESS: Number of classes           : 2\n",
      "PROGRESS: Number of feature columns   : 1\n",
      "PROGRESS: Number of unpacked features : 300\n",
      "PROGRESS: Starting Boosted Trees\n",
      "PROGRESS: --------------------------------------------------------\n",
      "PROGRESS:   Iter      Accuracy          Elapsed time\n",
      "PROGRESS:         (training) (validation)\n",
      "PROGRESS:      0   7.592e-01   7.018e-01        1.10s\n",
      "PROGRESS:      1   7.815e-01   7.409e-01        1.82s\n",
      "PROGRESS:      2   7.943e-01   7.418e-01        2.54s\n",
      "PROGRESS:      3   7.959e-01   7.418e-01        3.27s\n",
      "PROGRESS:      4   7.986e-01   7.521e-01        4.03s\n",
      "PROGRESS:      5   8.006e-01   7.577e-01        4.77s\n",
      "PROGRESS:      6   8.058e-01   7.596e-01        5.52s\n",
      "PROGRESS:      7   8.077e-01   7.502e-01        6.25s\n",
      "PROGRESS:      8   8.087e-01   7.521e-01        6.99s\n",
      "PROGRESS:      9   8.122e-01   7.521e-01        7.73s\n"
     ]
    },
    {
     "data": {
      "text/plain": [
       "{'accuracy': 0.7670364500792393, 'confusion_matrix': Columns:\n",
       " \ttarget_label\tint\n",
       " \tpredicted_label\tint\n",
       " \tcount\tint\n",
       " \n",
       " Rows: 4\n",
       " \n",
       " Data:\n",
       " +--------------+-----------------+-------+\n",
       " | target_label | predicted_label | count |\n",
       " +--------------+-----------------+-------+\n",
       " |      0       |        1        |  600  |\n",
       " |      1       |        1        |  1988 |\n",
       " |      1       |        0        |  576  |\n",
       " |      0       |        0        |  1884 |\n",
       " +--------------+-----------------+-------+\n",
       " [4 rows x 3 columns]}"
      ]
     },
     "execution_count": 32,
     "metadata": {},
     "output_type": "execute_result"
    }
   ],
   "source": [
    "cls = gl.classifier.random_forest_classifier.create(train_subset, target=\"sentiment\", features=[\"vectors\"])\n",
    "result3 = cls.evaluate(test_subset)\n",
    "result3"
   ]
  },
  {
   "cell_type": "code",
   "execution_count": 33,
   "metadata": {
    "collapsed": false
   },
   "outputs": [
    {
     "name": "stdout",
     "output_type": "stream",
     "text": [
      "PROGRESS: Creating a validation set from 5 percent of training data. This may take a while.\n",
      "          You can set ``validation_set=None`` to disable validation tracking.\n",
      "\n",
      "PROGRESS: Boosted trees classifier:\n",
      "PROGRESS: --------------------------------------------------------\n",
      "PROGRESS: Number of examples          : 19002\n",
      "PROGRESS: Number of classes           : 2\n",
      "PROGRESS: Number of feature columns   : 1\n",
      "PROGRESS: Number of unpacked features : 300\n",
      "PROGRESS: Starting Boosted Trees\n",
      "PROGRESS: --------------------------------------------------------\n",
      "PROGRESS:   Iter      Accuracy          Elapsed time\n",
      "PROGRESS:         (training) (validation)\n",
      "PROGRESS:      0   7.668e-01   7.358e-01        1.17s\n",
      "PROGRESS:      1   7.920e-01   7.432e-01        2.35s\n",
      "PROGRESS:      2   8.158e-01   7.800e-01        3.54s\n",
      "PROGRESS:      3   8.250e-01   7.832e-01        4.82s\n",
      "PROGRESS:      4   8.365e-01   7.937e-01        6.17s\n",
      "PROGRESS:      5   8.469e-01   7.853e-01        7.45s\n",
      "PROGRESS:      6   8.530e-01   7.926e-01        8.67s\n",
      "PROGRESS:      7   8.612e-01   8.021e-01        9.82s\n",
      "PROGRESS:      8   8.692e-01   8.053e-01       10.98s\n",
      "PROGRESS:      9   8.753e-01   8.053e-01       12.13s\n"
     ]
    },
    {
     "data": {
      "text/plain": [
       "{'accuracy': 0.8019017432646592, 'confusion_matrix': Columns:\n",
       " \ttarget_label\tint\n",
       " \tpredicted_label\tint\n",
       " \tcount\tint\n",
       " \n",
       " Rows: 4\n",
       " \n",
       " Data:\n",
       " +--------------+-----------------+-------+\n",
       " | target_label | predicted_label | count |\n",
       " +--------------+-----------------+-------+\n",
       " |      0       |        1        |  515  |\n",
       " |      1       |        1        |  2079 |\n",
       " |      1       |        0        |  485  |\n",
       " |      0       |        0        |  1969 |\n",
       " +--------------+-----------------+-------+\n",
       " [4 rows x 3 columns]}"
      ]
     },
     "execution_count": 33,
     "metadata": {},
     "output_type": "execute_result"
    }
   ],
   "source": [
    "cls = gl.classifier.boosted_trees_classifier.create(train_subset, target=\"sentiment\", features=[\"vectors\"])\n",
    "result4 = cls.evaluate(test_subset)\n",
    "result4"
   ]
  },
  {
   "cell_type": "code",
   "execution_count": 34,
   "metadata": {
    "collapsed": false
   },
   "outputs": [
    {
     "name": "stdout",
     "output_type": "stream",
     "text": [
      "PROGRESS: Creating a validation set from 5 percent of training data. This may take a while.\n",
      "          You can set ``validation_set=None`` to disable validation tracking.\n",
      "\n",
      "PROGRESS: The following methods are available for this type of problem.\n",
      "PROGRESS: LogisticClassifier, SVMClassifier\n",
      "PROGRESS: The returned model will be chosen according to validation accuracy.\n",
      "PROGRESS: Logistic regression:\n",
      "PROGRESS: --------------------------------------------------------\n",
      "PROGRESS: Number of examples          : 23852\n",
      "PROGRESS: Number of classes           : 2\n",
      "PROGRESS: Number of feature columns   : 1\n",
      "PROGRESS: Number of unpacked features : 300\n",
      "PROGRESS: Number of coefficients    : 301\n",
      "PROGRESS: Starting Newton Method\n",
      "PROGRESS: --------------------------------------------------------\n",
      "PROGRESS: +-----------+----------+--------------+-------------------+---------------------+\n",
      "PROGRESS: | Iteration | Passes   | Elapsed Time | Training-accuracy | Validation-accuracy |\n",
      "PROGRESS: +-----------+----------+--------------+-------------------+---------------------+\n",
      "PROGRESS: | 1         | 2        | 16.637994    | 0.860096          | 0.837979            |\n",
      "PROGRESS: | 2         | 3        | 25.502788    | 0.864414          | 0.844948            |\n",
      "PROGRESS: | 3         | 4        | 33.265031    | 0.864624          | 0.848432            |\n",
      "PROGRESS: | 4         | 5        | 43.618612    | 0.864456          | 0.851916            |\n",
      "PROGRESS: | 5         | 6        | 51.510603    | 0.864288          | 0.851916            |\n",
      "PROGRESS: | 6         | 7        | 62.285282    | 0.864288          | 0.851916            |\n",
      "PROGRESS: +-----------+----------+--------------+-------------------+---------------------+\n",
      "PROGRESS: SVM:\n",
      "PROGRESS: --------------------------------------------------------\n",
      "PROGRESS: Number of examples          : 23852\n",
      "PROGRESS: Number of classes           : 2\n",
      "PROGRESS: Number of feature columns   : 1\n",
      "PROGRESS: Number of unpacked features : 300\n",
      "PROGRESS: Number of coefficients    : 301\n",
      "PROGRESS: Starting L-BFGS\n",
      "PROGRESS: --------------------------------------------------------\n",
      "PROGRESS: +-----------+----------+-----------+--------------+-------------------+---------------------+\n",
      "PROGRESS: | Iteration | Passes   | Step size | Elapsed Time | Training-accuracy | Validation-accuracy |\n",
      "PROGRESS: +-----------+----------+-----------+--------------+-------------------+---------------------+\n",
      "PROGRESS: | 1         | 4        | 0.000021  | 1.857439     | 0.742663          | 0.736934            |\n",
      "PROGRESS: | 2         | 6        | 1.000000  | 2.827540     | 0.789494          | 0.790941            |\n",
      "PROGRESS: | 3         | 7        | 1.000000  | 3.624902     | 0.616007          | 0.591463            |\n",
      "PROGRESS: | 4         | 9        | 1.000000  | 4.675493     | 0.815068          | 0.806620            |\n",
      "PROGRESS: | 5         | 10       | 1.000000  | 5.356931     | 0.826597          | 0.822300            |\n",
      "PROGRESS: | 6         | 11       | 1.000000  | 6.098824     | 0.830496          | 0.825784            |\n",
      "PROGRESS: | 10        | 16       | 1.000000  | 9.072024     | 0.845799          | 0.830139            |\n",
      "PROGRESS: +-----------+----------+-----------+--------------+-------------------+---------------------+\n",
      "PROGRESS: Model selection based on validation accuracy:\n",
      "PROGRESS: ---------------------------------------------\n",
      "PROGRESS: LogisticClassifier              : 0.851916\n",
      "PROGRESS: SVMClassifier                   : 0.830139\n",
      "PROGRESS: ---------------------------------------------\n",
      "PROGRESS: Selecting LogisticClassifier based on validation set performance.\n"
     ]
    }
   ],
   "source": [
    "cls = gl.classifier.create(train_data, target='sentiment', features=['vectors'])"
   ]
  },
  {
   "cell_type": "code",
   "execution_count": 35,
   "metadata": {
    "collapsed": false,
    "scrolled": true
   },
   "outputs": [
    {
     "name": "stdout",
     "output_type": "stream",
     "text": [
      "PROGRESS: Finished parsing file /Users/marvinbertin/graphlab_data/Bags-of-Popcorn/LabeledData/testData.tsv\n",
      "PROGRESS: Parsing completed. Parsed 100 lines in 0.5154 secs.\n",
      "PROGRESS: Finished parsing file /Users/marvinbertin/graphlab_data/Bags-of-Popcorn/LabeledData/testData.tsv\n",
      "PROGRESS: Parsing completed. Parsed 25000 lines in 0.906346 secs.\n"
     ]
    }
   ],
   "source": [
    "#creating the test dataset\n",
    "testdata_path = \"/Users/marvinbertin/graphlab_data/Bags-of-Popcorn/LabeledData/testData.tsv\"\n",
    "test_data = gl.SFrame.read_csv(testdata_path,header=True, delimiter='\\t',quote_char='\"',\n",
    "                               column_type_hints = {'id':str, 'review':str } )"
   ]
  },
  {
   "cell_type": "code",
   "execution_count": 36,
   "metadata": {
    "collapsed": false
   },
   "outputs": [
    {
     "data": {
      "text/plain": [
       "dtype: array\n",
       "Rows: 1\n",
       "[array('d', [-0.005660160444676876, -0.030306031927466393, -0.07506293058395386, 0.018891509622335434, -0.042716097086668015, 0.03150339424610138, 0.017885349690914154, 0.010300069116055965, 0.007415373809635639, 0.001119169988669455, 0.03000558540225029, 0.013254913501441479, 0.010317797772586346, -0.038159530609846115, 0.002018568804487586, 0.05443934351205826, 0.0350131094455719, -0.0028309214394539595, -0.03034094162285328, -0.002458634553477168, -0.05196539685130119, 0.08079339563846588, 0.02605631947517395, 0.02200884185731411, -0.0010624643182381988, -0.0018097562715411186, 0.06350942701101303, -0.040531355887651443, 0.020099077373743057, -0.02560802735388279, -0.07599270343780518, 0.041047632694244385, 0.029888272285461426, -0.031605031341314316, -0.021313484758138657, 0.005528244189918041, -0.031912125647068024, 0.006632543634623289, 0.012767476961016655, 0.0028874436393380165, 0.04993443191051483, 0.03345254436135292, 0.02847869135439396, -0.025462308898568153, -0.01885242946445942, -0.047656722366809845, -0.018100786954164505, -0.02164575457572937, -0.0019586430862545967, -0.016931161284446716, -0.02914050966501236, 0.001970311626791954, -0.046659331768751144, 0.0061664036475121975, -0.008037357591092587, -0.04967748001217842, -0.05203675106167793, 0.004960087593644857, 0.02954431250691414, 0.0263343658298254, -0.029284024611115456, -0.007217149715870619, -0.02628163807094097, 0.03372793644666672, -0.0030178658198565245, -0.08756733685731888, -0.05126845836639404, -0.001434217905625701, 0.015253180637955666, 0.00886258203536272, -0.014424648135900497, -0.017177684232592583, -0.03086802177131176, 0.01734793186187744, -0.01677982695400715, 0.04662546515464783, -0.032283999025821686, 0.006440115161240101, 0.02251272089779377, -0.00446387380361557, -0.022870175540447235, -0.03026641346514225, 0.0050823623314499855, 0.02621130831539631, -0.017915816977620125, -0.02068650908768177, -0.047313541173934937, -0.023766839876770973, 0.003523655701428652, 0.005811136681586504, 0.0059062279760837555, 0.008249828591942787, -0.013197030872106552, -0.003484327346086502, -0.00794653408229351, 0.03256012871861458, 0.0648321658372879, 0.02107902616262436, -0.055887266993522644, -0.00105439149774611, -0.031084883958101273, 0.00508787902072072, -0.01498391292989254, 0.006059701554477215, 0.026419922709465027, 0.04879828542470932, 0.01740119978785515, 0.015126217156648636, 0.027529142796993256, 0.00820847973227501, -0.024140991270542145, 0.030746741220355034, 0.029398348182439804, 0.05032913759350777, 0.01728861965239048, 0.012751532718539238, -0.002950466237962246, 0.04108928143978119, -0.044564489275217056, 0.012313798069953918, 0.001017075264826417, -0.03482373431324959, -0.02533327415585518, -0.011464769020676613, 0.0007058552000671625, 0.004824621137231588, 0.04926853999495506, 0.0011153299128636718, 0.021286573261022568, 0.018315069377422333, 0.012283668853342533, 0.011383229866623878, 0.0027709612622857094, -0.022834010422229767, -0.0031615544576197863, 0.016005299985408783, 0.02336006425321102, -0.020573627203702927, -0.036937616765499115, 0.010410657152533531, -0.04370800405740738, -0.0477437786757946, -0.011013833805918694, 0.06634771823883057, -0.023938285186886787, 0.022670703008770943, -0.023624200373888016, 0.003278012154623866, -0.01669839397072792, -0.010664435103535652, -0.0010283708106726408, 0.02839062735438347, -0.01421274896711111, -0.036221444606781006, 0.01862146332859993, -0.01413270179182291, -0.04175599664449692, 0.02572472207248211, -0.021910587325692177, -0.0023649600334465504, -0.06908253580331802, 0.005981840193271637, 0.005614715162664652, -0.009466229006648064, 0.013463090173900127, 0.07105501741170883, -0.021988769993185997, -0.054463863372802734, 0.03615755960345268, -0.06602505594491959, -0.020090948790311813, -0.026852643117308617, 0.013402247801423073, 0.0161831583827734, 0.0024766833521425724, -0.006734572350978851, -0.004586888011544943, 0.048704806715250015, 0.005027587525546551, -0.017902618274092674, 0.06457985192537308, 0.007010483182966709, 0.03926832601428032, 0.1248408630490303, 0.08647440373897552, 0.06454461067914963, 0.01397266611456871, 0.04102668538689613, 0.08111146837472916, -0.0020967889577150345, -0.014306009747087955, 0.03326166421175003, -0.066649429500103, -0.003056562738493085, -0.011892464943230152, -0.0012227899860590696, -0.01751646026968956, -0.05356159061193466, 0.04032101482152939, -0.0006237467750906944, 0.052376799285411835, -0.01035996899008751, 0.013400353491306305, -0.0061212508007884026, 0.004515735432505608, -0.008759401738643646, 0.02522580325603485, -0.03217266499996185, 0.010707184672355652, -0.0625157430768013, 0.026488400995731354, -0.05144800618290901, 0.00861112680286169, -0.06640493124723434, -0.006464703008532524, 0.03347351774573326, 0.03133083134889603, -0.016401240602135658, -0.03706974908709526, 0.0004692539223469794, 0.033434998244047165, -0.013364158570766449, -0.005954985972493887, -0.018463224172592163, 0.016345104202628136, 0.02357160858809948, -0.0035648264456540346, -0.026349693536758423, -0.0010565589182078838, -0.017646880820393562, -0.028477778658270836, -0.024251872673630714, 0.023605046793818474, -0.044842690229415894, -0.024999799206852913, 0.013221468776464462, -0.026352770626544952, 0.0008806810947135091, -0.01245116163045168, -0.05132676661014557, 0.030441803857684135, 0.03499739617109299, -0.03180849552154541, -0.020834779366850853, -0.04886018484830856, 0.011287455447018147, 0.005125022493302822, -0.05530016869306564, 0.019204508513212204, -0.033714719116687775, -0.017066173255443573, -0.013449925929307938, 0.008838353678584099, 0.026298843324184418, -0.021817857399582863, 0.03417503461241722, -0.01860584132373333, 0.019280167296528816, 0.013345157727599144, -0.001986587420105934, 0.031559836119413376, -0.06892085820436478, 0.04673200100660324, 0.031791120767593384, 0.040745627135038376, -0.09455914050340652, -0.021643012762069702, -0.049422793090343475, -0.01964177004992962, 0.01500460784882307, 0.005377907305955887, -0.017002597451210022, -0.03445439785718918, 0.03360287472605705, -0.029222596436738968, -0.044528450816869736, -0.00014945011935196817, 0.00014828992425464094, 0.011548197828233242, -0.005482550244778395, 0.10932809114456177, 0.03904704377055168, -0.0008388793794438243, -0.0057994648814201355, -0.04676514491438866, -0.05314822867512703, 0.018142957240343094, 0.0011465256102383137, -0.06343117356300354, 0.03971584886312485, 0.0010406580986455083, -0.028543146327137947, -0.04946846514940262, -0.04519205540418625, -0.04458519443869591, -0.0037366733886301517, 0.01745951734483242, 0.03524988517165184, -0.018658211454749107, 0.03212862089276314])]"
      ]
     },
     "execution_count": 36,
     "metadata": {},
     "output_type": "execute_result"
    }
   ],
   "source": [
    "dt = DeepTextAnalyzer(model)\n",
    "test_data['vectors'] = test_data['review'].apply(lambda p: dt.txt2avg_vector(p, is_html=True))\n",
    "test_data['vectors'].head(1)"
   ]
  },
  {
   "cell_type": "code",
   "execution_count": 37,
   "metadata": {
    "collapsed": false
   },
   "outputs": [
    {
     "data": {
      "text/html": [
       "<div style=\"max-height:1000px;max-width:1500px;overflow:auto;\"><table frame=\"box\" rules=\"cols\">\n",
       "    <tr>\n",
       "        <th style=\"padding-left: 1em; padding-right: 1em; text-align: center\">id</th>\n",
       "        <th style=\"padding-left: 1em; padding-right: 1em; text-align: center\">review</th>\n",
       "        <th style=\"padding-left: 1em; padding-right: 1em; text-align: center\">vectors</th>\n",
       "        <th style=\"padding-left: 1em; padding-right: 1em; text-align: center\">sentiment</th>\n",
       "    </tr>\n",
       "    <tr>\n",
       "        <td style=\"padding-left: 1em; padding-right: 1em; text-align: center; vertical-align: top\">12311_10</td>\n",
       "        <td style=\"padding-left: 1em; padding-right: 1em; text-align: center; vertical-align: top\">Naturally in a film who's<br>main themes are of ...</td>\n",
       "        <td style=\"padding-left: 1em; padding-right: 1em; text-align: center; vertical-align: top\">[-0.00566016044468,<br>-0.0303060319275, ...</td>\n",
       "        <td style=\"padding-left: 1em; padding-right: 1em; text-align: center; vertical-align: top\">1</td>\n",
       "    </tr>\n",
       "    <tr>\n",
       "        <td style=\"padding-left: 1em; padding-right: 1em; text-align: center; vertical-align: top\">8348_2</td>\n",
       "        <td style=\"padding-left: 1em; padding-right: 1em; text-align: center; vertical-align: top\">This movie is a disaster<br>within a disaster film. ...</td>\n",
       "        <td style=\"padding-left: 1em; padding-right: 1em; text-align: center; vertical-align: top\">[-0.00307645485736,<br>0.0480505749583, ...</td>\n",
       "        <td style=\"padding-left: 1em; padding-right: 1em; text-align: center; vertical-align: top\">0</td>\n",
       "    </tr>\n",
       "    <tr>\n",
       "        <td style=\"padding-left: 1em; padding-right: 1em; text-align: center; vertical-align: top\">5828_4</td>\n",
       "        <td style=\"padding-left: 1em; padding-right: 1em; text-align: center; vertical-align: top\">All in all, this is a<br>movie for kids. We sa ...</td>\n",
       "        <td style=\"padding-left: 1em; padding-right: 1em; text-align: center; vertical-align: top\">[-0.00124689820223,<br>-0.0237210076302, ...</td>\n",
       "        <td style=\"padding-left: 1em; padding-right: 1em; text-align: center; vertical-align: top\">1</td>\n",
       "    </tr>\n",
       "    <tr>\n",
       "        <td style=\"padding-left: 1em; padding-right: 1em; text-align: center; vertical-align: top\">7186_2</td>\n",
       "        <td style=\"padding-left: 1em; padding-right: 1em; text-align: center; vertical-align: top\">Afraid of the Dark left<br>me with the impression ...</td>\n",
       "        <td style=\"padding-left: 1em; padding-right: 1em; text-align: center; vertical-align: top\">[0.0212037786841,<br>0.0076961601153, ...</td>\n",
       "        <td style=\"padding-left: 1em; padding-right: 1em; text-align: center; vertical-align: top\">0</td>\n",
       "    </tr>\n",
       "    <tr>\n",
       "        <td style=\"padding-left: 1em; padding-right: 1em; text-align: center; vertical-align: top\">12128_7</td>\n",
       "        <td style=\"padding-left: 1em; padding-right: 1em; text-align: center; vertical-align: top\">A very accurate depiction<br>of small time mob life ...</td>\n",
       "        <td style=\"padding-left: 1em; padding-right: 1em; text-align: center; vertical-align: top\">[0.00801117252558,<br>-0.0185493081808, ...</td>\n",
       "        <td style=\"padding-left: 1em; padding-right: 1em; text-align: center; vertical-align: top\">1</td>\n",
       "    </tr>\n",
       "    <tr>\n",
       "        <td style=\"padding-left: 1em; padding-right: 1em; text-align: center; vertical-align: top\">2913_8</td>\n",
       "        <td style=\"padding-left: 1em; padding-right: 1em; text-align: center; vertical-align: top\">...as valuable as King<br>Tut's tomb! (OK, maybe ...</td>\n",
       "        <td style=\"padding-left: 1em; padding-right: 1em; text-align: center; vertical-align: top\">[0.0336517095566,<br>0.00371238985099, ...</td>\n",
       "        <td style=\"padding-left: 1em; padding-right: 1em; text-align: center; vertical-align: top\">1</td>\n",
       "    </tr>\n",
       "    <tr>\n",
       "        <td style=\"padding-left: 1em; padding-right: 1em; text-align: center; vertical-align: top\">4396_1</td>\n",
       "        <td style=\"padding-left: 1em; padding-right: 1em; text-align: center; vertical-align: top\">This has to be one of the<br>biggest misfires ...</td>\n",
       "        <td style=\"padding-left: 1em; padding-right: 1em; text-align: center; vertical-align: top\">[-0.0716544240713,<br>0.0283575579524, ...</td>\n",
       "        <td style=\"padding-left: 1em; padding-right: 1em; text-align: center; vertical-align: top\">0</td>\n",
       "    </tr>\n",
       "    <tr>\n",
       "        <td style=\"padding-left: 1em; padding-right: 1em; text-align: center; vertical-align: top\">395_2</td>\n",
       "        <td style=\"padding-left: 1em; padding-right: 1em; text-align: center; vertical-align: top\">This is one of those<br>movies I watched, and ...</td>\n",
       "        <td style=\"padding-left: 1em; padding-right: 1em; text-align: center; vertical-align: top\">[0.0427797883749,<br>0.0282226260751, ...</td>\n",
       "        <td style=\"padding-left: 1em; padding-right: 1em; text-align: center; vertical-align: top\">1</td>\n",
       "    </tr>\n",
       "    <tr>\n",
       "        <td style=\"padding-left: 1em; padding-right: 1em; text-align: center; vertical-align: top\">10616_1</td>\n",
       "        <td style=\"padding-left: 1em; padding-right: 1em; text-align: center; vertical-align: top\">The worst movie i've seen<br>in years (and i've se ...</td>\n",
       "        <td style=\"padding-left: 1em; padding-right: 1em; text-align: center; vertical-align: top\">[-0.0181394442916,<br>0.0945241376758, ...</td>\n",
       "        <td style=\"padding-left: 1em; padding-right: 1em; text-align: center; vertical-align: top\">0</td>\n",
       "    </tr>\n",
       "    <tr>\n",
       "        <td style=\"padding-left: 1em; padding-right: 1em; text-align: center; vertical-align: top\">9074_9</td>\n",
       "        <td style=\"padding-left: 1em; padding-right: 1em; text-align: center; vertical-align: top\">Five medical students<br>(Kevin Bacon, David ...</td>\n",
       "        <td style=\"padding-left: 1em; padding-right: 1em; text-align: center; vertical-align: top\">[0.0220895539969,<br>0.0390157550573, ...</td>\n",
       "        <td style=\"padding-left: 1em; padding-right: 1em; text-align: center; vertical-align: top\">1</td>\n",
       "    </tr>\n",
       "</table>\n",
       "[10 rows x 4 columns]<br/>\n",
       "</div>"
      ],
      "text/plain": [
       "Columns:\n",
       "\tid\tstr\n",
       "\treview\tstr\n",
       "\tvectors\tarray\n",
       "\tsentiment\tint\n",
       "\n",
       "Rows: 10\n",
       "\n",
       "Data:\n",
       "+----------+-------------------------------+-------------------------------+-----------+\n",
       "|    id    |             review            |            vectors            | sentiment |\n",
       "+----------+-------------------------------+-------------------------------+-----------+\n",
       "| 12311_10 | Naturally in a film who's ... | [-0.00566016044468, -0.030... |     1     |\n",
       "|  8348_2  | This movie is a disaster w... | [-0.00307645485736, 0.0480... |     0     |\n",
       "|  5828_4  | All in all, this is a movi... | [-0.00124689820223, -0.023... |     1     |\n",
       "|  7186_2  | Afraid of the Dark left me... | [0.0212037786841, 0.007696... |     0     |\n",
       "| 12128_7  | A very accurate depiction ... | [0.00801117252558, -0.0185... |     1     |\n",
       "|  2913_8  | ...as valuable as King Tut... | [0.0336517095566, 0.003712... |     1     |\n",
       "|  4396_1  | This has to be one of the ... | [-0.0716544240713, 0.02835... |     0     |\n",
       "|  395_2   | This is one of those movie... | [0.0427797883749, 0.028222... |     1     |\n",
       "| 10616_1  | The worst movie i've seen ... | [-0.0181394442916, 0.09452... |     0     |\n",
       "|  9074_9  | Five medical students (Kev... | [0.0220895539969, 0.039015... |     1     |\n",
       "+----------+-------------------------------+-------------------------------+-----------+\n",
       "[10 rows x 4 columns]"
      ]
     },
     "execution_count": 37,
     "metadata": {},
     "output_type": "execute_result"
    }
   ],
   "source": [
    "test_data['sentiment'] = cls.classify(test_data)['class'].astype(int)\n",
    "test_data.head()"
   ]
  },
  {
   "cell_type": "code",
   "execution_count": 38,
   "metadata": {
    "collapsed": true
   },
   "outputs": [],
   "source": [
    "#saving the prediction to a CSV for submission\n",
    "test_data[['id', 'sentiment']].save(\"/Users/marvinbertin/Github/Graphlab/DeepTextpred2.csv\", format=\"csv\")\n",
    "# score 0.859"
   ]
  },
  {
   "cell_type": "code",
   "execution_count": null,
   "metadata": {
    "collapsed": true
   },
   "outputs": [],
   "source": []
  }
 ],
 "metadata": {
  "kernelspec": {
   "display_name": "Python 2",
   "language": "python",
   "name": "python2"
  },
  "language_info": {
   "codemirror_mode": {
    "name": "ipython",
    "version": 2
   },
   "file_extension": ".py",
   "mimetype": "text/x-python",
   "name": "python",
   "nbconvert_exporter": "python",
   "pygments_lexer": "ipython2",
   "version": "2.7.10"
  }
 },
 "nbformat": 4,
 "nbformat_minor": 0
}
